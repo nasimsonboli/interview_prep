{
 "cells": [
  {
   "cell_type": "markdown",
   "id": "9a1ce693-b48f-42af-bc05-6c52d896d583",
   "metadata": {},
   "source": [
    "Given an array nums with n objects colored red, white, or blue, sort them in-place so that objects of the same color are adjacent, with the colors in the order red, white, and blue.\n",
    "\n",
    "We will use the integers 0, 1, and 2 to represent the color red, white, and blue, respectively.\n",
    "\n",
    "You must solve this problem without using the library's sort function.\n",
    "\n",
    " \n",
    "\n",
    "Example 1:\n",
    "\n",
    "Input: nums = [2,0,2,1,1,0]\n",
    "\n",
    "Output: [0,0,1,1,2,2]\n",
    "\n",
    "########\n",
    "\n",
    "Example 2:\n",
    "\n",
    "Input: nums = [2,0,1]\n",
    "\n",
    "Output: [0,1,2]\n",
    " \n",
    "\n",
    "\n",
    "########\n",
    "\n",
    "Constraints:\n",
    "\n",
    "n == nums.length\n",
    "\n",
    "1 <= n <= 300\n",
    "\n",
    "nums[i] is either 0, 1, or 2.\n",
    " \n",
    "\n",
    "Follow up: Could you come up with a one-pass algorithm using only constant extra space?"
   ]
  },
  {
   "cell_type": "code",
   "execution_count": 19,
   "id": "c54e8fe6-e5d5-405e-8568-598384b5e9aa",
   "metadata": {},
   "outputs": [],
   "source": [
    "from typing import List"
   ]
  },
  {
   "cell_type": "code",
   "execution_count": 21,
   "id": "aa9395bd-170e-4aba-a4ac-d1f57787f78e",
   "metadata": {},
   "outputs": [],
   "source": [
    "class Solution:\n",
    "    def sortColors(self, nums: List[int]) -> None:\n",
    "        \"\"\"\n",
    "        Do not return anything, modify nums in-place instead.\n",
    "        \"\"\"\n",
    "        # two-pass array counts the number of 0s,1s,2s.\n",
    "\n",
    "        # one-pass algorithm, using constant space. \n",
    "        # The problem is known as Dutch National Flag Problem suggested by Edger W. Dijkstra. \n",
    "            # The idea is to attribute a color to each number and then arrange them following the order of colors on the Dutch flag.\n",
    "        \n",
    "        # three pointer: p0-rightmost boundary of 0 (moves to right), p2-leftmost boundary of 2(moves to left), curr-current (only moves to right)\n",
    "        # The idea of a solution is to move curr pointer along the array, if nums[curr] = 0, swap it with nums[p0], if nums[curr] = 2, swap it with nums[p2].\n",
    "        # time complexity: O(N) since it's one pass along an array of length N\n",
    "        # space complexity is O(1) since it's a constant space solution\n",
    "\n",
    "        # for all idx < p0: nums[idx < p0]=0\n",
    "        p0 = curr = 0\n",
    "\n",
    "        # for all idx > p2: nums[idx > p2]=2\n",
    "        p2 = len(nums) - 1\n",
    "\n",
    "        while curr <= p2:\n",
    "            if nums[curr] == 0:\n",
    "                nums[p0], nums[curr] = nums[curr], nums[p0]\n",
    "                curr += 1\n",
    "                p0 += 1\n",
    "            elif nums[curr] == 2:\n",
    "                nums[p2], nums[curr] = nums[curr], nums[p2]\n",
    "                p2 -= 1\n",
    "\n",
    "            else:\n",
    "                curr += 1\n"
   ]
  },
  {
   "cell_type": "code",
   "execution_count": 23,
   "id": "fe0c51dc-bd7d-4899-8271-52b8980878e8",
   "metadata": {},
   "outputs": [
    {
     "data": {
      "text/plain": [
       "[0, 0, 1, 1, 2, 2]"
      ]
     },
     "execution_count": 23,
     "metadata": {},
     "output_type": "execute_result"
    }
   ],
   "source": [
    "solution = Solution()\n",
    "\n",
    "nums = [2,0,2,1,1,0]\n",
    "solution.sortColors(nums)\n",
    "# in place\n",
    "nums\n"
   ]
  },
  {
   "cell_type": "markdown",
   "id": "1ab46848-deeb-4846-ad26-b46b23695489",
   "metadata": {},
   "source": []
  }
 ],
 "metadata": {
  "kernelspec": {
   "display_name": "Python [conda env:base] *",
   "language": "python",
   "name": "conda-base-py"
  },
  "language_info": {
   "codemirror_mode": {
    "name": "ipython",
    "version": 3
   },
   "file_extension": ".py",
   "mimetype": "text/x-python",
   "name": "python",
   "nbconvert_exporter": "python",
   "pygments_lexer": "ipython3",
   "version": "3.11.0"
  }
 },
 "nbformat": 4,
 "nbformat_minor": 5
}
