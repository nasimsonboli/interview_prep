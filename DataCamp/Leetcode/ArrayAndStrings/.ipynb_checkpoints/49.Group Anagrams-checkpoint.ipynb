{
 "cells": [
  {
   "cell_type": "markdown",
   "id": "dd7a6712-fe81-4d9a-b221-7c00cda2fbd8",
   "metadata": {},
   "source": [
    "An anagram is a word or phrase formed by rearranging the letters of a different word or phrase, using all the original letters exactly once.\n",
    "\n",
    "Given an array of strings strs, group the anagrams together. You can return the answer in any order.\n",
    "\n",
    " \n",
    "\n",
    "Example 1:\n",
    "\n",
    "Input: strs = [\"eat\",\"tea\",\"tan\",\"ate\",\"nat\",\"bat\"]\n",
    "\n",
    "Output: [[\"bat\"],[\"nat\",\"tan\"],[\"ate\",\"eat\",\"tea\"]]\n",
    "\n",
    "Explanation:\n",
    "\n",
    "There is no string in strs that can be rearranged to form \"bat\".\n",
    "The strings \"nat\" and \"tan\" are anagrams as they can be rearranged to form each other.\n",
    "The strings \"ate\", \"eat\", and \"tea\" are anagrams as they can be rearranged to form each other.\n",
    "Example 2:\n",
    "\n",
    "Input: strs = [\"\"]\n",
    "\n",
    "Output: [[\"\"]]\n",
    "\n",
    "Example 3:\n",
    "\n",
    "Input: strs = [\"a\"]\n",
    "\n",
    "Output: [[\"a\"]]"
   ]
  },
  {
   "cell_type": "code",
   "execution_count": 32,
   "id": "ba49eccb-c404-4e7a-8599-03d49e425c3f",
   "metadata": {},
   "outputs": [],
   "source": [
    "from typing import List\n",
    "import collections"
   ]
  },
  {
   "cell_type": "code",
   "execution_count": 44,
   "id": "8e91df5e-b0c2-4383-b124-1a4862e31f75",
   "metadata": {},
   "outputs": [],
   "source": [
    "class Solution:\n",
    "    def groupAnagrams(self, strs: List[str]) -> List[List[str]]:\n",
    "        \"\"\"\n",
    "        # approach1: two strings are equal if their sorted strings are equal\n",
    "        # create a map ans: {String -> List}, where each key K is a sorted string, and each value is a list of strings that when sorted are equal to K.\n",
    "        #     e.g. ('a','e','r'):[\"are\", \"era\"]\n",
    "        \n",
    "        # N is the length of strs, K is the max length of a string s in strs list\n",
    "        # time complexity: O(NKlogK).\n",
    "        #     The outer loop has a complexity of O(N) as we iterate over every string.\n",
    "        #     klogk time is taken for sorting the string.\n",
    "        # space complexity is O(NK) the total information stored in ans.\n",
    "\n",
    "        \"\"\"\n",
    "        \n",
    "        ans = {}\n",
    "        # instead of a regular dictionary you can set the default of values for every key to list datatype\n",
    "        ans = collections.defaultdict(list)\n",
    "        \n",
    "        for s in strs:\n",
    "            sorted_s = tuple(sorted(s))\n",
    "            if sorted_s not in ans.keys():\n",
    "                ans[sorted_s] = [s]\n",
    "            else:\n",
    "                ans[sorted_s].append(s)\n",
    "        \n",
    "        return ans.values()\n",
    "\n",
    "\n",
    "    def groupAnagram2(self, strs: List[str]) -> List[List[str]]:\n",
    "        \"\"\"\n",
    "         # approach #2\n",
    "        # Two strings are anagrams if and only if their character counts (respective number of occurrences of each character) are the same.\n",
    "        # ord(c) returns the integer that represents the character in ASCII\n",
    "\n",
    "        # N is the length of string strs, K is the max length of a string s in strs list.\n",
    "        # time complexity O(NK)\n",
    "        # space complexity O(NK) the total information content stored in ans.\n",
    "        \"\"\"\n",
    "\n",
    "        ans = collections.defaultdict(list)\n",
    "        for s in strs:\n",
    "            # we turn each string s into a character count (alphabet_vector), consisting of 26 non-negative characters. use these as keys for our hashmap.\n",
    "            alphabet_vector = [0]*26\n",
    "            for c in s:\n",
    "                # converting each character to indices with ord(c) - ord('a')\n",
    "                alphabet_vector[ord(c) - ord('a')] += 1\n",
    "            \n",
    "            # a tuple vector of zeros and ones becomes the unique key. e.g. (1,2,3,0,0,0,1,...,0): [\"aab\", \"aba\"]\n",
    "            ans[tuple(alphabet_vector)].append(s)\n",
    "\n",
    "        return ans.values()\n",
    "\n",
    "\n",
    "\n"
   ]
  },
  {
   "cell_type": "code",
   "execution_count": 30,
   "id": "987fcc58-649d-42a9-88cf-58fa5b63362a",
   "metadata": {},
   "outputs": [
    {
     "name": "stdout",
     "output_type": "stream",
     "text": [
      "dict_values([['eat', 'tea', 'ate'], ['tan', 'nat'], ['bat']])\n"
     ]
    }
   ],
   "source": [
    "solution = Solution()\n",
    "# solution 1\n",
    "result = solution.groupAnagrams([\"eat\",\"tea\",\"tan\",\"ate\",\"nat\",\"bat\"])\n",
    "print (result)"
   ]
  },
  {
   "cell_type": "code",
   "execution_count": 46,
   "id": "4d5300bd-397f-4550-9bcf-c70dc5325f81",
   "metadata": {},
   "outputs": [
    {
     "name": "stdout",
     "output_type": "stream",
     "text": [
      "dict_values([['eat', 'tea', 'ate'], ['tan', 'nat'], ['bat']])\n"
     ]
    }
   ],
   "source": [
    "solution = Solution()\n",
    "\n",
    "# solution 2\n",
    "result = solution.groupAnagram2([\"eat\",\"tea\",\"tan\",\"ate\",\"nat\",\"bat\"])\n",
    "print (result)"
   ]
  },
  {
   "cell_type": "code",
   "execution_count": null,
   "id": "aafcd7ff-0fb4-4558-857e-8e555af529a5",
   "metadata": {},
   "outputs": [],
   "source": []
  }
 ],
 "metadata": {
  "kernelspec": {
   "display_name": "Python [conda env:base] *",
   "language": "python",
   "name": "conda-base-py"
  },
  "language_info": {
   "codemirror_mode": {
    "name": "ipython",
    "version": 3
   },
   "file_extension": ".py",
   "mimetype": "text/x-python",
   "name": "python",
   "nbconvert_exporter": "python",
   "pygments_lexer": "ipython3",
   "version": "3.11.0"
  }
 },
 "nbformat": 4,
 "nbformat_minor": 5
}
