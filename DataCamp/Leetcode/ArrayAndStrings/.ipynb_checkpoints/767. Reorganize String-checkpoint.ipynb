{
 "cells": [
  {
   "cell_type": "markdown",
   "id": "32065125-3c56-46d4-842f-6d69048918fa",
   "metadata": {},
   "source": [
    "\n",
    "Given a string s, rearrange the characters of s so that any two adjacent characters are not the same.\n",
    "\n",
    "Return any possible rearrangement of s or return \"\" if not possible.\n",
    "\n",
    " \n",
    "\n",
    "Example 1:\n",
    "\n",
    "Input: s = \"aab\"\n",
    "Output: \"aba\"\n",
    "\n",
    "Example 2:\n",
    "\n",
    "Input: s = \"aaab\"\n",
    "Output: \"\"\n",
    " \n",
    "\n",
    "Constraints:\n",
    "\n",
    "1 <= s.length <= 500\n",
    "s consists of lowercase English letters."
   ]
  },
  {
   "cell_type": "code",
   "execution_count": 74,
   "id": "77b27d3d-2b2b-4ebb-b979-8271954833e7",
   "metadata": {},
   "outputs": [],
   "source": [
    "from collections import Counter\n",
    "from heapq import heapify, heappush, heappop"
   ]
  },
  {
   "cell_type": "code",
   "execution_count": 90,
   "id": "4010f04e-0ae6-40c2-977b-ebb5a82e49e8",
   "metadata": {},
   "outputs": [],
   "source": [
    "class Solution:\n",
    "    def reorganizeString_counting(self, s: str) -> str:\n",
    "        '''\n",
    "        # approach 1: Counting Odd/Even\n",
    "        # Intuition: To rearrange a given string s such that no two adjacent characters are the same we\n",
    "            # repeatedly place the most frequent characters until all characters are placed in the rearranged string.\n",
    "        # counting the frequencies of group of characters: odd and even\n",
    "        # is the rearrangement feasible?\n",
    "            # ensure that the frequency of the most frequent letter does not exceed half the length of s.\n",
    "                # In other words, his approach only works if the max frequency ≤ ceil(n/2).\n",
    "        # fill in the even indices first then odd indices, start with the most frequent character\n",
    "\n",
    "        # if N is the toal characters in the string, and K unique characters.\n",
    "        # Time complexity: O(N): we pass 1 time, odd indices first and then even indices.\n",
    "        # space complexity O(K): because k <= 26, space complexity is constant. \n",
    "            # Or we can argue that counter counts the number of occurences, so it takes O(K).\n",
    "        '''\n",
    "\n",
    "        char_counts = Counter(s)\n",
    "        max_count, letter = 0, ''\n",
    "\n",
    "        # calculate the max_count, and the character associated with it\n",
    "        for char, count in char_counts.items():\n",
    "            if count > max_count:\n",
    "                max_count = count\n",
    "                letter = char\n",
    "\n",
    "        # Is it a valid arrangement or not? If not, return empty.\n",
    "        # e.g., if we have a:3, b:1, and len(s)=4, the max count is 2 to have no repetition. since a > 2, it will be repetitive and it is not valid!\n",
    "        if max_count > (len(s) + 1) // 2:\n",
    "            return \"\"\n",
    "        \n",
    "        # allocate places for each character\n",
    "        ans = [''] * len(s)\n",
    "        index = 0\n",
    "\n",
    "        # place the most frequent letter\n",
    "        while char_counts[letter] != 0:\n",
    "            ans[index] = letter\n",
    "            index += 2 # fill the even positions first\n",
    "            char_counts[letter] -= 1\n",
    "\n",
    "        # place the rest of the letters in any order\n",
    "        for char, count in char_counts.items():\n",
    "            while count > 0:\n",
    "                if index >= len(s):\n",
    "                    # now start at index 1\n",
    "                    index = 1\n",
    "                ans[index] = char\n",
    "                index += 2\n",
    "                count -= 1\n",
    "        \n",
    "        return ''.join(ans)\n",
    "\n",
    "    \n",
    "    def reorganizeString_pq(self, s: str) -> str:\n",
    "        '''\n",
    "        # approach 2: Counting and priority Queue\n",
    "        # count the characters using a hashmap or an array of size 26.\n",
    "        # to identify the most frequent character and ensure proper ordering, we can use a priority queue.\n",
    "            # The priority queue allows us to retrieve the character with the highest frequency count in an efficient manner. \n",
    "            # find character: O(1)\n",
    "            # updates: O(logK), where K is the size of the priority queue\n",
    "\n",
    "        # create a pq using a heap data structure\n",
    "            #  Each element in pq is a tuple containing the count of a character and the character itself.\n",
    "            #  The priority queue is ordered in a way such that elements with higher counts have higher priority.\n",
    "        # pop the element with the highest priority\n",
    "        # update its count\n",
    "        # if the updated count is greater than 0, push it back\n",
    "\n",
    "        # N is the total characters\n",
    "        # K is the unique character\n",
    "        # time complexity: O(Nlogk)\n",
    "            # 1) adding a character to the string per iteration is O(N),\n",
    "            # 2) We do 3 operations of pq, each one costs logK. \n",
    "            # note: K is bounded by 26. So one could also argue that the time complexity is O(n)\n",
    "        # space complexity: O(K) the counter incurs a space of O(K), the max number of pd will be O(K)\n",
    "            # max size of pq is O(K), if k is bounded and is k<=26, we can argue the space complexity is O(1).     \n",
    "        '''\n",
    "\n",
    "        ans = []\n",
    "        # Min heap ordered by character counts, so we will use negative values for count\n",
    "        pq = [(-count, char) for char, count in Counter(s).items()]\n",
    "        heapify(pq)\n",
    "\n",
    "        while pq:\n",
    "            count_first, char_first = heappop(pq)\n",
    "            # if ans is empty or the current character is different from the last character in ans\n",
    "            if not ans or char_first != ans[-1]:\n",
    "                ans.append(char_first)\n",
    "                \n",
    "                # If the count of char_first is not zero, update its count by decreasing it by one.\n",
    "                # If the updated count is larger than zero, push it back to pq. Continue to the next iteration.\n",
    "                if count_first + 1 != 0: \n",
    "                    heappush(pq, (count_first + 1, char_first))\n",
    "            else:\n",
    "                # if pq is empty, return an empty string as it is impossible to rearrange the characters.\n",
    "                if not pq: return ''\n",
    "                \n",
    "                # if char_first is the same as the last character in ans, it means we need to choose a different character. \n",
    "                count_second, char_second = heappop(pq)\n",
    "                ans.append(char_second)\n",
    "                if count_second + 1 != 0:\n",
    "                    heappush(pq, (count_second + 1, char_second))\n",
    "                \n",
    "                # finally push the original char_first back to pq\n",
    "                heappush(pq, (count_first, char_first))\n",
    "\n",
    "        return ''.join(ans)\n"
   ]
  },
  {
   "cell_type": "code",
   "execution_count": 92,
   "id": "e60ed6ee-c969-443f-923d-be59069f3adb",
   "metadata": {},
   "outputs": [
    {
     "name": "stdout",
     "output_type": "stream",
     "text": [
      "aba\n"
     ]
    }
   ],
   "source": [
    "solution = Solution()\n",
    "res = solution.reorganizeString_counting(\"aab\")\n",
    "print(res)"
   ]
  },
  {
   "cell_type": "code",
   "execution_count": 94,
   "id": "61b0995c-b586-471a-ad60-e3aa0e59c6b6",
   "metadata": {},
   "outputs": [
    {
     "name": "stdout",
     "output_type": "stream",
     "text": [
      "\n"
     ]
    }
   ],
   "source": [
    "solution = Solution()\n",
    "res = solution.reorganizeString_counting(\"aaab\")\n",
    "print(res)"
   ]
  },
  {
   "cell_type": "code",
   "execution_count": 96,
   "id": "4384044a-ae0a-4513-b147-47b8b6fb72d6",
   "metadata": {},
   "outputs": [
    {
     "name": "stdout",
     "output_type": "stream",
     "text": [
      "ababacabcd\n"
     ]
    }
   ],
   "source": [
    "solution = Solution()\n",
    "res = solution.reorganizeString_pq(\"aaaabbbccd\")\n",
    "print(res)"
   ]
  },
  {
   "cell_type": "code",
   "execution_count": null,
   "id": "2928158c-e24d-41c3-95ac-e1ad76f86988",
   "metadata": {},
   "outputs": [],
   "source": []
  }
 ],
 "metadata": {
  "kernelspec": {
   "display_name": "Python [conda env:base] *",
   "language": "python",
   "name": "conda-base-py"
  },
  "language_info": {
   "codemirror_mode": {
    "name": "ipython",
    "version": 3
   },
   "file_extension": ".py",
   "mimetype": "text/x-python",
   "name": "python",
   "nbconvert_exporter": "python",
   "pygments_lexer": "ipython3",
   "version": "3.11.0"
  }
 },
 "nbformat": 4,
 "nbformat_minor": 5
}
