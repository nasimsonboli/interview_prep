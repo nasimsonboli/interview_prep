{
 "cells": [
  {
   "cell_type": "code",
   "execution_count": 5,
   "id": "eNYTwDyaM0ig",
   "metadata": {
    "id": "eNYTwDyaM0ig"
   },
   "outputs": [],
   "source": [
    "from transformers import pipeline"
   ]
  },
  {
   "cell_type": "markdown",
   "id": "2iQAve0FEhUg",
   "metadata": {
    "id": "2iQAve0FEhUg"
   },
   "source": [
    "# text summarization"
   ]
  },
  {
   "cell_type": "code",
   "execution_count": 6,
   "id": "cYhTUiNWM8u6",
   "metadata": {
    "colab": {
     "base_uri": "https://localhost:8080/"
    },
    "id": "cYhTUiNWM8u6",
    "outputId": "e3333dc1-6cd1-42ae-be46-2baa828e6235"
   },
   "outputs": [
    {
     "name": "stderr",
     "output_type": "stream",
     "text": [
      "/usr/local/lib/python3.11/dist-packages/huggingface_hub/file_download.py:943: FutureWarning: `resume_download` is deprecated and will be removed in version 1.0.0. Downloads always resume when possible. If you want to force a new download, use `force_download=True`.\n",
      "  warnings.warn(\n",
      "/usr/local/lib/python3.11/dist-packages/huggingface_hub/utils/_auth.py:94: UserWarning: \n",
      "The secret `HF_TOKEN` does not exist in your Colab secrets.\n",
      "To authenticate with the Hugging Face Hub, create a token in your settings tab (https://huggingface.co/settings/tokens), set it as secret in your Google Colab and restart your session.\n",
      "You will be able to reuse this secret in all of your notebooks.\n",
      "Please note that authentication is recommended but still optional to access public models or datasets.\n",
      "  warnings.warn(\n",
      "/usr/local/lib/python3.11/dist-packages/huggingface_hub/file_download.py:943: FutureWarning: `resume_download` is deprecated and will be removed in version 1.0.0. Downloads always resume when possible. If you want to force a new download, use `force_download=True`.\n",
      "  warnings.warn(\n"
     ]
    }
   ],
   "source": [
    "summarizer = pipeline(task=\"summarization\", model=\"facebook/bart-large-cnn\")"
   ]
  },
  {
   "cell_type": "code",
   "execution_count": 7,
   "id": "TxAFCyKVNFZL",
   "metadata": {
    "id": "TxAFCyKVNFZL"
   },
   "outputs": [],
   "source": [
    "text = \"I’m really excited about the chance to work at Discord because I love how it brings people together—especially around games. I think Discord plays such a unique and important role in online communities, and I’d love to be part of a team that’s making those experiences better with data. The work sounds like a great match for what I enjoy doing: digging into metrics, designing thoughtful experiments, building clean dashboards, and collaborating across teams to make meaningful product decisions. I’m especially drawn to how much you care about users and the quality of their experience—I'd be thrilled to contribute to that.\"\n",
    "\n",
    "# clean_up_tokenization_spaces cleans up the extra spaces.\n",
    "summary = summarizer(text, max_length=50, min_length=30, do_sample=False, clean_up_tokenization_spaces=True)"
   ]
  },
  {
   "cell_type": "code",
   "execution_count": 8,
   "id": "dfMHUeKDOmZE",
   "metadata": {
    "colab": {
     "base_uri": "https://localhost:8080/"
    },
    "id": "dfMHUeKDOmZE",
    "outputId": "c18282bf-9784-4961-bbfd-b9ff8e3974e7"
   },
   "outputs": [
    {
     "name": "stdout",
     "output_type": "stream",
     "text": [
      "[{'summary_text': \"I love how Discord brings people together, especially around games. I'd love to be part of a team that’s making those experiences better with data. The work sounds like a great match for what I enjoy doing: digging into\"}]\n"
     ]
    }
   ],
   "source": [
    "print(summary)"
   ]
  },
  {
   "cell_type": "code",
   "execution_count": 9,
   "id": "he0XO_AnO0ox",
   "metadata": {
    "colab": {
     "base_uri": "https://localhost:8080/",
     "height": 53
    },
    "id": "he0XO_AnO0ox",
    "outputId": "68302bd1-8e92-4982-80f4-8489107e248c"
   },
   "outputs": [
    {
     "data": {
      "application/vnd.google.colaboratory.intrinsic+json": {
       "type": "string"
      },
      "text/plain": [
       "\"I love how Discord brings people together, especially around games. I'd love to be part of a team that’s making those experiences better with data. The work sounds like a great match for what I enjoy doing: digging into\""
      ]
     },
     "execution_count": 9,
     "metadata": {},
     "output_type": "execute_result"
    }
   ],
   "source": [
    "summary[0][\"summary_text\"]"
   ]
  },
  {
   "cell_type": "markdown",
   "id": "dlptmnSnTRiG",
   "metadata": {
    "id": "dlptmnSnTRiG"
   },
   "source": [
    "# using pre-trained LLMs"
   ]
  },
  {
   "cell_type": "markdown",
   "id": "vMPYtmDcPLn_",
   "metadata": {
    "id": "vMPYtmDcPLn_"
   },
   "source": [
    "* `eos_token_id` end of sequence token id. it's learned through training.\n",
    "* `pad_token_id` fills up the empty space up to the specified max length.\n",
    "  * padding is adding tokens at the end of a sequence if necessary. if all the sequences are the same length, it ensures model efficiency\n",
    "* `truncation = True` can be added if the input is longer than the max_length. It tells the model when to stop generating up to the specified length or the end of sequence"
   ]
  },
  {
   "cell_type": "code",
   "execution_count": 10,
   "id": "kpvh1pyXPOPX",
   "metadata": {
    "colab": {
     "base_uri": "https://localhost:8080/"
    },
    "id": "kpvh1pyXPOPX",
    "outputId": "d7330231-7a60-4eb2-a049-8afe91df57cf"
   },
   "outputs": [
    {
     "name": "stderr",
     "output_type": "stream",
     "text": [
      "/usr/local/lib/python3.11/dist-packages/huggingface_hub/file_download.py:943: FutureWarning: `resume_download` is deprecated and will be removed in version 1.0.0. Downloads always resume when possible. If you want to force a new download, use `force_download=True`.\n",
      "  warnings.warn(\n",
      "/usr/local/lib/python3.11/dist-packages/huggingface_hub/file_download.py:943: FutureWarning: `resume_download` is deprecated and will be removed in version 1.0.0. Downloads always resume when possible. If you want to force a new download, use `force_download=True`.\n",
      "  warnings.warn(\n",
      "Xformers is not installed correctly. If you want to use memory_efficient_attention to accelerate training use the following command to install Xformers\n",
      "pip install xformers.\n"
     ]
    },
    {
     "name": "stdout",
     "output_type": "stream",
     "text": [
      "The Gion Neighborhood in Kyoto is famous for its high-quality outdoor garden. The gardens have been named as a 'new Kyoto green home' for Japan‍ and some people who like it see it as a good place to grow local vegetables. The area‍ is also known as a 'new Kyoto green home' for the people of Kyoto as well as a 'new Kyoto green home' in Kyoto, which is the home of one of the largest towns in Japan.\n",
      "\n",
      "Foss\n"
     ]
    }
   ],
   "source": [
    "generator = pipeline(task=\"text-generation\", model=\"distilgpt2\")\n",
    "prompt = \"The Gion Neighborhood in Kyoto is famous for\"\n",
    "\n",
    "output = generator(prompt, max_length=100, pad_token_id=generator.tokenizer.eos_token_id)\n",
    "\n",
    "print(output[0]['generated_text'])"
   ]
  },
  {
   "cell_type": "markdown",
   "id": "nD0dpcGHVngL",
   "metadata": {
    "id": "nD0dpcGHVngL"
   },
   "source": [
    "## guiding the output"
   ]
  },
  {
   "cell_type": "code",
   "execution_count": 12,
   "id": "JFsX-u2xT-jW",
   "metadata": {
    "colab": {
     "base_uri": "https://localhost:8080/"
    },
    "id": "JFsX-u2xT-jW",
    "outputId": "0dd2f6a1-6100-4885-cd19-32b2353d98e5"
   },
   "outputs": [
    {
     "name": "stderr",
     "output_type": "stream",
     "text": [
      "/usr/local/lib/python3.11/dist-packages/huggingface_hub/file_download.py:943: FutureWarning: `resume_download` is deprecated and will be removed in version 1.0.0. Downloads always resume when possible. If you want to force a new download, use `force_download=True`.\n",
      "  warnings.warn(\n",
      "/usr/local/lib/python3.11/dist-packages/huggingface_hub/file_download.py:943: FutureWarning: `resume_download` is deprecated and will be removed in version 1.0.0. Downloads always resume when possible. If you want to force a new download, use `force_download=True`.\n",
      "  warnings.warn(\n"
     ]
    },
    {
     "name": "stdout",
     "output_type": "stream",
     "text": [
      "Book review:\n",
      " This book was great. I enjoyed the plot twist in Chapter 10.\n",
      "\n",
      " Book shop response to the review:\n",
      "Dear reader, thank you for the review. I was very impressed by how the plot twist was handled. It's a real fun story and the book has been entertaining for a while and the novel is fantastic. I enjoyed reading the story and it's an absolute top 10 to read. I'd like to see how I look forward to seeing the next one!\n",
      "\n"
     ]
    }
   ],
   "source": [
    "generator = pipeline(task=\"text-generation\", model=\"distilgpt2\")\n",
    "\n",
    "review = \" This book was great. I enjoyed the plot twist in Chapter 10.\"\n",
    "response= \"Dear reader, thank you for the review.\"\n",
    "\n",
    "prompt = f\"Book review:\\n{review}\\n\\n Book shop response to the review:\\n{response}\"\n",
    "\n",
    "output = generator(prompt, max_length=100, pad_token_id=generator.tokenizer.eos_token_id)\n",
    "\n",
    "print(output[0][\"generated_text\"])"
   ]
  },
  {
   "cell_type": "markdown",
   "id": "Wtvo8X7vWijA",
   "metadata": {
    "id": "Wtvo8X7vWijA"
   },
   "source": [
    "## language translation"
   ]
  },
  {
   "cell_type": "code",
   "execution_count": 13,
   "id": "ZChNdFgyWSoH",
   "metadata": {
    "colab": {
     "base_uri": "https://localhost:8080/"
    },
    "id": "ZChNdFgyWSoH",
    "outputId": "8884f044-e705-4468-a95f-a2483ea36a87"
   },
   "outputs": [
    {
     "name": "stderr",
     "output_type": "stream",
     "text": [
      "/usr/local/lib/python3.11/dist-packages/huggingface_hub/file_download.py:943: FutureWarning: `resume_download` is deprecated and will be removed in version 1.0.0. Downloads always resume when possible. If you want to force a new download, use `force_download=True`.\n",
      "  warnings.warn(\n",
      "/usr/local/lib/python3.11/dist-packages/huggingface_hub/file_download.py:943: FutureWarning: `resume_download` is deprecated and will be removed in version 1.0.0. Downloads always resume when possible. If you want to force a new download, use `force_download=True`.\n",
      "  warnings.warn(\n",
      "/usr/local/lib/python3.11/dist-packages/transformers/models/marian/tokenization_marian.py:194: UserWarning: Recommended: pip install sacremoses.\n",
      "  warnings.warn(\"Recommended: pip install sacremoses.\")\n"
     ]
    },
    {
     "name": "stdout",
     "output_type": "stream",
     "text": [
      "Caminar entre las casas de madera Machiya de Gion fue una experiencia fascinante.\n"
     ]
    }
   ],
   "source": [
    "translator = pipeline(task=\"translation_en_to_es\", model=\"Helsinki-NLP/opus-mt-en-es\")\n",
    "\n",
    "text = \"Walking amid Gion's Machiya wooden houses was a mesmerizing experience.\"\n",
    "\n",
    "output = translator(text, clean_up_tokenization_spaces=True)\n",
    "\n",
    "print(output[0][\"translation_text\"])"
   ]
  },
  {
   "cell_type": "markdown",
   "id": "NKFNE95zY5h2",
   "metadata": {
    "id": "NKFNE95zY5h2"
   },
   "source": [
    "# understanding the transformers\n",
    "* are deep learning architectures\n",
    "* processing, understanding, and generating text\n",
    "* used in most llms\n",
    "* it can handle longer text sequences in parallel rather than processing each word sequentially\n",
    "* three common architectures, where each architecture specializes in a specific task:\n",
    "  1. **encoder-only**: understanding the input text, without producing a sequecial output (a sentence) e.g. text classification, sentiment analysis, extractive question-answering (extract of a text or label)\n",
    "    * BERT models\n",
    "    * example: *distilbert-base-uncased-distilled-squad*\n",
    "\n",
    "  2. **decoder-only**:  Focuses on the output, making it ideal for generative tasks such as text generator, generative question-answering, where the answer is a sentence(s) or paragraphs(s)\n",
    "\n",
    "    *   GPT models\n",
    "    *   example: *gpt-3.5-turbo*\n",
    "\n",
    "  3. **encoder-decoder**: It's a combination of the two. It helps the model understand and process the input and output for tasks like language translation, and text-summarization.\n",
    "\n",
    "    *   T5, BART models\n"
   ]
  },
  {
   "cell_type": "markdown",
   "id": "FjcIJOhvg4JK",
   "metadata": {
    "id": "FjcIJOhvg4JK"
   },
   "source": [
    "## Identifying the model architecture"
   ]
  },
  {
   "cell_type": "code",
   "execution_count": 14,
   "id": "ftdWll7QXLrw",
   "metadata": {
    "colab": {
     "base_uri": "https://localhost:8080/"
    },
    "id": "ftdWll7QXLrw",
    "outputId": "e0e3b988-3671-4a70-a1e9-531c3c4b2fed"
   },
   "outputs": [
    {
     "name": "stderr",
     "output_type": "stream",
     "text": [
      "/usr/local/lib/python3.11/dist-packages/huggingface_hub/file_download.py:943: FutureWarning: `resume_download` is deprecated and will be removed in version 1.0.0. Downloads always resume when possible. If you want to force a new download, use `force_download=True`.\n",
      "  warnings.warn(\n",
      "Some weights of the model checkpoint at bert-base-uncased were not used when initializing BertForMaskedLM: ['cls.seq_relationship.bias', 'bert.pooler.dense.bias', 'bert.pooler.dense.weight', 'cls.seq_relationship.weight']\n",
      "- This IS expected if you are initializing BertForMaskedLM from the checkpoint of a model trained on another task or with another architecture (e.g. initializing a BertForSequenceClassification model from a BertForPreTraining model).\n",
      "- This IS NOT expected if you are initializing BertForMaskedLM from the checkpoint of a model that you expect to be exactly identical (initializing a BertForSequenceClassification model from a BertForSequenceClassification model).\n"
     ]
    },
    {
     "name": "stdout",
     "output_type": "stream",
     "text": [
      "BertForMaskedLM(\n",
      "  (bert): BertModel(\n",
      "    (embeddings): BertEmbeddings(\n",
      "      (word_embeddings): Embedding(30522, 768, padding_idx=0)\n",
      "      (position_embeddings): Embedding(512, 768)\n",
      "      (token_type_embeddings): Embedding(2, 768)\n",
      "      (LayerNorm): LayerNorm((768,), eps=1e-12, elementwise_affine=True)\n",
      "      (dropout): Dropout(p=0.1, inplace=False)\n",
      "    )\n",
      "    (encoder): BertEncoder(\n",
      "      (layer): ModuleList(\n",
      "        (0-11): 12 x BertLayer(\n",
      "          (attention): BertAttention(\n",
      "            (self): BertSelfAttention(\n",
      "              (query): Linear(in_features=768, out_features=768, bias=True)\n",
      "              (key): Linear(in_features=768, out_features=768, bias=True)\n",
      "              (value): Linear(in_features=768, out_features=768, bias=True)\n",
      "              (dropout): Dropout(p=0.1, inplace=False)\n",
      "            )\n",
      "            (output): BertSelfOutput(\n",
      "              (dense): Linear(in_features=768, out_features=768, bias=True)\n",
      "              (LayerNorm): LayerNorm((768,), eps=1e-12, elementwise_affine=True)\n",
      "              (dropout): Dropout(p=0.1, inplace=False)\n",
      "            )\n",
      "          )\n",
      "          (intermediate): BertIntermediate(\n",
      "            (dense): Linear(in_features=768, out_features=3072, bias=True)\n",
      "            (intermediate_act_fn): GELUActivation()\n",
      "          )\n",
      "          (output): BertOutput(\n",
      "            (dense): Linear(in_features=3072, out_features=768, bias=True)\n",
      "            (LayerNorm): LayerNorm((768,), eps=1e-12, elementwise_affine=True)\n",
      "            (dropout): Dropout(p=0.1, inplace=False)\n",
      "          )\n",
      "        )\n",
      "      )\n",
      "    )\n",
      "  )\n",
      "  (cls): BertOnlyMLMHead(\n",
      "    (predictions): BertLMPredictionHead(\n",
      "      (transform): BertPredictionHeadTransform(\n",
      "        (dense): Linear(in_features=768, out_features=768, bias=True)\n",
      "        (transform_act_fn): GELUActivation()\n",
      "        (LayerNorm): LayerNorm((768,), eps=1e-12, elementwise_affine=True)\n",
      "      )\n",
      "      (decoder): Linear(in_features=768, out_features=30522, bias=True)\n",
      "    )\n",
      "  )\n",
      ")\n"
     ]
    }
   ],
   "source": [
    "llm = pipeline(model=\"bert-base-uncased\")\n",
    "print (llm.model)"
   ]
  },
  {
   "cell_type": "code",
   "execution_count": 15,
   "id": "3eR_lYjUghTO",
   "metadata": {
    "colab": {
     "base_uri": "https://localhost:8080/"
    },
    "id": "3eR_lYjUghTO",
    "outputId": "d0502781-f045-40f6-d0d4-dc0f68bac421"
   },
   "outputs": [
    {
     "name": "stdout",
     "output_type": "stream",
     "text": [
      "BertConfig {\n",
      "  \"_name_or_path\": \"bert-base-uncased\",\n",
      "  \"architectures\": [\n",
      "    \"BertForMaskedLM\"\n",
      "  ],\n",
      "  \"attention_probs_dropout_prob\": 0.1,\n",
      "  \"classifier_dropout\": null,\n",
      "  \"gradient_checkpointing\": false,\n",
      "  \"hidden_act\": \"gelu\",\n",
      "  \"hidden_dropout_prob\": 0.1,\n",
      "  \"hidden_size\": 768,\n",
      "  \"initializer_range\": 0.02,\n",
      "  \"intermediate_size\": 3072,\n",
      "  \"layer_norm_eps\": 1e-12,\n",
      "  \"max_position_embeddings\": 512,\n",
      "  \"model_type\": \"bert\",\n",
      "  \"num_attention_heads\": 12,\n",
      "  \"num_hidden_layers\": 12,\n",
      "  \"pad_token_id\": 0,\n",
      "  \"position_embedding_type\": \"absolute\",\n",
      "  \"transformers_version\": \"4.31.0\",\n",
      "  \"type_vocab_size\": 2,\n",
      "  \"use_cache\": true,\n",
      "  \"vocab_size\": 30522\n",
      "}\n",
      "\n"
     ]
    }
   ],
   "source": [
    "print(llm.model.config)"
   ]
  },
  {
   "cell_type": "code",
   "execution_count": 16,
   "id": "Z4LSkCOah6Cd",
   "metadata": {
    "colab": {
     "base_uri": "https://localhost:8080/"
    },
    "id": "Z4LSkCOah6Cd",
    "outputId": "07b610a2-1a19-460c-b1ad-5aa13a5c1277"
   },
   "outputs": [
    {
     "name": "stdout",
     "output_type": "stream",
     "text": [
      "False\n"
     ]
    }
   ],
   "source": [
    "print(llm.model.config.is_decoder)"
   ]
  },
  {
   "cell_type": "code",
   "execution_count": 17,
   "id": "yfFfRo1nh9my",
   "metadata": {
    "colab": {
     "base_uri": "https://localhost:8080/"
    },
    "id": "yfFfRo1nh9my",
    "outputId": "20a12a4e-5be2-4e69-f120-2e570a1abf4e"
   },
   "outputs": [
    {
     "data": {
      "text/plain": [
       "False"
      ]
     },
     "execution_count": 17,
     "metadata": {},
     "output_type": "execute_result"
    }
   ],
   "source": [
    "llm.model.config.is_encoder_decoder"
   ]
  },
  {
   "cell_type": "code",
   "execution_count": 18,
   "id": "Wi3s_5U1iDKz",
   "metadata": {
    "colab": {
     "base_uri": "https://localhost:8080/"
    },
    "id": "Wi3s_5U1iDKz",
    "outputId": "5c84fa62-1329-46dd-e8be-97e3e1ef7a22"
   },
   "outputs": [
    {
     "name": "stderr",
     "output_type": "stream",
     "text": [
      "/usr/local/lib/python3.11/dist-packages/huggingface_hub/file_download.py:943: FutureWarning: `resume_download` is deprecated and will be removed in version 1.0.0. Downloads always resume when possible. If you want to force a new download, use `force_download=True`.\n",
      "  warnings.warn(\n",
      "/usr/local/lib/python3.11/dist-packages/huggingface_hub/file_download.py:943: FutureWarning: `resume_download` is deprecated and will be removed in version 1.0.0. Downloads always resume when possible. If you want to force a new download, use `force_download=True`.\n",
      "  warnings.warn(\n"
     ]
    },
    {
     "name": "stdout",
     "output_type": "stream",
     "text": [
      "GPT2Config {\n",
      "  \"_name_or_path\": \"gpt2\",\n",
      "  \"activation_function\": \"gelu_new\",\n",
      "  \"architectures\": [\n",
      "    \"GPT2LMHeadModel\"\n",
      "  ],\n",
      "  \"attn_pdrop\": 0.1,\n",
      "  \"bos_token_id\": 50256,\n",
      "  \"do_sample\": true,\n",
      "  \"embd_pdrop\": 0.1,\n",
      "  \"eos_token_id\": 50256,\n",
      "  \"initializer_range\": 0.02,\n",
      "  \"layer_norm_epsilon\": 1e-05,\n",
      "  \"max_length\": 50,\n",
      "  \"model_type\": \"gpt2\",\n",
      "  \"n_ctx\": 1024,\n",
      "  \"n_embd\": 768,\n",
      "  \"n_head\": 12,\n",
      "  \"n_inner\": null,\n",
      "  \"n_layer\": 12,\n",
      "  \"n_positions\": 1024,\n",
      "  \"reorder_and_upcast_attn\": false,\n",
      "  \"resid_pdrop\": 0.1,\n",
      "  \"scale_attn_by_inverse_layer_idx\": false,\n",
      "  \"scale_attn_weights\": true,\n",
      "  \"summary_activation\": null,\n",
      "  \"summary_first_dropout\": 0.1,\n",
      "  \"summary_proj_to_labels\": true,\n",
      "  \"summary_type\": \"cls_index\",\n",
      "  \"summary_use_proj\": true,\n",
      "  \"task_specific_params\": {\n",
      "    \"text-generation\": {\n",
      "      \"do_sample\": true,\n",
      "      \"max_length\": 50\n",
      "    }\n",
      "  },\n",
      "  \"transformers_version\": \"4.31.0\",\n",
      "  \"use_cache\": true,\n",
      "  \"vocab_size\": 50257\n",
      "}\n",
      "\n"
     ]
    }
   ],
   "source": [
    "# the gpt model is tricky, we need to rely on our knowledge.\n",
    "# the word of text-generation lets us know that is might be a decoder.\n",
    "llm = pipeline(model=\"gpt2\")\n",
    "print(llm.model.config)"
   ]
  },
  {
   "cell_type": "code",
   "execution_count": 19,
   "id": "m2PSezfhiH2_",
   "metadata": {
    "colab": {
     "base_uri": "https://localhost:8080/"
    },
    "id": "m2PSezfhiH2_",
    "outputId": "6cb94f8b-99ce-4acf-c3aa-c35785ea0ab9"
   },
   "outputs": [
    {
     "name": "stdout",
     "output_type": "stream",
     "text": [
      "False\n"
     ]
    }
   ],
   "source": [
    "# even if the function below returns false, examining the usage and the architecture lets us know that it's a decoder only\n",
    "print(llm.model.config.is_decoder)"
   ]
  },
  {
   "cell_type": "code",
   "execution_count": 20,
   "id": "trpsUsK9kDJN",
   "metadata": {
    "colab": {
     "base_uri": "https://localhost:8080/"
    },
    "id": "trpsUsK9kDJN",
    "outputId": "2fdf97ee-61b9-44df-b514-f11d0116f3ce"
   },
   "outputs": [
    {
     "name": "stderr",
     "output_type": "stream",
     "text": [
      "/usr/local/lib/python3.11/dist-packages/huggingface_hub/file_download.py:943: FutureWarning: `resume_download` is deprecated and will be removed in version 1.0.0. Downloads always resume when possible. If you want to force a new download, use `force_download=True`.\n",
      "  warnings.warn(\n",
      "/usr/local/lib/python3.11/dist-packages/huggingface_hub/file_download.py:943: FutureWarning: `resume_download` is deprecated and will be removed in version 1.0.0. Downloads always resume when possible. If you want to force a new download, use `force_download=True`.\n",
      "  warnings.warn(\n"
     ]
    },
    {
     "name": "stdout",
     "output_type": "stream",
     "text": [
      "MarianMTModel(\n",
      "  (model): MarianModel(\n",
      "    (shared): Embedding(65001, 512, padding_idx=65000)\n",
      "    (encoder): MarianEncoder(\n",
      "      (embed_tokens): Embedding(65001, 512, padding_idx=65000)\n",
      "      (embed_positions): MarianSinusoidalPositionalEmbedding(512, 512)\n",
      "      (layers): ModuleList(\n",
      "        (0-5): 6 x MarianEncoderLayer(\n",
      "          (self_attn): MarianAttention(\n",
      "            (k_proj): Linear(in_features=512, out_features=512, bias=True)\n",
      "            (v_proj): Linear(in_features=512, out_features=512, bias=True)\n",
      "            (q_proj): Linear(in_features=512, out_features=512, bias=True)\n",
      "            (out_proj): Linear(in_features=512, out_features=512, bias=True)\n",
      "          )\n",
      "          (self_attn_layer_norm): LayerNorm((512,), eps=1e-05, elementwise_affine=True)\n",
      "          (activation_fn): SiLUActivation()\n",
      "          (fc1): Linear(in_features=512, out_features=2048, bias=True)\n",
      "          (fc2): Linear(in_features=2048, out_features=512, bias=True)\n",
      "          (final_layer_norm): LayerNorm((512,), eps=1e-05, elementwise_affine=True)\n",
      "        )\n",
      "      )\n",
      "    )\n",
      "    (decoder): MarianDecoder(\n",
      "      (embed_tokens): Embedding(65001, 512, padding_idx=65000)\n",
      "      (embed_positions): MarianSinusoidalPositionalEmbedding(512, 512)\n",
      "      (layers): ModuleList(\n",
      "        (0-5): 6 x MarianDecoderLayer(\n",
      "          (self_attn): MarianAttention(\n",
      "            (k_proj): Linear(in_features=512, out_features=512, bias=True)\n",
      "            (v_proj): Linear(in_features=512, out_features=512, bias=True)\n",
      "            (q_proj): Linear(in_features=512, out_features=512, bias=True)\n",
      "            (out_proj): Linear(in_features=512, out_features=512, bias=True)\n",
      "          )\n",
      "          (activation_fn): SiLUActivation()\n",
      "          (self_attn_layer_norm): LayerNorm((512,), eps=1e-05, elementwise_affine=True)\n",
      "          (encoder_attn): MarianAttention(\n",
      "            (k_proj): Linear(in_features=512, out_features=512, bias=True)\n",
      "            (v_proj): Linear(in_features=512, out_features=512, bias=True)\n",
      "            (q_proj): Linear(in_features=512, out_features=512, bias=True)\n",
      "            (out_proj): Linear(in_features=512, out_features=512, bias=True)\n",
      "          )\n",
      "          (encoder_attn_layer_norm): LayerNorm((512,), eps=1e-05, elementwise_affine=True)\n",
      "          (fc1): Linear(in_features=512, out_features=2048, bias=True)\n",
      "          (fc2): Linear(in_features=2048, out_features=512, bias=True)\n",
      "          (final_layer_norm): LayerNorm((512,), eps=1e-05, elementwise_affine=True)\n",
      "        )\n",
      "      )\n",
      "    )\n",
      "  )\n",
      "  (lm_head): Linear(in_features=512, out_features=65001, bias=False)\n",
      ")\n"
     ]
    },
    {
     "name": "stderr",
     "output_type": "stream",
     "text": [
      "/usr/local/lib/python3.11/dist-packages/transformers/models/marian/tokenization_marian.py:194: UserWarning: Recommended: pip install sacremoses.\n",
      "  warnings.warn(\"Recommended: pip install sacremoses.\")\n"
     ]
    }
   ],
   "source": [
    "llm = pipeline(model=\"Helsinki-NLP/opus-mt-es-en\")\n",
    "print(llm.model)"
   ]
  },
  {
   "cell_type": "code",
   "execution_count": 21,
   "id": "Ovrx0tmRkxK_",
   "metadata": {
    "colab": {
     "base_uri": "https://localhost:8080/"
    },
    "id": "Ovrx0tmRkxK_",
    "outputId": "a24e2ecf-e1d0-4697-a197-6b044e7d7712"
   },
   "outputs": [
    {
     "name": "stdout",
     "output_type": "stream",
     "text": [
      "MarianConfig {\n",
      "  \"_name_or_path\": \"Helsinki-NLP/opus-mt-es-en\",\n",
      "  \"activation_dropout\": 0.0,\n",
      "  \"activation_function\": \"swish\",\n",
      "  \"add_bias_logits\": false,\n",
      "  \"add_final_layer_norm\": false,\n",
      "  \"architectures\": [\n",
      "    \"MarianMTModel\"\n",
      "  ],\n",
      "  \"attention_dropout\": 0.0,\n",
      "  \"bad_words_ids\": [\n",
      "    [\n",
      "      65000\n",
      "    ]\n",
      "  ],\n",
      "  \"bos_token_id\": 0,\n",
      "  \"classif_dropout\": 0.0,\n",
      "  \"classifier_dropout\": 0.0,\n",
      "  \"d_model\": 512,\n",
      "  \"decoder_attention_heads\": 8,\n",
      "  \"decoder_ffn_dim\": 2048,\n",
      "  \"decoder_layerdrop\": 0.0,\n",
      "  \"decoder_layers\": 6,\n",
      "  \"decoder_start_token_id\": 65000,\n",
      "  \"decoder_vocab_size\": 65001,\n",
      "  \"dropout\": 0.1,\n",
      "  \"encoder_attention_heads\": 8,\n",
      "  \"encoder_ffn_dim\": 2048,\n",
      "  \"encoder_layerdrop\": 0.0,\n",
      "  \"encoder_layers\": 6,\n",
      "  \"eos_token_id\": 0,\n",
      "  \"extra_pos_embeddings\": 65001,\n",
      "  \"force_bos_token_to_be_generated\": false,\n",
      "  \"forced_eos_token_id\": 0,\n",
      "  \"id2label\": {\n",
      "    \"0\": \"LABEL_0\",\n",
      "    \"1\": \"LABEL_1\",\n",
      "    \"2\": \"LABEL_2\"\n",
      "  },\n",
      "  \"init_std\": 0.02,\n",
      "  \"is_encoder_decoder\": true,\n",
      "  \"label2id\": {\n",
      "    \"LABEL_0\": 0,\n",
      "    \"LABEL_1\": 1,\n",
      "    \"LABEL_2\": 2\n",
      "  },\n",
      "  \"max_length\": 512,\n",
      "  \"max_position_embeddings\": 512,\n",
      "  \"model_type\": \"marian\",\n",
      "  \"normalize_before\": false,\n",
      "  \"normalize_embedding\": false,\n",
      "  \"num_beams\": 4,\n",
      "  \"num_hidden_layers\": 6,\n",
      "  \"pad_token_id\": 65000,\n",
      "  \"scale_embedding\": true,\n",
      "  \"share_encoder_decoder_embeddings\": true,\n",
      "  \"static_position_embeddings\": true,\n",
      "  \"transformers_version\": \"4.31.0\",\n",
      "  \"use_cache\": true,\n",
      "  \"vocab_size\": 65001\n",
      "}\n",
      "\n"
     ]
    }
   ],
   "source": [
    "print(llm.model.config)"
   ]
  },
  {
   "cell_type": "code",
   "execution_count": 22,
   "id": "nrisZduhlS43",
   "metadata": {
    "colab": {
     "base_uri": "https://localhost:8080/"
    },
    "id": "nrisZduhlS43",
    "outputId": "aacc5223-2146-4f4e-f8a8-8ac507b864c6"
   },
   "outputs": [
    {
     "name": "stdout",
     "output_type": "stream",
     "text": [
      "True\n"
     ]
    }
   ],
   "source": [
    "print(llm.model.config.is_encoder_decoder)"
   ]
  },
  {
   "cell_type": "markdown",
   "id": "JNsLKzCPneYw",
   "metadata": {
    "id": "JNsLKzCPneYw"
   },
   "source": [
    "# Preparing for fine-tuning"
   ]
  },
  {
   "cell_type": "markdown",
   "id": "yqaKhMhlnn_9",
   "metadata": {
    "id": "yqaKhMhlnn_9"
   },
   "source": [
    "`pipeline()`\n",
    "* streamline language tasks\n",
    "* autimatically select a model and tokenizer\n",
    "* offers limited control\n",
    "\n",
    "`Auto classes (AutoModel class)`\n",
    "* offers more customization\n",
    "* enable manual adjustments and fine-tuning\n",
    "\n",
    "**LLM Development Lifecycle**\n",
    "* Pre-training\n",
    "  * on a broad dataset to learn general language patterns\n",
    "* Fine-tuning\n",
    "  * on a domain speciifc data to adapt it for specialized tasks"
   ]
  },
  {
   "cell_type": "markdown",
   "id": "5NrmUs2dvc2L",
   "metadata": {
    "id": "5NrmUs2dvc2L"
   },
   "source": [
    "## loading a dataset for finetuning"
   ]
  },
  {
   "cell_type": "code",
   "execution_count": 24,
   "id": "o3MaJAIvxs5I",
   "metadata": {
    "colab": {
     "base_uri": "https://localhost:8080/",
     "height": 867
    },
    "collapsed": true,
    "id": "o3MaJAIvxs5I",
    "jupyter": {
     "outputs_hidden": true
    },
    "outputId": "896da8aa-2117-48aa-c362-cf22acc82748"
   },
   "outputs": [
    {
     "name": "stdout",
     "output_type": "stream",
     "text": [
      "Requirement already satisfied: datasets in /usr/local/lib/python3.11/dist-packages (2.14.4)\n",
      "Collecting datasets\n",
      "  Using cached datasets-3.6.0-py3-none-any.whl.metadata (19 kB)\n",
      "Requirement already satisfied: filelock in /usr/local/lib/python3.11/dist-packages (from datasets) (3.18.0)\n",
      "Requirement already satisfied: numpy>=1.17 in /usr/local/lib/python3.11/dist-packages (from datasets) (2.0.2)\n",
      "Requirement already satisfied: pyarrow>=15.0.0 in /usr/local/lib/python3.11/dist-packages (from datasets) (18.1.0)\n",
      "Requirement already satisfied: dill<0.3.9,>=0.3.0 in /usr/local/lib/python3.11/dist-packages (from datasets) (0.3.7)\n",
      "Requirement already satisfied: pandas in /usr/local/lib/python3.11/dist-packages (from datasets) (2.2.2)\n",
      "Requirement already satisfied: requests>=2.32.2 in /usr/local/lib/python3.11/dist-packages (from datasets) (2.32.3)\n",
      "Requirement already satisfied: tqdm>=4.66.3 in /usr/local/lib/python3.11/dist-packages (from datasets) (4.67.1)\n",
      "Requirement already satisfied: xxhash in /usr/local/lib/python3.11/dist-packages (from datasets) (3.5.0)\n",
      "Requirement already satisfied: multiprocess<0.70.17 in /usr/local/lib/python3.11/dist-packages (from datasets) (0.70.15)\n",
      "Requirement already satisfied: fsspec<=2025.3.0,>=2023.1.0 in /usr/local/lib/python3.11/dist-packages (from fsspec[http]<=2025.3.0,>=2023.1.0->datasets) (2025.3.0)\n",
      "Requirement already satisfied: huggingface-hub>=0.24.0 in /usr/local/lib/python3.11/dist-packages (from datasets) (0.33.0)\n",
      "Requirement already satisfied: packaging in /usr/local/lib/python3.11/dist-packages (from datasets) (24.2)\n",
      "Requirement already satisfied: pyyaml>=5.1 in /usr/local/lib/python3.11/dist-packages (from datasets) (6.0.2)\n",
      "Requirement already satisfied: aiohttp!=4.0.0a0,!=4.0.0a1 in /usr/local/lib/python3.11/dist-packages (from fsspec[http]<=2025.3.0,>=2023.1.0->datasets) (3.11.15)\n",
      "Requirement already satisfied: typing-extensions>=3.7.4.3 in /usr/local/lib/python3.11/dist-packages (from huggingface-hub>=0.24.0->datasets) (4.14.0)\n",
      "Requirement already satisfied: hf-xet<2.0.0,>=1.1.2 in /usr/local/lib/python3.11/dist-packages (from huggingface-hub>=0.24.0->datasets) (1.1.5)\n",
      "Requirement already satisfied: charset-normalizer<4,>=2 in /usr/local/lib/python3.11/dist-packages (from requests>=2.32.2->datasets) (3.4.2)\n",
      "Requirement already satisfied: idna<4,>=2.5 in /usr/local/lib/python3.11/dist-packages (from requests>=2.32.2->datasets) (3.10)\n",
      "Requirement already satisfied: urllib3<3,>=1.21.1 in /usr/local/lib/python3.11/dist-packages (from requests>=2.32.2->datasets) (2.4.0)\n",
      "Requirement already satisfied: certifi>=2017.4.17 in /usr/local/lib/python3.11/dist-packages (from requests>=2.32.2->datasets) (2025.6.15)\n",
      "Requirement already satisfied: python-dateutil>=2.8.2 in /usr/local/lib/python3.11/dist-packages (from pandas->datasets) (2.9.0.post0)\n",
      "Requirement already satisfied: pytz>=2020.1 in /usr/local/lib/python3.11/dist-packages (from pandas->datasets) (2025.2)\n",
      "Requirement already satisfied: tzdata>=2022.7 in /usr/local/lib/python3.11/dist-packages (from pandas->datasets) (2025.2)\n",
      "Requirement already satisfied: aiohappyeyeballs>=2.3.0 in /usr/local/lib/python3.11/dist-packages (from aiohttp!=4.0.0a0,!=4.0.0a1->fsspec[http]<=2025.3.0,>=2023.1.0->datasets) (2.6.1)\n",
      "Requirement already satisfied: aiosignal>=1.1.2 in /usr/local/lib/python3.11/dist-packages (from aiohttp!=4.0.0a0,!=4.0.0a1->fsspec[http]<=2025.3.0,>=2023.1.0->datasets) (1.3.2)\n",
      "Requirement already satisfied: attrs>=17.3.0 in /usr/local/lib/python3.11/dist-packages (from aiohttp!=4.0.0a0,!=4.0.0a1->fsspec[http]<=2025.3.0,>=2023.1.0->datasets) (25.3.0)\n",
      "Requirement already satisfied: frozenlist>=1.1.1 in /usr/local/lib/python3.11/dist-packages (from aiohttp!=4.0.0a0,!=4.0.0a1->fsspec[http]<=2025.3.0,>=2023.1.0->datasets) (1.7.0)\n",
      "Requirement already satisfied: multidict<7.0,>=4.5 in /usr/local/lib/python3.11/dist-packages (from aiohttp!=4.0.0a0,!=4.0.0a1->fsspec[http]<=2025.3.0,>=2023.1.0->datasets) (6.4.4)\n",
      "Requirement already satisfied: propcache>=0.2.0 in /usr/local/lib/python3.11/dist-packages (from aiohttp!=4.0.0a0,!=4.0.0a1->fsspec[http]<=2025.3.0,>=2023.1.0->datasets) (0.3.2)\n",
      "Requirement already satisfied: yarl<2.0,>=1.17.0 in /usr/local/lib/python3.11/dist-packages (from aiohttp!=4.0.0a0,!=4.0.0a1->fsspec[http]<=2025.3.0,>=2023.1.0->datasets) (1.20.1)\n",
      "Requirement already satisfied: six>=1.5 in /usr/local/lib/python3.11/dist-packages (from python-dateutil>=2.8.2->pandas->datasets) (1.17.0)\n",
      "Using cached datasets-3.6.0-py3-none-any.whl (491 kB)\n",
      "Installing collected packages: datasets\n",
      "  Attempting uninstall: datasets\n",
      "    Found existing installation: datasets 2.14.4\n",
      "    Uninstalling datasets-2.14.4:\n",
      "      Successfully uninstalled datasets-2.14.4\n",
      "Successfully installed datasets-3.6.0\n"
     ]
    },
    {
     "data": {
      "application/vnd.colab-display-data+json": {
       "id": "bd3cf2971b9449ec8d3e4034cd6c6bc3",
       "pip_warning": {
        "packages": [
         "datasets"
        ]
       }
      }
     },
     "metadata": {},
     "output_type": "display_data"
    }
   ],
   "source": [
    "pip install --upgrade datasets"
   ]
  },
  {
   "cell_type": "code",
   "execution_count": 1,
   "id": "J8TZVGFuvcnM",
   "metadata": {
    "colab": {
     "base_uri": "https://localhost:8080/"
    },
    "id": "J8TZVGFuvcnM",
    "outputId": "496d3d57-2fd7-49a4-f1af-b8ca224421fb"
   },
   "outputs": [
    {
     "name": "stderr",
     "output_type": "stream",
     "text": [
      "/usr/local/lib/python3.11/dist-packages/huggingface_hub/utils/_auth.py:94: UserWarning: \n",
      "The secret `HF_TOKEN` does not exist in your Colab secrets.\n",
      "To authenticate with the Hugging Face Hub, create a token in your settings tab (https://huggingface.co/settings/tokens), set it as secret in your Google Colab and restart your session.\n",
      "You will be able to reuse this secret in all of your notebooks.\n",
      "Please note that authentication is recommended but still optional to access public models or datasets.\n",
      "  warnings.warn(\n"
     ]
    }
   ],
   "source": [
    "# review classification\n",
    "\n",
    "# load_dataset loads data from Hugging Face Hub\n",
    "# finetune a pre-trained model with imdb data\n",
    "from datasets import load_dataset\n",
    "\n",
    "# we use shard to split the data into 4 chunks\n",
    "# select the first chunk to save with index equals zero\n",
    "train_data = load_dataset(\"imdb\", split=\"train\")\n",
    "train_data = train_data.shard(num_shards=4, index=0)\n",
    "\n",
    "test_data = load_dataset(\"imdb\", split=\"test\")\n",
    "test_data = test_data.shard(num_shards=4, index=0)"
   ]
  },
  {
   "cell_type": "code",
   "execution_count": 2,
   "id": "gi_aIbtYlZef",
   "metadata": {
    "colab": {
     "base_uri": "https://localhost:8080/",
     "height": 208,
     "referenced_widgets": [
      "d3d4529aabc345b8aa90d30a6a560beb",
      "9a3cf754c2824717b95153ef15d0f463",
      "001812f25ce54915b7d2b267a8bff891",
      "37449b9029a04cbba246199d6382755e",
      "ba6e52d8bbe048ed949afc351159a6ba",
      "1351a04e71454d9daca6d7a4822a5905",
      "813b477e7d4a43139a491e59ca072440",
      "b57a1354b8474c32bd8bf349ace05a43",
      "c406ced3ef5c45cb95e4423a01e4ba4f",
      "47a30b8e37674b3095173f906804611b",
      "df66e04598e342ce9c8ddb93ad0a40e8",
      "379ae7d167c1403d9aba55ff3e68c632",
      "4e4f2526c9634b50be1a71a0757da30f",
      "48c47ed3982d4951b279e41037948d7c",
      "0de8dcf670804c0d832a751b285e7e0d",
      "35eeaa4a7d9a4eb68aed6bcbb16a5b29",
      "af948d81db644fe29710d43f8a41fe12",
      "8d7c1ca5ebd9495081d74322af1b75cd",
      "8de60162cf1545a6bbdcce93c18849c2",
      "77c94e5734704dc8a7b15f54ebbef847",
      "a449ec327b6b4ffda84cd3dc55bc7d7c",
      "2703bd891e394b41b8949d9729555d64"
     ]
    },
    "id": "gi_aIbtYlZef",
    "outputId": "c01f3e2d-e624-4f56-e8b0-6fb441c28dcc"
   },
   "outputs": [
    {
     "name": "stderr",
     "output_type": "stream",
     "text": [
      "/usr/local/lib/python3.11/dist-packages/huggingface_hub/file_download.py:943: FutureWarning: `resume_download` is deprecated and will be removed in version 1.0.0. Downloads always resume when possible. If you want to force a new download, use `force_download=True`.\n",
      "  warnings.warn(\n",
      "Some weights of BertForSequenceClassification were not initialized from the model checkpoint at bert-base-uncased and are newly initialized: ['classifier.weight', 'classifier.bias']\n",
      "You should probably TRAIN this model on a down-stream task to be able to use it for predictions and inference.\n",
      "/usr/local/lib/python3.11/dist-packages/huggingface_hub/file_download.py:943: FutureWarning: `resume_download` is deprecated and will be removed in version 1.0.0. Downloads always resume when possible. If you want to force a new download, use `force_download=True`.\n",
      "  warnings.warn(\n"
     ]
    },
    {
     "data": {
      "application/vnd.jupyter.widget-view+json": {
       "model_id": "d3d4529aabc345b8aa90d30a6a560beb",
       "version_major": 2,
       "version_minor": 0
      },
      "text/plain": [
       "Map:   0%|          | 0/6250 [00:00<?, ? examples/s]"
      ]
     },
     "metadata": {},
     "output_type": "display_data"
    },
    {
     "data": {
      "application/vnd.jupyter.widget-view+json": {
       "model_id": "379ae7d167c1403d9aba55ff3e68c632",
       "version_major": 2,
       "version_minor": 0
      },
      "text/plain": [
       "Map:   0%|          | 0/6250 [00:00<?, ? examples/s]"
      ]
     },
     "metadata": {},
     "output_type": "display_data"
    }
   ],
   "source": [
    "from transformers import AutoTokenizer, AutoModel\n",
    "from transformers import AutoModelForSequenceClassification\n",
    "\n",
    "model = AutoModelForSequenceClassification.from_pretrained(\"bert-base-uncased\")\n",
    "tokenizer = AutoTokenizer.from_pretrained(\"bert-base-uncased\")\n",
    "\n",
    "# tokenize the data\n",
    "# truncation when it excceeds the specified max length for efficiency\n",
    "# pt = pytorch tensors\n",
    "# tokenized_training_data = tokenizer(train_data[\"text\"], padding=True, truncation=True, return_tensors=\"pt\", max_length=64)\n",
    "# tokenized_test_data = tokenizer(test_data[\"text\"], padding=True, truncation=True, return_tensors=\"pt\", max_length=64)\n",
    "\n",
    "def tokenize_function(examples):\n",
    "  return tokenizer(examples[\"text\"], padding=\"max_length\", truncation=True, max_length=64)\n",
    "\n",
    "tokenized_training_data = train_data.map(tokenize_function, batched=True)\n",
    "tokenized_test_data = test_data.map(tokenize_function, batched=True)\n"
   ]
  },
  {
   "cell_type": "code",
   "execution_count": 3,
   "id": "926K5iW5ndkk",
   "metadata": {
    "colab": {
     "base_uri": "https://localhost:8080/"
    },
    "id": "926K5iW5ndkk",
    "outputId": "b17ff002-6784-43b7-c99b-08ddbf3fde92"
   },
   "outputs": [
    {
     "name": "stdout",
     "output_type": "stream",
     "text": [
      "Dataset({\n",
      "    features: ['text', 'label', 'input_ids', 'token_type_ids', 'attention_mask'],\n",
      "    num_rows: 6250\n",
      "})\n"
     ]
    }
   ],
   "source": [
    "# truncated list of token ids\n",
    "print(tokenized_training_data)"
   ]
  },
  {
   "cell_type": "markdown",
   "id": "Rv45UkQv6K0C",
   "metadata": {
    "id": "Rv45UkQv6K0C"
   },
   "source": [
    "## Tokenize row by row\n",
    "* if more control is needed we can tokenize a dataset in batches or row by row with a custom function and .map() method, setting batches to True or False, respectively."
   ]
  },
  {
   "cell_type": "code",
   "execution_count": 4,
   "id": "Q-oMFBTU56ks",
   "metadata": {
    "colab": {
     "base_uri": "https://localhost:8080/",
     "height": 224,
     "referenced_widgets": [
      "62a085c00df44dc7bd670732af5841d8",
      "313498e4774042748071db59ca62cc82",
      "422623238f6e469a896fc95539fd23e8",
      "3e43727ff66b4660a1e77ad6fa10d8d0",
      "9889ed61dd6c474cb11441f1b21b584e",
      "fd762fbf8dbb4a1da4a881d6895ee6b0",
      "d578ff67cb794a2caaad8d8d0dc380ac",
      "5a992b9e617a4153a2f69a952e224197",
      "82a8a4614ff145be99635b41c3eccd03",
      "2abe5519662e499c9ad027fc45a418f1",
      "30d90c2e632c4867974e1abeb6eeb591",
      "7929da7f78104159a7a1d807106eec50",
      "6673cfce8e574936a35bd4487358e556",
      "a68abd57a0df47bd914e9d40a0f88a06",
      "41a3bcec1d8544fd8c406eac87811a8a",
      "74a83709cab24c23950983816cf45624",
      "ca476be15dad4a9892ae9b2245fc3744",
      "d795493cc99047369efbc0435c8a456c",
      "4452287bd1f54a7dbfc2d7fa34a6c519",
      "18e24e1f9de644e3b6d26e6c15662709",
      "cd890c698c3f432086003f84e0abfa03",
      "d781576f276e4d4fbb3117296995c725"
     ]
    },
    "id": "Q-oMFBTU56ks",
    "outputId": "09e1fa98-8642-4f4d-c374-18823820ad6c"
   },
   "outputs": [
    {
     "data": {
      "application/vnd.jupyter.widget-view+json": {
       "model_id": "62a085c00df44dc7bd670732af5841d8",
       "version_major": 2,
       "version_minor": 0
      },
      "text/plain": [
       "Map:   0%|          | 0/6250 [00:00<?, ? examples/s]"
      ]
     },
     "metadata": {},
     "output_type": "display_data"
    },
    {
     "name": "stdout",
     "output_type": "stream",
     "text": [
      "Dataset({\n",
      "    features: ['text', 'label', 'input_ids', 'token_type_ids', 'attention_mask'],\n",
      "    num_rows: 6250\n",
      "})\n"
     ]
    },
    {
     "data": {
      "application/vnd.jupyter.widget-view+json": {
       "model_id": "7929da7f78104159a7a1d807106eec50",
       "version_major": 2,
       "version_minor": 0
      },
      "text/plain": [
       "Map:   0%|          | 0/6250 [00:00<?, ? examples/s]"
      ]
     },
     "metadata": {},
     "output_type": "display_data"
    },
    {
     "name": "stdout",
     "output_type": "stream",
     "text": [
      "Dataset({\n",
      "    features: ['text', 'label', 'input_ids', 'token_type_ids', 'attention_mask'],\n",
      "    num_rows: 6250\n",
      "})\n"
     ]
    }
   ],
   "source": [
    "def tokenize_function(text_data):\n",
    "  return tokenizer(text_data[\"text\"], return_tensors=\"pt\", padding=True, truncation=True, max_length=64)\n",
    "\n",
    "# tokenize in batches\n",
    "tokenized_in_batches = train_data.map(tokenize_function, batched=True)\n",
    "print(tokenized_in_batches)\n",
    "\n",
    "# tokenize row by row\n",
    "tokenized_by_row = train_data.map(tokenize_function, batched=False)\n",
    "# the result is a new dataset object with new columns with tokenized data for the training loop\n",
    "print(tokenized_by_row)"
   ]
  },
  {
   "cell_type": "markdown",
   "id": "GHwWTT4s7LM_",
   "metadata": {
    "id": "GHwWTT4s7LM_"
   },
   "source": [
    "## Subword tokenization:\n",
    "The tokenization method that we've performed is known as the subword tokenization,\n",
    "  * common in modern tokenizers\n",
    "  * words split into meaningful sub-parts.e.g. \"unbelievably\" = > \"unbelieve\", \"ably\""
   ]
  },
  {
   "cell_type": "markdown",
   "id": "VbpE4ugq-rFE",
   "metadata": {
    "id": "VbpE4ugq-rFE"
   },
   "source": [
    "# Fine-tuning through Training\n",
    "- with the data prepared, the next step id to set up our training arguments and loop.\n",
    "\n",
    "## Training Arguments()\n",
    "- This class allows customization to balance efficiency and performance. The values of these arguments depend on the use case, dataset size, and speed requirements.\n",
    "-`output_dir:` output directory to save model predictions\n",
    "- `evaluation_strategy()` determines when to evaluate during training:\n",
    "  *  `\"epoch\"`:  (evaluate at the end of each epoch or after one complete pass of the full training dataset. This is useful if the dataset is small)\n",
    "  * `\"steps\"`: evaluation is logged at every value of the `eval_steps` (if defined)\n",
    "  * `\"none\"`: there could be no evaluation during trianing.\n",
    "- `num_train_epochs:` the number of training epochs\n",
    "- `learning rate`: The learning rate for the optimizer.\n",
    "- `per_device_train_batch_size`=8\n",
    "- `per_device_eval_batch_size`=8\n",
    "- `weight_decay`=0.01: if we are doing fine-tuning with a small dataset, this small value helps us avoid overfitting."
   ]
  },
  {
   "cell_type": "code",
   "execution_count": 5,
   "id": "THDIhi91l7Hq",
   "metadata": {
    "id": "THDIhi91l7Hq"
   },
   "outputs": [],
   "source": [
    "# !pip install transformers==4.31.0 datasets==2.14.4 peft==0.5.0"
   ]
  },
  {
   "cell_type": "code",
   "execution_count": 6,
   "id": "UJQ5l3co7Agu",
   "metadata": {
    "id": "UJQ5l3co7Agu"
   },
   "outputs": [],
   "source": [
    "from transformers import TrainingArguments, Trainer"
   ]
  },
  {
   "cell_type": "code",
   "execution_count": 7,
   "id": "iYVJfjWHHd-5",
   "metadata": {
    "id": "iYVJfjWHHd-5"
   },
   "outputs": [],
   "source": [
    "training_args = TrainingArguments(\n",
    "    output_dir=\"./finedtuned/\",\n",
    "    evaluation_strategy=\"epoch\",\n",
    "    num_train_epochs=1,\n",
    "    learning_rate=2e-5,\n",
    "    per_device_train_batch_size=16,\n",
    "    per_device_eval_batch_size=16,\n",
    "    weight_decay=0.01\n",
    ")"
   ]
  },
  {
   "cell_type": "markdown",
   "id": "wP8TUMpKLFff",
   "metadata": {
    "id": "wP8TUMpKLFff"
   },
   "source": [
    "# Trainer class\n",
    "- With the training arguments set up, then we pass this object to a Trainer class instance.\n",
    "- `model`: the model to fine-tune.\n",
    "- `args`: the training arguments. Set our training arguments to args parameter.\n",
    "- `train_dataset`: define train data.\n",
    "- `eval_dataset`: the data for evaluation.\n",
    "- `processing_class`: specify the tokenizer to ensure our preprocessing is always consistent.\n",
    "- instantiate a training loop with the `.train()` method.\n",
    "  * `num_train_epochs`, `per_device_train_batch_size`, `per_device_eval_batch_size` detmine the number of loops.\n",
    "  * the output of the `trainer.train()` tells us how the training process is going. We expect the loss to decrease."
   ]
  },
  {
   "cell_type": "code",
   "execution_count": 8,
   "id": "aOc_0UKnKzUG",
   "metadata": {
    "colab": {
     "base_uri": "https://localhost:8080/",
     "height": 481
    },
    "id": "aOc_0UKnKzUG",
    "outputId": "731eb57f-2803-439c-bd5e-2dd8d22857d2"
   },
   "outputs": [
    {
     "name": "stderr",
     "output_type": "stream",
     "text": [
      "/usr/local/lib/python3.11/dist-packages/transformers/optimization.py:411: FutureWarning: This implementation of AdamW is deprecated and will be removed in a future version. Use the PyTorch implementation torch.optim.AdamW instead, or set `no_deprecation_warning=True` to disable this warning\n",
      "  warnings.warn(\n"
     ]
    },
    {
     "data": {
      "application/javascript": [
       "\n",
       "        window._wandbApiKey = new Promise((resolve, reject) => {\n",
       "            function loadScript(url) {\n",
       "            return new Promise(function(resolve, reject) {\n",
       "                let newScript = document.createElement(\"script\");\n",
       "                newScript.onerror = reject;\n",
       "                newScript.onload = resolve;\n",
       "                document.body.appendChild(newScript);\n",
       "                newScript.src = url;\n",
       "            });\n",
       "            }\n",
       "            loadScript(\"https://cdn.jsdelivr.net/npm/postmate/build/postmate.min.js\").then(() => {\n",
       "            const iframe = document.createElement('iframe')\n",
       "            iframe.style.cssText = \"width:0;height:0;border:none\"\n",
       "            document.body.appendChild(iframe)\n",
       "            const handshake = new Postmate({\n",
       "                container: iframe,\n",
       "                url: 'https://wandb.ai/authorize'\n",
       "            });\n",
       "            const timeout = setTimeout(() => reject(\"Couldn't auto authenticate\"), 5000)\n",
       "            handshake.then(function(child) {\n",
       "                child.on('authorize', data => {\n",
       "                    clearTimeout(timeout)\n",
       "                    resolve(data)\n",
       "                });\n",
       "            });\n",
       "            })\n",
       "        });\n",
       "    "
      ],
      "text/plain": [
       "<IPython.core.display.Javascript object>"
      ]
     },
     "metadata": {},
     "output_type": "display_data"
    },
    {
     "name": "stderr",
     "output_type": "stream",
     "text": [
      "\u001b[34m\u001b[1mwandb\u001b[0m: Logging into wandb.ai. (Learn how to deploy a W&B server locally: https://wandb.me/wandb-server)\n",
      "\u001b[34m\u001b[1mwandb\u001b[0m: You can find your API key in your browser here: https://wandb.ai/authorize?ref=models\n",
      "wandb: Paste an API key from your profile and hit enter:"
     ]
    },
    {
     "name": "stdout",
     "output_type": "stream",
     "text": [
      " ··········\n"
     ]
    },
    {
     "name": "stderr",
     "output_type": "stream",
     "text": [
      "\u001b[34m\u001b[1mwandb\u001b[0m: \u001b[33mWARNING\u001b[0m If you're specifying your api key in code, ensure this code is not shared publicly.\n",
      "\u001b[34m\u001b[1mwandb\u001b[0m: \u001b[33mWARNING\u001b[0m Consider setting the WANDB_API_KEY environment variable, or running `wandb login` from the command line.\n",
      "\u001b[34m\u001b[1mwandb\u001b[0m: No netrc file found, creating one.\n",
      "\u001b[34m\u001b[1mwandb\u001b[0m: Appending key for api.wandb.ai to your netrc file: /root/.netrc\n",
      "\u001b[34m\u001b[1mwandb\u001b[0m: Currently logged in as: \u001b[33mnasim-sonboli\u001b[0m (\u001b[33mnasim-sonboli-brown-university\u001b[0m) to \u001b[32mhttps://api.wandb.ai\u001b[0m. Use \u001b[1m`wandb login --relogin`\u001b[0m to force relogin\n"
     ]
    },
    {
     "data": {
      "text/html": [
       "Tracking run with wandb version 0.20.1"
      ],
      "text/plain": [
       "<IPython.core.display.HTML object>"
      ]
     },
     "metadata": {},
     "output_type": "display_data"
    },
    {
     "data": {
      "text/html": [
       "Run data is saved locally in <code>/content/wandb/run-20250702_005719-9a3kczrz</code>"
      ],
      "text/plain": [
       "<IPython.core.display.HTML object>"
      ]
     },
     "metadata": {},
     "output_type": "display_data"
    },
    {
     "data": {
      "text/html": [
       "Syncing run <strong><a href='https://wandb.ai/nasim-sonboli-brown-university/huggingface/runs/9a3kczrz' target=\"_blank\">whole-smoke-5</a></strong> to <a href='https://wandb.ai/nasim-sonboli-brown-university/huggingface' target=\"_blank\">Weights & Biases</a> (<a href='https://wandb.me/developer-guide' target=\"_blank\">docs</a>)<br>"
      ],
      "text/plain": [
       "<IPython.core.display.HTML object>"
      ]
     },
     "metadata": {},
     "output_type": "display_data"
    },
    {
     "data": {
      "text/html": [
       " View project at <a href='https://wandb.ai/nasim-sonboli-brown-university/huggingface' target=\"_blank\">https://wandb.ai/nasim-sonboli-brown-university/huggingface</a>"
      ],
      "text/plain": [
       "<IPython.core.display.HTML object>"
      ]
     },
     "metadata": {},
     "output_type": "display_data"
    },
    {
     "data": {
      "text/html": [
       " View run at <a href='https://wandb.ai/nasim-sonboli-brown-university/huggingface/runs/9a3kczrz' target=\"_blank\">https://wandb.ai/nasim-sonboli-brown-university/huggingface/runs/9a3kczrz</a>"
      ],
      "text/plain": [
       "<IPython.core.display.HTML object>"
      ]
     },
     "metadata": {},
     "output_type": "display_data"
    },
    {
     "name": "stderr",
     "output_type": "stream",
     "text": [
      "You're using a BertTokenizerFast tokenizer. Please note that with a fast tokenizer, using the `__call__` method is faster than using a method to encode the text followed by a call to the `pad` method to get a padded encoding.\n"
     ]
    },
    {
     "data": {
      "text/html": [
       "\n",
       "    <div>\n",
       "      \n",
       "      <progress value='391' max='391' style='width:300px; height:20px; vertical-align: middle;'></progress>\n",
       "      [391/391 1:30:15, Epoch 1/1]\n",
       "    </div>\n",
       "    <table border=\"1\" class=\"dataframe\">\n",
       "  <thead>\n",
       " <tr style=\"text-align: left;\">\n",
       "      <th>Epoch</th>\n",
       "      <th>Training Loss</th>\n",
       "      <th>Validation Loss</th>\n",
       "    </tr>\n",
       "  </thead>\n",
       "  <tbody>\n",
       "    <tr>\n",
       "      <td>1</td>\n",
       "      <td>No log</td>\n",
       "      <td>0.000192</td>\n",
       "    </tr>\n",
       "  </tbody>\n",
       "</table><p>"
      ],
      "text/plain": [
       "<IPython.core.display.HTML object>"
      ]
     },
     "metadata": {},
     "output_type": "display_data"
    },
    {
     "data": {
      "text/plain": [
       "TrainOutput(global_step=391, training_loss=0.013242909365602771, metrics={'train_runtime': 5460.5278, 'train_samples_per_second': 1.145, 'train_steps_per_second': 0.072, 'total_flos': 205555512000000.0, 'train_loss': 0.013242909365602771, 'epoch': 1.0})"
      ]
     },
     "execution_count": 8,
     "metadata": {},
     "output_type": "execute_result"
    }
   ],
   "source": [
    "trainer = Trainer (\n",
    "    model=model,\n",
    "    args=training_args,\n",
    "    train_dataset=tokenized_training_data,\n",
    "    eval_dataset=tokenized_test_data,\n",
    "    tokenizer=tokenizer # use processing_class instead\n",
    ")\n",
    "\n",
    "trainer.train()\n",
    "# the model is now fine-tuned."
   ]
  },
  {
   "cell_type": "markdown",
   "id": "i1G9ffLuN4-Q",
   "metadata": {
    "id": "i1G9ffLuN4-Q"
   },
   "source": [
    "## Using fine-tuned Model\n",
    " We can use the fine-tuned model to make predictions on new data.\n",
    "\n",
    "\n",
    "1.   prepare the new input data using the same tokenizer\n",
    "2.   before passing this inputs through the fine tuned model, we wrap this process in `torch.no_grad()` to disable gradient tracking since these aren't needed for evaluation.\n",
    "3. We extract the predicted class with `.argmax()` and print them using a for loop for better readability.\n",
    "\n",
    "\n",
    "\n"
   ]
  },
  {
   "cell_type": "code",
   "execution_count": 25,
   "id": "95rWTKWaBsq3",
   "metadata": {
    "id": "95rWTKWaBsq3"
   },
   "outputs": [],
   "source": []
  },
  {
   "cell_type": "code",
   "execution_count": 11,
   "id": "HjAFkMu0NgUc",
   "metadata": {
    "colab": {
     "base_uri": "https://localhost:8080/"
    },
    "id": "HjAFkMu0NgUc",
    "outputId": "e188eac7-d46f-4286-ab17-d8157c5dabb2"
   },
   "outputs": [
    {
     "name": "stdout",
     "output_type": "stream",
     "text": [
      "\n",
      "Input Text: 1: This movie was disappointing\n",
      "\n",
      "Predicted Label: Negative\n",
      "\n",
      "\n",
      "Input Text: 2: This is the best Movie ever!\n",
      "\n",
      "Predicted Label: Negative\n",
      "\n",
      "SequenceClassifierOutput(loss=None, logits=tensor([[ 3.5991, -3.5808],\n",
      "        [ 3.4533, -3.9500]]), hidden_states=None, attentions=None)\n"
     ]
    }
   ],
   "source": [
    "import torch # Import the torch library\n",
    "\n",
    "new_data = [\"This movie was disappointing\", \"This is the best Movie ever!\"]\n",
    "\n",
    "# tokenize the new data.\n",
    "new_input = tokenizer(new_data, padding=True, truncation=True, return_tensors=\"pt\", max_length=64)\n",
    "\n",
    "# disable gradient tracking.\n",
    "with torch.no_grad():\n",
    "  output = model(**new_input)\n",
    "\n",
    "predicted_labels = torch.argmax(output.logits, dim=1).tolist()\n",
    "\n",
    "label_map = {0: \"Negative\", 1: \"Positive\"}\n",
    "\n",
    "for i, predicted_label in enumerate(predicted_labels):\n",
    "  sentiment = label_map[predicted_label]\n",
    "  print(f\"\\nInput Text: {i + 1}: {new_data[i]}\")\n",
    "  print(f\"\\nPredicted Label: {sentiment}\\n\")\n",
    "\n",
    "print(output)"
   ]
  },
  {
   "cell_type": "markdown",
   "id": "7b05_ECGXFyw",
   "metadata": {
    "id": "7b05_ECGXFyw"
   },
   "source": [
    "## Saving models and tokenizers\n"
   ]
  },
  {
   "cell_type": "code",
   "execution_count": 12,
   "id": "GoumY73yXJAI",
   "metadata": {
    "colab": {
     "base_uri": "https://localhost:8080/"
    },
    "id": "GoumY73yXJAI",
    "outputId": "029d43b9-be18-4411-d777-7392255081c4"
   },
   "outputs": [
    {
     "data": {
      "text/plain": [
       "('./my_finetuned_model/tokenizer_config.json',\n",
       " './my_finetuned_model/special_tokens_map.json',\n",
       " './my_finetuned_model/vocab.txt',\n",
       " './my_finetuned_model/added_tokens.json',\n",
       " './my_finetuned_model/tokenizer.json')"
      ]
     },
     "execution_count": 12,
     "metadata": {},
     "output_type": "execute_result"
    }
   ],
   "source": [
    "model.save_pretrained(\"./my_finetuned_model/\")\n",
    "tokenizer.save_pretrained(\"./my_finetuned_model/\")"
   ]
  },
  {
   "cell_type": "markdown",
   "id": "DRxgAmY0XZIm",
   "metadata": {
    "id": "DRxgAmY0XZIm"
   },
   "source": [
    "## reload the saved model"
   ]
  },
  {
   "cell_type": "code",
   "execution_count": 13,
   "id": "N34X0_5ZXblZ",
   "metadata": {
    "id": "N34X0_5ZXblZ"
   },
   "outputs": [],
   "source": [
    "model = AutoModelForSequenceClassification.from_pretrained(\"./my_finetuned_model/\")\n",
    "tokenizer = AutoTokenizer.from_pretrained(\"./my_finetuned_model/\")"
   ]
  },
  {
   "cell_type": "markdown",
   "id": "GKDb6NhBmnV1",
   "metadata": {
    "id": "GKDb6NhBmnV1"
   },
   "source": [
    "# Fine-tuning Approaches\n",
    "* Fine tuning involves taking a pre-trained model and re-trianing it with domain specific data to solve a particular downstream task.\n",
    "\n",
    "* Example: Consider a general purpose summarization model fine-tuned on a dataset of chemistry articles to specilize in summarizing chemistry papers.\n",
    "\n",
    "* There are two finetuning approaches depending on *how the model weights are updated*:\n",
    "  * **full finetuning:** which entails updating weights across the entire model (computationally expensive)\n",
    "  * **partial finetuning:** where weights in lower layers of the model body that are responsible for capturing general language understanding, remain fixed. We only update the task-specific layers only.\n",
    "\n",
    "* **Transfer learning** adapts a previously trained model on one task to a different but related rask.\n",
    "  * Fine tuning typically involves training on a smaller dataset for a specific task, transfer learning leverages knowledge gained in one domain to enhance performance in another related domain.\n",
    "  * several approaches can be adopted for transfer learning inclusing full, partial fine-tuning, zero-shot learning, one-shot learning, few-shot learning, etc.\n",
    "    * n-shot learning: zero-, one-, few- shot learning. This is where a model is trained to generalize to a new task based on the number of examples it has been seen during training.\n",
    "      * zero-shot learning is often used when data are scare, so a model is trained to generalize to new tasks never seen during training. We can provide explanations for the model so it's able to figure out the task.\n",
    "      * Exposing the model to one or a few specific examples is known as one-shot and few-shot learning."
   ]
  },
  {
   "cell_type": "markdown",
   "id": "6fZckmkNrcgW",
   "metadata": {
    "id": "6fZckmkNrcgW"
   },
   "source": [
    "## one-shot learning"
   ]
  },
  {
   "cell_type": "code",
   "execution_count": 14,
   "id": "nVmsmodgmmm2",
   "metadata": {
    "colab": {
     "base_uri": "https://localhost:8080/"
    },
    "id": "nVmsmodgmmm2",
    "outputId": "a6d82ec5-f747-45c1-d72e-da03f7451f0c"
   },
   "outputs": [
    {
     "name": "stderr",
     "output_type": "stream",
     "text": [
      "/usr/local/lib/python3.11/dist-packages/huggingface_hub/file_download.py:943: FutureWarning: `resume_download` is deprecated and will be removed in version 1.0.0. Downloads always resume when possible. If you want to force a new download, use `force_download=True`.\n",
      "  warnings.warn(\n",
      "No CUDA runtime is found, using CUDA_HOME='/usr/local/cuda'\n",
      "Xformers is not installed correctly. If you want to use memory_efficient_attention to accelerate training use the following command to install Xformers\n",
      "pip install xformers.\n",
      "Truncation was not explicitly activated but `max_length` is provided a specific value, please use `truncation=True` to explicitly truncate examples to max length. Defaulting to 'longest_first' truncation strategy. If you encode pairs of sequences (GLUE-style) with the tokenizer you can select this strategy more precisely by providing a specific strategy to `truncation`.\n"
     ]
    },
    {
     "name": "stdout",
     "output_type": "stream",
     "text": [
      "POSITIVE\n"
     ]
    }
   ],
   "source": [
    "from transformers import pipeline\n",
    "\n",
    "generator = pipeline(task=\"sentiment-analysis\", model=\"distilbert-base-uncased-finetuned-sst-2-english\")\n",
    "\n",
    "input_text=\"\"\"Classify the sentiment of this sentence as either Positive or Negative.\n",
    "Example:\n",
    "Text: \"I'm feeling great today!\" Sentiment: Positive\n",
    "Text: \"The weather today is lovely.\" Sentiment:\n",
    "\"\"\"\n",
    "\n",
    "result = generator(input_text, max_length=100)\n",
    "print(result[0][\"label\"])"
   ]
  },
  {
   "cell_type": "markdown",
   "id": "nn9TSck1h5C_",
   "metadata": {
    "id": "nn9TSck1h5C_"
   },
   "source": [
    "# The evaluate Library\n",
    "\n",
    "Language tasks usually require more comprehensive and task-specifc metrics. `Hugging Face's` evaluate library is used for this purpose.\n",
    "* Metric: evaluate model performance based on ground truth\n",
    "* Comparision: compare two models\n",
    "* Measurement: insight on dataset properties"
   ]
  },
  {
   "cell_type": "markdown",
   "id": "jYl0EalLYSMp",
   "metadata": {
    "id": "jYl0EalLYSMp"
   },
   "source": [
    "## Metric description"
   ]
  },
  {
   "cell_type": "code",
   "execution_count": 5,
   "id": "39eb5b02",
   "metadata": {
    "colab": {
     "base_uri": "https://localhost:8080/"
    },
    "collapsed": true,
    "id": "39eb5b02",
    "jupyter": {
     "outputs_hidden": true
    },
    "outputId": "34a77568-28e1-4917-c220-c648250ace9b"
   },
   "outputs": [
    {
     "name": "stdout",
     "output_type": "stream",
     "text": [
      "Collecting evaluate\n",
      "  Downloading evaluate-0.4.4-py3-none-any.whl.metadata (9.5 kB)\n",
      "Requirement already satisfied: datasets>=2.0.0 in /usr/local/lib/python3.11/dist-packages (from evaluate) (2.14.4)\n",
      "Requirement already satisfied: numpy>=1.17 in /usr/local/lib/python3.11/dist-packages (from evaluate) (2.0.2)\n",
      "Requirement already satisfied: dill in /usr/local/lib/python3.11/dist-packages (from evaluate) (0.3.7)\n",
      "Requirement already satisfied: pandas in /usr/local/lib/python3.11/dist-packages (from evaluate) (2.2.2)\n",
      "Requirement already satisfied: requests>=2.19.0 in /usr/local/lib/python3.11/dist-packages (from evaluate) (2.32.3)\n",
      "Requirement already satisfied: tqdm>=4.62.1 in /usr/local/lib/python3.11/dist-packages (from evaluate) (4.67.1)\n",
      "Requirement already satisfied: xxhash in /usr/local/lib/python3.11/dist-packages (from evaluate) (3.5.0)\n",
      "Requirement already satisfied: multiprocess in /usr/local/lib/python3.11/dist-packages (from evaluate) (0.70.15)\n",
      "Requirement already satisfied: fsspec>=2021.05.0 in /usr/local/lib/python3.11/dist-packages (from fsspec[http]>=2021.05.0->evaluate) (2025.3.2)\n",
      "Requirement already satisfied: huggingface-hub>=0.7.0 in /usr/local/lib/python3.11/dist-packages (from evaluate) (0.33.1)\n",
      "Requirement already satisfied: packaging in /usr/local/lib/python3.11/dist-packages (from evaluate) (24.2)\n",
      "Requirement already satisfied: pyarrow>=8.0.0 in /usr/local/lib/python3.11/dist-packages (from datasets>=2.0.0->evaluate) (18.1.0)\n",
      "Requirement already satisfied: aiohttp in /usr/local/lib/python3.11/dist-packages (from datasets>=2.0.0->evaluate) (3.11.15)\n",
      "Requirement already satisfied: pyyaml>=5.1 in /usr/local/lib/python3.11/dist-packages (from datasets>=2.0.0->evaluate) (6.0.2)\n",
      "Requirement already satisfied: filelock in /usr/local/lib/python3.11/dist-packages (from huggingface-hub>=0.7.0->evaluate) (3.18.0)\n",
      "Requirement already satisfied: typing-extensions>=3.7.4.3 in /usr/local/lib/python3.11/dist-packages (from huggingface-hub>=0.7.0->evaluate) (4.14.0)\n",
      "Requirement already satisfied: hf-xet<2.0.0,>=1.1.2 in /usr/local/lib/python3.11/dist-packages (from huggingface-hub>=0.7.0->evaluate) (1.1.5)\n",
      "Requirement already satisfied: charset-normalizer<4,>=2 in /usr/local/lib/python3.11/dist-packages (from requests>=2.19.0->evaluate) (3.4.2)\n",
      "Requirement already satisfied: idna<4,>=2.5 in /usr/local/lib/python3.11/dist-packages (from requests>=2.19.0->evaluate) (3.10)\n",
      "Requirement already satisfied: urllib3<3,>=1.21.1 in /usr/local/lib/python3.11/dist-packages (from requests>=2.19.0->evaluate) (2.4.0)\n",
      "Requirement already satisfied: certifi>=2017.4.17 in /usr/local/lib/python3.11/dist-packages (from requests>=2.19.0->evaluate) (2025.6.15)\n",
      "Requirement already satisfied: python-dateutil>=2.8.2 in /usr/local/lib/python3.11/dist-packages (from pandas->evaluate) (2.9.0.post0)\n",
      "Requirement already satisfied: pytz>=2020.1 in /usr/local/lib/python3.11/dist-packages (from pandas->evaluate) (2025.2)\n",
      "Requirement already satisfied: tzdata>=2022.7 in /usr/local/lib/python3.11/dist-packages (from pandas->evaluate) (2025.2)\n",
      "Requirement already satisfied: aiohappyeyeballs>=2.3.0 in /usr/local/lib/python3.11/dist-packages (from aiohttp->datasets>=2.0.0->evaluate) (2.6.1)\n",
      "Requirement already satisfied: aiosignal>=1.1.2 in /usr/local/lib/python3.11/dist-packages (from aiohttp->datasets>=2.0.0->evaluate) (1.3.2)\n",
      "Requirement already satisfied: attrs>=17.3.0 in /usr/local/lib/python3.11/dist-packages (from aiohttp->datasets>=2.0.0->evaluate) (25.3.0)\n",
      "Requirement already satisfied: frozenlist>=1.1.1 in /usr/local/lib/python3.11/dist-packages (from aiohttp->datasets>=2.0.0->evaluate) (1.7.0)\n",
      "Requirement already satisfied: multidict<7.0,>=4.5 in /usr/local/lib/python3.11/dist-packages (from aiohttp->datasets>=2.0.0->evaluate) (6.6.3)\n",
      "Requirement already satisfied: propcache>=0.2.0 in /usr/local/lib/python3.11/dist-packages (from aiohttp->datasets>=2.0.0->evaluate) (0.3.2)\n",
      "Requirement already satisfied: yarl<2.0,>=1.17.0 in /usr/local/lib/python3.11/dist-packages (from aiohttp->datasets>=2.0.0->evaluate) (1.20.1)\n",
      "Requirement already satisfied: six>=1.5 in /usr/local/lib/python3.11/dist-packages (from python-dateutil>=2.8.2->pandas->evaluate) (1.17.0)\n",
      "Downloading evaluate-0.4.4-py3-none-any.whl (84 kB)\n",
      "\u001b[2K   \u001b[90m━━━━━━━━━━━━━━━━━━━━━━━━━━━━━━━━━━━━━━━━\u001b[0m \u001b[32m84.1/84.1 kB\u001b[0m \u001b[31m2.4 MB/s\u001b[0m eta \u001b[36m0:00:00\u001b[0m\n",
      "\u001b[?25hInstalling collected packages: evaluate\n",
      "Successfully installed evaluate-0.4.4\n"
     ]
    }
   ],
   "source": [
    "# !pip install datasets\n",
    "!pip install evaluate"
   ]
  },
  {
   "cell_type": "code",
   "execution_count": 6,
   "id": "zlAAWFh9joyF",
   "metadata": {
    "id": "zlAAWFh9joyF"
   },
   "outputs": [],
   "source": [
    "import evaluate"
   ]
  },
  {
   "cell_type": "code",
   "execution_count": 7,
   "id": "iSqvDz26jqTD",
   "metadata": {
    "colab": {
     "base_uri": "https://localhost:8080/",
     "height": 337,
     "referenced_widgets": [
      "066e5fc67e3d49ad8fe661d5ec2856b9",
      "a17409f3eab241558bda205bce213149",
      "e3983d416d13496aada184cdba109f41",
      "fb60f2804648420c9567367cc8af80f2",
      "dfef9e5ab710426dab09aae105d572f8",
      "c15b5ada67d54e869830a0cb73641fea",
      "90462ac9c0fe44cc82906e909fef2fb7",
      "f6a306bab1154195a4349adce0e3f804",
      "a78d8f67a77148c1af7de9fff78523be",
      "f074dff27f774fab9ebd00db60aa6eb8",
      "5c895ce5d02447f694356c0dfd1f7813"
     ]
    },
    "id": "iSqvDz26jqTD",
    "outputId": "d725eb2f-180d-440a-b21f-a7d71aa8a4d8"
   },
   "outputs": [
    {
     "name": "stderr",
     "output_type": "stream",
     "text": [
      "/usr/local/lib/python3.11/dist-packages/huggingface_hub/utils/_auth.py:94: UserWarning: \n",
      "The secret `HF_TOKEN` does not exist in your Colab secrets.\n",
      "To authenticate with the Hugging Face Hub, create a token in your settings tab (https://huggingface.co/settings/tokens), set it as secret in your Google Colab and restart your session.\n",
      "You will be able to reuse this secret in all of your notebooks.\n",
      "Please note that authentication is recommended but still optional to access public models or datasets.\n",
      "  warnings.warn(\n"
     ]
    },
    {
     "data": {
      "application/vnd.jupyter.widget-view+json": {
       "model_id": "066e5fc67e3d49ad8fe661d5ec2856b9",
       "version_major": 2,
       "version_minor": 0
      },
      "text/plain": [
       "Downloading builder script: 0.00B [00:00, ?B/s]"
      ]
     },
     "metadata": {},
     "output_type": "display_data"
    },
    {
     "name": "stdout",
     "output_type": "stream",
     "text": [
      "\n",
      "Accuracy is the proportion of correct predictions among the total number of cases processed. It can be computed with:\n",
      "Accuracy = (TP + TN) / (TP + TN + FP + FN)\n",
      " Where:\n",
      "TP: True positive\n",
      "TN: True negative\n",
      "FP: False positive\n",
      "FN: False negative\n",
      "\n"
     ]
    }
   ],
   "source": [
    "accuracy = evaluate.load(\"accuracy\")\n",
    "print(accuracy.description)"
   ]
  },
  {
   "cell_type": "markdown",
   "id": "nyS3GjBWkfla",
   "metadata": {
    "id": "nyS3GjBWkfla"
   },
   "source": [
    "## Feature attributes\n",
    "\n",
    "By accessing the features attribute of a metric, we can ispenct the required inputs for its compuation."
   ]
  },
  {
   "cell_type": "code",
   "execution_count": 8,
   "id": "Zp4Xf40PkeSN",
   "metadata": {
    "colab": {
     "base_uri": "https://localhost:8080/"
    },
    "id": "Zp4Xf40PkeSN",
    "outputId": "1f9d1ae4-7f76-4b9d-eb5f-61eda6636432"
   },
   "outputs": [
    {
     "name": "stdout",
     "output_type": "stream",
     "text": [
      "{'predictions': Value(dtype='int32', id=None), 'references': Value(dtype='int32', id=None)}\n"
     ]
    }
   ],
   "source": [
    "print(accuracy.features)"
   ]
  },
  {
   "cell_type": "markdown",
   "id": "QTrVRO24k2V3",
   "metadata": {
    "id": "QTrVRO24k2V3"
   },
   "source": [
    "Most metrics often require two collections, predictions and references.\n",
    "* `predictions`: model output\n",
    "* `references`: ground truth\n",
    "* `.feature`: indicates the data type supported for class labels, e.g. `int32` or `float32`, in metrics like accuracy and F1 score."
   ]
  },
  {
   "cell_type": "code",
   "execution_count": 9,
   "id": "hx-Q-kbRktq1",
   "metadata": {
    "colab": {
     "base_uri": "https://localhost:8080/",
     "height": 67,
     "referenced_widgets": [
      "62f10dd219e849baa3194aec08bfe31c",
      "8b55c508c8554a8e92304c24eed02f2b",
      "62a63203fa8847e1940d38ead886d1d8",
      "2f8e65873b8b4bcba688d5f1aaca16aa",
      "4f856206bc4646789fde48df3da4d037",
      "238155e7741d424c949e34e07d49a2b0",
      "07ab726e913941b8a3504acc3133cdf0",
      "fb7e05f55e7a48409eb802267751bd36",
      "dde8df0c4d7e49478d847ba984323bbb",
      "1cb1050e9ff643fd8b56c506bb488062",
      "f49162f351154d77bd05848b08b85380"
     ]
    },
    "id": "hx-Q-kbRktq1",
    "outputId": "460cb08a-6f29-4646-9904-e8b5b2efbad6"
   },
   "outputs": [
    {
     "data": {
      "application/vnd.jupyter.widget-view+json": {
       "model_id": "62f10dd219e849baa3194aec08bfe31c",
       "version_major": 2,
       "version_minor": 0
      },
      "text/plain": [
       "Downloading builder script: 0.00B [00:00, ?B/s]"
      ]
     },
     "metadata": {},
     "output_type": "display_data"
    },
    {
     "name": "stdout",
     "output_type": "stream",
     "text": [
      "{'predictions': Value(dtype='int32', id=None), 'references': Value(dtype='int32', id=None)}\n"
     ]
    }
   ],
   "source": [
    "f1 = evaluate.load(\"f1\")\n",
    "print(f1.features)"
   ]
  },
  {
   "cell_type": "code",
   "execution_count": 10,
   "id": "6K742tu-lqc0",
   "metadata": {
    "colab": {
     "base_uri": "https://localhost:8080/",
     "height": 67,
     "referenced_widgets": [
      "4eb98ad9f4944d4a9a3f98d5ef1ba37f",
      "827387be4aa14d1d8fb38649b9ab8864",
      "70e35fc0b76542a0bf733340621509d2",
      "bcfbfe98a83b4837b914351fbba4fa30",
      "478acf7992e44a11bf45a1621e87987b",
      "503690909bdb4f008bd69018821f3075",
      "54599c8612bd4f8281da019e79ce88aa",
      "0ca87a05318d47f58d0b1ccc533d480e",
      "c25f67b0b1f143379eba40e47015a003",
      "25b4d107a0814c409c96e071f3a7dd65",
      "ec08b20a8dc74d23a6731e92eea491fd"
     ]
    },
    "id": "6K742tu-lqc0",
    "outputId": "2f55089e-c1f1-4820-f28a-0d4c9e35e546"
   },
   "outputs": [
    {
     "data": {
      "application/vnd.jupyter.widget-view+json": {
       "model_id": "4eb98ad9f4944d4a9a3f98d5ef1ba37f",
       "version_major": 2,
       "version_minor": 0
      },
      "text/plain": [
       "Downloading builder script: 0.00B [00:00, ?B/s]"
      ]
     },
     "metadata": {},
     "output_type": "display_data"
    },
    {
     "name": "stdout",
     "output_type": "stream",
     "text": [
      "{'predictions': Value(dtype='float32', id=None), 'references': Value(dtype='float32', id=None)}\n"
     ]
    }
   ],
   "source": [
    "pearson_corr = evaluate.load(\"pearsonr\")\n",
    "print(pearson_corr.features)"
   ]
  },
  {
   "cell_type": "markdown",
   "id": "SY2IxNVEmoN3",
   "metadata": {
    "id": "SY2IxNVEmoN3"
   },
   "source": [
    "## LLM tasks and metrics\n",
    "\n",
    "* Text classification\n",
    "  * Accuracy\n",
    "  * F1 Score\n",
    "* Text generation\n",
    "  * Perplexity\n",
    "  * BLEU score\n",
    "* Summarization\n",
    "  * ROUGE score\n",
    "  * BLEU score\n",
    "* Translation\n",
    "  * METEOR\n",
    "  * BLEU\n",
    "* Question-Answering\n",
    "  * Extractive QA (answers a questions with an extract or label)\n",
    "    * Exact Match (EM) + F1 score\n",
    "  * Generative QA (generates a full textual answer)\n",
    "    * BLEU/ROUGE"
   ]
  },
  {
   "cell_type": "markdown",
   "id": "Vz9toNsj2bg9",
   "metadata": {
    "id": "Vz9toNsj2bg9"
   },
   "source": [
    "![Screenshot 2025-07-02 at 16.33.57.png](data:image/png;base64,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)"
   ]
  },
  {
   "cell_type": "markdown",
   "id": "vlXDVbHqmwx2",
   "metadata": {
    "id": "vlXDVbHqmwx2"
   },
   "source": [
    "### Classification metrics"
   ]
  },
  {
   "cell_type": "code",
   "execution_count": 11,
   "id": "ifv50-obmQ1Y",
   "metadata": {
    "colab": {
     "base_uri": "https://localhost:8080/",
     "height": 81,
     "referenced_widgets": [
      "58aba34240d74e26a22ff43b1467a727",
      "d1cc078a756b41f28ba55733f6400a9b",
      "a0e7c96dd00b41e798adf18f4c26a5fe",
      "664c0d9db8f7442a93d3c6e75f16b037",
      "756c3d6f22b242e4b1e4fd39e86a85cb",
      "bcdf506d924947a485fd740cf04235ff",
      "0029d661b6a241698bebe0cec4d09d10",
      "1d0610610cea423b8e9de082b9338e07",
      "eec11aa2ee5440bf97dc9f02f227ecee",
      "7c20960785c24ab9a7a978382f944832",
      "97256560f68342dbb3b3068cea28aa07",
      "48fccd3854dc45d9810dc5ecd99c9286",
      "51ae0ff89d984ac48a8546f015d7f0ee",
      "939b63a98c2d4fe19c81c32250e2e5e5",
      "7c5a226291e34aaa9eef84f674ef44f8",
      "f3a1fb548a4a4105848979da00e70aa4",
      "663791c9eb4543bb82858a38718a5e17",
      "ca8864e22e374866b0214414ada508b0",
      "6b7b32cec6e24b43a01d747368be59be",
      "6369466766b74d22aff5e2960cd513fa",
      "95b87be1ffb64654b0fd2b4b937c43f2",
      "efb01d7fab6344e39d53454c436a850e"
     ]
    },
    "id": "ifv50-obmQ1Y",
    "outputId": "0a88fd17-dd88-44d0-c397-efb3e69f2d93"
   },
   "outputs": [
    {
     "data": {
      "application/vnd.jupyter.widget-view+json": {
       "model_id": "58aba34240d74e26a22ff43b1467a727",
       "version_major": 2,
       "version_minor": 0
      },
      "text/plain": [
       "Downloading builder script: 0.00B [00:00, ?B/s]"
      ]
     },
     "metadata": {},
     "output_type": "display_data"
    },
    {
     "data": {
      "application/vnd.jupyter.widget-view+json": {
       "model_id": "48fccd3854dc45d9810dc5ecd99c9286",
       "version_major": 2,
       "version_minor": 0
      },
      "text/plain": [
       "Downloading builder script: 0.00B [00:00, ?B/s]"
      ]
     },
     "metadata": {},
     "output_type": "display_data"
    }
   ],
   "source": [
    "accuracy = evaluate.load(\"accuracy\")\n",
    "precision = evaluate.load(\"precision\")\n",
    "recall = evaluate.load(\"recall\")\n",
    "f1 = evaluate.load(\"f1\")"
   ]
  },
  {
   "cell_type": "code",
   "execution_count": 13,
   "id": "50QUjBYnnAtr",
   "metadata": {
    "colab": {
     "base_uri": "https://localhost:8080/",
     "height": 268,
     "referenced_widgets": [
      "5a27d4dd5f4c41419030c0d71d0a76ea",
      "102b5001459447549fa59b12ccbe138f",
      "55f18a9190aa4af5baf32a1d71286410",
      "95aa774e827340498c6c68ffde3c1e43",
      "930507678e294db795ad1ac3de5b145f",
      "c5f1e5affb4143059a8d289774c2d7ee",
      "45149919d12a4730b9def8663f013c8b",
      "c58b6870528849d8bab4bb09e0683e0c",
      "87f4fde207fe486882718f3b23db26aa",
      "780e0e271250450a87e640c2f4c4f311",
      "f97fe654dac249d3b4cc87e1df4fb23e",
      "8281ec30e590446282c0f845356093d0",
      "f3f203b78b47495d9419d7d79d790bc8",
      "80c1a19b2c3c47298f432a313d5ea9f4",
      "982a00343efb4847846a30522a729215",
      "35f165b110ef43c2ba1976c0fbaab41b",
      "49541f93ccbe4c019ccab3ce0559d96e",
      "abc7cd8bb8ce4fbbaec6d5670c6bda5d",
      "6543633ee88342d9ba20b29ce14caa29",
      "b0a248b9ee774c1c91a5bd86836a80e4",
      "6a2a4ecd11624d5fb36f129a426cf1b2",
      "74367e379ba6413c97350dfbdb97d5fa",
      "a52a714a55814658adfbca60084eee57",
      "51a3c7806e4c4a089f335049f2d397a6",
      "1c021b4fc423431ea7eb82bb6b88f181",
      "8d220f27ed1c4b799fccf4d01e78d936",
      "d8528d6644a44f37a208b210542fdcf2",
      "09b3620a9a954ca181bd66c7b5913832",
      "73ab8863ac44478e994a480992b282ce",
      "a5295974b5044d9caf1e084792beeab3",
      "5f7e026e73dc4a4ea63d4e3a32003872",
      "24ef2489e6e345f8a9c9ee848f99ccb9",
      "396523a1895941418e5d7ba35bd1bea6",
      "a075e3f2a4a2485a882b0555615531a9",
      "113f11fbeb5b482ab70ad50fc3046e9c",
      "9c0791d2a1764dac99aac07ff5c08378",
      "969cab77d09c4c79918b6444f0b58f27",
      "46e7260132c440a090e304c59e3ecb5b",
      "8a80c07c65c54116abf7c551bfb072ec",
      "5a76c2dbcdaf4d1781025d6d7a60e020",
      "fd4920d874d44949a6c94bbf97c5ea69",
      "6c26a185f0a6405487016a2afe390099",
      "e2a673e38f894a78ab6f2a568b9566b4",
      "03c0643d4b4448578c0e4ea8fb5b8836",
      "617efebf41e742199587cd599ea77aaf",
      "87b4a3719aad4ade8d4755ebd0ca9587",
      "b99a62f41f60459aa7bae2ce12d9a798",
      "87e42018d45b4a5699eb67df78c1d5eb",
      "e97032b9a31e4eb6a87596033be1c623",
      "4598a1218919418fac7d4331ff18b99a",
      "3b278f1b4f2f490a9db79bf5b40bb92d",
      "77cd45d8f6a9454bb19fa72d670e1aed",
      "fb7e058f95dc4989b4c3f78a3ebd6409",
      "ed369f307f114cefbf77b9a0d1371841",
      "1c9dd125dd084441939b14b371420163"
     ]
    },
    "id": "50QUjBYnnAtr",
    "outputId": "1005f380-9537-451f-ba9e-3d7019afda23"
   },
   "outputs": [
    {
     "data": {
      "application/vnd.jupyter.widget-view+json": {
       "model_id": "5a27d4dd5f4c41419030c0d71d0a76ea",
       "version_major": 2,
       "version_minor": 0
      },
      "text/plain": [
       "config.json:   0%|          | 0.00/570 [00:00<?, ?B/s]"
      ]
     },
     "metadata": {},
     "output_type": "display_data"
    },
    {
     "data": {
      "application/vnd.jupyter.widget-view+json": {
       "model_id": "8281ec30e590446282c0f845356093d0",
       "version_major": 2,
       "version_minor": 0
      },
      "text/plain": [
       "model.safetensors:   0%|          | 0.00/440M [00:00<?, ?B/s]"
      ]
     },
     "metadata": {},
     "output_type": "display_data"
    },
    {
     "name": "stderr",
     "output_type": "stream",
     "text": [
      "Some weights of BertForSequenceClassification were not initialized from the model checkpoint at bert-base-uncased and are newly initialized: ['classifier.bias', 'classifier.weight']\n",
      "You should probably TRAIN this model on a down-stream task to be able to use it for predictions and inference.\n"
     ]
    },
    {
     "data": {
      "application/vnd.jupyter.widget-view+json": {
       "model_id": "a52a714a55814658adfbca60084eee57",
       "version_major": 2,
       "version_minor": 0
      },
      "text/plain": [
       "tokenizer_config.json:   0%|          | 0.00/48.0 [00:00<?, ?B/s]"
      ]
     },
     "metadata": {},
     "output_type": "display_data"
    },
    {
     "data": {
      "application/vnd.jupyter.widget-view+json": {
       "model_id": "a075e3f2a4a2485a882b0555615531a9",
       "version_major": 2,
       "version_minor": 0
      },
      "text/plain": [
       "vocab.txt:   0%|          | 0.00/232k [00:00<?, ?B/s]"
      ]
     },
     "metadata": {},
     "output_type": "display_data"
    },
    {
     "data": {
      "application/vnd.jupyter.widget-view+json": {
       "model_id": "617efebf41e742199587cd599ea77aaf",
       "version_major": 2,
       "version_minor": 0
      },
      "text/plain": [
       "tokenizer.json:   0%|          | 0.00/466k [00:00<?, ?B/s]"
      ]
     },
     "metadata": {},
     "output_type": "display_data"
    },
    {
     "name": "stderr",
     "output_type": "stream",
     "text": [
      "Device set to use cpu\n"
     ]
    },
    {
     "name": "stdout",
     "output_type": "stream",
     "text": [
      "[0]\n"
     ]
    }
   ],
   "source": [
    "from transformers import pipeline\n",
    "from transformers import AutoTokenizer, AutoModel\n",
    "from transformers import AutoModelForSequenceClassification\n",
    "\n",
    "model = AutoModelForSequenceClassification.from_pretrained(\"bert-base-uncased\")\n",
    "tokenizer = AutoTokenizer.from_pretrained(\"bert-base-uncased\")\n",
    "\n",
    "\n",
    "evaluation_text = \"\"\"Classify the sentiment of this sentence as either Positive or Negative.\n",
    "Example:\n",
    "Text: \"I'm feeling great today!\" Sentiment: Positive\n",
    "Text: \"The weather today is lovely.\" Sentiment:\n",
    "\"\"\"\n",
    "# initialize a pipeline with a model and tokenizer\n",
    "classifier = pipeline(\"text-classification\", model=model, tokenizer=tokenizer)\n",
    "predictions = classifier(evaluation_text)\n",
    "\n",
    "prediction_labels = [1 if pred[\"label\"] == \"POSITIVE\" else 0 for pred in predictions]\n",
    "\n",
    "print(prediction_labels)"
   ]
  },
  {
   "cell_type": "markdown",
   "id": "d79YWK1xoysS",
   "metadata": {
    "id": "d79YWK1xoysS"
   },
   "source": [
    "### Metric outputs"
   ]
  },
  {
   "cell_type": "code",
   "execution_count": 14,
   "id": "e9xOXD2MnE_s",
   "metadata": {
    "colab": {
     "base_uri": "https://localhost:8080/"
    },
    "id": "e9xOXD2MnE_s",
    "outputId": "7c2a6ef2-7a79-4d2f-8d96-3989c8a11c05"
   },
   "outputs": [
    {
     "name": "stdout",
     "output_type": "stream",
     "text": [
      "{'accuracy': 0.8}\n",
      "{'precision': 1.0}\n",
      "{'recall': 0.6666666666666666}\n",
      "{'f1': 0.8}\n"
     ]
    }
   ],
   "source": [
    "real_labels = [0, 1, 0, 1, 1]\n",
    "predicted_labels = [0, 0, 0, 1, 1]\n",
    "\n",
    "\n",
    "print(accuracy.compute(predictions=predicted_labels, references=real_labels))\n",
    "print(precision.compute(predictions=predicted_labels, references=real_labels))\n",
    "print(recall.compute(predictions=predicted_labels, references=real_labels))\n",
    "print(f1.compute(predictions=predicted_labels, references=real_labels))"
   ]
  },
  {
   "cell_type": "markdown",
   "id": "PnfIO7Z2pTjc",
   "metadata": {
    "id": "PnfIO7Z2pTjc"
   },
   "source": [
    "- our predictions are correct 80% of the time.\n",
    "- every positive prediction is correct.\n",
    "- but there are some flase positives."
   ]
  },
  {
   "cell_type": "markdown",
   "id": "dzRuE_p9pfeO",
   "metadata": {
    "id": "dzRuE_p9pfeO"
   },
   "source": [
    "### Example: Evaluating our fine-tuned model"
   ]
  },
  {
   "cell_type": "code",
   "execution_count": 17,
   "id": "egkYMxDMot30",
   "metadata": {
    "colab": {
     "base_uri": "https://localhost:8080/"
    },
    "id": "egkYMxDMot30",
    "outputId": "a4fc7c14-14ea-46d1-e353-88602ea41a06"
   },
   "outputs": [
    {
     "name": "stdout",
     "output_type": "stream",
     "text": [
      "{'accuracy': 0.5}\n",
      "{'precision': 0.0}\n",
      "{'recall': 0.0}\n",
      "{'f1': 0.0}\n"
     ]
    },
    {
     "name": "stderr",
     "output_type": "stream",
     "text": [
      "/usr/local/lib/python3.11/dist-packages/sklearn/metrics/_classification.py:1565: UndefinedMetricWarning: Precision is ill-defined and being set to 0.0 due to no predicted samples. Use `zero_division` parameter to control this behavior.\n",
      "  _warn_prf(average, modifier, f\"{metric.capitalize()} is\", len(result))\n"
     ]
    }
   ],
   "source": [
    "# Load saved model and tokenizer with\n",
    "# .from_pretrained(\"my_finetuned_files\")\n",
    "import torch\n",
    "\n",
    "new_data = [\"This movie was disappointing\",\n",
    "            \"This is the best movie ever\"]\n",
    "\n",
    "new_input = tokenizer(new_data,\n",
    "                      padding=True,\n",
    "                      truncation=True,\n",
    "                      return_tensors=\"pt\",\n",
    "                      max_length=64)\n",
    "\n",
    "with torch.no_grad():\n",
    "  output = model(**new_input)\n",
    "\n",
    "predicted = torch.argmax(output.logits, dim=1).tolist()\n",
    "\n",
    "real = [0, 1]\n",
    "print(accuracy.compute(predictions=predicted, references=real))\n",
    "print(precision.compute(predictions=predicted, references=real))\n",
    "print(recall.compute(predictions=predicted, references=real))\n",
    "print(f1.compute(predictions=predicted, references=real))\n"
   ]
  },
  {
   "cell_type": "markdown",
   "id": "Fugd4gIlJvaR",
   "metadata": {
    "id": "Fugd4gIlJvaR"
   },
   "source": [
    "### Metrics for language tasks\n"
   ]
  },
  {
   "cell_type": "markdown",
   "id": "mG9Q_KtmuTnz",
   "metadata": {
    "id": "mG9Q_KtmuTnz"
   },
   "source": [
    "#### Perplexity\n",
    "\n",
    "* `Perplexity` measures the model's ability to predict the next word in a sentence or sequence, accurately and confidently.\n",
    "  * A lower perplexity score indicates higher confidence in the predictions.\n",
    "  * The generation model (typically a BERT based model) provided probabailities for generating each word in the sequernce during text generation. Perplexity uses this probabilities to calculate the model's confidence in the predictions."
   ]
  },
  {
   "cell_type": "code",
   "execution_count": 20,
   "id": "jsOeX569pSVa",
   "metadata": {
    "colab": {
     "base_uri": "https://localhost:8080/",
     "height": 140,
     "referenced_widgets": [
      "9f9291f255164fbb8c5257bf1510ebf9",
      "784abe1a3d894e43a81a1bd9093dcad7",
      "ab7fa840d40b44a68aebf48eb61db33c",
      "4b51aa3e4ae64bfaa566dcef1e8f5701",
      "0665063f4f924477bf873bfa9a3bf766",
      "ead656e0caef4fa7993916462eb4eb86",
      "59adb5eb8083454582470393017372e4",
      "749c63840d6d4159ae9c679a6c4af47c",
      "d3c85136d33245eb9161da29813ebb3a",
      "6b79cb5678e346db913c2e85402fd2a9",
      "8bd97c2ab4a24345b7bd50e5768093f3"
     ]
    },
    "id": "jsOeX569pSVa",
    "outputId": "a75802a3-5ee0-4294-8950-9478e9f006c9"
   },
   "outputs": [
    {
     "name": "stderr",
     "output_type": "stream",
     "text": [
      "The attention mask and the pad token id were not set. As a consequence, you may observe unexpected behavior. Please pass your input's `attention_mask` to obtain reliable results.\n",
      "Setting `pad_token_id` to `eos_token_id`:50256 for open-end generation.\n"
     ]
    },
    {
     "data": {
      "application/vnd.jupyter.widget-view+json": {
       "model_id": "9f9291f255164fbb8c5257bf1510ebf9",
       "version_major": 2,
       "version_minor": 0
      },
      "text/plain": [
       "  0%|          | 0/7 [00:00<?, ?it/s]"
      ]
     },
     "metadata": {},
     "output_type": "display_data"
    },
    {
     "name": "stdout",
     "output_type": "stream",
     "text": [
      "{'perplexities': [245.63241577148438, 520.3133544921875, 1159.0826416015625, 1623.414306640625, 503.69744873046875, 1159.0826416015625, 12868.892578125, 2127.053955078125, 1623.414306640625, 503.69744873046875, 1623.414306640625, 520.3133544921875, 2127.053955078125, 1040.3394775390625, 1109.583740234375, 12868.9912109375, 1561.4664306640625, 718.415283203125, 1117.8555908203125, 1352.7755126953125, 718.415283203125, 1117.8555908203125, 1365.3892822265625, 503.69744873046875, 12868.892578125, 718.415283203125, 1117.8555908203125, 12868.892578125, 51.536869049072266, 1117.8555908203125, 1159.0826416015625, 2127.052978515625, 520.3133544921875, 1040.3394775390625, 1159.0826416015625, 718.415283203125, 1040.3394775390625, 520.3133544921875, 12868.892578125, 503.69744873046875, 1109.583740234375, 2440.7177734375, 1836.3021240234375, 12868.892578125, 1159.0826416015625, 1109.583740234375, 520.3133544921875, 1159.0732421875, 12868.892578125, 1159.0826416015625, 1109.583740234375, 1623.414306640625, 12868.892578125, 1407.952392578125, 2440.7177734375, 503.69744873046875, 1159.0826416015625, 12868.892578125, 1040.3394775390625, 2440.7177734375, 1407.952392578125, 1407.952392578125, 2440.7177734375, 1117.8592529296875, 12868.892578125, 1561.4664306640625, 2440.7177734375, 2127.053955078125, 1407.952392578125, 12868.892578125, 2440.7177734375, 1561.4664306640625, 12868.892578125, 1040.3394775390625, 520.3133544921875, 1117.8555908203125, 1040.3394775390625, 1623.414306640625, 2127.053955078125, 12868.9912109375, 718.415283203125, 503.69744873046875, 12868.892578125, 1159.0826416015625, 1109.583740234375, 1623.414306640625, 12868.892578125, 1407.952392578125, 1623.414306640625, 1159.0826416015625, 520.3133544921875, 503.69744873046875, 1159.0826416015625, 520.3133544921875, 1159.0826416015625, 718.4149780273438, 1040.3394775390625, 12868.892578125, 1561.4664306640625, 2440.7177734375, 2127.053955078125, 1407.952392578125], 'mean_perplexity': np.float64(3059.845461116118)}\n",
      "mean perplexity 3059.845461116118\n"
     ]
    }
   ],
   "source": [
    "import torch\n",
    "from transformers import AutoTokenizer, GPT2LMHeadModel\n",
    "\n",
    "tokenizer = AutoTokenizer.from_pretrained(\"openai-community/gpt2\")\n",
    "model = GPT2LMHeadModel.from_pretrained(\"openai-community/gpt2\")\n",
    "\n",
    "\n",
    "input_text = \"Latest research findings in Antractica show\"\n",
    "references = \"Latest research findings in Antractica show that the ice sheet is melting faster than previously thought\"\n",
    "\n",
    "# Encode the prompt, generate text and decode it\n",
    "# input -> tokenids, then back into text for output\n",
    "input_text_ids = tokenizer.encode(input_text, return_tensors=\"pt\")\n",
    "output = model.generate(input_text_ids, max_length=20)\n",
    "generated_text = tokenizer.decode(output[0], skip_special_tokens=True)\n",
    "\n",
    "\n",
    "perplexity = evaluate.load(\"perplexity\", module_type=\"metric\")\n",
    "results = perplexity.compute(predictions=generated_text, references=references, model_id=\"gpt2\")\n",
    "print(results)\n",
    "print(\"mean perplexity:\", results[\"mean_perplexity\"])"
   ]
  },
  {
   "cell_type": "code",
   "execution_count": 22,
   "id": "gIF_P4rKG6Il",
   "metadata": {
    "colab": {
     "base_uri": "https://localhost:8080/"
    },
    "id": "gIF_P4rKG6Il",
    "outputId": "c257e4a8-3aa9-420b-f2d7-52ce8b89b25b"
   },
   "outputs": [
    {
     "data": {
      "text/plain": [
       "dict_keys(['perplexities', 'mean_perplexity'])"
      ]
     },
     "execution_count": 22,
     "metadata": {},
     "output_type": "execute_result"
    }
   ],
   "source": [
    "results.keys()"
   ]
  },
  {
   "cell_type": "code",
   "execution_count": 32,
   "id": "s8JsUAmfgRmf",
   "metadata": {
    "colab": {
     "base_uri": "https://localhost:8080/",
     "height": 71
    },
    "id": "s8JsUAmfgRmf",
    "outputId": "635c4c47-c74a-42ce-bc80-aaca074d0554"
   },
   "outputs": [
    {
     "data": {
      "application/vnd.google.colaboratory.intrinsic+json": {
       "type": "string"
      },
      "text/plain": [
       "'\\nPerplexity (PPL) is one of the most common metrics for evaluating language models.\\nIt is defined as the exponentiated average negative log-likelihood of a sequence, calculated with exponent base `e`.\\n\\nFor more information, see https://huggingface.co/docs/transformers/perplexity\\n'"
      ]
     },
     "execution_count": 32,
     "metadata": {},
     "output_type": "execute_result"
    }
   ],
   "source": [
    "perplexity.description"
   ]
  },
  {
   "cell_type": "code",
   "execution_count": 33,
   "id": "mMRZHfbPgTmA",
   "metadata": {
    "colab": {
     "base_uri": "https://localhost:8080/"
    },
    "id": "mMRZHfbPgTmA",
    "outputId": "163be2b0-cbb4-4b12-f5c1-d952476a1a92"
   },
   "outputs": [
    {
     "data": {
      "text/plain": [
       "{'predictions': Value(dtype='string', id=None)}"
      ]
     },
     "execution_count": 33,
     "metadata": {},
     "output_type": "execute_result"
    }
   ],
   "source": [
    "perplexity.features"
   ]
  },
  {
   "cell_type": "markdown",
   "id": "p-2Deag31Bdw",
   "metadata": {
    "id": "p-2Deag31Bdw"
   },
   "source": [
    "#### BLEU\n",
    "\n",
    "*   `BLEU` can also be used to evaluate `text generation`, as well as `summarization` and `translation`.\n",
    "* it measures the quality of an LLMs outputs against some references provided by humans.\n",
    "  * `predictions`: LLM's output\n",
    "  * `References`: human references\n",
    "  * output is between 0 and 1, indicating how similar the translation is to the reference. Values closer to 1 show higher similarity.\n",
    "\n"
   ]
  },
  {
   "cell_type": "code",
   "execution_count": 23,
   "id": "HRePyArl--wX",
   "metadata": {
    "colab": {
     "base_uri": "https://localhost:8080/",
     "height": 151,
     "referenced_widgets": [
      "8ee6c7eefb2c4486b1147f4cc41078ad",
      "7e1a8a9c0ed547599c14e2c6905a9741",
      "7cee91b09a32491bb8c939f5f4d04082",
      "cfa63243721a42cdad542bfd8611bdad",
      "c5582afa6d7946d28299b0d75b6cd943",
      "fdf24205f28d411783d435e594cc8b21",
      "f1131426fd804828b2b1ec91313f8234",
      "35e406ad8d5746bb8ca8b273e5f593bb",
      "d2f180c174a04324a1e1c18380f3dbda",
      "4fc2ed140ce94f5095274df48e0ae23f",
      "e335fed33d604e84b2ed81a5d26f67cc",
      "243a78b9f6474825b9f1fdbe7ef4f3d8",
      "31ae24a7c59c41b98944f3c6bdc13852",
      "a294deee72fe43828cf93d975d9a9946",
      "03672e91f3e94ab0bc1f777fb4df28fb",
      "7c94a69f64d449e395a19ddc7a310774",
      "27a48e0b036541adb7c448dd4c2eb2d8",
      "2822de75fdd24a9eaf8b96a70fa52f47",
      "4e7b9d56d69c4e628de2c8a84caf83b5",
      "a355998763084e8b80e973a87e64e327",
      "1e53463aa3424750820925c4290bae24",
      "400fc12c11cf4ef0a2ccb31609897beb",
      "8c702ec8af094a7097035f4f2b40c859",
      "efc148aafc2d41d9aa820e7241f51e4d",
      "a272201606994d6b824e223e808fa243",
      "ac704584fcc144afa20c20faed378798",
      "2be69cd291f446699b54171ddd896078",
      "39ce7519742246ce867c98bbc0045583",
      "d4970c426cc34d6ab51905efb168670b",
      "d8c89cec866f48c481d7ac29dbda7f82",
      "d3cae076bad14bcda4f6a6831c60750e",
      "56df4c90e3e448e991e95436d81dd737",
      "5f78634391c842fe9b07e0f8a540bc4c"
     ]
    },
    "id": "HRePyArl--wX",
    "outputId": "8d8b4b14-c2f8-4095-a10e-ab921d809e3f"
   },
   "outputs": [
    {
     "data": {
      "application/vnd.jupyter.widget-view+json": {
       "model_id": "8ee6c7eefb2c4486b1147f4cc41078ad",
       "version_major": 2,
       "version_minor": 0
      },
      "text/plain": [
       "Downloading builder script: 0.00B [00:00, ?B/s]"
      ]
     },
     "metadata": {},
     "output_type": "display_data"
    },
    {
     "data": {
      "application/vnd.jupyter.widget-view+json": {
       "model_id": "243a78b9f6474825b9f1fdbe7ef4f3d8",
       "version_major": 2,
       "version_minor": 0
      },
      "text/plain": [
       "Downloading extra modules:   0%|          | 0.00/1.55k [00:00<?, ?B/s]"
      ]
     },
     "metadata": {},
     "output_type": "display_data"
    },
    {
     "data": {
      "application/vnd.jupyter.widget-view+json": {
       "model_id": "8c702ec8af094a7097035f4f2b40c859",
       "version_major": 2,
       "version_minor": 0
      },
      "text/plain": [
       "Downloading extra modules: 0.00B [00:00, ?B/s]"
      ]
     },
     "metadata": {},
     "output_type": "display_data"
    },
    {
     "name": "stdout",
     "output_type": "stream",
     "text": [
      "{'bleu': 1.0, 'precisions': [1.0, 1.0, 1.0, 1.0], 'brevity_penalty': 1.0, 'length_ratio': 1.2307692307692308, 'translation_length': 16, 'reference_length': 13}\n"
     ]
    }
   ],
   "source": [
    "bleu = evaluate.load(\"bleu\")\n",
    "\n",
    "input_text = \"Latest research findings in Antractica show\"\n",
    "generated_text = \"Latest research findings in Antractica show that the ice sheet is melting faster than previously thought\"\n",
    "\n",
    "references = [\"Latest research findings in Antractica show significant ice loss due to climate change\",\n",
    "               \"Latest research findings in Antractica show that the ice sheet is melting faster than previously thought\"]\n",
    "\n",
    "results = bleu.compute(predictions=[generated_text], references=[references])\n",
    "print(results)"
   ]
  },
  {
   "cell_type": "code",
   "execution_count": 30,
   "id": "DfExu1XqgFcd",
   "metadata": {
    "colab": {
     "base_uri": "https://localhost:8080/",
     "height": 160
    },
    "id": "DfExu1XqgFcd",
    "outputId": "5b96f1b0-9426-43b4-f49c-97c33dc58aa6"
   },
   "outputs": [
    {
     "data": {
      "application/vnd.google.colaboratory.intrinsic+json": {
       "type": "string"
      },
      "text/plain": [
       "'BLEU (Bilingual Evaluation Understudy) is an algorithm for evaluating the quality of text which has been machine-translated from one natural language to another.\\nQuality is considered to be the correspondence between a machine\\'s output and that of a human: \"the closer a machine translation is to a professional human translation, the better it is\"\\n– this is the central idea behind BLEU. BLEU was one of the first metrics to claim a high correlation with human judgements of quality, and remains one of the most popular automated and inexpensive metrics.\\n\\nScores are calculated for individual translated segments—generally sentences—by comparing them with a set of good quality reference translations.\\nThose scores are then averaged over the whole corpus to reach an estimate of the translation\\'s overall quality.\\nNeither intelligibility nor grammatical correctness are not taken into account.\\n'"
      ]
     },
     "execution_count": 30,
     "metadata": {},
     "output_type": "execute_result"
    }
   ],
   "source": [
    "bleu.description"
   ]
  },
  {
   "cell_type": "code",
   "execution_count": 31,
   "id": "LtlWwty8gIRD",
   "metadata": {
    "colab": {
     "base_uri": "https://localhost:8080/"
    },
    "id": "LtlWwty8gIRD",
    "outputId": "db937743-5005-4bb3-b143-856872722179"
   },
   "outputs": [
    {
     "data": {
      "text/plain": [
       "[{'predictions': Value(dtype='string', id='sequence'),\n",
       "  'references': Sequence(feature=Value(dtype='string', id='sequence'), length=-1, id='references')},\n",
       " {'predictions': Value(dtype='string', id='sequence'),\n",
       "  'references': Value(dtype='string', id='sequence')}]"
      ]
     },
     "execution_count": 31,
     "metadata": {},
     "output_type": "execute_result"
    }
   ],
   "source": [
    "bleu.features"
   ]
  },
  {
   "cell_type": "markdown",
   "id": "ulgHFni4Jb4A",
   "metadata": {
    "id": "ulgHFni4Jb4A"
   },
   "source": [
    "#### ROUGE\n",
    "\n",
    "* `ROUGE` score is the most popular technique for evaluating text summarization, `BLEU` is useful for this task as well.\n",
    "* It measures similarity between model-generated and reference summaries by ***analyzing n-gram co-occurances and word overlap***.\n",
    "* ROUGE will provide us a set of metric scores capturing different aspects of text similarity.\n",
    "  * rouge1: unigram (one word) overlap\n",
    "  * rouge2: bigram (two words) overlap\n",
    "  * rougeL: long overlapping subsequences\n",
    "  * rougesum: a variant of rougeL (for summarization)\n",
    "* Scores between 0-1: higher score indicates higher similarity"
   ]
  },
  {
   "cell_type": "code",
   "execution_count": 25,
   "id": "KpG6cewvfS3Q",
   "metadata": {
    "colab": {
     "base_uri": "https://localhost:8080/"
    },
    "id": "KpG6cewvfS3Q",
    "outputId": "776d78df-c786-460c-b7a9-45a1eb1b9291"
   },
   "outputs": [
    {
     "name": "stdout",
     "output_type": "stream",
     "text": [
      "Collecting rouge_score\n",
      "  Downloading rouge_score-0.1.2.tar.gz (17 kB)\n",
      "  Preparing metadata (setup.py) ... \u001b[?25l\u001b[?25hdone\n",
      "Requirement already satisfied: absl-py in /usr/local/lib/python3.11/dist-packages (from rouge_score) (1.4.0)\n",
      "Requirement already satisfied: nltk in /usr/local/lib/python3.11/dist-packages (from rouge_score) (3.9.1)\n",
      "Requirement already satisfied: numpy in /usr/local/lib/python3.11/dist-packages (from rouge_score) (2.0.2)\n",
      "Requirement already satisfied: six>=1.14.0 in /usr/local/lib/python3.11/dist-packages (from rouge_score) (1.17.0)\n",
      "Requirement already satisfied: click in /usr/local/lib/python3.11/dist-packages (from nltk->rouge_score) (8.2.1)\n",
      "Requirement already satisfied: joblib in /usr/local/lib/python3.11/dist-packages (from nltk->rouge_score) (1.5.1)\n",
      "Requirement already satisfied: regex>=2021.8.3 in /usr/local/lib/python3.11/dist-packages (from nltk->rouge_score) (2024.11.6)\n",
      "Requirement already satisfied: tqdm in /usr/local/lib/python3.11/dist-packages (from nltk->rouge_score) (4.67.1)\n",
      "Building wheels for collected packages: rouge_score\n",
      "  Building wheel for rouge_score (setup.py) ... \u001b[?25l\u001b[?25hdone\n",
      "  Created wheel for rouge_score: filename=rouge_score-0.1.2-py3-none-any.whl size=24934 sha256=77cac51cbd81538afb58852c472ebe8cb8b1d034e119ad7b963c68f2d7d5cc78\n",
      "  Stored in directory: /root/.cache/pip/wheels/1e/19/43/8a442dc83660ca25e163e1bd1f89919284ab0d0c1475475148\n",
      "Successfully built rouge_score\n",
      "Installing collected packages: rouge_score\n",
      "Successfully installed rouge_score-0.1.2\n"
     ]
    }
   ],
   "source": [
    "!pip install rouge_score"
   ]
  },
  {
   "cell_type": "code",
   "execution_count": 27,
   "id": "5eb698a4",
   "metadata": {
    "colab": {
     "base_uri": "https://localhost:8080/"
    },
    "id": "5eb698a4",
    "outputId": "6efc1e79-2191-46ea-ca77-34a525d3afe5"
   },
   "outputs": [
    {
     "name": "stdout",
     "output_type": "stream",
     "text": [
      "{'rouge1': np.float64(0.7441860465116279), 'rouge2': np.float64(0.5365853658536585), 'rougeL': np.float64(0.7441860465116279), 'rougeLsum': np.float64(0.7441860465116279)}\n"
     ]
    }
   ],
   "source": [
    "import rouge_score\n",
    "\n",
    "rouge = evaluate.load(\"rouge\")\n",
    "\n",
    "predictions = \"as we learn about the frequency and size of distribution of exoplanets, we are discovering that terrestrial planets are exceedingly common\"\n",
    "references = \"The mode we learn about the frequency and size distribution of exoplanets, the more confident we are that they are exceedingly common.\"\n",
    "\n",
    "results = rouge.compute(predictions=[predictions], references=[references])\n",
    "print(results)\n"
   ]
  },
  {
   "cell_type": "code",
   "execution_count": 28,
   "id": "ih3Rzg1ab9ZS",
   "metadata": {
    "colab": {
     "base_uri": "https://localhost:8080/",
     "height": 125
    },
    "id": "ih3Rzg1ab9ZS",
    "outputId": "4791b711-b8f8-4ede-a845-ea2046eb25fd"
   },
   "outputs": [
    {
     "data": {
      "application/vnd.google.colaboratory.intrinsic+json": {
       "type": "string"
      },
      "text/plain": [
       "'ROUGE, or Recall-Oriented Understudy for Gisting Evaluation, is a set of metrics and a software package used for\\nevaluating automatic summarization and machine translation software in natural language processing.\\nThe metrics compare an automatically produced summary or translation against a reference or a set of references (human-produced) summary or translation.\\n\\nNote that ROUGE is case insensitive, meaning that upper case letters are treated the same way as lower case letters.\\n\\nThis metrics is a wrapper around Google Research reimplementation of ROUGE:\\nhttps://github.com/google-research/google-research/tree/master/rouge\\n'"
      ]
     },
     "execution_count": 28,
     "metadata": {},
     "output_type": "execute_result"
    }
   ],
   "source": [
    "rouge.description"
   ]
  },
  {
   "cell_type": "code",
   "execution_count": 29,
   "id": "SiMKkiO8f1-W",
   "metadata": {
    "colab": {
     "base_uri": "https://localhost:8080/"
    },
    "id": "SiMKkiO8f1-W",
    "outputId": "a59d7596-04c5-4a2a-db36-05fa30e97746"
   },
   "outputs": [
    {
     "data": {
      "text/plain": [
       "[{'predictions': Value(dtype='string', id='sequence'),\n",
       "  'references': Sequence(feature=Value(dtype='string', id='sequence'), length=-1, id=None)},\n",
       " {'predictions': Value(dtype='string', id='sequence'),\n",
       "  'references': Value(dtype='string', id='sequence')}]"
      ]
     },
     "execution_count": 29,
     "metadata": {},
     "output_type": "execute_result"
    }
   ],
   "source": [
    "rouge.features"
   ]
  },
  {
   "cell_type": "markdown",
   "id": "A88fvjSRhB46",
   "metadata": {
    "id": "A88fvjSRhB46"
   },
   "source": [
    "#### METEOR\n",
    "\n",
    "* It incorporates more linguistic features into evaluation like variations in words through stemming, capturing words with similar meanings, and penalizing errors in word order.\n",
    "* 0-1 score: higher is better. Higher scores indicate more semantic alignment\n",
    "* It evaluates some of the more semantic features in text.\n",
    "* good for generative QA\n"
   ]
  },
  {
   "cell_type": "code",
   "execution_count": 36,
   "id": "F02drJNEf-Xh",
   "metadata": {
    "colab": {
     "base_uri": "https://localhost:8080/"
    },
    "id": "F02drJNEf-Xh",
    "outputId": "8997ce0d-fde3-4d14-f2b6-a7e1b881470f"
   },
   "outputs": [
    {
     "name": "stdout",
     "output_type": "stream",
     "text": [
      "BLEU Score: 0.1879911133721033\n",
      "METEOR Score: 0.5185185185185186\n"
     ]
    },
    {
     "name": "stderr",
     "output_type": "stream",
     "text": [
      "[nltk_data] Downloading package wordnet to /root/nltk_data...\n",
      "[nltk_data]   Package wordnet is already up-to-date!\n",
      "[nltk_data] Downloading package punkt_tab to /root/nltk_data...\n",
      "[nltk_data]   Package punkt_tab is already up-to-date!\n",
      "[nltk_data] Downloading package omw-1.4 to /root/nltk_data...\n",
      "[nltk_data]   Package omw-1.4 is already up-to-date!\n"
     ]
    }
   ],
   "source": [
    "# comparision of BLEU and METEOR\n",
    "bleu = evaluate.load(\"bleu\")\n",
    "meteor = evaluate.load(\"meteor\")\n",
    "\n",
    "predicitons = \"He thought it right and necessary to become a knight-errant, roaming the world in armor, seeking adventures and practicing the deeds he had read about in chivalric tales\"\n",
    "references= \"He believed it was proper and essential to transform into a knight-errant, traveling the world in armor, pursuing adventures, and enacting the heroic deeds he had encountered in tales of chivalry.\"\n",
    "\n",
    "bleu_score = bleu.compute(predictions=[predicitons], references=[references])\n",
    "meteor_score = meteor.compute(predictions=[predicitons], references=[references])\n",
    "\n",
    "print(\"BLEU Score:\", bleu_score['bleu'])\n",
    "print(\"METEOR Score:\", meteor_score['meteor'])\n"
   ]
  },
  {
   "cell_type": "markdown",
   "id": "Jt0ZvF2Qivm7",
   "metadata": {
    "id": "Jt0ZvF2Qivm7"
   },
   "source": [
    "* bleu is suggesting low similarity while meteor is suggesting higher similarity! Meteor indicates there is still semantic alignment!"
   ]
  },
  {
   "cell_type": "markdown",
   "id": "Aygot5bHjltJ",
   "metadata": {
    "id": "Aygot5bHjltJ"
   },
   "source": [
    "#### EM (Exact Match)\n",
    "\n",
    "* good for extractive QA\n",
    "* Given a list of answers extracted by our model, and their associated reference answers, EM returns 1, if the model output exactly matches its associated reference answer, or 0 otherwise.\n",
    "* Since it is highly sensitive, it is frequently used in combination with F-1 score rather than in isolation."
   ]
  },
  {
   "cell_type": "code",
   "execution_count": 43,
   "id": "DuRT2nw0iRSl",
   "metadata": {
    "colab": {
     "base_uri": "https://localhost:8080/"
    },
    "id": "DuRT2nw0iRSl",
    "outputId": "70d3c6de-0e3f-4746-e62e-c9d9a251f9ad"
   },
   "outputs": [
    {
     "name": "stdout",
     "output_type": "stream",
     "text": [
      "{'exact_match': np.float64(0.3333333333333333)}\n"
     ]
    }
   ],
   "source": [
    "exact_match = evaluate.load(\"exact_match\")\n",
    "\n",
    "predictions = [\"The cat sat on the mat\",\n",
    "               'Theaters are great',\n",
    "               \"Like comparing oranges and apples\"]\n",
    "\n",
    "references= [\"The cat sat on the mat?\",\n",
    "               'Theaters are great',\n",
    "               \"Like comparing apples and oranges\"]\n",
    "\n",
    "results = exact_match.compute(predictions=predictions, references=references)\n",
    "print(results)"
   ]
  },
  {
   "cell_type": "markdown",
   "id": "CToSTCT2r_xT",
   "metadata": {
    "id": "CToSTCT2r_xT"
   },
   "source": [
    "# Safegaurding LLMs"
   ]
  },
  {
   "cell_type": "markdown",
   "id": "zKcZpsGmtK7D",
   "metadata": {
    "id": "zKcZpsGmtK7D"
   },
   "source": [
    "General challenges:\n",
    "* `Multi-language support`: language diversity, resource availability, adaptability of the models to language\n",
    "* `Open vs closed LLMs dilemma`: collaboration vs responsible use\n",
    "* `Model scalability`: representation capabilities, computational demand, training requirements\n",
    "* `biases`: biased training data, unfair language understanding and generation.\n",
    "  * `Toxicity score`: quantifies text toxicity using pre-trained hate speech classifier. ***0-1 score*** per input, or *it returns the maximum of the inputs' toxicity* scores if the argument `'aggregation=\"maximum\"'` is specified. Alternatively it can also return the percentage of input predictions with a toxicity score above 0.5, e.g. `aggregation=ratio`.\n",
    "  * `Regard`:aims at quantifying the ***language polarity*** and biased perception towards certain demographics.\n",
    "* `hallucinations`: generated text contains false or nonsensical information as if it were accurate.\n",
    "  * Training on diverse balanced data helps this issue.\n",
    "  * Bias audits on model outputs + bias removal techniques\n",
    "  * fine-tuning to specific use cases in sensitive applications\n",
    "  * prompt engineering: carefully crafting and refining prompts increases reliability and reduces hallucinations."
   ]
  },
  {
   "cell_type": "markdown",
   "id": "tq7utqHIxnLj",
   "metadata": {
    "id": "tq7utqHIxnLj"
   },
   "source": [
    "## Toxicity"
   ]
  },
  {
   "cell_type": "code",
   "execution_count": 52,
   "id": "_8zZeX1Xkkpz",
   "metadata": {
    "colab": {
     "base_uri": "https://localhost:8080/"
    },
    "id": "_8zZeX1Xkkpz",
    "outputId": "c140236b-167b-430d-fa76-b800e4bb1054"
   },
   "outputs": [
    {
     "name": "stderr",
     "output_type": "stream",
     "text": [
      "WARNING:evaluate_modules.metrics.evaluate-measurement--toxicity.2390290fa0bf6d78480143547c6b08f3d4f8805b249df8c7a8e80d0ce8e3778b.toxicity:Using default facebook/roberta-hate-speech-dynabench-r4-target checkpoint\n",
      "Device set to use cpu\n"
     ]
    },
    {
     "name": "stdout",
     "output_type": "stream",
     "text": [
      "Toxicity sentence 1: {'toxicity_ratio': 0.0}\n",
      "Toxicity sentence 2: {'max_toxicity': 0.010071286000311375}\n"
     ]
    }
   ],
   "source": [
    "toxicity_metric = load(\"toxicity\")\n",
    "\n",
    "text_1 = [\"Everyone in the team adores him\", \"He is a true genius, pure talent\"]\n",
    "text_2 = [\"Nobody in the team likes him\", \"He is a useless 'good-for-nothing'\"]\n",
    "\n",
    "toxicity_result_1 = toxicity_metric.compute(predictions=text_1, aggregation=\"ratio\")\n",
    "# toxicity_result_1 = toxicity_metric.compute(predictions=text_1, aggregation=\"maximum\")\n",
    "toxicity_result_2 = toxicity_metric.compute(predictions=text_2, aggregation=\"maximum\")\n",
    "\n",
    "print(\"Toxicity sentence 1:\", toxicity_result_1)\n",
    "print(\"Toxicity sentence 2:\", toxicity_result_2)\n",
    "\n"
   ]
  },
  {
   "cell_type": "markdown",
   "id": "_3Ee16okxvZu",
   "metadata": {
    "id": "_3Ee16okxvZu"
   },
   "source": [
    "## Regard"
   ]
  },
  {
   "cell_type": "code",
   "execution_count": 49,
   "id": "tirJfZ-BlYRu",
   "metadata": {
    "colab": {
     "base_uri": "https://localhost:8080/",
     "height": 259,
     "referenced_widgets": [
      "f6f08745a3fc470a96abafced1d08f18",
      "2099d0be6d904aaf87198e8508bf69c5",
      "eac6032f3380453494e8984a14bb3d36",
      "2c51bcfeb6ae4b4ea2b372bbddc50d57",
      "521b8d60ca6d41e78872091567df8863",
      "3861d50e4d574a93ae2dd998ff6ba6b0",
      "10935b4c249b406a9c8f68e78eb21705",
      "b3637603943248edac78b66f7c3bba81",
      "c38820a8d75340a19d0365bc7072b8e2",
      "66351260fab644b5abf7aab6242ec63b",
      "e9d334821fea4e3ca2bd44de1ef70d86",
      "aabc11c9b720471cb0f2a0d18d1e8487",
      "a973a29d92c7459aab6f012f3666721e",
      "43e6338af6744162a645335f48bdbc08",
      "fad535105f4441b6b48ccd5d0016ba9a",
      "f29e10ec0a6540f28619380851812f75",
      "724ecd90b9ed448f9e0bd59673456b1e",
      "b0ef113bf2cd4f519d2a0873ffb4eecf",
      "16ba4327c55e43bea095f6c7ae2786c5",
      "f35280009f7949c0bd5538715c993a55",
      "2622af8e0ff049aeb9107fa637df3224",
      "dcbc52277b8943e18572f8e3fdc265a4",
      "1727cfd1a81f45c8a4d1456e7688e22c",
      "1739e820d3b145a99121a4f1c2207da5",
      "d5f2b5f93b394976bb0bae24f32cdaa2",
      "f4c2d3ded7b543bfa7c096e66863a6ab",
      "9809bb20cb4e45e08c199195260a1422",
      "b59ee03aa8d34144be3910d73c568efa",
      "48c48d6eb54d4f0d8dc5116d65631cfc",
      "0ec2c0cc91c74721b7daa3921be62857",
      "ffb2309c939d439996d31b422730a74b",
      "34331959fa254fc0b3b637b78140f8ee",
      "971940c9d5ab40ee86fd6067788d5d47",
      "b55e704faaf74c0e8ca0ff8e0fa8d4ca",
      "94f8b7867b264e03b18618537e708754",
      "d13968afe1f64b218b6fc4c8a0d7a6a6",
      "08c7296765914ec1b806b45711b1e036",
      "25d5614a70cd49c7a508ed1e87d0c8ec",
      "edf44de5bc8b456ab2145bcf2b46b33f",
      "adc6c8dff81144e7b63d74930bab153c",
      "7f2691f161a149ab97cd1554765a8b6f",
      "feb9200dafa84c0c8c1dcee6a9923905",
      "4737202b81b44f6abb6ff718b89b18f5",
      "e84fcb7c93364e83b02df3daaad6526b",
      "b0d7503b4f3a466b864af8b4bf6b6abc",
      "3c40f168ef7348919b0b87daf18ff997",
      "c1e1d4fbde26457f81c38c79d637a503",
      "b6864a2abf1945749195654e1f7ae620",
      "e6fbc3a5d17d4602a5c55ac58b901c44",
      "b0489dcf47854b19b561040d8323ff02",
      "c9a33609e4ab4aca92a8ce09cffa7d22",
      "948c10138d694c77b85dbdd7e687bc67",
      "a701d3941f1e485cb10b424f32bc6b65",
      "bec6353e0e6546a2aca2cf33ccfc4911",
      "7c7a148088a14c3ba3db393ae77f8c4b",
      "6cda165baf6649ce8555617aa98c7064",
      "8526013e58dd4ea79bef5815335edede",
      "be7e8aae68f54bd1afc5038faac4cdea",
      "6b2106796a5c4ff0879ac64ec489ee69",
      "beb188d609bc4c51a3f62170d5e32499",
      "450d07c525874cfe89ddb41d18c7d1c6",
      "de5245f6342c407791c045f7f8ede773",
      "1186935b37c24e9694718f84455eabb8",
      "7b5552a3cd2149c4a56c01c5dfc91e07",
      "8e0cdca91db843c0a096bbdda82982d8",
      "a86e01f6782046858bdc8f8f96993d0a",
      "3f3788cf82a542b2a425c3bfeda9acb1",
      "7ecac2d600584c05b92db4d9c1f842b4",
      "c272a560d032417087d65cc4649af4fb",
      "47285c24e0aa4e1babdafc9f033140d2",
      "c89d470b32534bebbe2f57d54746cdd8",
      "9c45439ccb9d44fbab33b01a5354455f",
      "a0a4225bd5c44789ae93c6fec632e2e7",
      "5713f5ff610c4533850e9c4430211d8c",
      "1f5eccd9550446f1be6ccf68faef3803",
      "5c910b8f53514514941ca8eef4d03683",
      "307346a97f0b4ed8be754b19d9567dac"
     ]
    },
    "id": "tirJfZ-BlYRu",
    "outputId": "5408f381-bf6a-4eeb-8144-4d2caa3d3792"
   },
   "outputs": [
    {
     "data": {
      "application/vnd.jupyter.widget-view+json": {
       "model_id": "f6f08745a3fc470a96abafced1d08f18",
       "version_major": 2,
       "version_minor": 0
      },
      "text/plain": [
       "Downloading builder script: 0.00B [00:00, ?B/s]"
      ]
     },
     "metadata": {},
     "output_type": "display_data"
    },
    {
     "data": {
      "application/vnd.jupyter.widget-view+json": {
       "model_id": "aabc11c9b720471cb0f2a0d18d1e8487",
       "version_major": 2,
       "version_minor": 0
      },
      "text/plain": [
       "tokenizer_config.json:   0%|          | 0.00/48.0 [00:00<?, ?B/s]"
      ]
     },
     "metadata": {},
     "output_type": "display_data"
    },
    {
     "data": {
      "application/vnd.jupyter.widget-view+json": {
       "model_id": "1727cfd1a81f45c8a4d1456e7688e22c",
       "version_major": 2,
       "version_minor": 0
      },
      "text/plain": [
       "config.json:   0%|          | 0.00/681 [00:00<?, ?B/s]"
      ]
     },
     "metadata": {},
     "output_type": "display_data"
    },
    {
     "data": {
      "application/vnd.jupyter.widget-view+json": {
       "model_id": "b55e704faaf74c0e8ca0ff8e0fa8d4ca",
       "version_major": 2,
       "version_minor": 0
      },
      "text/plain": [
       "vocab.txt: 0.00B [00:00, ?B/s]"
      ]
     },
     "metadata": {},
     "output_type": "display_data"
    },
    {
     "data": {
      "application/vnd.jupyter.widget-view+json": {
       "model_id": "b0d7503b4f3a466b864af8b4bf6b6abc",
       "version_major": 2,
       "version_minor": 0
      },
      "text/plain": [
       "special_tokens_map.json:   0%|          | 0.00/112 [00:00<?, ?B/s]"
      ]
     },
     "metadata": {},
     "output_type": "display_data"
    },
    {
     "data": {
      "application/vnd.jupyter.widget-view+json": {
       "model_id": "6cda165baf6649ce8555617aa98c7064",
       "version_major": 2,
       "version_minor": 0
      },
      "text/plain": [
       "pytorch_model.bin:   0%|          | 0.00/438M [00:00<?, ?B/s]"
      ]
     },
     "metadata": {},
     "output_type": "display_data"
    },
    {
     "data": {
      "application/vnd.jupyter.widget-view+json": {
       "model_id": "3f3788cf82a542b2a425c3bfeda9acb1",
       "version_major": 2,
       "version_minor": 0
      },
      "text/plain": [
       "model.safetensors:   0%|          | 0.00/438M [00:00<?, ?B/s]"
      ]
     },
     "metadata": {},
     "output_type": "display_data"
    },
    {
     "name": "stderr",
     "output_type": "stream",
     "text": [
      "Device set to use cpu\n"
     ]
    }
   ],
   "source": [
    "regard = evaluate.load(\"regard\")\n",
    "\n",
    "group1 = [\"abc are described as loyal employees\",\n",
    "          \"abc are ambitious in their career expectations\"]\n",
    "group2 = [\"abs are known for causing lots of team conflicts\",\n",
    "          \"abs are verbally violent\"]\n",
    "\n",
    "polarity_result_1 = regard.compute(data=group1)\n",
    "polarity_result_2 = regard.compute(data=group2)\n"
   ]
  },
  {
   "cell_type": "code",
   "execution_count": 50,
   "id": "rNSgPoPBydXk",
   "metadata": {
    "colab": {
     "base_uri": "https://localhost:8080/"
    },
    "id": "rNSgPoPBydXk",
    "outputId": "9be9eb99-8f1b-4ee5-841f-ec5c875aab2b"
   },
   "outputs": [
    {
     "name": "stdout",
     "output_type": "stream",
     "text": [
      "[{'label': 'positive', 'score': 0.9098385572433472}, {'label': 'neutral', 'score': 0.059397004544734955}, {'label': 'other', 'score': 0.02646814100444317}, {'label': 'negative', 'score': 0.0042962608858942986}]\n",
      "[{'label': 'positive', 'score': 0.7809813618659973}, {'label': 'neutral', 'score': 0.1808597594499588}, {'label': 'other', 'score': 0.030492955818772316}, {'label': 'negative', 'score': 0.007666014134883881}]\n"
     ]
    }
   ],
   "source": [
    "for result in polarity_result_1['regard']:\n",
    "  print(result)\n"
   ]
  },
  {
   "cell_type": "code",
   "execution_count": 51,
   "id": "FOVWLHj7yv-c",
   "metadata": {
    "colab": {
     "base_uri": "https://localhost:8080/"
    },
    "id": "FOVWLHj7yv-c",
    "outputId": "965451b7-5f0b-4cc2-9ac2-ba44e187e1e4"
   },
   "outputs": [
    {
     "name": "stdout",
     "output_type": "stream",
     "text": [
      "[{'label': 'negative', 'score': 0.9675315618515015}, {'label': 'other', 'score': 0.020668117329478264}, {'label': 'neutral', 'score': 0.011284657754004002}, {'label': 'positive', 'score': 0.0005157075356692076}]\n",
      "[{'label': 'negative', 'score': 0.9772918224334717}, {'label': 'other', 'score': 0.013273445889353752}, {'label': 'neutral', 'score': 0.008894754573702812}, {'label': 'positive', 'score': 0.000539948872756213}]\n"
     ]
    }
   ],
   "source": [
    "for result in polarity_result_2['regard']:\n",
    "  print(result)"
   ]
  },
  {
   "cell_type": "markdown",
   "id": "_e-Jdwmky482",
   "metadata": {
    "id": "_e-Jdwmky482"
   },
   "source": [
    "* the sentences in group 1 show a predominantly positive polarity as apposed to a negative polarity."
   ]
  },
  {
   "cell_type": "code",
   "execution_count": 56,
   "id": "6Rfw8jZuyyrc",
   "metadata": {
    "colab": {
     "base_uri": "https://localhost:8080/"
    },
    "id": "6Rfw8jZuyyrc",
    "outputId": "91adeac3-a2ed-4260-c4d0-f43333c28810"
   },
   "outputs": [
    {
     "name": "stderr",
     "output_type": "stream",
     "text": [
      "Device set to use cpu\n"
     ]
    },
    {
     "name": "stdout",
     "output_type": "stream",
     "text": [
      "Polarity comparison between groups:\n",
      " {'regard_difference': {'positive': 0.8448821313504595, 'neutral': 0.11003867583349347, 'other': 0.011509766802191734, 'negative': -0.9664305546320975}}\n"
     ]
    }
   ],
   "source": [
    "regard_comp = evaluate.load(\"regard\", \"compare\")\n",
    "polarity_results_comp = regard_comp.compute(data=group1, references=group2)\n",
    "print(\"Polarity comparison between groups:\\n\", polarity_results_comp)\n"
   ]
  },
  {
   "cell_type": "code",
   "execution_count": null,
   "id": "VOERLMv61nAR",
   "metadata": {
    "id": "VOERLMv61nAR"
   },
   "outputs": [],
   "source": []
  }
 ],
 "metadata": {
  "colab": {
   "provenance": [],
   "toc_visible": true
  },
  "kernelspec": {
   "display_name": "Python 3.9",
   "language": "python",
   "name": "python39"
  },
  "language_info": {
   "name": "python"
  },
  "widgets": {
   "application/vnd.jupyter.widget-state+json": {
    "001812f25ce54915b7d2b267a8bff891": {
     "model_module": "@jupyter-widgets/controls",
     "model_module_version": "1.5.0",
     "model_name": "FloatProgressModel",
     "state": {
      "_dom_classes": [],
      "_model_module": "@jupyter-widgets/controls",
      "_model_module_version": "1.5.0",
      "_model_name": "FloatProgressModel",
      "_view_count": null,
      "_view_module": "@jupyter-widgets/controls",
      "_view_module_version": "1.5.0",
      "_view_name": "ProgressView",
      "bar_style": "success",
      "description": "",
      "description_tooltip": null,
      "layout": "IPY_MODEL_b57a1354b8474c32bd8bf349ace05a43",
      "max": 6250,
      "min": 0,
      "orientation": "horizontal",
      "style": "IPY_MODEL_c406ced3ef5c45cb95e4423a01e4ba4f",
      "value": 6250
     }
    },
    "0029d661b6a241698bebe0cec4d09d10": {
     "model_module": "@jupyter-widgets/controls",
     "model_module_version": "1.5.0",
     "model_name": "DescriptionStyleModel",
     "state": {
      "_model_module": "@jupyter-widgets/controls",
      "_model_module_version": "1.5.0",
      "_model_name": "DescriptionStyleModel",
      "_view_count": null,
      "_view_module": "@jupyter-widgets/base",
      "_view_module_version": "1.2.0",
      "_view_name": "StyleView",
      "description_width": ""
     }
    },
    "03672e91f3e94ab0bc1f777fb4df28fb": {
     "model_module": "@jupyter-widgets/controls",
     "model_module_version": "1.5.0",
     "model_name": "HTMLModel",
     "state": {
      "_dom_classes": [],
      "_model_module": "@jupyter-widgets/controls",
      "_model_module_version": "1.5.0",
      "_model_name": "HTMLModel",
      "_view_count": null,
      "_view_module": "@jupyter-widgets/controls",
      "_view_module_version": "1.5.0",
      "_view_name": "HTMLView",
      "description": "",
      "description_tooltip": null,
      "layout": "IPY_MODEL_1e53463aa3424750820925c4290bae24",
      "placeholder": "​",
      "style": "IPY_MODEL_400fc12c11cf4ef0a2ccb31609897beb",
      "value": " 4.07k/? [00:00&lt;00:00, 277kB/s]"
     }
    },
    "03c0643d4b4448578c0e4ea8fb5b8836": {
     "model_module": "@jupyter-widgets/controls",
     "model_module_version": "1.5.0",
     "model_name": "DescriptionStyleModel",
     "state": {
      "_model_module": "@jupyter-widgets/controls",
      "_model_module_version": "1.5.0",
      "_model_name": "DescriptionStyleModel",
      "_view_count": null,
      "_view_module": "@jupyter-widgets/base",
      "_view_module_version": "1.2.0",
      "_view_name": "StyleView",
      "description_width": ""
     }
    },
    "0665063f4f924477bf873bfa9a3bf766": {
     "model_module": "@jupyter-widgets/base",
     "model_module_version": "1.2.0",
     "model_name": "LayoutModel",
     "state": {
      "_model_module": "@jupyter-widgets/base",
      "_model_module_version": "1.2.0",
      "_model_name": "LayoutModel",
      "_view_count": null,
      "_view_module": "@jupyter-widgets/base",
      "_view_module_version": "1.2.0",
      "_view_name": "LayoutView",
      "align_content": null,
      "align_items": null,
      "align_self": null,
      "border": null,
      "bottom": null,
      "display": null,
      "flex": null,
      "flex_flow": null,
      "grid_area": null,
      "grid_auto_columns": null,
      "grid_auto_flow": null,
      "grid_auto_rows": null,
      "grid_column": null,
      "grid_gap": null,
      "grid_row": null,
      "grid_template_areas": null,
      "grid_template_columns": null,
      "grid_template_rows": null,
      "height": null,
      "justify_content": null,
      "justify_items": null,
      "left": null,
      "margin": null,
      "max_height": null,
      "max_width": null,
      "min_height": null,
      "min_width": null,
      "object_fit": null,
      "object_position": null,
      "order": null,
      "overflow": null,
      "overflow_x": null,
      "overflow_y": null,
      "padding": null,
      "right": null,
      "top": null,
      "visibility": null,
      "width": null
     }
    },
    "066e5fc67e3d49ad8fe661d5ec2856b9": {
     "model_module": "@jupyter-widgets/controls",
     "model_module_version": "1.5.0",
     "model_name": "HBoxModel",
     "state": {
      "_dom_classes": [],
      "_model_module": "@jupyter-widgets/controls",
      "_model_module_version": "1.5.0",
      "_model_name": "HBoxModel",
      "_view_count": null,
      "_view_module": "@jupyter-widgets/controls",
      "_view_module_version": "1.5.0",
      "_view_name": "HBoxView",
      "box_style": "",
      "children": [
       "IPY_MODEL_a17409f3eab241558bda205bce213149",
       "IPY_MODEL_e3983d416d13496aada184cdba109f41",
       "IPY_MODEL_fb60f2804648420c9567367cc8af80f2"
      ],
      "layout": "IPY_MODEL_dfef9e5ab710426dab09aae105d572f8"
     }
    },
    "07ab726e913941b8a3504acc3133cdf0": {
     "model_module": "@jupyter-widgets/controls",
     "model_module_version": "1.5.0",
     "model_name": "DescriptionStyleModel",
     "state": {
      "_model_module": "@jupyter-widgets/controls",
      "_model_module_version": "1.5.0",
      "_model_name": "DescriptionStyleModel",
      "_view_count": null,
      "_view_module": "@jupyter-widgets/base",
      "_view_module_version": "1.2.0",
      "_view_name": "StyleView",
      "description_width": ""
     }
    },
    "08c7296765914ec1b806b45711b1e036": {
     "model_module": "@jupyter-widgets/controls",
     "model_module_version": "1.5.0",
     "model_name": "HTMLModel",
     "state": {
      "_dom_classes": [],
      "_model_module": "@jupyter-widgets/controls",
      "_model_module_version": "1.5.0",
      "_model_name": "HTMLModel",
      "_view_count": null,
      "_view_module": "@jupyter-widgets/controls",
      "_view_module_version": "1.5.0",
      "_view_name": "HTMLView",
      "description": "",
      "description_tooltip": null,
      "layout": "IPY_MODEL_4737202b81b44f6abb6ff718b89b18f5",
      "placeholder": "​",
      "style": "IPY_MODEL_e84fcb7c93364e83b02df3daaad6526b",
      "value": " 232k/? [00:00&lt;00:00, 6.15MB/s]"
     }
    },
    "09b3620a9a954ca181bd66c7b5913832": {
     "model_module": "@jupyter-widgets/base",
     "model_module_version": "1.2.0",
     "model_name": "LayoutModel",
     "state": {
      "_model_module": "@jupyter-widgets/base",
      "_model_module_version": "1.2.0",
      "_model_name": "LayoutModel",
      "_view_count": null,
      "_view_module": "@jupyter-widgets/base",
      "_view_module_version": "1.2.0",
      "_view_name": "LayoutView",
      "align_content": null,
      "align_items": null,
      "align_self": null,
      "border": null,
      "bottom": null,
      "display": null,
      "flex": null,
      "flex_flow": null,
      "grid_area": null,
      "grid_auto_columns": null,
      "grid_auto_flow": null,
      "grid_auto_rows": null,
      "grid_column": null,
      "grid_gap": null,
      "grid_row": null,
      "grid_template_areas": null,
      "grid_template_columns": null,
      "grid_template_rows": null,
      "height": null,
      "justify_content": null,
      "justify_items": null,
      "left": null,
      "margin": null,
      "max_height": null,
      "max_width": null,
      "min_height": null,
      "min_width": null,
      "object_fit": null,
      "object_position": null,
      "order": null,
      "overflow": null,
      "overflow_x": null,
      "overflow_y": null,
      "padding": null,
      "right": null,
      "top": null,
      "visibility": null,
      "width": null
     }
    },
    "0ca87a05318d47f58d0b1ccc533d480e": {
     "model_module": "@jupyter-widgets/base",
     "model_module_version": "1.2.0",
     "model_name": "LayoutModel",
     "state": {
      "_model_module": "@jupyter-widgets/base",
      "_model_module_version": "1.2.0",
      "_model_name": "LayoutModel",
      "_view_count": null,
      "_view_module": "@jupyter-widgets/base",
      "_view_module_version": "1.2.0",
      "_view_name": "LayoutView",
      "align_content": null,
      "align_items": null,
      "align_self": null,
      "border": null,
      "bottom": null,
      "display": null,
      "flex": null,
      "flex_flow": null,
      "grid_area": null,
      "grid_auto_columns": null,
      "grid_auto_flow": null,
      "grid_auto_rows": null,
      "grid_column": null,
      "grid_gap": null,
      "grid_row": null,
      "grid_template_areas": null,
      "grid_template_columns": null,
      "grid_template_rows": null,
      "height": null,
      "justify_content": null,
      "justify_items": null,
      "left": null,
      "margin": null,
      "max_height": null,
      "max_width": null,
      "min_height": null,
      "min_width": null,
      "object_fit": null,
      "object_position": null,
      "order": null,
      "overflow": null,
      "overflow_x": null,
      "overflow_y": null,
      "padding": null,
      "right": null,
      "top": null,
      "visibility": null,
      "width": "20px"
     }
    },
    "0de8dcf670804c0d832a751b285e7e0d": {
     "model_module": "@jupyter-widgets/controls",
     "model_module_version": "1.5.0",
     "model_name": "HTMLModel",
     "state": {
      "_dom_classes": [],
      "_model_module": "@jupyter-widgets/controls",
      "_model_module_version": "1.5.0",
      "_model_name": "HTMLModel",
      "_view_count": null,
      "_view_module": "@jupyter-widgets/controls",
      "_view_module_version": "1.5.0",
      "_view_name": "HTMLView",
      "description": "",
      "description_tooltip": null,
      "layout": "IPY_MODEL_a449ec327b6b4ffda84cd3dc55bc7d7c",
      "placeholder": "​",
      "style": "IPY_MODEL_2703bd891e394b41b8949d9729555d64",
      "value": " 6250/6250 [00:13&lt;00:00, 406.19 examples/s]"
     }
    },
    "0ec2c0cc91c74721b7daa3921be62857": {
     "model_module": "@jupyter-widgets/base",
     "model_module_version": "1.2.0",
     "model_name": "LayoutModel",
     "state": {
      "_model_module": "@jupyter-widgets/base",
      "_model_module_version": "1.2.0",
      "_model_name": "LayoutModel",
      "_view_count": null,
      "_view_module": "@jupyter-widgets/base",
      "_view_module_version": "1.2.0",
      "_view_name": "LayoutView",
      "align_content": null,
      "align_items": null,
      "align_self": null,
      "border": null,
      "bottom": null,
      "display": null,
      "flex": null,
      "flex_flow": null,
      "grid_area": null,
      "grid_auto_columns": null,
      "grid_auto_flow": null,
      "grid_auto_rows": null,
      "grid_column": null,
      "grid_gap": null,
      "grid_row": null,
      "grid_template_areas": null,
      "grid_template_columns": null,
      "grid_template_rows": null,
      "height": null,
      "justify_content": null,
      "justify_items": null,
      "left": null,
      "margin": null,
      "max_height": null,
      "max_width": null,
      "min_height": null,
      "min_width": null,
      "object_fit": null,
      "object_position": null,
      "order": null,
      "overflow": null,
      "overflow_x": null,
      "overflow_y": null,
      "padding": null,
      "right": null,
      "top": null,
      "visibility": null,
      "width": null
     }
    },
    "102b5001459447549fa59b12ccbe138f": {
     "model_module": "@jupyter-widgets/controls",
     "model_module_version": "1.5.0",
     "model_name": "HTMLModel",
     "state": {
      "_dom_classes": [],
      "_model_module": "@jupyter-widgets/controls",
      "_model_module_version": "1.5.0",
      "_model_name": "HTMLModel",
      "_view_count": null,
      "_view_module": "@jupyter-widgets/controls",
      "_view_module_version": "1.5.0",
      "_view_name": "HTMLView",
      "description": "",
      "description_tooltip": null,
      "layout": "IPY_MODEL_c5f1e5affb4143059a8d289774c2d7ee",
      "placeholder": "​",
      "style": "IPY_MODEL_45149919d12a4730b9def8663f013c8b",
      "value": "config.json: 100%"
     }
    },
    "10935b4c249b406a9c8f68e78eb21705": {
     "model_module": "@jupyter-widgets/controls",
     "model_module_version": "1.5.0",
     "model_name": "DescriptionStyleModel",
     "state": {
      "_model_module": "@jupyter-widgets/controls",
      "_model_module_version": "1.5.0",
      "_model_name": "DescriptionStyleModel",
      "_view_count": null,
      "_view_module": "@jupyter-widgets/base",
      "_view_module_version": "1.2.0",
      "_view_name": "StyleView",
      "description_width": ""
     }
    },
    "113f11fbeb5b482ab70ad50fc3046e9c": {
     "model_module": "@jupyter-widgets/controls",
     "model_module_version": "1.5.0",
     "model_name": "HTMLModel",
     "state": {
      "_dom_classes": [],
      "_model_module": "@jupyter-widgets/controls",
      "_model_module_version": "1.5.0",
      "_model_name": "HTMLModel",
      "_view_count": null,
      "_view_module": "@jupyter-widgets/controls",
      "_view_module_version": "1.5.0",
      "_view_name": "HTMLView",
      "description": "",
      "description_tooltip": null,
      "layout": "IPY_MODEL_8a80c07c65c54116abf7c551bfb072ec",
      "placeholder": "​",
      "style": "IPY_MODEL_5a76c2dbcdaf4d1781025d6d7a60e020",
      "value": "vocab.txt: 100%"
     }
    },
    "1186935b37c24e9694718f84455eabb8": {
     "model_module": "@jupyter-widgets/base",
     "model_module_version": "1.2.0",
     "model_name": "LayoutModel",
     "state": {
      "_model_module": "@jupyter-widgets/base",
      "_model_module_version": "1.2.0",
      "_model_name": "LayoutModel",
      "_view_count": null,
      "_view_module": "@jupyter-widgets/base",
      "_view_module_version": "1.2.0",
      "_view_name": "LayoutView",
      "align_content": null,
      "align_items": null,
      "align_self": null,
      "border": null,
      "bottom": null,
      "display": null,
      "flex": null,
      "flex_flow": null,
      "grid_area": null,
      "grid_auto_columns": null,
      "grid_auto_flow": null,
      "grid_auto_rows": null,
      "grid_column": null,
      "grid_gap": null,
      "grid_row": null,
      "grid_template_areas": null,
      "grid_template_columns": null,
      "grid_template_rows": null,
      "height": null,
      "justify_content": null,
      "justify_items": null,
      "left": null,
      "margin": null,
      "max_height": null,
      "max_width": null,
      "min_height": null,
      "min_width": null,
      "object_fit": null,
      "object_position": null,
      "order": null,
      "overflow": null,
      "overflow_x": null,
      "overflow_y": null,
      "padding": null,
      "right": null,
      "top": null,
      "visibility": null,
      "width": null
     }
    },
    "1351a04e71454d9daca6d7a4822a5905": {
     "model_module": "@jupyter-widgets/base",
     "model_module_version": "1.2.0",
     "model_name": "LayoutModel",
     "state": {
      "_model_module": "@jupyter-widgets/base",
      "_model_module_version": "1.2.0",
      "_model_name": "LayoutModel",
      "_view_count": null,
      "_view_module": "@jupyter-widgets/base",
      "_view_module_version": "1.2.0",
      "_view_name": "LayoutView",
      "align_content": null,
      "align_items": null,
      "align_self": null,
      "border": null,
      "bottom": null,
      "display": null,
      "flex": null,
      "flex_flow": null,
      "grid_area": null,
      "grid_auto_columns": null,
      "grid_auto_flow": null,
      "grid_auto_rows": null,
      "grid_column": null,
      "grid_gap": null,
      "grid_row": null,
      "grid_template_areas": null,
      "grid_template_columns": null,
      "grid_template_rows": null,
      "height": null,
      "justify_content": null,
      "justify_items": null,
      "left": null,
      "margin": null,
      "max_height": null,
      "max_width": null,
      "min_height": null,
      "min_width": null,
      "object_fit": null,
      "object_position": null,
      "order": null,
      "overflow": null,
      "overflow_x": null,
      "overflow_y": null,
      "padding": null,
      "right": null,
      "top": null,
      "visibility": null,
      "width": null
     }
    },
    "16ba4327c55e43bea095f6c7ae2786c5": {
     "model_module": "@jupyter-widgets/base",
     "model_module_version": "1.2.0",
     "model_name": "LayoutModel",
     "state": {
      "_model_module": "@jupyter-widgets/base",
      "_model_module_version": "1.2.0",
      "_model_name": "LayoutModel",
      "_view_count": null,
      "_view_module": "@jupyter-widgets/base",
      "_view_module_version": "1.2.0",
      "_view_name": "LayoutView",
      "align_content": null,
      "align_items": null,
      "align_self": null,
      "border": null,
      "bottom": null,
      "display": null,
      "flex": null,
      "flex_flow": null,
      "grid_area": null,
      "grid_auto_columns": null,
      "grid_auto_flow": null,
      "grid_auto_rows": null,
      "grid_column": null,
      "grid_gap": null,
      "grid_row": null,
      "grid_template_areas": null,
      "grid_template_columns": null,
      "grid_template_rows": null,
      "height": null,
      "justify_content": null,
      "justify_items": null,
      "left": null,
      "margin": null,
      "max_height": null,
      "max_width": null,
      "min_height": null,
      "min_width": null,
      "object_fit": null,
      "object_position": null,
      "order": null,
      "overflow": null,
      "overflow_x": null,
      "overflow_y": null,
      "padding": null,
      "right": null,
      "top": null,
      "visibility": null,
      "width": null
     }
    },
    "1727cfd1a81f45c8a4d1456e7688e22c": {
     "model_module": "@jupyter-widgets/controls",
     "model_module_version": "1.5.0",
     "model_name": "HBoxModel",
     "state": {
      "_dom_classes": [],
      "_model_module": "@jupyter-widgets/controls",
      "_model_module_version": "1.5.0",
      "_model_name": "HBoxModel",
      "_view_count": null,
      "_view_module": "@jupyter-widgets/controls",
      "_view_module_version": "1.5.0",
      "_view_name": "HBoxView",
      "box_style": "",
      "children": [
       "IPY_MODEL_1739e820d3b145a99121a4f1c2207da5",
       "IPY_MODEL_d5f2b5f93b394976bb0bae24f32cdaa2",
       "IPY_MODEL_f4c2d3ded7b543bfa7c096e66863a6ab"
      ],
      "layout": "IPY_MODEL_9809bb20cb4e45e08c199195260a1422"
     }
    },
    "1739e820d3b145a99121a4f1c2207da5": {
     "model_module": "@jupyter-widgets/controls",
     "model_module_version": "1.5.0",
     "model_name": "HTMLModel",
     "state": {
      "_dom_classes": [],
      "_model_module": "@jupyter-widgets/controls",
      "_model_module_version": "1.5.0",
      "_model_name": "HTMLModel",
      "_view_count": null,
      "_view_module": "@jupyter-widgets/controls",
      "_view_module_version": "1.5.0",
      "_view_name": "HTMLView",
      "description": "",
      "description_tooltip": null,
      "layout": "IPY_MODEL_b59ee03aa8d34144be3910d73c568efa",
      "placeholder": "​",
      "style": "IPY_MODEL_48c48d6eb54d4f0d8dc5116d65631cfc",
      "value": "config.json: 100%"
     }
    },
    "18e24e1f9de644e3b6d26e6c15662709": {
     "model_module": "@jupyter-widgets/controls",
     "model_module_version": "1.5.0",
     "model_name": "ProgressStyleModel",
     "state": {
      "_model_module": "@jupyter-widgets/controls",
      "_model_module_version": "1.5.0",
      "_model_name": "ProgressStyleModel",
      "_view_count": null,
      "_view_module": "@jupyter-widgets/base",
      "_view_module_version": "1.2.0",
      "_view_name": "StyleView",
      "bar_color": null,
      "description_width": ""
     }
    },
    "1c021b4fc423431ea7eb82bb6b88f181": {
     "model_module": "@jupyter-widgets/controls",
     "model_module_version": "1.5.0",
     "model_name": "FloatProgressModel",
     "state": {
      "_dom_classes": [],
      "_model_module": "@jupyter-widgets/controls",
      "_model_module_version": "1.5.0",
      "_model_name": "FloatProgressModel",
      "_view_count": null,
      "_view_module": "@jupyter-widgets/controls",
      "_view_module_version": "1.5.0",
      "_view_name": "ProgressView",
      "bar_style": "success",
      "description": "",
      "description_tooltip": null,
      "layout": "IPY_MODEL_a5295974b5044d9caf1e084792beeab3",
      "max": 48,
      "min": 0,
      "orientation": "horizontal",
      "style": "IPY_MODEL_5f7e026e73dc4a4ea63d4e3a32003872",
      "value": 48
     }
    },
    "1c9dd125dd084441939b14b371420163": {
     "model_module": "@jupyter-widgets/controls",
     "model_module_version": "1.5.0",
     "model_name": "DescriptionStyleModel",
     "state": {
      "_model_module": "@jupyter-widgets/controls",
      "_model_module_version": "1.5.0",
      "_model_name": "DescriptionStyleModel",
      "_view_count": null,
      "_view_module": "@jupyter-widgets/base",
      "_view_module_version": "1.2.0",
      "_view_name": "StyleView",
      "description_width": ""
     }
    },
    "1cb1050e9ff643fd8b56c506bb488062": {
     "model_module": "@jupyter-widgets/base",
     "model_module_version": "1.2.0",
     "model_name": "LayoutModel",
     "state": {
      "_model_module": "@jupyter-widgets/base",
      "_model_module_version": "1.2.0",
      "_model_name": "LayoutModel",
      "_view_count": null,
      "_view_module": "@jupyter-widgets/base",
      "_view_module_version": "1.2.0",
      "_view_name": "LayoutView",
      "align_content": null,
      "align_items": null,
      "align_self": null,
      "border": null,
      "bottom": null,
      "display": null,
      "flex": null,
      "flex_flow": null,
      "grid_area": null,
      "grid_auto_columns": null,
      "grid_auto_flow": null,
      "grid_auto_rows": null,
      "grid_column": null,
      "grid_gap": null,
      "grid_row": null,
      "grid_template_areas": null,
      "grid_template_columns": null,
      "grid_template_rows": null,
      "height": null,
      "justify_content": null,
      "justify_items": null,
      "left": null,
      "margin": null,
      "max_height": null,
      "max_width": null,
      "min_height": null,
      "min_width": null,
      "object_fit": null,
      "object_position": null,
      "order": null,
      "overflow": null,
      "overflow_x": null,
      "overflow_y": null,
      "padding": null,
      "right": null,
      "top": null,
      "visibility": null,
      "width": null
     }
    },
    "1d0610610cea423b8e9de082b9338e07": {
     "model_module": "@jupyter-widgets/base",
     "model_module_version": "1.2.0",
     "model_name": "LayoutModel",
     "state": {
      "_model_module": "@jupyter-widgets/base",
      "_model_module_version": "1.2.0",
      "_model_name": "LayoutModel",
      "_view_count": null,
      "_view_module": "@jupyter-widgets/base",
      "_view_module_version": "1.2.0",
      "_view_name": "LayoutView",
      "align_content": null,
      "align_items": null,
      "align_self": null,
      "border": null,
      "bottom": null,
      "display": null,
      "flex": null,
      "flex_flow": null,
      "grid_area": null,
      "grid_auto_columns": null,
      "grid_auto_flow": null,
      "grid_auto_rows": null,
      "grid_column": null,
      "grid_gap": null,
      "grid_row": null,
      "grid_template_areas": null,
      "grid_template_columns": null,
      "grid_template_rows": null,
      "height": null,
      "justify_content": null,
      "justify_items": null,
      "left": null,
      "margin": null,
      "max_height": null,
      "max_width": null,
      "min_height": null,
      "min_width": null,
      "object_fit": null,
      "object_position": null,
      "order": null,
      "overflow": null,
      "overflow_x": null,
      "overflow_y": null,
      "padding": null,
      "right": null,
      "top": null,
      "visibility": null,
      "width": "20px"
     }
    },
    "1e53463aa3424750820925c4290bae24": {
     "model_module": "@jupyter-widgets/base",
     "model_module_version": "1.2.0",
     "model_name": "LayoutModel",
     "state": {
      "_model_module": "@jupyter-widgets/base",
      "_model_module_version": "1.2.0",
      "_model_name": "LayoutModel",
      "_view_count": null,
      "_view_module": "@jupyter-widgets/base",
      "_view_module_version": "1.2.0",
      "_view_name": "LayoutView",
      "align_content": null,
      "align_items": null,
      "align_self": null,
      "border": null,
      "bottom": null,
      "display": null,
      "flex": null,
      "flex_flow": null,
      "grid_area": null,
      "grid_auto_columns": null,
      "grid_auto_flow": null,
      "grid_auto_rows": null,
      "grid_column": null,
      "grid_gap": null,
      "grid_row": null,
      "grid_template_areas": null,
      "grid_template_columns": null,
      "grid_template_rows": null,
      "height": null,
      "justify_content": null,
      "justify_items": null,
      "left": null,
      "margin": null,
      "max_height": null,
      "max_width": null,
      "min_height": null,
      "min_width": null,
      "object_fit": null,
      "object_position": null,
      "order": null,
      "overflow": null,
      "overflow_x": null,
      "overflow_y": null,
      "padding": null,
      "right": null,
      "top": null,
      "visibility": null,
      "width": null
     }
    },
    "1f5eccd9550446f1be6ccf68faef3803": {
     "model_module": "@jupyter-widgets/controls",
     "model_module_version": "1.5.0",
     "model_name": "ProgressStyleModel",
     "state": {
      "_model_module": "@jupyter-widgets/controls",
      "_model_module_version": "1.5.0",
      "_model_name": "ProgressStyleModel",
      "_view_count": null,
      "_view_module": "@jupyter-widgets/base",
      "_view_module_version": "1.2.0",
      "_view_name": "StyleView",
      "bar_color": null,
      "description_width": ""
     }
    },
    "2099d0be6d904aaf87198e8508bf69c5": {
     "model_module": "@jupyter-widgets/controls",
     "model_module_version": "1.5.0",
     "model_name": "HTMLModel",
     "state": {
      "_dom_classes": [],
      "_model_module": "@jupyter-widgets/controls",
      "_model_module_version": "1.5.0",
      "_model_name": "HTMLModel",
      "_view_count": null,
      "_view_module": "@jupyter-widgets/controls",
      "_view_module_version": "1.5.0",
      "_view_name": "HTMLView",
      "description": "",
      "description_tooltip": null,
      "layout": "IPY_MODEL_3861d50e4d574a93ae2dd998ff6ba6b0",
      "placeholder": "​",
      "style": "IPY_MODEL_10935b4c249b406a9c8f68e78eb21705",
      "value": "Downloading builder script: "
     }
    },
    "238155e7741d424c949e34e07d49a2b0": {
     "model_module": "@jupyter-widgets/base",
     "model_module_version": "1.2.0",
     "model_name": "LayoutModel",
     "state": {
      "_model_module": "@jupyter-widgets/base",
      "_model_module_version": "1.2.0",
      "_model_name": "LayoutModel",
      "_view_count": null,
      "_view_module": "@jupyter-widgets/base",
      "_view_module_version": "1.2.0",
      "_view_name": "LayoutView",
      "align_content": null,
      "align_items": null,
      "align_self": null,
      "border": null,
      "bottom": null,
      "display": null,
      "flex": null,
      "flex_flow": null,
      "grid_area": null,
      "grid_auto_columns": null,
      "grid_auto_flow": null,
      "grid_auto_rows": null,
      "grid_column": null,
      "grid_gap": null,
      "grid_row": null,
      "grid_template_areas": null,
      "grid_template_columns": null,
      "grid_template_rows": null,
      "height": null,
      "justify_content": null,
      "justify_items": null,
      "left": null,
      "margin": null,
      "max_height": null,
      "max_width": null,
      "min_height": null,
      "min_width": null,
      "object_fit": null,
      "object_position": null,
      "order": null,
      "overflow": null,
      "overflow_x": null,
      "overflow_y": null,
      "padding": null,
      "right": null,
      "top": null,
      "visibility": null,
      "width": null
     }
    },
    "243a78b9f6474825b9f1fdbe7ef4f3d8": {
     "model_module": "@jupyter-widgets/controls",
     "model_module_version": "1.5.0",
     "model_name": "HBoxModel",
     "state": {
      "_dom_classes": [],
      "_model_module": "@jupyter-widgets/controls",
      "_model_module_version": "1.5.0",
      "_model_name": "HBoxModel",
      "_view_count": null,
      "_view_module": "@jupyter-widgets/controls",
      "_view_module_version": "1.5.0",
      "_view_name": "HBoxView",
      "box_style": "",
      "children": [
       "IPY_MODEL_31ae24a7c59c41b98944f3c6bdc13852",
       "IPY_MODEL_a294deee72fe43828cf93d975d9a9946",
       "IPY_MODEL_03672e91f3e94ab0bc1f777fb4df28fb"
      ],
      "layout": "IPY_MODEL_7c94a69f64d449e395a19ddc7a310774"
     }
    },
    "24ef2489e6e345f8a9c9ee848f99ccb9": {
     "model_module": "@jupyter-widgets/base",
     "model_module_version": "1.2.0",
     "model_name": "LayoutModel",
     "state": {
      "_model_module": "@jupyter-widgets/base",
      "_model_module_version": "1.2.0",
      "_model_name": "LayoutModel",
      "_view_count": null,
      "_view_module": "@jupyter-widgets/base",
      "_view_module_version": "1.2.0",
      "_view_name": "LayoutView",
      "align_content": null,
      "align_items": null,
      "align_self": null,
      "border": null,
      "bottom": null,
      "display": null,
      "flex": null,
      "flex_flow": null,
      "grid_area": null,
      "grid_auto_columns": null,
      "grid_auto_flow": null,
      "grid_auto_rows": null,
      "grid_column": null,
      "grid_gap": null,
      "grid_row": null,
      "grid_template_areas": null,
      "grid_template_columns": null,
      "grid_template_rows": null,
      "height": null,
      "justify_content": null,
      "justify_items": null,
      "left": null,
      "margin": null,
      "max_height": null,
      "max_width": null,
      "min_height": null,
      "min_width": null,
      "object_fit": null,
      "object_position": null,
      "order": null,
      "overflow": null,
      "overflow_x": null,
      "overflow_y": null,
      "padding": null,
      "right": null,
      "top": null,
      "visibility": null,
      "width": null
     }
    },
    "25b4d107a0814c409c96e071f3a7dd65": {
     "model_module": "@jupyter-widgets/base",
     "model_module_version": "1.2.0",
     "model_name": "LayoutModel",
     "state": {
      "_model_module": "@jupyter-widgets/base",
      "_model_module_version": "1.2.0",
      "_model_name": "LayoutModel",
      "_view_count": null,
      "_view_module": "@jupyter-widgets/base",
      "_view_module_version": "1.2.0",
      "_view_name": "LayoutView",
      "align_content": null,
      "align_items": null,
      "align_self": null,
      "border": null,
      "bottom": null,
      "display": null,
      "flex": null,
      "flex_flow": null,
      "grid_area": null,
      "grid_auto_columns": null,
      "grid_auto_flow": null,
      "grid_auto_rows": null,
      "grid_column": null,
      "grid_gap": null,
      "grid_row": null,
      "grid_template_areas": null,
      "grid_template_columns": null,
      "grid_template_rows": null,
      "height": null,
      "justify_content": null,
      "justify_items": null,
      "left": null,
      "margin": null,
      "max_height": null,
      "max_width": null,
      "min_height": null,
      "min_width": null,
      "object_fit": null,
      "object_position": null,
      "order": null,
      "overflow": null,
      "overflow_x": null,
      "overflow_y": null,
      "padding": null,
      "right": null,
      "top": null,
      "visibility": null,
      "width": null
     }
    },
    "25d5614a70cd49c7a508ed1e87d0c8ec": {
     "model_module": "@jupyter-widgets/base",
     "model_module_version": "1.2.0",
     "model_name": "LayoutModel",
     "state": {
      "_model_module": "@jupyter-widgets/base",
      "_model_module_version": "1.2.0",
      "_model_name": "LayoutModel",
      "_view_count": null,
      "_view_module": "@jupyter-widgets/base",
      "_view_module_version": "1.2.0",
      "_view_name": "LayoutView",
      "align_content": null,
      "align_items": null,
      "align_self": null,
      "border": null,
      "bottom": null,
      "display": null,
      "flex": null,
      "flex_flow": null,
      "grid_area": null,
      "grid_auto_columns": null,
      "grid_auto_flow": null,
      "grid_auto_rows": null,
      "grid_column": null,
      "grid_gap": null,
      "grid_row": null,
      "grid_template_areas": null,
      "grid_template_columns": null,
      "grid_template_rows": null,
      "height": null,
      "justify_content": null,
      "justify_items": null,
      "left": null,
      "margin": null,
      "max_height": null,
      "max_width": null,
      "min_height": null,
      "min_width": null,
      "object_fit": null,
      "object_position": null,
      "order": null,
      "overflow": null,
      "overflow_x": null,
      "overflow_y": null,
      "padding": null,
      "right": null,
      "top": null,
      "visibility": null,
      "width": null
     }
    },
    "2622af8e0ff049aeb9107fa637df3224": {
     "model_module": "@jupyter-widgets/base",
     "model_module_version": "1.2.0",
     "model_name": "LayoutModel",
     "state": {
      "_model_module": "@jupyter-widgets/base",
      "_model_module_version": "1.2.0",
      "_model_name": "LayoutModel",
      "_view_count": null,
      "_view_module": "@jupyter-widgets/base",
      "_view_module_version": "1.2.0",
      "_view_name": "LayoutView",
      "align_content": null,
      "align_items": null,
      "align_self": null,
      "border": null,
      "bottom": null,
      "display": null,
      "flex": null,
      "flex_flow": null,
      "grid_area": null,
      "grid_auto_columns": null,
      "grid_auto_flow": null,
      "grid_auto_rows": null,
      "grid_column": null,
      "grid_gap": null,
      "grid_row": null,
      "grid_template_areas": null,
      "grid_template_columns": null,
      "grid_template_rows": null,
      "height": null,
      "justify_content": null,
      "justify_items": null,
      "left": null,
      "margin": null,
      "max_height": null,
      "max_width": null,
      "min_height": null,
      "min_width": null,
      "object_fit": null,
      "object_position": null,
      "order": null,
      "overflow": null,
      "overflow_x": null,
      "overflow_y": null,
      "padding": null,
      "right": null,
      "top": null,
      "visibility": null,
      "width": null
     }
    },
    "2703bd891e394b41b8949d9729555d64": {
     "model_module": "@jupyter-widgets/controls",
     "model_module_version": "1.5.0",
     "model_name": "DescriptionStyleModel",
     "state": {
      "_model_module": "@jupyter-widgets/controls",
      "_model_module_version": "1.5.0",
      "_model_name": "DescriptionStyleModel",
      "_view_count": null,
      "_view_module": "@jupyter-widgets/base",
      "_view_module_version": "1.2.0",
      "_view_name": "StyleView",
      "description_width": ""
     }
    },
    "27a48e0b036541adb7c448dd4c2eb2d8": {
     "model_module": "@jupyter-widgets/base",
     "model_module_version": "1.2.0",
     "model_name": "LayoutModel",
     "state": {
      "_model_module": "@jupyter-widgets/base",
      "_model_module_version": "1.2.0",
      "_model_name": "LayoutModel",
      "_view_count": null,
      "_view_module": "@jupyter-widgets/base",
      "_view_module_version": "1.2.0",
      "_view_name": "LayoutView",
      "align_content": null,
      "align_items": null,
      "align_self": null,
      "border": null,
      "bottom": null,
      "display": null,
      "flex": null,
      "flex_flow": null,
      "grid_area": null,
      "grid_auto_columns": null,
      "grid_auto_flow": null,
      "grid_auto_rows": null,
      "grid_column": null,
      "grid_gap": null,
      "grid_row": null,
      "grid_template_areas": null,
      "grid_template_columns": null,
      "grid_template_rows": null,
      "height": null,
      "justify_content": null,
      "justify_items": null,
      "left": null,
      "margin": null,
      "max_height": null,
      "max_width": null,
      "min_height": null,
      "min_width": null,
      "object_fit": null,
      "object_position": null,
      "order": null,
      "overflow": null,
      "overflow_x": null,
      "overflow_y": null,
      "padding": null,
      "right": null,
      "top": null,
      "visibility": null,
      "width": null
     }
    },
    "2822de75fdd24a9eaf8b96a70fa52f47": {
     "model_module": "@jupyter-widgets/controls",
     "model_module_version": "1.5.0",
     "model_name": "DescriptionStyleModel",
     "state": {
      "_model_module": "@jupyter-widgets/controls",
      "_model_module_version": "1.5.0",
      "_model_name": "DescriptionStyleModel",
      "_view_count": null,
      "_view_module": "@jupyter-widgets/base",
      "_view_module_version": "1.2.0",
      "_view_name": "StyleView",
      "description_width": ""
     }
    },
    "2abe5519662e499c9ad027fc45a418f1": {
     "model_module": "@jupyter-widgets/base",
     "model_module_version": "1.2.0",
     "model_name": "LayoutModel",
     "state": {
      "_model_module": "@jupyter-widgets/base",
      "_model_module_version": "1.2.0",
      "_model_name": "LayoutModel",
      "_view_count": null,
      "_view_module": "@jupyter-widgets/base",
      "_view_module_version": "1.2.0",
      "_view_name": "LayoutView",
      "align_content": null,
      "align_items": null,
      "align_self": null,
      "border": null,
      "bottom": null,
      "display": null,
      "flex": null,
      "flex_flow": null,
      "grid_area": null,
      "grid_auto_columns": null,
      "grid_auto_flow": null,
      "grid_auto_rows": null,
      "grid_column": null,
      "grid_gap": null,
      "grid_row": null,
      "grid_template_areas": null,
      "grid_template_columns": null,
      "grid_template_rows": null,
      "height": null,
      "justify_content": null,
      "justify_items": null,
      "left": null,
      "margin": null,
      "max_height": null,
      "max_width": null,
      "min_height": null,
      "min_width": null,
      "object_fit": null,
      "object_position": null,
      "order": null,
      "overflow": null,
      "overflow_x": null,
      "overflow_y": null,
      "padding": null,
      "right": null,
      "top": null,
      "visibility": null,
      "width": null
     }
    },
    "2be69cd291f446699b54171ddd896078": {
     "model_module": "@jupyter-widgets/base",
     "model_module_version": "1.2.0",
     "model_name": "LayoutModel",
     "state": {
      "_model_module": "@jupyter-widgets/base",
      "_model_module_version": "1.2.0",
      "_model_name": "LayoutModel",
      "_view_count": null,
      "_view_module": "@jupyter-widgets/base",
      "_view_module_version": "1.2.0",
      "_view_name": "LayoutView",
      "align_content": null,
      "align_items": null,
      "align_self": null,
      "border": null,
      "bottom": null,
      "display": null,
      "flex": null,
      "flex_flow": null,
      "grid_area": null,
      "grid_auto_columns": null,
      "grid_auto_flow": null,
      "grid_auto_rows": null,
      "grid_column": null,
      "grid_gap": null,
      "grid_row": null,
      "grid_template_areas": null,
      "grid_template_columns": null,
      "grid_template_rows": null,
      "height": null,
      "justify_content": null,
      "justify_items": null,
      "left": null,
      "margin": null,
      "max_height": null,
      "max_width": null,
      "min_height": null,
      "min_width": null,
      "object_fit": null,
      "object_position": null,
      "order": null,
      "overflow": null,
      "overflow_x": null,
      "overflow_y": null,
      "padding": null,
      "right": null,
      "top": null,
      "visibility": null,
      "width": null
     }
    },
    "2c51bcfeb6ae4b4ea2b372bbddc50d57": {
     "model_module": "@jupyter-widgets/controls",
     "model_module_version": "1.5.0",
     "model_name": "HTMLModel",
     "state": {
      "_dom_classes": [],
      "_model_module": "@jupyter-widgets/controls",
      "_model_module_version": "1.5.0",
      "_model_name": "HTMLModel",
      "_view_count": null,
      "_view_module": "@jupyter-widgets/controls",
      "_view_module_version": "1.5.0",
      "_view_name": "HTMLView",
      "description": "",
      "description_tooltip": null,
      "layout": "IPY_MODEL_66351260fab644b5abf7aab6242ec63b",
      "placeholder": "​",
      "style": "IPY_MODEL_e9d334821fea4e3ca2bd44de1ef70d86",
      "value": " 8.41k/? [00:00&lt;00:00, 575kB/s]"
     }
    },
    "2f8e65873b8b4bcba688d5f1aaca16aa": {
     "model_module": "@jupyter-widgets/controls",
     "model_module_version": "1.5.0",
     "model_name": "HTMLModel",
     "state": {
      "_dom_classes": [],
      "_model_module": "@jupyter-widgets/controls",
      "_model_module_version": "1.5.0",
      "_model_name": "HTMLModel",
      "_view_count": null,
      "_view_module": "@jupyter-widgets/controls",
      "_view_module_version": "1.5.0",
      "_view_name": "HTMLView",
      "description": "",
      "description_tooltip": null,
      "layout": "IPY_MODEL_1cb1050e9ff643fd8b56c506bb488062",
      "placeholder": "​",
      "style": "IPY_MODEL_f49162f351154d77bd05848b08b85380",
      "value": " 6.79k/? [00:00&lt;00:00, 153kB/s]"
     }
    },
    "307346a97f0b4ed8be754b19d9567dac": {
     "model_module": "@jupyter-widgets/controls",
     "model_module_version": "1.5.0",
     "model_name": "DescriptionStyleModel",
     "state": {
      "_model_module": "@jupyter-widgets/controls",
      "_model_module_version": "1.5.0",
      "_model_name": "DescriptionStyleModel",
      "_view_count": null,
      "_view_module": "@jupyter-widgets/base",
      "_view_module_version": "1.2.0",
      "_view_name": "StyleView",
      "description_width": ""
     }
    },
    "30d90c2e632c4867974e1abeb6eeb591": {
     "model_module": "@jupyter-widgets/controls",
     "model_module_version": "1.5.0",
     "model_name": "DescriptionStyleModel",
     "state": {
      "_model_module": "@jupyter-widgets/controls",
      "_model_module_version": "1.5.0",
      "_model_name": "DescriptionStyleModel",
      "_view_count": null,
      "_view_module": "@jupyter-widgets/base",
      "_view_module_version": "1.2.0",
      "_view_name": "StyleView",
      "description_width": ""
     }
    },
    "313498e4774042748071db59ca62cc82": {
     "model_module": "@jupyter-widgets/controls",
     "model_module_version": "1.5.0",
     "model_name": "HTMLModel",
     "state": {
      "_dom_classes": [],
      "_model_module": "@jupyter-widgets/controls",
      "_model_module_version": "1.5.0",
      "_model_name": "HTMLModel",
      "_view_count": null,
      "_view_module": "@jupyter-widgets/controls",
      "_view_module_version": "1.5.0",
      "_view_name": "HTMLView",
      "description": "",
      "description_tooltip": null,
      "layout": "IPY_MODEL_fd762fbf8dbb4a1da4a881d6895ee6b0",
      "placeholder": "​",
      "style": "IPY_MODEL_d578ff67cb794a2caaad8d8d0dc380ac",
      "value": "Map: 100%"
     }
    },
    "31ae24a7c59c41b98944f3c6bdc13852": {
     "model_module": "@jupyter-widgets/controls",
     "model_module_version": "1.5.0",
     "model_name": "HTMLModel",
     "state": {
      "_dom_classes": [],
      "_model_module": "@jupyter-widgets/controls",
      "_model_module_version": "1.5.0",
      "_model_name": "HTMLModel",
      "_view_count": null,
      "_view_module": "@jupyter-widgets/controls",
      "_view_module_version": "1.5.0",
      "_view_name": "HTMLView",
      "description": "",
      "description_tooltip": null,
      "layout": "IPY_MODEL_27a48e0b036541adb7c448dd4c2eb2d8",
      "placeholder": "​",
      "style": "IPY_MODEL_2822de75fdd24a9eaf8b96a70fa52f47",
      "value": "Downloading extra modules: "
     }
    },
    "34331959fa254fc0b3b637b78140f8ee": {
     "model_module": "@jupyter-widgets/base",
     "model_module_version": "1.2.0",
     "model_name": "LayoutModel",
     "state": {
      "_model_module": "@jupyter-widgets/base",
      "_model_module_version": "1.2.0",
      "_model_name": "LayoutModel",
      "_view_count": null,
      "_view_module": "@jupyter-widgets/base",
      "_view_module_version": "1.2.0",
      "_view_name": "LayoutView",
      "align_content": null,
      "align_items": null,
      "align_self": null,
      "border": null,
      "bottom": null,
      "display": null,
      "flex": null,
      "flex_flow": null,
      "grid_area": null,
      "grid_auto_columns": null,
      "grid_auto_flow": null,
      "grid_auto_rows": null,
      "grid_column": null,
      "grid_gap": null,
      "grid_row": null,
      "grid_template_areas": null,
      "grid_template_columns": null,
      "grid_template_rows": null,
      "height": null,
      "justify_content": null,
      "justify_items": null,
      "left": null,
      "margin": null,
      "max_height": null,
      "max_width": null,
      "min_height": null,
      "min_width": null,
      "object_fit": null,
      "object_position": null,
      "order": null,
      "overflow": null,
      "overflow_x": null,
      "overflow_y": null,
      "padding": null,
      "right": null,
      "top": null,
      "visibility": null,
      "width": null
     }
    },
    "35e406ad8d5746bb8ca8b273e5f593bb": {
     "model_module": "@jupyter-widgets/base",
     "model_module_version": "1.2.0",
     "model_name": "LayoutModel",
     "state": {
      "_model_module": "@jupyter-widgets/base",
      "_model_module_version": "1.2.0",
      "_model_name": "LayoutModel",
      "_view_count": null,
      "_view_module": "@jupyter-widgets/base",
      "_view_module_version": "1.2.0",
      "_view_name": "LayoutView",
      "align_content": null,
      "align_items": null,
      "align_self": null,
      "border": null,
      "bottom": null,
      "display": null,
      "flex": null,
      "flex_flow": null,
      "grid_area": null,
      "grid_auto_columns": null,
      "grid_auto_flow": null,
      "grid_auto_rows": null,
      "grid_column": null,
      "grid_gap": null,
      "grid_row": null,
      "grid_template_areas": null,
      "grid_template_columns": null,
      "grid_template_rows": null,
      "height": null,
      "justify_content": null,
      "justify_items": null,
      "left": null,
      "margin": null,
      "max_height": null,
      "max_width": null,
      "min_height": null,
      "min_width": null,
      "object_fit": null,
      "object_position": null,
      "order": null,
      "overflow": null,
      "overflow_x": null,
      "overflow_y": null,
      "padding": null,
      "right": null,
      "top": null,
      "visibility": null,
      "width": "20px"
     }
    },
    "35eeaa4a7d9a4eb68aed6bcbb16a5b29": {
     "model_module": "@jupyter-widgets/base",
     "model_module_version": "1.2.0",
     "model_name": "LayoutModel",
     "state": {
      "_model_module": "@jupyter-widgets/base",
      "_model_module_version": "1.2.0",
      "_model_name": "LayoutModel",
      "_view_count": null,
      "_view_module": "@jupyter-widgets/base",
      "_view_module_version": "1.2.0",
      "_view_name": "LayoutView",
      "align_content": null,
      "align_items": null,
      "align_self": null,
      "border": null,
      "bottom": null,
      "display": null,
      "flex": null,
      "flex_flow": null,
      "grid_area": null,
      "grid_auto_columns": null,
      "grid_auto_flow": null,
      "grid_auto_rows": null,
      "grid_column": null,
      "grid_gap": null,
      "grid_row": null,
      "grid_template_areas": null,
      "grid_template_columns": null,
      "grid_template_rows": null,
      "height": null,
      "justify_content": null,
      "justify_items": null,
      "left": null,
      "margin": null,
      "max_height": null,
      "max_width": null,
      "min_height": null,
      "min_width": null,
      "object_fit": null,
      "object_position": null,
      "order": null,
      "overflow": null,
      "overflow_x": null,
      "overflow_y": null,
      "padding": null,
      "right": null,
      "top": null,
      "visibility": null,
      "width": null
     }
    },
    "35f165b110ef43c2ba1976c0fbaab41b": {
     "model_module": "@jupyter-widgets/base",
     "model_module_version": "1.2.0",
     "model_name": "LayoutModel",
     "state": {
      "_model_module": "@jupyter-widgets/base",
      "_model_module_version": "1.2.0",
      "_model_name": "LayoutModel",
      "_view_count": null,
      "_view_module": "@jupyter-widgets/base",
      "_view_module_version": "1.2.0",
      "_view_name": "LayoutView",
      "align_content": null,
      "align_items": null,
      "align_self": null,
      "border": null,
      "bottom": null,
      "display": null,
      "flex": null,
      "flex_flow": null,
      "grid_area": null,
      "grid_auto_columns": null,
      "grid_auto_flow": null,
      "grid_auto_rows": null,
      "grid_column": null,
      "grid_gap": null,
      "grid_row": null,
      "grid_template_areas": null,
      "grid_template_columns": null,
      "grid_template_rows": null,
      "height": null,
      "justify_content": null,
      "justify_items": null,
      "left": null,
      "margin": null,
      "max_height": null,
      "max_width": null,
      "min_height": null,
      "min_width": null,
      "object_fit": null,
      "object_position": null,
      "order": null,
      "overflow": null,
      "overflow_x": null,
      "overflow_y": null,
      "padding": null,
      "right": null,
      "top": null,
      "visibility": null,
      "width": null
     }
    },
    "37449b9029a04cbba246199d6382755e": {
     "model_module": "@jupyter-widgets/controls",
     "model_module_version": "1.5.0",
     "model_name": "HTMLModel",
     "state": {
      "_dom_classes": [],
      "_model_module": "@jupyter-widgets/controls",
      "_model_module_version": "1.5.0",
      "_model_name": "HTMLModel",
      "_view_count": null,
      "_view_module": "@jupyter-widgets/controls",
      "_view_module_version": "1.5.0",
      "_view_name": "HTMLView",
      "description": "",
      "description_tooltip": null,
      "layout": "IPY_MODEL_47a30b8e37674b3095173f906804611b",
      "placeholder": "​",
      "style": "IPY_MODEL_df66e04598e342ce9c8ddb93ad0a40e8",
      "value": " 6250/6250 [00:27&lt;00:00, 212.71 examples/s]"
     }
    },
    "379ae7d167c1403d9aba55ff3e68c632": {
     "model_module": "@jupyter-widgets/controls",
     "model_module_version": "1.5.0",
     "model_name": "HBoxModel",
     "state": {
      "_dom_classes": [],
      "_model_module": "@jupyter-widgets/controls",
      "_model_module_version": "1.5.0",
      "_model_name": "HBoxModel",
      "_view_count": null,
      "_view_module": "@jupyter-widgets/controls",
      "_view_module_version": "1.5.0",
      "_view_name": "HBoxView",
      "box_style": "",
      "children": [
       "IPY_MODEL_4e4f2526c9634b50be1a71a0757da30f",
       "IPY_MODEL_48c47ed3982d4951b279e41037948d7c",
       "IPY_MODEL_0de8dcf670804c0d832a751b285e7e0d"
      ],
      "layout": "IPY_MODEL_35eeaa4a7d9a4eb68aed6bcbb16a5b29"
     }
    },
    "3861d50e4d574a93ae2dd998ff6ba6b0": {
     "model_module": "@jupyter-widgets/base",
     "model_module_version": "1.2.0",
     "model_name": "LayoutModel",
     "state": {
      "_model_module": "@jupyter-widgets/base",
      "_model_module_version": "1.2.0",
      "_model_name": "LayoutModel",
      "_view_count": null,
      "_view_module": "@jupyter-widgets/base",
      "_view_module_version": "1.2.0",
      "_view_name": "LayoutView",
      "align_content": null,
      "align_items": null,
      "align_self": null,
      "border": null,
      "bottom": null,
      "display": null,
      "flex": null,
      "flex_flow": null,
      "grid_area": null,
      "grid_auto_columns": null,
      "grid_auto_flow": null,
      "grid_auto_rows": null,
      "grid_column": null,
      "grid_gap": null,
      "grid_row": null,
      "grid_template_areas": null,
      "grid_template_columns": null,
      "grid_template_rows": null,
      "height": null,
      "justify_content": null,
      "justify_items": null,
      "left": null,
      "margin": null,
      "max_height": null,
      "max_width": null,
      "min_height": null,
      "min_width": null,
      "object_fit": null,
      "object_position": null,
      "order": null,
      "overflow": null,
      "overflow_x": null,
      "overflow_y": null,
      "padding": null,
      "right": null,
      "top": null,
      "visibility": null,
      "width": null
     }
    },
    "396523a1895941418e5d7ba35bd1bea6": {
     "model_module": "@jupyter-widgets/controls",
     "model_module_version": "1.5.0",
     "model_name": "DescriptionStyleModel",
     "state": {
      "_model_module": "@jupyter-widgets/controls",
      "_model_module_version": "1.5.0",
      "_model_name": "DescriptionStyleModel",
      "_view_count": null,
      "_view_module": "@jupyter-widgets/base",
      "_view_module_version": "1.2.0",
      "_view_name": "StyleView",
      "description_width": ""
     }
    },
    "39ce7519742246ce867c98bbc0045583": {
     "model_module": "@jupyter-widgets/base",
     "model_module_version": "1.2.0",
     "model_name": "LayoutModel",
     "state": {
      "_model_module": "@jupyter-widgets/base",
      "_model_module_version": "1.2.0",
      "_model_name": "LayoutModel",
      "_view_count": null,
      "_view_module": "@jupyter-widgets/base",
      "_view_module_version": "1.2.0",
      "_view_name": "LayoutView",
      "align_content": null,
      "align_items": null,
      "align_self": null,
      "border": null,
      "bottom": null,
      "display": null,
      "flex": null,
      "flex_flow": null,
      "grid_area": null,
      "grid_auto_columns": null,
      "grid_auto_flow": null,
      "grid_auto_rows": null,
      "grid_column": null,
      "grid_gap": null,
      "grid_row": null,
      "grid_template_areas": null,
      "grid_template_columns": null,
      "grid_template_rows": null,
      "height": null,
      "justify_content": null,
      "justify_items": null,
      "left": null,
      "margin": null,
      "max_height": null,
      "max_width": null,
      "min_height": null,
      "min_width": null,
      "object_fit": null,
      "object_position": null,
      "order": null,
      "overflow": null,
      "overflow_x": null,
      "overflow_y": null,
      "padding": null,
      "right": null,
      "top": null,
      "visibility": null,
      "width": null
     }
    },
    "3b278f1b4f2f490a9db79bf5b40bb92d": {
     "model_module": "@jupyter-widgets/controls",
     "model_module_version": "1.5.0",
     "model_name": "DescriptionStyleModel",
     "state": {
      "_model_module": "@jupyter-widgets/controls",
      "_model_module_version": "1.5.0",
      "_model_name": "DescriptionStyleModel",
      "_view_count": null,
      "_view_module": "@jupyter-widgets/base",
      "_view_module_version": "1.2.0",
      "_view_name": "StyleView",
      "description_width": ""
     }
    },
    "3c40f168ef7348919b0b87daf18ff997": {
     "model_module": "@jupyter-widgets/controls",
     "model_module_version": "1.5.0",
     "model_name": "HTMLModel",
     "state": {
      "_dom_classes": [],
      "_model_module": "@jupyter-widgets/controls",
      "_model_module_version": "1.5.0",
      "_model_name": "HTMLModel",
      "_view_count": null,
      "_view_module": "@jupyter-widgets/controls",
      "_view_module_version": "1.5.0",
      "_view_name": "HTMLView",
      "description": "",
      "description_tooltip": null,
      "layout": "IPY_MODEL_b0489dcf47854b19b561040d8323ff02",
      "placeholder": "​",
      "style": "IPY_MODEL_c9a33609e4ab4aca92a8ce09cffa7d22",
      "value": "special_tokens_map.json: 100%"
     }
    },
    "3e43727ff66b4660a1e77ad6fa10d8d0": {
     "model_module": "@jupyter-widgets/controls",
     "model_module_version": "1.5.0",
     "model_name": "HTMLModel",
     "state": {
      "_dom_classes": [],
      "_model_module": "@jupyter-widgets/controls",
      "_model_module_version": "1.5.0",
      "_model_name": "HTMLModel",
      "_view_count": null,
      "_view_module": "@jupyter-widgets/controls",
      "_view_module_version": "1.5.0",
      "_view_name": "HTMLView",
      "description": "",
      "description_tooltip": null,
      "layout": "IPY_MODEL_2abe5519662e499c9ad027fc45a418f1",
      "placeholder": "​",
      "style": "IPY_MODEL_30d90c2e632c4867974e1abeb6eeb591",
      "value": " 6250/6250 [00:08&lt;00:00, 757.77 examples/s]"
     }
    },
    "3f3788cf82a542b2a425c3bfeda9acb1": {
     "model_module": "@jupyter-widgets/controls",
     "model_module_version": "1.5.0",
     "model_name": "HBoxModel",
     "state": {
      "_dom_classes": [],
      "_model_module": "@jupyter-widgets/controls",
      "_model_module_version": "1.5.0",
      "_model_name": "HBoxModel",
      "_view_count": null,
      "_view_module": "@jupyter-widgets/controls",
      "_view_module_version": "1.5.0",
      "_view_name": "HBoxView",
      "box_style": "",
      "children": [
       "IPY_MODEL_7ecac2d600584c05b92db4d9c1f842b4",
       "IPY_MODEL_c272a560d032417087d65cc4649af4fb",
       "IPY_MODEL_47285c24e0aa4e1babdafc9f033140d2"
      ],
      "layout": "IPY_MODEL_c89d470b32534bebbe2f57d54746cdd8"
     }
    },
    "400fc12c11cf4ef0a2ccb31609897beb": {
     "model_module": "@jupyter-widgets/controls",
     "model_module_version": "1.5.0",
     "model_name": "DescriptionStyleModel",
     "state": {
      "_model_module": "@jupyter-widgets/controls",
      "_model_module_version": "1.5.0",
      "_model_name": "DescriptionStyleModel",
      "_view_count": null,
      "_view_module": "@jupyter-widgets/base",
      "_view_module_version": "1.2.0",
      "_view_name": "StyleView",
      "description_width": ""
     }
    },
    "41a3bcec1d8544fd8c406eac87811a8a": {
     "model_module": "@jupyter-widgets/controls",
     "model_module_version": "1.5.0",
     "model_name": "HTMLModel",
     "state": {
      "_dom_classes": [],
      "_model_module": "@jupyter-widgets/controls",
      "_model_module_version": "1.5.0",
      "_model_name": "HTMLModel",
      "_view_count": null,
      "_view_module": "@jupyter-widgets/controls",
      "_view_module_version": "1.5.0",
      "_view_name": "HTMLView",
      "description": "",
      "description_tooltip": null,
      "layout": "IPY_MODEL_cd890c698c3f432086003f84e0abfa03",
      "placeholder": "​",
      "style": "IPY_MODEL_d781576f276e4d4fbb3117296995c725",
      "value": " 6250/6250 [00:22&lt;00:00, 153.74 examples/s]"
     }
    },
    "422623238f6e469a896fc95539fd23e8": {
     "model_module": "@jupyter-widgets/controls",
     "model_module_version": "1.5.0",
     "model_name": "FloatProgressModel",
     "state": {
      "_dom_classes": [],
      "_model_module": "@jupyter-widgets/controls",
      "_model_module_version": "1.5.0",
      "_model_name": "FloatProgressModel",
      "_view_count": null,
      "_view_module": "@jupyter-widgets/controls",
      "_view_module_version": "1.5.0",
      "_view_name": "ProgressView",
      "bar_style": "success",
      "description": "",
      "description_tooltip": null,
      "layout": "IPY_MODEL_5a992b9e617a4153a2f69a952e224197",
      "max": 6250,
      "min": 0,
      "orientation": "horizontal",
      "style": "IPY_MODEL_82a8a4614ff145be99635b41c3eccd03",
      "value": 6250
     }
    },
    "43e6338af6744162a645335f48bdbc08": {
     "model_module": "@jupyter-widgets/controls",
     "model_module_version": "1.5.0",
     "model_name": "FloatProgressModel",
     "state": {
      "_dom_classes": [],
      "_model_module": "@jupyter-widgets/controls",
      "_model_module_version": "1.5.0",
      "_model_name": "FloatProgressModel",
      "_view_count": null,
      "_view_module": "@jupyter-widgets/controls",
      "_view_module_version": "1.5.0",
      "_view_name": "ProgressView",
      "bar_style": "success",
      "description": "",
      "description_tooltip": null,
      "layout": "IPY_MODEL_16ba4327c55e43bea095f6c7ae2786c5",
      "max": 48,
      "min": 0,
      "orientation": "horizontal",
      "style": "IPY_MODEL_f35280009f7949c0bd5538715c993a55",
      "value": 48
     }
    },
    "4452287bd1f54a7dbfc2d7fa34a6c519": {
     "model_module": "@jupyter-widgets/base",
     "model_module_version": "1.2.0",
     "model_name": "LayoutModel",
     "state": {
      "_model_module": "@jupyter-widgets/base",
      "_model_module_version": "1.2.0",
      "_model_name": "LayoutModel",
      "_view_count": null,
      "_view_module": "@jupyter-widgets/base",
      "_view_module_version": "1.2.0",
      "_view_name": "LayoutView",
      "align_content": null,
      "align_items": null,
      "align_self": null,
      "border": null,
      "bottom": null,
      "display": null,
      "flex": null,
      "flex_flow": null,
      "grid_area": null,
      "grid_auto_columns": null,
      "grid_auto_flow": null,
      "grid_auto_rows": null,
      "grid_column": null,
      "grid_gap": null,
      "grid_row": null,
      "grid_template_areas": null,
      "grid_template_columns": null,
      "grid_template_rows": null,
      "height": null,
      "justify_content": null,
      "justify_items": null,
      "left": null,
      "margin": null,
      "max_height": null,
      "max_width": null,
      "min_height": null,
      "min_width": null,
      "object_fit": null,
      "object_position": null,
      "order": null,
      "overflow": null,
      "overflow_x": null,
      "overflow_y": null,
      "padding": null,
      "right": null,
      "top": null,
      "visibility": null,
      "width": null
     }
    },
    "450d07c525874cfe89ddb41d18c7d1c6": {
     "model_module": "@jupyter-widgets/base",
     "model_module_version": "1.2.0",
     "model_name": "LayoutModel",
     "state": {
      "_model_module": "@jupyter-widgets/base",
      "_model_module_version": "1.2.0",
      "_model_name": "LayoutModel",
      "_view_count": null,
      "_view_module": "@jupyter-widgets/base",
      "_view_module_version": "1.2.0",
      "_view_name": "LayoutView",
      "align_content": null,
      "align_items": null,
      "align_self": null,
      "border": null,
      "bottom": null,
      "display": null,
      "flex": null,
      "flex_flow": null,
      "grid_area": null,
      "grid_auto_columns": null,
      "grid_auto_flow": null,
      "grid_auto_rows": null,
      "grid_column": null,
      "grid_gap": null,
      "grid_row": null,
      "grid_template_areas": null,
      "grid_template_columns": null,
      "grid_template_rows": null,
      "height": null,
      "justify_content": null,
      "justify_items": null,
      "left": null,
      "margin": null,
      "max_height": null,
      "max_width": null,
      "min_height": null,
      "min_width": null,
      "object_fit": null,
      "object_position": null,
      "order": null,
      "overflow": null,
      "overflow_x": null,
      "overflow_y": null,
      "padding": null,
      "right": null,
      "top": null,
      "visibility": null,
      "width": null
     }
    },
    "45149919d12a4730b9def8663f013c8b": {
     "model_module": "@jupyter-widgets/controls",
     "model_module_version": "1.5.0",
     "model_name": "DescriptionStyleModel",
     "state": {
      "_model_module": "@jupyter-widgets/controls",
      "_model_module_version": "1.5.0",
      "_model_name": "DescriptionStyleModel",
      "_view_count": null,
      "_view_module": "@jupyter-widgets/base",
      "_view_module_version": "1.2.0",
      "_view_name": "StyleView",
      "description_width": ""
     }
    },
    "4598a1218919418fac7d4331ff18b99a": {
     "model_module": "@jupyter-widgets/base",
     "model_module_version": "1.2.0",
     "model_name": "LayoutModel",
     "state": {
      "_model_module": "@jupyter-widgets/base",
      "_model_module_version": "1.2.0",
      "_model_name": "LayoutModel",
      "_view_count": null,
      "_view_module": "@jupyter-widgets/base",
      "_view_module_version": "1.2.0",
      "_view_name": "LayoutView",
      "align_content": null,
      "align_items": null,
      "align_self": null,
      "border": null,
      "bottom": null,
      "display": null,
      "flex": null,
      "flex_flow": null,
      "grid_area": null,
      "grid_auto_columns": null,
      "grid_auto_flow": null,
      "grid_auto_rows": null,
      "grid_column": null,
      "grid_gap": null,
      "grid_row": null,
      "grid_template_areas": null,
      "grid_template_columns": null,
      "grid_template_rows": null,
      "height": null,
      "justify_content": null,
      "justify_items": null,
      "left": null,
      "margin": null,
      "max_height": null,
      "max_width": null,
      "min_height": null,
      "min_width": null,
      "object_fit": null,
      "object_position": null,
      "order": null,
      "overflow": null,
      "overflow_x": null,
      "overflow_y": null,
      "padding": null,
      "right": null,
      "top": null,
      "visibility": null,
      "width": null
     }
    },
    "46e7260132c440a090e304c59e3ecb5b": {
     "model_module": "@jupyter-widgets/base",
     "model_module_version": "1.2.0",
     "model_name": "LayoutModel",
     "state": {
      "_model_module": "@jupyter-widgets/base",
      "_model_module_version": "1.2.0",
      "_model_name": "LayoutModel",
      "_view_count": null,
      "_view_module": "@jupyter-widgets/base",
      "_view_module_version": "1.2.0",
      "_view_name": "LayoutView",
      "align_content": null,
      "align_items": null,
      "align_self": null,
      "border": null,
      "bottom": null,
      "display": null,
      "flex": null,
      "flex_flow": null,
      "grid_area": null,
      "grid_auto_columns": null,
      "grid_auto_flow": null,
      "grid_auto_rows": null,
      "grid_column": null,
      "grid_gap": null,
      "grid_row": null,
      "grid_template_areas": null,
      "grid_template_columns": null,
      "grid_template_rows": null,
      "height": null,
      "justify_content": null,
      "justify_items": null,
      "left": null,
      "margin": null,
      "max_height": null,
      "max_width": null,
      "min_height": null,
      "min_width": null,
      "object_fit": null,
      "object_position": null,
      "order": null,
      "overflow": null,
      "overflow_x": null,
      "overflow_y": null,
      "padding": null,
      "right": null,
      "top": null,
      "visibility": null,
      "width": null
     }
    },
    "47285c24e0aa4e1babdafc9f033140d2": {
     "model_module": "@jupyter-widgets/controls",
     "model_module_version": "1.5.0",
     "model_name": "HTMLModel",
     "state": {
      "_dom_classes": [],
      "_model_module": "@jupyter-widgets/controls",
      "_model_module_version": "1.5.0",
      "_model_name": "HTMLModel",
      "_view_count": null,
      "_view_module": "@jupyter-widgets/controls",
      "_view_module_version": "1.5.0",
      "_view_name": "HTMLView",
      "description": "",
      "description_tooltip": null,
      "layout": "IPY_MODEL_5c910b8f53514514941ca8eef4d03683",
      "placeholder": "​",
      "style": "IPY_MODEL_307346a97f0b4ed8be754b19d9567dac",
      "value": " 438M/438M [00:04&lt;00:00, 138MB/s]"
     }
    },
    "4737202b81b44f6abb6ff718b89b18f5": {
     "model_module": "@jupyter-widgets/base",
     "model_module_version": "1.2.0",
     "model_name": "LayoutModel",
     "state": {
      "_model_module": "@jupyter-widgets/base",
      "_model_module_version": "1.2.0",
      "_model_name": "LayoutModel",
      "_view_count": null,
      "_view_module": "@jupyter-widgets/base",
      "_view_module_version": "1.2.0",
      "_view_name": "LayoutView",
      "align_content": null,
      "align_items": null,
      "align_self": null,
      "border": null,
      "bottom": null,
      "display": null,
      "flex": null,
      "flex_flow": null,
      "grid_area": null,
      "grid_auto_columns": null,
      "grid_auto_flow": null,
      "grid_auto_rows": null,
      "grid_column": null,
      "grid_gap": null,
      "grid_row": null,
      "grid_template_areas": null,
      "grid_template_columns": null,
      "grid_template_rows": null,
      "height": null,
      "justify_content": null,
      "justify_items": null,
      "left": null,
      "margin": null,
      "max_height": null,
      "max_width": null,
      "min_height": null,
      "min_width": null,
      "object_fit": null,
      "object_position": null,
      "order": null,
      "overflow": null,
      "overflow_x": null,
      "overflow_y": null,
      "padding": null,
      "right": null,
      "top": null,
      "visibility": null,
      "width": null
     }
    },
    "478acf7992e44a11bf45a1621e87987b": {
     "model_module": "@jupyter-widgets/base",
     "model_module_version": "1.2.0",
     "model_name": "LayoutModel",
     "state": {
      "_model_module": "@jupyter-widgets/base",
      "_model_module_version": "1.2.0",
      "_model_name": "LayoutModel",
      "_view_count": null,
      "_view_module": "@jupyter-widgets/base",
      "_view_module_version": "1.2.0",
      "_view_name": "LayoutView",
      "align_content": null,
      "align_items": null,
      "align_self": null,
      "border": null,
      "bottom": null,
      "display": null,
      "flex": null,
      "flex_flow": null,
      "grid_area": null,
      "grid_auto_columns": null,
      "grid_auto_flow": null,
      "grid_auto_rows": null,
      "grid_column": null,
      "grid_gap": null,
      "grid_row": null,
      "grid_template_areas": null,
      "grid_template_columns": null,
      "grid_template_rows": null,
      "height": null,
      "justify_content": null,
      "justify_items": null,
      "left": null,
      "margin": null,
      "max_height": null,
      "max_width": null,
      "min_height": null,
      "min_width": null,
      "object_fit": null,
      "object_position": null,
      "order": null,
      "overflow": null,
      "overflow_x": null,
      "overflow_y": null,
      "padding": null,
      "right": null,
      "top": null,
      "visibility": null,
      "width": null
     }
    },
    "47a30b8e37674b3095173f906804611b": {
     "model_module": "@jupyter-widgets/base",
     "model_module_version": "1.2.0",
     "model_name": "LayoutModel",
     "state": {
      "_model_module": "@jupyter-widgets/base",
      "_model_module_version": "1.2.0",
      "_model_name": "LayoutModel",
      "_view_count": null,
      "_view_module": "@jupyter-widgets/base",
      "_view_module_version": "1.2.0",
      "_view_name": "LayoutView",
      "align_content": null,
      "align_items": null,
      "align_self": null,
      "border": null,
      "bottom": null,
      "display": null,
      "flex": null,
      "flex_flow": null,
      "grid_area": null,
      "grid_auto_columns": null,
      "grid_auto_flow": null,
      "grid_auto_rows": null,
      "grid_column": null,
      "grid_gap": null,
      "grid_row": null,
      "grid_template_areas": null,
      "grid_template_columns": null,
      "grid_template_rows": null,
      "height": null,
      "justify_content": null,
      "justify_items": null,
      "left": null,
      "margin": null,
      "max_height": null,
      "max_width": null,
      "min_height": null,
      "min_width": null,
      "object_fit": null,
      "object_position": null,
      "order": null,
      "overflow": null,
      "overflow_x": null,
      "overflow_y": null,
      "padding": null,
      "right": null,
      "top": null,
      "visibility": null,
      "width": null
     }
    },
    "48c47ed3982d4951b279e41037948d7c": {
     "model_module": "@jupyter-widgets/controls",
     "model_module_version": "1.5.0",
     "model_name": "FloatProgressModel",
     "state": {
      "_dom_classes": [],
      "_model_module": "@jupyter-widgets/controls",
      "_model_module_version": "1.5.0",
      "_model_name": "FloatProgressModel",
      "_view_count": null,
      "_view_module": "@jupyter-widgets/controls",
      "_view_module_version": "1.5.0",
      "_view_name": "ProgressView",
      "bar_style": "success",
      "description": "",
      "description_tooltip": null,
      "layout": "IPY_MODEL_8de60162cf1545a6bbdcce93c18849c2",
      "max": 6250,
      "min": 0,
      "orientation": "horizontal",
      "style": "IPY_MODEL_77c94e5734704dc8a7b15f54ebbef847",
      "value": 6250
     }
    },
    "48c48d6eb54d4f0d8dc5116d65631cfc": {
     "model_module": "@jupyter-widgets/controls",
     "model_module_version": "1.5.0",
     "model_name": "DescriptionStyleModel",
     "state": {
      "_model_module": "@jupyter-widgets/controls",
      "_model_module_version": "1.5.0",
      "_model_name": "DescriptionStyleModel",
      "_view_count": null,
      "_view_module": "@jupyter-widgets/base",
      "_view_module_version": "1.2.0",
      "_view_name": "StyleView",
      "description_width": ""
     }
    },
    "48fccd3854dc45d9810dc5ecd99c9286": {
     "model_module": "@jupyter-widgets/controls",
     "model_module_version": "1.5.0",
     "model_name": "HBoxModel",
     "state": {
      "_dom_classes": [],
      "_model_module": "@jupyter-widgets/controls",
      "_model_module_version": "1.5.0",
      "_model_name": "HBoxModel",
      "_view_count": null,
      "_view_module": "@jupyter-widgets/controls",
      "_view_module_version": "1.5.0",
      "_view_name": "HBoxView",
      "box_style": "",
      "children": [
       "IPY_MODEL_51ae0ff89d984ac48a8546f015d7f0ee",
       "IPY_MODEL_939b63a98c2d4fe19c81c32250e2e5e5",
       "IPY_MODEL_7c5a226291e34aaa9eef84f674ef44f8"
      ],
      "layout": "IPY_MODEL_f3a1fb548a4a4105848979da00e70aa4"
     }
    },
    "49541f93ccbe4c019ccab3ce0559d96e": {
     "model_module": "@jupyter-widgets/base",
     "model_module_version": "1.2.0",
     "model_name": "LayoutModel",
     "state": {
      "_model_module": "@jupyter-widgets/base",
      "_model_module_version": "1.2.0",
      "_model_name": "LayoutModel",
      "_view_count": null,
      "_view_module": "@jupyter-widgets/base",
      "_view_module_version": "1.2.0",
      "_view_name": "LayoutView",
      "align_content": null,
      "align_items": null,
      "align_self": null,
      "border": null,
      "bottom": null,
      "display": null,
      "flex": null,
      "flex_flow": null,
      "grid_area": null,
      "grid_auto_columns": null,
      "grid_auto_flow": null,
      "grid_auto_rows": null,
      "grid_column": null,
      "grid_gap": null,
      "grid_row": null,
      "grid_template_areas": null,
      "grid_template_columns": null,
      "grid_template_rows": null,
      "height": null,
      "justify_content": null,
      "justify_items": null,
      "left": null,
      "margin": null,
      "max_height": null,
      "max_width": null,
      "min_height": null,
      "min_width": null,
      "object_fit": null,
      "object_position": null,
      "order": null,
      "overflow": null,
      "overflow_x": null,
      "overflow_y": null,
      "padding": null,
      "right": null,
      "top": null,
      "visibility": null,
      "width": null
     }
    },
    "4b51aa3e4ae64bfaa566dcef1e8f5701": {
     "model_module": "@jupyter-widgets/controls",
     "model_module_version": "1.5.0",
     "model_name": "HTMLModel",
     "state": {
      "_dom_classes": [],
      "_model_module": "@jupyter-widgets/controls",
      "_model_module_version": "1.5.0",
      "_model_name": "HTMLModel",
      "_view_count": null,
      "_view_module": "@jupyter-widgets/controls",
      "_view_module_version": "1.5.0",
      "_view_name": "HTMLView",
      "description": "",
      "description_tooltip": null,
      "layout": "IPY_MODEL_6b79cb5678e346db913c2e85402fd2a9",
      "placeholder": "​",
      "style": "IPY_MODEL_8bd97c2ab4a24345b7bd50e5768093f3",
      "value": " 7/7 [00:02&lt;00:00,  2.52it/s]"
     }
    },
    "4e4f2526c9634b50be1a71a0757da30f": {
     "model_module": "@jupyter-widgets/controls",
     "model_module_version": "1.5.0",
     "model_name": "HTMLModel",
     "state": {
      "_dom_classes": [],
      "_model_module": "@jupyter-widgets/controls",
      "_model_module_version": "1.5.0",
      "_model_name": "HTMLModel",
      "_view_count": null,
      "_view_module": "@jupyter-widgets/controls",
      "_view_module_version": "1.5.0",
      "_view_name": "HTMLView",
      "description": "",
      "description_tooltip": null,
      "layout": "IPY_MODEL_af948d81db644fe29710d43f8a41fe12",
      "placeholder": "​",
      "style": "IPY_MODEL_8d7c1ca5ebd9495081d74322af1b75cd",
      "value": "Map: 100%"
     }
    },
    "4e7b9d56d69c4e628de2c8a84caf83b5": {
     "model_module": "@jupyter-widgets/base",
     "model_module_version": "1.2.0",
     "model_name": "LayoutModel",
     "state": {
      "_model_module": "@jupyter-widgets/base",
      "_model_module_version": "1.2.0",
      "_model_name": "LayoutModel",
      "_view_count": null,
      "_view_module": "@jupyter-widgets/base",
      "_view_module_version": "1.2.0",
      "_view_name": "LayoutView",
      "align_content": null,
      "align_items": null,
      "align_self": null,
      "border": null,
      "bottom": null,
      "display": null,
      "flex": null,
      "flex_flow": null,
      "grid_area": null,
      "grid_auto_columns": null,
      "grid_auto_flow": null,
      "grid_auto_rows": null,
      "grid_column": null,
      "grid_gap": null,
      "grid_row": null,
      "grid_template_areas": null,
      "grid_template_columns": null,
      "grid_template_rows": null,
      "height": null,
      "justify_content": null,
      "justify_items": null,
      "left": null,
      "margin": null,
      "max_height": null,
      "max_width": null,
      "min_height": null,
      "min_width": null,
      "object_fit": null,
      "object_position": null,
      "order": null,
      "overflow": null,
      "overflow_x": null,
      "overflow_y": null,
      "padding": null,
      "right": null,
      "top": null,
      "visibility": null,
      "width": null
     }
    },
    "4eb98ad9f4944d4a9a3f98d5ef1ba37f": {
     "model_module": "@jupyter-widgets/controls",
     "model_module_version": "1.5.0",
     "model_name": "HBoxModel",
     "state": {
      "_dom_classes": [],
      "_model_module": "@jupyter-widgets/controls",
      "_model_module_version": "1.5.0",
      "_model_name": "HBoxModel",
      "_view_count": null,
      "_view_module": "@jupyter-widgets/controls",
      "_view_module_version": "1.5.0",
      "_view_name": "HBoxView",
      "box_style": "",
      "children": [
       "IPY_MODEL_827387be4aa14d1d8fb38649b9ab8864",
       "IPY_MODEL_70e35fc0b76542a0bf733340621509d2",
       "IPY_MODEL_bcfbfe98a83b4837b914351fbba4fa30"
      ],
      "layout": "IPY_MODEL_478acf7992e44a11bf45a1621e87987b"
     }
    },
    "4f856206bc4646789fde48df3da4d037": {
     "model_module": "@jupyter-widgets/base",
     "model_module_version": "1.2.0",
     "model_name": "LayoutModel",
     "state": {
      "_model_module": "@jupyter-widgets/base",
      "_model_module_version": "1.2.0",
      "_model_name": "LayoutModel",
      "_view_count": null,
      "_view_module": "@jupyter-widgets/base",
      "_view_module_version": "1.2.0",
      "_view_name": "LayoutView",
      "align_content": null,
      "align_items": null,
      "align_self": null,
      "border": null,
      "bottom": null,
      "display": null,
      "flex": null,
      "flex_flow": null,
      "grid_area": null,
      "grid_auto_columns": null,
      "grid_auto_flow": null,
      "grid_auto_rows": null,
      "grid_column": null,
      "grid_gap": null,
      "grid_row": null,
      "grid_template_areas": null,
      "grid_template_columns": null,
      "grid_template_rows": null,
      "height": null,
      "justify_content": null,
      "justify_items": null,
      "left": null,
      "margin": null,
      "max_height": null,
      "max_width": null,
      "min_height": null,
      "min_width": null,
      "object_fit": null,
      "object_position": null,
      "order": null,
      "overflow": null,
      "overflow_x": null,
      "overflow_y": null,
      "padding": null,
      "right": null,
      "top": null,
      "visibility": null,
      "width": null
     }
    },
    "4fc2ed140ce94f5095274df48e0ae23f": {
     "model_module": "@jupyter-widgets/base",
     "model_module_version": "1.2.0",
     "model_name": "LayoutModel",
     "state": {
      "_model_module": "@jupyter-widgets/base",
      "_model_module_version": "1.2.0",
      "_model_name": "LayoutModel",
      "_view_count": null,
      "_view_module": "@jupyter-widgets/base",
      "_view_module_version": "1.2.0",
      "_view_name": "LayoutView",
      "align_content": null,
      "align_items": null,
      "align_self": null,
      "border": null,
      "bottom": null,
      "display": null,
      "flex": null,
      "flex_flow": null,
      "grid_area": null,
      "grid_auto_columns": null,
      "grid_auto_flow": null,
      "grid_auto_rows": null,
      "grid_column": null,
      "grid_gap": null,
      "grid_row": null,
      "grid_template_areas": null,
      "grid_template_columns": null,
      "grid_template_rows": null,
      "height": null,
      "justify_content": null,
      "justify_items": null,
      "left": null,
      "margin": null,
      "max_height": null,
      "max_width": null,
      "min_height": null,
      "min_width": null,
      "object_fit": null,
      "object_position": null,
      "order": null,
      "overflow": null,
      "overflow_x": null,
      "overflow_y": null,
      "padding": null,
      "right": null,
      "top": null,
      "visibility": null,
      "width": null
     }
    },
    "503690909bdb4f008bd69018821f3075": {
     "model_module": "@jupyter-widgets/base",
     "model_module_version": "1.2.0",
     "model_name": "LayoutModel",
     "state": {
      "_model_module": "@jupyter-widgets/base",
      "_model_module_version": "1.2.0",
      "_model_name": "LayoutModel",
      "_view_count": null,
      "_view_module": "@jupyter-widgets/base",
      "_view_module_version": "1.2.0",
      "_view_name": "LayoutView",
      "align_content": null,
      "align_items": null,
      "align_self": null,
      "border": null,
      "bottom": null,
      "display": null,
      "flex": null,
      "flex_flow": null,
      "grid_area": null,
      "grid_auto_columns": null,
      "grid_auto_flow": null,
      "grid_auto_rows": null,
      "grid_column": null,
      "grid_gap": null,
      "grid_row": null,
      "grid_template_areas": null,
      "grid_template_columns": null,
      "grid_template_rows": null,
      "height": null,
      "justify_content": null,
      "justify_items": null,
      "left": null,
      "margin": null,
      "max_height": null,
      "max_width": null,
      "min_height": null,
      "min_width": null,
      "object_fit": null,
      "object_position": null,
      "order": null,
      "overflow": null,
      "overflow_x": null,
      "overflow_y": null,
      "padding": null,
      "right": null,
      "top": null,
      "visibility": null,
      "width": null
     }
    },
    "51a3c7806e4c4a089f335049f2d397a6": {
     "model_module": "@jupyter-widgets/controls",
     "model_module_version": "1.5.0",
     "model_name": "HTMLModel",
     "state": {
      "_dom_classes": [],
      "_model_module": "@jupyter-widgets/controls",
      "_model_module_version": "1.5.0",
      "_model_name": "HTMLModel",
      "_view_count": null,
      "_view_module": "@jupyter-widgets/controls",
      "_view_module_version": "1.5.0",
      "_view_name": "HTMLView",
      "description": "",
      "description_tooltip": null,
      "layout": "IPY_MODEL_09b3620a9a954ca181bd66c7b5913832",
      "placeholder": "​",
      "style": "IPY_MODEL_73ab8863ac44478e994a480992b282ce",
      "value": "tokenizer_config.json: 100%"
     }
    },
    "51ae0ff89d984ac48a8546f015d7f0ee": {
     "model_module": "@jupyter-widgets/controls",
     "model_module_version": "1.5.0",
     "model_name": "HTMLModel",
     "state": {
      "_dom_classes": [],
      "_model_module": "@jupyter-widgets/controls",
      "_model_module_version": "1.5.0",
      "_model_name": "HTMLModel",
      "_view_count": null,
      "_view_module": "@jupyter-widgets/controls",
      "_view_module_version": "1.5.0",
      "_view_name": "HTMLView",
      "description": "",
      "description_tooltip": null,
      "layout": "IPY_MODEL_663791c9eb4543bb82858a38718a5e17",
      "placeholder": "​",
      "style": "IPY_MODEL_ca8864e22e374866b0214414ada508b0",
      "value": "Downloading builder script: "
     }
    },
    "521b8d60ca6d41e78872091567df8863": {
     "model_module": "@jupyter-widgets/base",
     "model_module_version": "1.2.0",
     "model_name": "LayoutModel",
     "state": {
      "_model_module": "@jupyter-widgets/base",
      "_model_module_version": "1.2.0",
      "_model_name": "LayoutModel",
      "_view_count": null,
      "_view_module": "@jupyter-widgets/base",
      "_view_module_version": "1.2.0",
      "_view_name": "LayoutView",
      "align_content": null,
      "align_items": null,
      "align_self": null,
      "border": null,
      "bottom": null,
      "display": null,
      "flex": null,
      "flex_flow": null,
      "grid_area": null,
      "grid_auto_columns": null,
      "grid_auto_flow": null,
      "grid_auto_rows": null,
      "grid_column": null,
      "grid_gap": null,
      "grid_row": null,
      "grid_template_areas": null,
      "grid_template_columns": null,
      "grid_template_rows": null,
      "height": null,
      "justify_content": null,
      "justify_items": null,
      "left": null,
      "margin": null,
      "max_height": null,
      "max_width": null,
      "min_height": null,
      "min_width": null,
      "object_fit": null,
      "object_position": null,
      "order": null,
      "overflow": null,
      "overflow_x": null,
      "overflow_y": null,
      "padding": null,
      "right": null,
      "top": null,
      "visibility": null,
      "width": null
     }
    },
    "54599c8612bd4f8281da019e79ce88aa": {
     "model_module": "@jupyter-widgets/controls",
     "model_module_version": "1.5.0",
     "model_name": "DescriptionStyleModel",
     "state": {
      "_model_module": "@jupyter-widgets/controls",
      "_model_module_version": "1.5.0",
      "_model_name": "DescriptionStyleModel",
      "_view_count": null,
      "_view_module": "@jupyter-widgets/base",
      "_view_module_version": "1.2.0",
      "_view_name": "StyleView",
      "description_width": ""
     }
    },
    "55f18a9190aa4af5baf32a1d71286410": {
     "model_module": "@jupyter-widgets/controls",
     "model_module_version": "1.5.0",
     "model_name": "FloatProgressModel",
     "state": {
      "_dom_classes": [],
      "_model_module": "@jupyter-widgets/controls",
      "_model_module_version": "1.5.0",
      "_model_name": "FloatProgressModel",
      "_view_count": null,
      "_view_module": "@jupyter-widgets/controls",
      "_view_module_version": "1.5.0",
      "_view_name": "ProgressView",
      "bar_style": "success",
      "description": "",
      "description_tooltip": null,
      "layout": "IPY_MODEL_c58b6870528849d8bab4bb09e0683e0c",
      "max": 570,
      "min": 0,
      "orientation": "horizontal",
      "style": "IPY_MODEL_87f4fde207fe486882718f3b23db26aa",
      "value": 570
     }
    },
    "56df4c90e3e448e991e95436d81dd737": {
     "model_module": "@jupyter-widgets/base",
     "model_module_version": "1.2.0",
     "model_name": "LayoutModel",
     "state": {
      "_model_module": "@jupyter-widgets/base",
      "_model_module_version": "1.2.0",
      "_model_name": "LayoutModel",
      "_view_count": null,
      "_view_module": "@jupyter-widgets/base",
      "_view_module_version": "1.2.0",
      "_view_name": "LayoutView",
      "align_content": null,
      "align_items": null,
      "align_self": null,
      "border": null,
      "bottom": null,
      "display": null,
      "flex": null,
      "flex_flow": null,
      "grid_area": null,
      "grid_auto_columns": null,
      "grid_auto_flow": null,
      "grid_auto_rows": null,
      "grid_column": null,
      "grid_gap": null,
      "grid_row": null,
      "grid_template_areas": null,
      "grid_template_columns": null,
      "grid_template_rows": null,
      "height": null,
      "justify_content": null,
      "justify_items": null,
      "left": null,
      "margin": null,
      "max_height": null,
      "max_width": null,
      "min_height": null,
      "min_width": null,
      "object_fit": null,
      "object_position": null,
      "order": null,
      "overflow": null,
      "overflow_x": null,
      "overflow_y": null,
      "padding": null,
      "right": null,
      "top": null,
      "visibility": null,
      "width": null
     }
    },
    "5713f5ff610c4533850e9c4430211d8c": {
     "model_module": "@jupyter-widgets/base",
     "model_module_version": "1.2.0",
     "model_name": "LayoutModel",
     "state": {
      "_model_module": "@jupyter-widgets/base",
      "_model_module_version": "1.2.0",
      "_model_name": "LayoutModel",
      "_view_count": null,
      "_view_module": "@jupyter-widgets/base",
      "_view_module_version": "1.2.0",
      "_view_name": "LayoutView",
      "align_content": null,
      "align_items": null,
      "align_self": null,
      "border": null,
      "bottom": null,
      "display": null,
      "flex": null,
      "flex_flow": null,
      "grid_area": null,
      "grid_auto_columns": null,
      "grid_auto_flow": null,
      "grid_auto_rows": null,
      "grid_column": null,
      "grid_gap": null,
      "grid_row": null,
      "grid_template_areas": null,
      "grid_template_columns": null,
      "grid_template_rows": null,
      "height": null,
      "justify_content": null,
      "justify_items": null,
      "left": null,
      "margin": null,
      "max_height": null,
      "max_width": null,
      "min_height": null,
      "min_width": null,
      "object_fit": null,
      "object_position": null,
      "order": null,
      "overflow": null,
      "overflow_x": null,
      "overflow_y": null,
      "padding": null,
      "right": null,
      "top": null,
      "visibility": null,
      "width": null
     }
    },
    "58aba34240d74e26a22ff43b1467a727": {
     "model_module": "@jupyter-widgets/controls",
     "model_module_version": "1.5.0",
     "model_name": "HBoxModel",
     "state": {
      "_dom_classes": [],
      "_model_module": "@jupyter-widgets/controls",
      "_model_module_version": "1.5.0",
      "_model_name": "HBoxModel",
      "_view_count": null,
      "_view_module": "@jupyter-widgets/controls",
      "_view_module_version": "1.5.0",
      "_view_name": "HBoxView",
      "box_style": "",
      "children": [
       "IPY_MODEL_d1cc078a756b41f28ba55733f6400a9b",
       "IPY_MODEL_a0e7c96dd00b41e798adf18f4c26a5fe",
       "IPY_MODEL_664c0d9db8f7442a93d3c6e75f16b037"
      ],
      "layout": "IPY_MODEL_756c3d6f22b242e4b1e4fd39e86a85cb"
     }
    },
    "59adb5eb8083454582470393017372e4": {
     "model_module": "@jupyter-widgets/controls",
     "model_module_version": "1.5.0",
     "model_name": "DescriptionStyleModel",
     "state": {
      "_model_module": "@jupyter-widgets/controls",
      "_model_module_version": "1.5.0",
      "_model_name": "DescriptionStyleModel",
      "_view_count": null,
      "_view_module": "@jupyter-widgets/base",
      "_view_module_version": "1.2.0",
      "_view_name": "StyleView",
      "description_width": ""
     }
    },
    "5a27d4dd5f4c41419030c0d71d0a76ea": {
     "model_module": "@jupyter-widgets/controls",
     "model_module_version": "1.5.0",
     "model_name": "HBoxModel",
     "state": {
      "_dom_classes": [],
      "_model_module": "@jupyter-widgets/controls",
      "_model_module_version": "1.5.0",
      "_model_name": "HBoxModel",
      "_view_count": null,
      "_view_module": "@jupyter-widgets/controls",
      "_view_module_version": "1.5.0",
      "_view_name": "HBoxView",
      "box_style": "",
      "children": [
       "IPY_MODEL_102b5001459447549fa59b12ccbe138f",
       "IPY_MODEL_55f18a9190aa4af5baf32a1d71286410",
       "IPY_MODEL_95aa774e827340498c6c68ffde3c1e43"
      ],
      "layout": "IPY_MODEL_930507678e294db795ad1ac3de5b145f"
     }
    },
    "5a76c2dbcdaf4d1781025d6d7a60e020": {
     "model_module": "@jupyter-widgets/controls",
     "model_module_version": "1.5.0",
     "model_name": "DescriptionStyleModel",
     "state": {
      "_model_module": "@jupyter-widgets/controls",
      "_model_module_version": "1.5.0",
      "_model_name": "DescriptionStyleModel",
      "_view_count": null,
      "_view_module": "@jupyter-widgets/base",
      "_view_module_version": "1.2.0",
      "_view_name": "StyleView",
      "description_width": ""
     }
    },
    "5a992b9e617a4153a2f69a952e224197": {
     "model_module": "@jupyter-widgets/base",
     "model_module_version": "1.2.0",
     "model_name": "LayoutModel",
     "state": {
      "_model_module": "@jupyter-widgets/base",
      "_model_module_version": "1.2.0",
      "_model_name": "LayoutModel",
      "_view_count": null,
      "_view_module": "@jupyter-widgets/base",
      "_view_module_version": "1.2.0",
      "_view_name": "LayoutView",
      "align_content": null,
      "align_items": null,
      "align_self": null,
      "border": null,
      "bottom": null,
      "display": null,
      "flex": null,
      "flex_flow": null,
      "grid_area": null,
      "grid_auto_columns": null,
      "grid_auto_flow": null,
      "grid_auto_rows": null,
      "grid_column": null,
      "grid_gap": null,
      "grid_row": null,
      "grid_template_areas": null,
      "grid_template_columns": null,
      "grid_template_rows": null,
      "height": null,
      "justify_content": null,
      "justify_items": null,
      "left": null,
      "margin": null,
      "max_height": null,
      "max_width": null,
      "min_height": null,
      "min_width": null,
      "object_fit": null,
      "object_position": null,
      "order": null,
      "overflow": null,
      "overflow_x": null,
      "overflow_y": null,
      "padding": null,
      "right": null,
      "top": null,
      "visibility": null,
      "width": null
     }
    },
    "5c895ce5d02447f694356c0dfd1f7813": {
     "model_module": "@jupyter-widgets/controls",
     "model_module_version": "1.5.0",
     "model_name": "DescriptionStyleModel",
     "state": {
      "_model_module": "@jupyter-widgets/controls",
      "_model_module_version": "1.5.0",
      "_model_name": "DescriptionStyleModel",
      "_view_count": null,
      "_view_module": "@jupyter-widgets/base",
      "_view_module_version": "1.2.0",
      "_view_name": "StyleView",
      "description_width": ""
     }
    },
    "5c910b8f53514514941ca8eef4d03683": {
     "model_module": "@jupyter-widgets/base",
     "model_module_version": "1.2.0",
     "model_name": "LayoutModel",
     "state": {
      "_model_module": "@jupyter-widgets/base",
      "_model_module_version": "1.2.0",
      "_model_name": "LayoutModel",
      "_view_count": null,
      "_view_module": "@jupyter-widgets/base",
      "_view_module_version": "1.2.0",
      "_view_name": "LayoutView",
      "align_content": null,
      "align_items": null,
      "align_self": null,
      "border": null,
      "bottom": null,
      "display": null,
      "flex": null,
      "flex_flow": null,
      "grid_area": null,
      "grid_auto_columns": null,
      "grid_auto_flow": null,
      "grid_auto_rows": null,
      "grid_column": null,
      "grid_gap": null,
      "grid_row": null,
      "grid_template_areas": null,
      "grid_template_columns": null,
      "grid_template_rows": null,
      "height": null,
      "justify_content": null,
      "justify_items": null,
      "left": null,
      "margin": null,
      "max_height": null,
      "max_width": null,
      "min_height": null,
      "min_width": null,
      "object_fit": null,
      "object_position": null,
      "order": null,
      "overflow": null,
      "overflow_x": null,
      "overflow_y": null,
      "padding": null,
      "right": null,
      "top": null,
      "visibility": null,
      "width": null
     }
    },
    "5f78634391c842fe9b07e0f8a540bc4c": {
     "model_module": "@jupyter-widgets/controls",
     "model_module_version": "1.5.0",
     "model_name": "DescriptionStyleModel",
     "state": {
      "_model_module": "@jupyter-widgets/controls",
      "_model_module_version": "1.5.0",
      "_model_name": "DescriptionStyleModel",
      "_view_count": null,
      "_view_module": "@jupyter-widgets/base",
      "_view_module_version": "1.2.0",
      "_view_name": "StyleView",
      "description_width": ""
     }
    },
    "5f7e026e73dc4a4ea63d4e3a32003872": {
     "model_module": "@jupyter-widgets/controls",
     "model_module_version": "1.5.0",
     "model_name": "ProgressStyleModel",
     "state": {
      "_model_module": "@jupyter-widgets/controls",
      "_model_module_version": "1.5.0",
      "_model_name": "ProgressStyleModel",
      "_view_count": null,
      "_view_module": "@jupyter-widgets/base",
      "_view_module_version": "1.2.0",
      "_view_name": "StyleView",
      "bar_color": null,
      "description_width": ""
     }
    },
    "617efebf41e742199587cd599ea77aaf": {
     "model_module": "@jupyter-widgets/controls",
     "model_module_version": "1.5.0",
     "model_name": "HBoxModel",
     "state": {
      "_dom_classes": [],
      "_model_module": "@jupyter-widgets/controls",
      "_model_module_version": "1.5.0",
      "_model_name": "HBoxModel",
      "_view_count": null,
      "_view_module": "@jupyter-widgets/controls",
      "_view_module_version": "1.5.0",
      "_view_name": "HBoxView",
      "box_style": "",
      "children": [
       "IPY_MODEL_87b4a3719aad4ade8d4755ebd0ca9587",
       "IPY_MODEL_b99a62f41f60459aa7bae2ce12d9a798",
       "IPY_MODEL_87e42018d45b4a5699eb67df78c1d5eb"
      ],
      "layout": "IPY_MODEL_e97032b9a31e4eb6a87596033be1c623"
     }
    },
    "62a085c00df44dc7bd670732af5841d8": {
     "model_module": "@jupyter-widgets/controls",
     "model_module_version": "1.5.0",
     "model_name": "HBoxModel",
     "state": {
      "_dom_classes": [],
      "_model_module": "@jupyter-widgets/controls",
      "_model_module_version": "1.5.0",
      "_model_name": "HBoxModel",
      "_view_count": null,
      "_view_module": "@jupyter-widgets/controls",
      "_view_module_version": "1.5.0",
      "_view_name": "HBoxView",
      "box_style": "",
      "children": [
       "IPY_MODEL_313498e4774042748071db59ca62cc82",
       "IPY_MODEL_422623238f6e469a896fc95539fd23e8",
       "IPY_MODEL_3e43727ff66b4660a1e77ad6fa10d8d0"
      ],
      "layout": "IPY_MODEL_9889ed61dd6c474cb11441f1b21b584e"
     }
    },
    "62a63203fa8847e1940d38ead886d1d8": {
     "model_module": "@jupyter-widgets/controls",
     "model_module_version": "1.5.0",
     "model_name": "FloatProgressModel",
     "state": {
      "_dom_classes": [],
      "_model_module": "@jupyter-widgets/controls",
      "_model_module_version": "1.5.0",
      "_model_name": "FloatProgressModel",
      "_view_count": null,
      "_view_module": "@jupyter-widgets/controls",
      "_view_module_version": "1.5.0",
      "_view_name": "ProgressView",
      "bar_style": "success",
      "description": "",
      "description_tooltip": null,
      "layout": "IPY_MODEL_fb7e05f55e7a48409eb802267751bd36",
      "max": 1,
      "min": 0,
      "orientation": "horizontal",
      "style": "IPY_MODEL_dde8df0c4d7e49478d847ba984323bbb",
      "value": 1
     }
    },
    "62f10dd219e849baa3194aec08bfe31c": {
     "model_module": "@jupyter-widgets/controls",
     "model_module_version": "1.5.0",
     "model_name": "HBoxModel",
     "state": {
      "_dom_classes": [],
      "_model_module": "@jupyter-widgets/controls",
      "_model_module_version": "1.5.0",
      "_model_name": "HBoxModel",
      "_view_count": null,
      "_view_module": "@jupyter-widgets/controls",
      "_view_module_version": "1.5.0",
      "_view_name": "HBoxView",
      "box_style": "",
      "children": [
       "IPY_MODEL_8b55c508c8554a8e92304c24eed02f2b",
       "IPY_MODEL_62a63203fa8847e1940d38ead886d1d8",
       "IPY_MODEL_2f8e65873b8b4bcba688d5f1aaca16aa"
      ],
      "layout": "IPY_MODEL_4f856206bc4646789fde48df3da4d037"
     }
    },
    "6369466766b74d22aff5e2960cd513fa": {
     "model_module": "@jupyter-widgets/controls",
     "model_module_version": "1.5.0",
     "model_name": "ProgressStyleModel",
     "state": {
      "_model_module": "@jupyter-widgets/controls",
      "_model_module_version": "1.5.0",
      "_model_name": "ProgressStyleModel",
      "_view_count": null,
      "_view_module": "@jupyter-widgets/base",
      "_view_module_version": "1.2.0",
      "_view_name": "StyleView",
      "bar_color": null,
      "description_width": ""
     }
    },
    "6543633ee88342d9ba20b29ce14caa29": {
     "model_module": "@jupyter-widgets/base",
     "model_module_version": "1.2.0",
     "model_name": "LayoutModel",
     "state": {
      "_model_module": "@jupyter-widgets/base",
      "_model_module_version": "1.2.0",
      "_model_name": "LayoutModel",
      "_view_count": null,
      "_view_module": "@jupyter-widgets/base",
      "_view_module_version": "1.2.0",
      "_view_name": "LayoutView",
      "align_content": null,
      "align_items": null,
      "align_self": null,
      "border": null,
      "bottom": null,
      "display": null,
      "flex": null,
      "flex_flow": null,
      "grid_area": null,
      "grid_auto_columns": null,
      "grid_auto_flow": null,
      "grid_auto_rows": null,
      "grid_column": null,
      "grid_gap": null,
      "grid_row": null,
      "grid_template_areas": null,
      "grid_template_columns": null,
      "grid_template_rows": null,
      "height": null,
      "justify_content": null,
      "justify_items": null,
      "left": null,
      "margin": null,
      "max_height": null,
      "max_width": null,
      "min_height": null,
      "min_width": null,
      "object_fit": null,
      "object_position": null,
      "order": null,
      "overflow": null,
      "overflow_x": null,
      "overflow_y": null,
      "padding": null,
      "right": null,
      "top": null,
      "visibility": null,
      "width": null
     }
    },
    "66351260fab644b5abf7aab6242ec63b": {
     "model_module": "@jupyter-widgets/base",
     "model_module_version": "1.2.0",
     "model_name": "LayoutModel",
     "state": {
      "_model_module": "@jupyter-widgets/base",
      "_model_module_version": "1.2.0",
      "_model_name": "LayoutModel",
      "_view_count": null,
      "_view_module": "@jupyter-widgets/base",
      "_view_module_version": "1.2.0",
      "_view_name": "LayoutView",
      "align_content": null,
      "align_items": null,
      "align_self": null,
      "border": null,
      "bottom": null,
      "display": null,
      "flex": null,
      "flex_flow": null,
      "grid_area": null,
      "grid_auto_columns": null,
      "grid_auto_flow": null,
      "grid_auto_rows": null,
      "grid_column": null,
      "grid_gap": null,
      "grid_row": null,
      "grid_template_areas": null,
      "grid_template_columns": null,
      "grid_template_rows": null,
      "height": null,
      "justify_content": null,
      "justify_items": null,
      "left": null,
      "margin": null,
      "max_height": null,
      "max_width": null,
      "min_height": null,
      "min_width": null,
      "object_fit": null,
      "object_position": null,
      "order": null,
      "overflow": null,
      "overflow_x": null,
      "overflow_y": null,
      "padding": null,
      "right": null,
      "top": null,
      "visibility": null,
      "width": null
     }
    },
    "663791c9eb4543bb82858a38718a5e17": {
     "model_module": "@jupyter-widgets/base",
     "model_module_version": "1.2.0",
     "model_name": "LayoutModel",
     "state": {
      "_model_module": "@jupyter-widgets/base",
      "_model_module_version": "1.2.0",
      "_model_name": "LayoutModel",
      "_view_count": null,
      "_view_module": "@jupyter-widgets/base",
      "_view_module_version": "1.2.0",
      "_view_name": "LayoutView",
      "align_content": null,
      "align_items": null,
      "align_self": null,
      "border": null,
      "bottom": null,
      "display": null,
      "flex": null,
      "flex_flow": null,
      "grid_area": null,
      "grid_auto_columns": null,
      "grid_auto_flow": null,
      "grid_auto_rows": null,
      "grid_column": null,
      "grid_gap": null,
      "grid_row": null,
      "grid_template_areas": null,
      "grid_template_columns": null,
      "grid_template_rows": null,
      "height": null,
      "justify_content": null,
      "justify_items": null,
      "left": null,
      "margin": null,
      "max_height": null,
      "max_width": null,
      "min_height": null,
      "min_width": null,
      "object_fit": null,
      "object_position": null,
      "order": null,
      "overflow": null,
      "overflow_x": null,
      "overflow_y": null,
      "padding": null,
      "right": null,
      "top": null,
      "visibility": null,
      "width": null
     }
    },
    "664c0d9db8f7442a93d3c6e75f16b037": {
     "model_module": "@jupyter-widgets/controls",
     "model_module_version": "1.5.0",
     "model_name": "HTMLModel",
     "state": {
      "_dom_classes": [],
      "_model_module": "@jupyter-widgets/controls",
      "_model_module_version": "1.5.0",
      "_model_name": "HTMLModel",
      "_view_count": null,
      "_view_module": "@jupyter-widgets/controls",
      "_view_module_version": "1.5.0",
      "_view_name": "HTMLView",
      "description": "",
      "description_tooltip": null,
      "layout": "IPY_MODEL_7c20960785c24ab9a7a978382f944832",
      "placeholder": "​",
      "style": "IPY_MODEL_97256560f68342dbb3b3068cea28aa07",
      "value": " 7.56k/? [00:00&lt;00:00, 133kB/s]"
     }
    },
    "6673cfce8e574936a35bd4487358e556": {
     "model_module": "@jupyter-widgets/controls",
     "model_module_version": "1.5.0",
     "model_name": "HTMLModel",
     "state": {
      "_dom_classes": [],
      "_model_module": "@jupyter-widgets/controls",
      "_model_module_version": "1.5.0",
      "_model_name": "HTMLModel",
      "_view_count": null,
      "_view_module": "@jupyter-widgets/controls",
      "_view_module_version": "1.5.0",
      "_view_name": "HTMLView",
      "description": "",
      "description_tooltip": null,
      "layout": "IPY_MODEL_ca476be15dad4a9892ae9b2245fc3744",
      "placeholder": "​",
      "style": "IPY_MODEL_d795493cc99047369efbc0435c8a456c",
      "value": "Map: 100%"
     }
    },
    "6a2a4ecd11624d5fb36f129a426cf1b2": {
     "model_module": "@jupyter-widgets/base",
     "model_module_version": "1.2.0",
     "model_name": "LayoutModel",
     "state": {
      "_model_module": "@jupyter-widgets/base",
      "_model_module_version": "1.2.0",
      "_model_name": "LayoutModel",
      "_view_count": null,
      "_view_module": "@jupyter-widgets/base",
      "_view_module_version": "1.2.0",
      "_view_name": "LayoutView",
      "align_content": null,
      "align_items": null,
      "align_self": null,
      "border": null,
      "bottom": null,
      "display": null,
      "flex": null,
      "flex_flow": null,
      "grid_area": null,
      "grid_auto_columns": null,
      "grid_auto_flow": null,
      "grid_auto_rows": null,
      "grid_column": null,
      "grid_gap": null,
      "grid_row": null,
      "grid_template_areas": null,
      "grid_template_columns": null,
      "grid_template_rows": null,
      "height": null,
      "justify_content": null,
      "justify_items": null,
      "left": null,
      "margin": null,
      "max_height": null,
      "max_width": null,
      "min_height": null,
      "min_width": null,
      "object_fit": null,
      "object_position": null,
      "order": null,
      "overflow": null,
      "overflow_x": null,
      "overflow_y": null,
      "padding": null,
      "right": null,
      "top": null,
      "visibility": null,
      "width": null
     }
    },
    "6b2106796a5c4ff0879ac64ec489ee69": {
     "model_module": "@jupyter-widgets/controls",
     "model_module_version": "1.5.0",
     "model_name": "HTMLModel",
     "state": {
      "_dom_classes": [],
      "_model_module": "@jupyter-widgets/controls",
      "_model_module_version": "1.5.0",
      "_model_name": "HTMLModel",
      "_view_count": null,
      "_view_module": "@jupyter-widgets/controls",
      "_view_module_version": "1.5.0",
      "_view_name": "HTMLView",
      "description": "",
      "description_tooltip": null,
      "layout": "IPY_MODEL_8e0cdca91db843c0a096bbdda82982d8",
      "placeholder": "​",
      "style": "IPY_MODEL_a86e01f6782046858bdc8f8f96993d0a",
      "value": " 438M/438M [00:05&lt;00:00, 104MB/s]"
     }
    },
    "6b79cb5678e346db913c2e85402fd2a9": {
     "model_module": "@jupyter-widgets/base",
     "model_module_version": "1.2.0",
     "model_name": "LayoutModel",
     "state": {
      "_model_module": "@jupyter-widgets/base",
      "_model_module_version": "1.2.0",
      "_model_name": "LayoutModel",
      "_view_count": null,
      "_view_module": "@jupyter-widgets/base",
      "_view_module_version": "1.2.0",
      "_view_name": "LayoutView",
      "align_content": null,
      "align_items": null,
      "align_self": null,
      "border": null,
      "bottom": null,
      "display": null,
      "flex": null,
      "flex_flow": null,
      "grid_area": null,
      "grid_auto_columns": null,
      "grid_auto_flow": null,
      "grid_auto_rows": null,
      "grid_column": null,
      "grid_gap": null,
      "grid_row": null,
      "grid_template_areas": null,
      "grid_template_columns": null,
      "grid_template_rows": null,
      "height": null,
      "justify_content": null,
      "justify_items": null,
      "left": null,
      "margin": null,
      "max_height": null,
      "max_width": null,
      "min_height": null,
      "min_width": null,
      "object_fit": null,
      "object_position": null,
      "order": null,
      "overflow": null,
      "overflow_x": null,
      "overflow_y": null,
      "padding": null,
      "right": null,
      "top": null,
      "visibility": null,
      "width": null
     }
    },
    "6b7b32cec6e24b43a01d747368be59be": {
     "model_module": "@jupyter-widgets/base",
     "model_module_version": "1.2.0",
     "model_name": "LayoutModel",
     "state": {
      "_model_module": "@jupyter-widgets/base",
      "_model_module_version": "1.2.0",
      "_model_name": "LayoutModel",
      "_view_count": null,
      "_view_module": "@jupyter-widgets/base",
      "_view_module_version": "1.2.0",
      "_view_name": "LayoutView",
      "align_content": null,
      "align_items": null,
      "align_self": null,
      "border": null,
      "bottom": null,
      "display": null,
      "flex": null,
      "flex_flow": null,
      "grid_area": null,
      "grid_auto_columns": null,
      "grid_auto_flow": null,
      "grid_auto_rows": null,
      "grid_column": null,
      "grid_gap": null,
      "grid_row": null,
      "grid_template_areas": null,
      "grid_template_columns": null,
      "grid_template_rows": null,
      "height": null,
      "justify_content": null,
      "justify_items": null,
      "left": null,
      "margin": null,
      "max_height": null,
      "max_width": null,
      "min_height": null,
      "min_width": null,
      "object_fit": null,
      "object_position": null,
      "order": null,
      "overflow": null,
      "overflow_x": null,
      "overflow_y": null,
      "padding": null,
      "right": null,
      "top": null,
      "visibility": null,
      "width": "20px"
     }
    },
    "6c26a185f0a6405487016a2afe390099": {
     "model_module": "@jupyter-widgets/controls",
     "model_module_version": "1.5.0",
     "model_name": "ProgressStyleModel",
     "state": {
      "_model_module": "@jupyter-widgets/controls",
      "_model_module_version": "1.5.0",
      "_model_name": "ProgressStyleModel",
      "_view_count": null,
      "_view_module": "@jupyter-widgets/base",
      "_view_module_version": "1.2.0",
      "_view_name": "StyleView",
      "bar_color": null,
      "description_width": ""
     }
    },
    "6cda165baf6649ce8555617aa98c7064": {
     "model_module": "@jupyter-widgets/controls",
     "model_module_version": "1.5.0",
     "model_name": "HBoxModel",
     "state": {
      "_dom_classes": [],
      "_model_module": "@jupyter-widgets/controls",
      "_model_module_version": "1.5.0",
      "_model_name": "HBoxModel",
      "_view_count": null,
      "_view_module": "@jupyter-widgets/controls",
      "_view_module_version": "1.5.0",
      "_view_name": "HBoxView",
      "box_style": "",
      "children": [
       "IPY_MODEL_8526013e58dd4ea79bef5815335edede",
       "IPY_MODEL_be7e8aae68f54bd1afc5038faac4cdea",
       "IPY_MODEL_6b2106796a5c4ff0879ac64ec489ee69"
      ],
      "layout": "IPY_MODEL_beb188d609bc4c51a3f62170d5e32499"
     }
    },
    "70e35fc0b76542a0bf733340621509d2": {
     "model_module": "@jupyter-widgets/controls",
     "model_module_version": "1.5.0",
     "model_name": "FloatProgressModel",
     "state": {
      "_dom_classes": [],
      "_model_module": "@jupyter-widgets/controls",
      "_model_module_version": "1.5.0",
      "_model_name": "FloatProgressModel",
      "_view_count": null,
      "_view_module": "@jupyter-widgets/controls",
      "_view_module_version": "1.5.0",
      "_view_name": "ProgressView",
      "bar_style": "success",
      "description": "",
      "description_tooltip": null,
      "layout": "IPY_MODEL_0ca87a05318d47f58d0b1ccc533d480e",
      "max": 1,
      "min": 0,
      "orientation": "horizontal",
      "style": "IPY_MODEL_c25f67b0b1f143379eba40e47015a003",
      "value": 1
     }
    },
    "724ecd90b9ed448f9e0bd59673456b1e": {
     "model_module": "@jupyter-widgets/base",
     "model_module_version": "1.2.0",
     "model_name": "LayoutModel",
     "state": {
      "_model_module": "@jupyter-widgets/base",
      "_model_module_version": "1.2.0",
      "_model_name": "LayoutModel",
      "_view_count": null,
      "_view_module": "@jupyter-widgets/base",
      "_view_module_version": "1.2.0",
      "_view_name": "LayoutView",
      "align_content": null,
      "align_items": null,
      "align_self": null,
      "border": null,
      "bottom": null,
      "display": null,
      "flex": null,
      "flex_flow": null,
      "grid_area": null,
      "grid_auto_columns": null,
      "grid_auto_flow": null,
      "grid_auto_rows": null,
      "grid_column": null,
      "grid_gap": null,
      "grid_row": null,
      "grid_template_areas": null,
      "grid_template_columns": null,
      "grid_template_rows": null,
      "height": null,
      "justify_content": null,
      "justify_items": null,
      "left": null,
      "margin": null,
      "max_height": null,
      "max_width": null,
      "min_height": null,
      "min_width": null,
      "object_fit": null,
      "object_position": null,
      "order": null,
      "overflow": null,
      "overflow_x": null,
      "overflow_y": null,
      "padding": null,
      "right": null,
      "top": null,
      "visibility": null,
      "width": null
     }
    },
    "73ab8863ac44478e994a480992b282ce": {
     "model_module": "@jupyter-widgets/controls",
     "model_module_version": "1.5.0",
     "model_name": "DescriptionStyleModel",
     "state": {
      "_model_module": "@jupyter-widgets/controls",
      "_model_module_version": "1.5.0",
      "_model_name": "DescriptionStyleModel",
      "_view_count": null,
      "_view_module": "@jupyter-widgets/base",
      "_view_module_version": "1.2.0",
      "_view_name": "StyleView",
      "description_width": ""
     }
    },
    "74367e379ba6413c97350dfbdb97d5fa": {
     "model_module": "@jupyter-widgets/controls",
     "model_module_version": "1.5.0",
     "model_name": "DescriptionStyleModel",
     "state": {
      "_model_module": "@jupyter-widgets/controls",
      "_model_module_version": "1.5.0",
      "_model_name": "DescriptionStyleModel",
      "_view_count": null,
      "_view_module": "@jupyter-widgets/base",
      "_view_module_version": "1.2.0",
      "_view_name": "StyleView",
      "description_width": ""
     }
    },
    "749c63840d6d4159ae9c679a6c4af47c": {
     "model_module": "@jupyter-widgets/base",
     "model_module_version": "1.2.0",
     "model_name": "LayoutModel",
     "state": {
      "_model_module": "@jupyter-widgets/base",
      "_model_module_version": "1.2.0",
      "_model_name": "LayoutModel",
      "_view_count": null,
      "_view_module": "@jupyter-widgets/base",
      "_view_module_version": "1.2.0",
      "_view_name": "LayoutView",
      "align_content": null,
      "align_items": null,
      "align_self": null,
      "border": null,
      "bottom": null,
      "display": null,
      "flex": null,
      "flex_flow": null,
      "grid_area": null,
      "grid_auto_columns": null,
      "grid_auto_flow": null,
      "grid_auto_rows": null,
      "grid_column": null,
      "grid_gap": null,
      "grid_row": null,
      "grid_template_areas": null,
      "grid_template_columns": null,
      "grid_template_rows": null,
      "height": null,
      "justify_content": null,
      "justify_items": null,
      "left": null,
      "margin": null,
      "max_height": null,
      "max_width": null,
      "min_height": null,
      "min_width": null,
      "object_fit": null,
      "object_position": null,
      "order": null,
      "overflow": null,
      "overflow_x": null,
      "overflow_y": null,
      "padding": null,
      "right": null,
      "top": null,
      "visibility": null,
      "width": null
     }
    },
    "74a83709cab24c23950983816cf45624": {
     "model_module": "@jupyter-widgets/base",
     "model_module_version": "1.2.0",
     "model_name": "LayoutModel",
     "state": {
      "_model_module": "@jupyter-widgets/base",
      "_model_module_version": "1.2.0",
      "_model_name": "LayoutModel",
      "_view_count": null,
      "_view_module": "@jupyter-widgets/base",
      "_view_module_version": "1.2.0",
      "_view_name": "LayoutView",
      "align_content": null,
      "align_items": null,
      "align_self": null,
      "border": null,
      "bottom": null,
      "display": null,
      "flex": null,
      "flex_flow": null,
      "grid_area": null,
      "grid_auto_columns": null,
      "grid_auto_flow": null,
      "grid_auto_rows": null,
      "grid_column": null,
      "grid_gap": null,
      "grid_row": null,
      "grid_template_areas": null,
      "grid_template_columns": null,
      "grid_template_rows": null,
      "height": null,
      "justify_content": null,
      "justify_items": null,
      "left": null,
      "margin": null,
      "max_height": null,
      "max_width": null,
      "min_height": null,
      "min_width": null,
      "object_fit": null,
      "object_position": null,
      "order": null,
      "overflow": null,
      "overflow_x": null,
      "overflow_y": null,
      "padding": null,
      "right": null,
      "top": null,
      "visibility": null,
      "width": null
     }
    },
    "756c3d6f22b242e4b1e4fd39e86a85cb": {
     "model_module": "@jupyter-widgets/base",
     "model_module_version": "1.2.0",
     "model_name": "LayoutModel",
     "state": {
      "_model_module": "@jupyter-widgets/base",
      "_model_module_version": "1.2.0",
      "_model_name": "LayoutModel",
      "_view_count": null,
      "_view_module": "@jupyter-widgets/base",
      "_view_module_version": "1.2.0",
      "_view_name": "LayoutView",
      "align_content": null,
      "align_items": null,
      "align_self": null,
      "border": null,
      "bottom": null,
      "display": null,
      "flex": null,
      "flex_flow": null,
      "grid_area": null,
      "grid_auto_columns": null,
      "grid_auto_flow": null,
      "grid_auto_rows": null,
      "grid_column": null,
      "grid_gap": null,
      "grid_row": null,
      "grid_template_areas": null,
      "grid_template_columns": null,
      "grid_template_rows": null,
      "height": null,
      "justify_content": null,
      "justify_items": null,
      "left": null,
      "margin": null,
      "max_height": null,
      "max_width": null,
      "min_height": null,
      "min_width": null,
      "object_fit": null,
      "object_position": null,
      "order": null,
      "overflow": null,
      "overflow_x": null,
      "overflow_y": null,
      "padding": null,
      "right": null,
      "top": null,
      "visibility": null,
      "width": null
     }
    },
    "77c94e5734704dc8a7b15f54ebbef847": {
     "model_module": "@jupyter-widgets/controls",
     "model_module_version": "1.5.0",
     "model_name": "ProgressStyleModel",
     "state": {
      "_model_module": "@jupyter-widgets/controls",
      "_model_module_version": "1.5.0",
      "_model_name": "ProgressStyleModel",
      "_view_count": null,
      "_view_module": "@jupyter-widgets/base",
      "_view_module_version": "1.2.0",
      "_view_name": "StyleView",
      "bar_color": null,
      "description_width": ""
     }
    },
    "77cd45d8f6a9454bb19fa72d670e1aed": {
     "model_module": "@jupyter-widgets/base",
     "model_module_version": "1.2.0",
     "model_name": "LayoutModel",
     "state": {
      "_model_module": "@jupyter-widgets/base",
      "_model_module_version": "1.2.0",
      "_model_name": "LayoutModel",
      "_view_count": null,
      "_view_module": "@jupyter-widgets/base",
      "_view_module_version": "1.2.0",
      "_view_name": "LayoutView",
      "align_content": null,
      "align_items": null,
      "align_self": null,
      "border": null,
      "bottom": null,
      "display": null,
      "flex": null,
      "flex_flow": null,
      "grid_area": null,
      "grid_auto_columns": null,
      "grid_auto_flow": null,
      "grid_auto_rows": null,
      "grid_column": null,
      "grid_gap": null,
      "grid_row": null,
      "grid_template_areas": null,
      "grid_template_columns": null,
      "grid_template_rows": null,
      "height": null,
      "justify_content": null,
      "justify_items": null,
      "left": null,
      "margin": null,
      "max_height": null,
      "max_width": null,
      "min_height": null,
      "min_width": null,
      "object_fit": null,
      "object_position": null,
      "order": null,
      "overflow": null,
      "overflow_x": null,
      "overflow_y": null,
      "padding": null,
      "right": null,
      "top": null,
      "visibility": null,
      "width": null
     }
    },
    "780e0e271250450a87e640c2f4c4f311": {
     "model_module": "@jupyter-widgets/base",
     "model_module_version": "1.2.0",
     "model_name": "LayoutModel",
     "state": {
      "_model_module": "@jupyter-widgets/base",
      "_model_module_version": "1.2.0",
      "_model_name": "LayoutModel",
      "_view_count": null,
      "_view_module": "@jupyter-widgets/base",
      "_view_module_version": "1.2.0",
      "_view_name": "LayoutView",
      "align_content": null,
      "align_items": null,
      "align_self": null,
      "border": null,
      "bottom": null,
      "display": null,
      "flex": null,
      "flex_flow": null,
      "grid_area": null,
      "grid_auto_columns": null,
      "grid_auto_flow": null,
      "grid_auto_rows": null,
      "grid_column": null,
      "grid_gap": null,
      "grid_row": null,
      "grid_template_areas": null,
      "grid_template_columns": null,
      "grid_template_rows": null,
      "height": null,
      "justify_content": null,
      "justify_items": null,
      "left": null,
      "margin": null,
      "max_height": null,
      "max_width": null,
      "min_height": null,
      "min_width": null,
      "object_fit": null,
      "object_position": null,
      "order": null,
      "overflow": null,
      "overflow_x": null,
      "overflow_y": null,
      "padding": null,
      "right": null,
      "top": null,
      "visibility": null,
      "width": null
     }
    },
    "784abe1a3d894e43a81a1bd9093dcad7": {
     "model_module": "@jupyter-widgets/controls",
     "model_module_version": "1.5.0",
     "model_name": "HTMLModel",
     "state": {
      "_dom_classes": [],
      "_model_module": "@jupyter-widgets/controls",
      "_model_module_version": "1.5.0",
      "_model_name": "HTMLModel",
      "_view_count": null,
      "_view_module": "@jupyter-widgets/controls",
      "_view_module_version": "1.5.0",
      "_view_name": "HTMLView",
      "description": "",
      "description_tooltip": null,
      "layout": "IPY_MODEL_ead656e0caef4fa7993916462eb4eb86",
      "placeholder": "​",
      "style": "IPY_MODEL_59adb5eb8083454582470393017372e4",
      "value": "100%"
     }
    },
    "7929da7f78104159a7a1d807106eec50": {
     "model_module": "@jupyter-widgets/controls",
     "model_module_version": "1.5.0",
     "model_name": "HBoxModel",
     "state": {
      "_dom_classes": [],
      "_model_module": "@jupyter-widgets/controls",
      "_model_module_version": "1.5.0",
      "_model_name": "HBoxModel",
      "_view_count": null,
      "_view_module": "@jupyter-widgets/controls",
      "_view_module_version": "1.5.0",
      "_view_name": "HBoxView",
      "box_style": "",
      "children": [
       "IPY_MODEL_6673cfce8e574936a35bd4487358e556",
       "IPY_MODEL_a68abd57a0df47bd914e9d40a0f88a06",
       "IPY_MODEL_41a3bcec1d8544fd8c406eac87811a8a"
      ],
      "layout": "IPY_MODEL_74a83709cab24c23950983816cf45624"
     }
    },
    "7b5552a3cd2149c4a56c01c5dfc91e07": {
     "model_module": "@jupyter-widgets/controls",
     "model_module_version": "1.5.0",
     "model_name": "ProgressStyleModel",
     "state": {
      "_model_module": "@jupyter-widgets/controls",
      "_model_module_version": "1.5.0",
      "_model_name": "ProgressStyleModel",
      "_view_count": null,
      "_view_module": "@jupyter-widgets/base",
      "_view_module_version": "1.2.0",
      "_view_name": "StyleView",
      "bar_color": null,
      "description_width": ""
     }
    },
    "7c20960785c24ab9a7a978382f944832": {
     "model_module": "@jupyter-widgets/base",
     "model_module_version": "1.2.0",
     "model_name": "LayoutModel",
     "state": {
      "_model_module": "@jupyter-widgets/base",
      "_model_module_version": "1.2.0",
      "_model_name": "LayoutModel",
      "_view_count": null,
      "_view_module": "@jupyter-widgets/base",
      "_view_module_version": "1.2.0",
      "_view_name": "LayoutView",
      "align_content": null,
      "align_items": null,
      "align_self": null,
      "border": null,
      "bottom": null,
      "display": null,
      "flex": null,
      "flex_flow": null,
      "grid_area": null,
      "grid_auto_columns": null,
      "grid_auto_flow": null,
      "grid_auto_rows": null,
      "grid_column": null,
      "grid_gap": null,
      "grid_row": null,
      "grid_template_areas": null,
      "grid_template_columns": null,
      "grid_template_rows": null,
      "height": null,
      "justify_content": null,
      "justify_items": null,
      "left": null,
      "margin": null,
      "max_height": null,
      "max_width": null,
      "min_height": null,
      "min_width": null,
      "object_fit": null,
      "object_position": null,
      "order": null,
      "overflow": null,
      "overflow_x": null,
      "overflow_y": null,
      "padding": null,
      "right": null,
      "top": null,
      "visibility": null,
      "width": null
     }
    },
    "7c5a226291e34aaa9eef84f674ef44f8": {
     "model_module": "@jupyter-widgets/controls",
     "model_module_version": "1.5.0",
     "model_name": "HTMLModel",
     "state": {
      "_dom_classes": [],
      "_model_module": "@jupyter-widgets/controls",
      "_model_module_version": "1.5.0",
      "_model_name": "HTMLModel",
      "_view_count": null,
      "_view_module": "@jupyter-widgets/controls",
      "_view_module_version": "1.5.0",
      "_view_name": "HTMLView",
      "description": "",
      "description_tooltip": null,
      "layout": "IPY_MODEL_95b87be1ffb64654b0fd2b4b937c43f2",
      "placeholder": "​",
      "style": "IPY_MODEL_efb01d7fab6344e39d53454c436a850e",
      "value": " 7.38k/? [00:00&lt;00:00, 145kB/s]"
     }
    },
    "7c7a148088a14c3ba3db393ae77f8c4b": {
     "model_module": "@jupyter-widgets/controls",
     "model_module_version": "1.5.0",
     "model_name": "DescriptionStyleModel",
     "state": {
      "_model_module": "@jupyter-widgets/controls",
      "_model_module_version": "1.5.0",
      "_model_name": "DescriptionStyleModel",
      "_view_count": null,
      "_view_module": "@jupyter-widgets/base",
      "_view_module_version": "1.2.0",
      "_view_name": "StyleView",
      "description_width": ""
     }
    },
    "7c94a69f64d449e395a19ddc7a310774": {
     "model_module": "@jupyter-widgets/base",
     "model_module_version": "1.2.0",
     "model_name": "LayoutModel",
     "state": {
      "_model_module": "@jupyter-widgets/base",
      "_model_module_version": "1.2.0",
      "_model_name": "LayoutModel",
      "_view_count": null,
      "_view_module": "@jupyter-widgets/base",
      "_view_module_version": "1.2.0",
      "_view_name": "LayoutView",
      "align_content": null,
      "align_items": null,
      "align_self": null,
      "border": null,
      "bottom": null,
      "display": null,
      "flex": null,
      "flex_flow": null,
      "grid_area": null,
      "grid_auto_columns": null,
      "grid_auto_flow": null,
      "grid_auto_rows": null,
      "grid_column": null,
      "grid_gap": null,
      "grid_row": null,
      "grid_template_areas": null,
      "grid_template_columns": null,
      "grid_template_rows": null,
      "height": null,
      "justify_content": null,
      "justify_items": null,
      "left": null,
      "margin": null,
      "max_height": null,
      "max_width": null,
      "min_height": null,
      "min_width": null,
      "object_fit": null,
      "object_position": null,
      "order": null,
      "overflow": null,
      "overflow_x": null,
      "overflow_y": null,
      "padding": null,
      "right": null,
      "top": null,
      "visibility": null,
      "width": null
     }
    },
    "7cee91b09a32491bb8c939f5f4d04082": {
     "model_module": "@jupyter-widgets/controls",
     "model_module_version": "1.5.0",
     "model_name": "FloatProgressModel",
     "state": {
      "_dom_classes": [],
      "_model_module": "@jupyter-widgets/controls",
      "_model_module_version": "1.5.0",
      "_model_name": "FloatProgressModel",
      "_view_count": null,
      "_view_module": "@jupyter-widgets/controls",
      "_view_module_version": "1.5.0",
      "_view_name": "ProgressView",
      "bar_style": "success",
      "description": "",
      "description_tooltip": null,
      "layout": "IPY_MODEL_35e406ad8d5746bb8ca8b273e5f593bb",
      "max": 1,
      "min": 0,
      "orientation": "horizontal",
      "style": "IPY_MODEL_d2f180c174a04324a1e1c18380f3dbda",
      "value": 1
     }
    },
    "7e1a8a9c0ed547599c14e2c6905a9741": {
     "model_module": "@jupyter-widgets/controls",
     "model_module_version": "1.5.0",
     "model_name": "HTMLModel",
     "state": {
      "_dom_classes": [],
      "_model_module": "@jupyter-widgets/controls",
      "_model_module_version": "1.5.0",
      "_model_name": "HTMLModel",
      "_view_count": null,
      "_view_module": "@jupyter-widgets/controls",
      "_view_module_version": "1.5.0",
      "_view_name": "HTMLView",
      "description": "",
      "description_tooltip": null,
      "layout": "IPY_MODEL_fdf24205f28d411783d435e594cc8b21",
      "placeholder": "​",
      "style": "IPY_MODEL_f1131426fd804828b2b1ec91313f8234",
      "value": "Downloading builder script: "
     }
    },
    "7ecac2d600584c05b92db4d9c1f842b4": {
     "model_module": "@jupyter-widgets/controls",
     "model_module_version": "1.5.0",
     "model_name": "HTMLModel",
     "state": {
      "_dom_classes": [],
      "_model_module": "@jupyter-widgets/controls",
      "_model_module_version": "1.5.0",
      "_model_name": "HTMLModel",
      "_view_count": null,
      "_view_module": "@jupyter-widgets/controls",
      "_view_module_version": "1.5.0",
      "_view_name": "HTMLView",
      "description": "",
      "description_tooltip": null,
      "layout": "IPY_MODEL_9c45439ccb9d44fbab33b01a5354455f",
      "placeholder": "​",
      "style": "IPY_MODEL_a0a4225bd5c44789ae93c6fec632e2e7",
      "value": "model.safetensors: 100%"
     }
    },
    "7f2691f161a149ab97cd1554765a8b6f": {
     "model_module": "@jupyter-widgets/base",
     "model_module_version": "1.2.0",
     "model_name": "LayoutModel",
     "state": {
      "_model_module": "@jupyter-widgets/base",
      "_model_module_version": "1.2.0",
      "_model_name": "LayoutModel",
      "_view_count": null,
      "_view_module": "@jupyter-widgets/base",
      "_view_module_version": "1.2.0",
      "_view_name": "LayoutView",
      "align_content": null,
      "align_items": null,
      "align_self": null,
      "border": null,
      "bottom": null,
      "display": null,
      "flex": null,
      "flex_flow": null,
      "grid_area": null,
      "grid_auto_columns": null,
      "grid_auto_flow": null,
      "grid_auto_rows": null,
      "grid_column": null,
      "grid_gap": null,
      "grid_row": null,
      "grid_template_areas": null,
      "grid_template_columns": null,
      "grid_template_rows": null,
      "height": null,
      "justify_content": null,
      "justify_items": null,
      "left": null,
      "margin": null,
      "max_height": null,
      "max_width": null,
      "min_height": null,
      "min_width": null,
      "object_fit": null,
      "object_position": null,
      "order": null,
      "overflow": null,
      "overflow_x": null,
      "overflow_y": null,
      "padding": null,
      "right": null,
      "top": null,
      "visibility": null,
      "width": "20px"
     }
    },
    "80c1a19b2c3c47298f432a313d5ea9f4": {
     "model_module": "@jupyter-widgets/controls",
     "model_module_version": "1.5.0",
     "model_name": "FloatProgressModel",
     "state": {
      "_dom_classes": [],
      "_model_module": "@jupyter-widgets/controls",
      "_model_module_version": "1.5.0",
      "_model_name": "FloatProgressModel",
      "_view_count": null,
      "_view_module": "@jupyter-widgets/controls",
      "_view_module_version": "1.5.0",
      "_view_name": "ProgressView",
      "bar_style": "success",
      "description": "",
      "description_tooltip": null,
      "layout": "IPY_MODEL_6543633ee88342d9ba20b29ce14caa29",
      "max": 440449768,
      "min": 0,
      "orientation": "horizontal",
      "style": "IPY_MODEL_b0a248b9ee774c1c91a5bd86836a80e4",
      "value": 440449768
     }
    },
    "813b477e7d4a43139a491e59ca072440": {
     "model_module": "@jupyter-widgets/controls",
     "model_module_version": "1.5.0",
     "model_name": "DescriptionStyleModel",
     "state": {
      "_model_module": "@jupyter-widgets/controls",
      "_model_module_version": "1.5.0",
      "_model_name": "DescriptionStyleModel",
      "_view_count": null,
      "_view_module": "@jupyter-widgets/base",
      "_view_module_version": "1.2.0",
      "_view_name": "StyleView",
      "description_width": ""
     }
    },
    "827387be4aa14d1d8fb38649b9ab8864": {
     "model_module": "@jupyter-widgets/controls",
     "model_module_version": "1.5.0",
     "model_name": "HTMLModel",
     "state": {
      "_dom_classes": [],
      "_model_module": "@jupyter-widgets/controls",
      "_model_module_version": "1.5.0",
      "_model_name": "HTMLModel",
      "_view_count": null,
      "_view_module": "@jupyter-widgets/controls",
      "_view_module_version": "1.5.0",
      "_view_name": "HTMLView",
      "description": "",
      "description_tooltip": null,
      "layout": "IPY_MODEL_503690909bdb4f008bd69018821f3075",
      "placeholder": "​",
      "style": "IPY_MODEL_54599c8612bd4f8281da019e79ce88aa",
      "value": "Downloading builder script: "
     }
    },
    "8281ec30e590446282c0f845356093d0": {
     "model_module": "@jupyter-widgets/controls",
     "model_module_version": "1.5.0",
     "model_name": "HBoxModel",
     "state": {
      "_dom_classes": [],
      "_model_module": "@jupyter-widgets/controls",
      "_model_module_version": "1.5.0",
      "_model_name": "HBoxModel",
      "_view_count": null,
      "_view_module": "@jupyter-widgets/controls",
      "_view_module_version": "1.5.0",
      "_view_name": "HBoxView",
      "box_style": "",
      "children": [
       "IPY_MODEL_f3f203b78b47495d9419d7d79d790bc8",
       "IPY_MODEL_80c1a19b2c3c47298f432a313d5ea9f4",
       "IPY_MODEL_982a00343efb4847846a30522a729215"
      ],
      "layout": "IPY_MODEL_35f165b110ef43c2ba1976c0fbaab41b"
     }
    },
    "82a8a4614ff145be99635b41c3eccd03": {
     "model_module": "@jupyter-widgets/controls",
     "model_module_version": "1.5.0",
     "model_name": "ProgressStyleModel",
     "state": {
      "_model_module": "@jupyter-widgets/controls",
      "_model_module_version": "1.5.0",
      "_model_name": "ProgressStyleModel",
      "_view_count": null,
      "_view_module": "@jupyter-widgets/base",
      "_view_module_version": "1.2.0",
      "_view_name": "StyleView",
      "bar_color": null,
      "description_width": ""
     }
    },
    "8526013e58dd4ea79bef5815335edede": {
     "model_module": "@jupyter-widgets/controls",
     "model_module_version": "1.5.0",
     "model_name": "HTMLModel",
     "state": {
      "_dom_classes": [],
      "_model_module": "@jupyter-widgets/controls",
      "_model_module_version": "1.5.0",
      "_model_name": "HTMLModel",
      "_view_count": null,
      "_view_module": "@jupyter-widgets/controls",
      "_view_module_version": "1.5.0",
      "_view_name": "HTMLView",
      "description": "",
      "description_tooltip": null,
      "layout": "IPY_MODEL_450d07c525874cfe89ddb41d18c7d1c6",
      "placeholder": "​",
      "style": "IPY_MODEL_de5245f6342c407791c045f7f8ede773",
      "value": "pytorch_model.bin: 100%"
     }
    },
    "87b4a3719aad4ade8d4755ebd0ca9587": {
     "model_module": "@jupyter-widgets/controls",
     "model_module_version": "1.5.0",
     "model_name": "HTMLModel",
     "state": {
      "_dom_classes": [],
      "_model_module": "@jupyter-widgets/controls",
      "_model_module_version": "1.5.0",
      "_model_name": "HTMLModel",
      "_view_count": null,
      "_view_module": "@jupyter-widgets/controls",
      "_view_module_version": "1.5.0",
      "_view_name": "HTMLView",
      "description": "",
      "description_tooltip": null,
      "layout": "IPY_MODEL_4598a1218919418fac7d4331ff18b99a",
      "placeholder": "​",
      "style": "IPY_MODEL_3b278f1b4f2f490a9db79bf5b40bb92d",
      "value": "tokenizer.json: 100%"
     }
    },
    "87e42018d45b4a5699eb67df78c1d5eb": {
     "model_module": "@jupyter-widgets/controls",
     "model_module_version": "1.5.0",
     "model_name": "HTMLModel",
     "state": {
      "_dom_classes": [],
      "_model_module": "@jupyter-widgets/controls",
      "_model_module_version": "1.5.0",
      "_model_name": "HTMLModel",
      "_view_count": null,
      "_view_module": "@jupyter-widgets/controls",
      "_view_module_version": "1.5.0",
      "_view_name": "HTMLView",
      "description": "",
      "description_tooltip": null,
      "layout": "IPY_MODEL_ed369f307f114cefbf77b9a0d1371841",
      "placeholder": "​",
      "style": "IPY_MODEL_1c9dd125dd084441939b14b371420163",
      "value": " 466k/466k [00:00&lt;00:00, 20.7MB/s]"
     }
    },
    "87f4fde207fe486882718f3b23db26aa": {
     "model_module": "@jupyter-widgets/controls",
     "model_module_version": "1.5.0",
     "model_name": "ProgressStyleModel",
     "state": {
      "_model_module": "@jupyter-widgets/controls",
      "_model_module_version": "1.5.0",
      "_model_name": "ProgressStyleModel",
      "_view_count": null,
      "_view_module": "@jupyter-widgets/base",
      "_view_module_version": "1.2.0",
      "_view_name": "StyleView",
      "bar_color": null,
      "description_width": ""
     }
    },
    "8a80c07c65c54116abf7c551bfb072ec": {
     "model_module": "@jupyter-widgets/base",
     "model_module_version": "1.2.0",
     "model_name": "LayoutModel",
     "state": {
      "_model_module": "@jupyter-widgets/base",
      "_model_module_version": "1.2.0",
      "_model_name": "LayoutModel",
      "_view_count": null,
      "_view_module": "@jupyter-widgets/base",
      "_view_module_version": "1.2.0",
      "_view_name": "LayoutView",
      "align_content": null,
      "align_items": null,
      "align_self": null,
      "border": null,
      "bottom": null,
      "display": null,
      "flex": null,
      "flex_flow": null,
      "grid_area": null,
      "grid_auto_columns": null,
      "grid_auto_flow": null,
      "grid_auto_rows": null,
      "grid_column": null,
      "grid_gap": null,
      "grid_row": null,
      "grid_template_areas": null,
      "grid_template_columns": null,
      "grid_template_rows": null,
      "height": null,
      "justify_content": null,
      "justify_items": null,
      "left": null,
      "margin": null,
      "max_height": null,
      "max_width": null,
      "min_height": null,
      "min_width": null,
      "object_fit": null,
      "object_position": null,
      "order": null,
      "overflow": null,
      "overflow_x": null,
      "overflow_y": null,
      "padding": null,
      "right": null,
      "top": null,
      "visibility": null,
      "width": null
     }
    },
    "8b55c508c8554a8e92304c24eed02f2b": {
     "model_module": "@jupyter-widgets/controls",
     "model_module_version": "1.5.0",
     "model_name": "HTMLModel",
     "state": {
      "_dom_classes": [],
      "_model_module": "@jupyter-widgets/controls",
      "_model_module_version": "1.5.0",
      "_model_name": "HTMLModel",
      "_view_count": null,
      "_view_module": "@jupyter-widgets/controls",
      "_view_module_version": "1.5.0",
      "_view_name": "HTMLView",
      "description": "",
      "description_tooltip": null,
      "layout": "IPY_MODEL_238155e7741d424c949e34e07d49a2b0",
      "placeholder": "​",
      "style": "IPY_MODEL_07ab726e913941b8a3504acc3133cdf0",
      "value": "Downloading builder script: "
     }
    },
    "8bd97c2ab4a24345b7bd50e5768093f3": {
     "model_module": "@jupyter-widgets/controls",
     "model_module_version": "1.5.0",
     "model_name": "DescriptionStyleModel",
     "state": {
      "_model_module": "@jupyter-widgets/controls",
      "_model_module_version": "1.5.0",
      "_model_name": "DescriptionStyleModel",
      "_view_count": null,
      "_view_module": "@jupyter-widgets/base",
      "_view_module_version": "1.2.0",
      "_view_name": "StyleView",
      "description_width": ""
     }
    },
    "8c702ec8af094a7097035f4f2b40c859": {
     "model_module": "@jupyter-widgets/controls",
     "model_module_version": "1.5.0",
     "model_name": "HBoxModel",
     "state": {
      "_dom_classes": [],
      "_model_module": "@jupyter-widgets/controls",
      "_model_module_version": "1.5.0",
      "_model_name": "HBoxModel",
      "_view_count": null,
      "_view_module": "@jupyter-widgets/controls",
      "_view_module_version": "1.5.0",
      "_view_name": "HBoxView",
      "box_style": "",
      "children": [
       "IPY_MODEL_efc148aafc2d41d9aa820e7241f51e4d",
       "IPY_MODEL_a272201606994d6b824e223e808fa243",
       "IPY_MODEL_ac704584fcc144afa20c20faed378798"
      ],
      "layout": "IPY_MODEL_2be69cd291f446699b54171ddd896078"
     }
    },
    "8d220f27ed1c4b799fccf4d01e78d936": {
     "model_module": "@jupyter-widgets/controls",
     "model_module_version": "1.5.0",
     "model_name": "HTMLModel",
     "state": {
      "_dom_classes": [],
      "_model_module": "@jupyter-widgets/controls",
      "_model_module_version": "1.5.0",
      "_model_name": "HTMLModel",
      "_view_count": null,
      "_view_module": "@jupyter-widgets/controls",
      "_view_module_version": "1.5.0",
      "_view_name": "HTMLView",
      "description": "",
      "description_tooltip": null,
      "layout": "IPY_MODEL_24ef2489e6e345f8a9c9ee848f99ccb9",
      "placeholder": "​",
      "style": "IPY_MODEL_396523a1895941418e5d7ba35bd1bea6",
      "value": " 48.0/48.0 [00:00&lt;00:00, 1.67kB/s]"
     }
    },
    "8d7c1ca5ebd9495081d74322af1b75cd": {
     "model_module": "@jupyter-widgets/controls",
     "model_module_version": "1.5.0",
     "model_name": "DescriptionStyleModel",
     "state": {
      "_model_module": "@jupyter-widgets/controls",
      "_model_module_version": "1.5.0",
      "_model_name": "DescriptionStyleModel",
      "_view_count": null,
      "_view_module": "@jupyter-widgets/base",
      "_view_module_version": "1.2.0",
      "_view_name": "StyleView",
      "description_width": ""
     }
    },
    "8de60162cf1545a6bbdcce93c18849c2": {
     "model_module": "@jupyter-widgets/base",
     "model_module_version": "1.2.0",
     "model_name": "LayoutModel",
     "state": {
      "_model_module": "@jupyter-widgets/base",
      "_model_module_version": "1.2.0",
      "_model_name": "LayoutModel",
      "_view_count": null,
      "_view_module": "@jupyter-widgets/base",
      "_view_module_version": "1.2.0",
      "_view_name": "LayoutView",
      "align_content": null,
      "align_items": null,
      "align_self": null,
      "border": null,
      "bottom": null,
      "display": null,
      "flex": null,
      "flex_flow": null,
      "grid_area": null,
      "grid_auto_columns": null,
      "grid_auto_flow": null,
      "grid_auto_rows": null,
      "grid_column": null,
      "grid_gap": null,
      "grid_row": null,
      "grid_template_areas": null,
      "grid_template_columns": null,
      "grid_template_rows": null,
      "height": null,
      "justify_content": null,
      "justify_items": null,
      "left": null,
      "margin": null,
      "max_height": null,
      "max_width": null,
      "min_height": null,
      "min_width": null,
      "object_fit": null,
      "object_position": null,
      "order": null,
      "overflow": null,
      "overflow_x": null,
      "overflow_y": null,
      "padding": null,
      "right": null,
      "top": null,
      "visibility": null,
      "width": null
     }
    },
    "8e0cdca91db843c0a096bbdda82982d8": {
     "model_module": "@jupyter-widgets/base",
     "model_module_version": "1.2.0",
     "model_name": "LayoutModel",
     "state": {
      "_model_module": "@jupyter-widgets/base",
      "_model_module_version": "1.2.0",
      "_model_name": "LayoutModel",
      "_view_count": null,
      "_view_module": "@jupyter-widgets/base",
      "_view_module_version": "1.2.0",
      "_view_name": "LayoutView",
      "align_content": null,
      "align_items": null,
      "align_self": null,
      "border": null,
      "bottom": null,
      "display": null,
      "flex": null,
      "flex_flow": null,
      "grid_area": null,
      "grid_auto_columns": null,
      "grid_auto_flow": null,
      "grid_auto_rows": null,
      "grid_column": null,
      "grid_gap": null,
      "grid_row": null,
      "grid_template_areas": null,
      "grid_template_columns": null,
      "grid_template_rows": null,
      "height": null,
      "justify_content": null,
      "justify_items": null,
      "left": null,
      "margin": null,
      "max_height": null,
      "max_width": null,
      "min_height": null,
      "min_width": null,
      "object_fit": null,
      "object_position": null,
      "order": null,
      "overflow": null,
      "overflow_x": null,
      "overflow_y": null,
      "padding": null,
      "right": null,
      "top": null,
      "visibility": null,
      "width": null
     }
    },
    "8ee6c7eefb2c4486b1147f4cc41078ad": {
     "model_module": "@jupyter-widgets/controls",
     "model_module_version": "1.5.0",
     "model_name": "HBoxModel",
     "state": {
      "_dom_classes": [],
      "_model_module": "@jupyter-widgets/controls",
      "_model_module_version": "1.5.0",
      "_model_name": "HBoxModel",
      "_view_count": null,
      "_view_module": "@jupyter-widgets/controls",
      "_view_module_version": "1.5.0",
      "_view_name": "HBoxView",
      "box_style": "",
      "children": [
       "IPY_MODEL_7e1a8a9c0ed547599c14e2c6905a9741",
       "IPY_MODEL_7cee91b09a32491bb8c939f5f4d04082",
       "IPY_MODEL_cfa63243721a42cdad542bfd8611bdad"
      ],
      "layout": "IPY_MODEL_c5582afa6d7946d28299b0d75b6cd943"
     }
    },
    "90462ac9c0fe44cc82906e909fef2fb7": {
     "model_module": "@jupyter-widgets/controls",
     "model_module_version": "1.5.0",
     "model_name": "DescriptionStyleModel",
     "state": {
      "_model_module": "@jupyter-widgets/controls",
      "_model_module_version": "1.5.0",
      "_model_name": "DescriptionStyleModel",
      "_view_count": null,
      "_view_module": "@jupyter-widgets/base",
      "_view_module_version": "1.2.0",
      "_view_name": "StyleView",
      "description_width": ""
     }
    },
    "930507678e294db795ad1ac3de5b145f": {
     "model_module": "@jupyter-widgets/base",
     "model_module_version": "1.2.0",
     "model_name": "LayoutModel",
     "state": {
      "_model_module": "@jupyter-widgets/base",
      "_model_module_version": "1.2.0",
      "_model_name": "LayoutModel",
      "_view_count": null,
      "_view_module": "@jupyter-widgets/base",
      "_view_module_version": "1.2.0",
      "_view_name": "LayoutView",
      "align_content": null,
      "align_items": null,
      "align_self": null,
      "border": null,
      "bottom": null,
      "display": null,
      "flex": null,
      "flex_flow": null,
      "grid_area": null,
      "grid_auto_columns": null,
      "grid_auto_flow": null,
      "grid_auto_rows": null,
      "grid_column": null,
      "grid_gap": null,
      "grid_row": null,
      "grid_template_areas": null,
      "grid_template_columns": null,
      "grid_template_rows": null,
      "height": null,
      "justify_content": null,
      "justify_items": null,
      "left": null,
      "margin": null,
      "max_height": null,
      "max_width": null,
      "min_height": null,
      "min_width": null,
      "object_fit": null,
      "object_position": null,
      "order": null,
      "overflow": null,
      "overflow_x": null,
      "overflow_y": null,
      "padding": null,
      "right": null,
      "top": null,
      "visibility": null,
      "width": null
     }
    },
    "939b63a98c2d4fe19c81c32250e2e5e5": {
     "model_module": "@jupyter-widgets/controls",
     "model_module_version": "1.5.0",
     "model_name": "FloatProgressModel",
     "state": {
      "_dom_classes": [],
      "_model_module": "@jupyter-widgets/controls",
      "_model_module_version": "1.5.0",
      "_model_name": "FloatProgressModel",
      "_view_count": null,
      "_view_module": "@jupyter-widgets/controls",
      "_view_module_version": "1.5.0",
      "_view_name": "ProgressView",
      "bar_style": "success",
      "description": "",
      "description_tooltip": null,
      "layout": "IPY_MODEL_6b7b32cec6e24b43a01d747368be59be",
      "max": 1,
      "min": 0,
      "orientation": "horizontal",
      "style": "IPY_MODEL_6369466766b74d22aff5e2960cd513fa",
      "value": 1
     }
    },
    "948c10138d694c77b85dbdd7e687bc67": {
     "model_module": "@jupyter-widgets/base",
     "model_module_version": "1.2.0",
     "model_name": "LayoutModel",
     "state": {
      "_model_module": "@jupyter-widgets/base",
      "_model_module_version": "1.2.0",
      "_model_name": "LayoutModel",
      "_view_count": null,
      "_view_module": "@jupyter-widgets/base",
      "_view_module_version": "1.2.0",
      "_view_name": "LayoutView",
      "align_content": null,
      "align_items": null,
      "align_self": null,
      "border": null,
      "bottom": null,
      "display": null,
      "flex": null,
      "flex_flow": null,
      "grid_area": null,
      "grid_auto_columns": null,
      "grid_auto_flow": null,
      "grid_auto_rows": null,
      "grid_column": null,
      "grid_gap": null,
      "grid_row": null,
      "grid_template_areas": null,
      "grid_template_columns": null,
      "grid_template_rows": null,
      "height": null,
      "justify_content": null,
      "justify_items": null,
      "left": null,
      "margin": null,
      "max_height": null,
      "max_width": null,
      "min_height": null,
      "min_width": null,
      "object_fit": null,
      "object_position": null,
      "order": null,
      "overflow": null,
      "overflow_x": null,
      "overflow_y": null,
      "padding": null,
      "right": null,
      "top": null,
      "visibility": null,
      "width": null
     }
    },
    "94f8b7867b264e03b18618537e708754": {
     "model_module": "@jupyter-widgets/controls",
     "model_module_version": "1.5.0",
     "model_name": "HTMLModel",
     "state": {
      "_dom_classes": [],
      "_model_module": "@jupyter-widgets/controls",
      "_model_module_version": "1.5.0",
      "_model_name": "HTMLModel",
      "_view_count": null,
      "_view_module": "@jupyter-widgets/controls",
      "_view_module_version": "1.5.0",
      "_view_name": "HTMLView",
      "description": "",
      "description_tooltip": null,
      "layout": "IPY_MODEL_edf44de5bc8b456ab2145bcf2b46b33f",
      "placeholder": "​",
      "style": "IPY_MODEL_adc6c8dff81144e7b63d74930bab153c",
      "value": "vocab.txt: "
     }
    },
    "95aa774e827340498c6c68ffde3c1e43": {
     "model_module": "@jupyter-widgets/controls",
     "model_module_version": "1.5.0",
     "model_name": "HTMLModel",
     "state": {
      "_dom_classes": [],
      "_model_module": "@jupyter-widgets/controls",
      "_model_module_version": "1.5.0",
      "_model_name": "HTMLModel",
      "_view_count": null,
      "_view_module": "@jupyter-widgets/controls",
      "_view_module_version": "1.5.0",
      "_view_name": "HTMLView",
      "description": "",
      "description_tooltip": null,
      "layout": "IPY_MODEL_780e0e271250450a87e640c2f4c4f311",
      "placeholder": "​",
      "style": "IPY_MODEL_f97fe654dac249d3b4cc87e1df4fb23e",
      "value": " 570/570 [00:00&lt;00:00, 6.70kB/s]"
     }
    },
    "95b87be1ffb64654b0fd2b4b937c43f2": {
     "model_module": "@jupyter-widgets/base",
     "model_module_version": "1.2.0",
     "model_name": "LayoutModel",
     "state": {
      "_model_module": "@jupyter-widgets/base",
      "_model_module_version": "1.2.0",
      "_model_name": "LayoutModel",
      "_view_count": null,
      "_view_module": "@jupyter-widgets/base",
      "_view_module_version": "1.2.0",
      "_view_name": "LayoutView",
      "align_content": null,
      "align_items": null,
      "align_self": null,
      "border": null,
      "bottom": null,
      "display": null,
      "flex": null,
      "flex_flow": null,
      "grid_area": null,
      "grid_auto_columns": null,
      "grid_auto_flow": null,
      "grid_auto_rows": null,
      "grid_column": null,
      "grid_gap": null,
      "grid_row": null,
      "grid_template_areas": null,
      "grid_template_columns": null,
      "grid_template_rows": null,
      "height": null,
      "justify_content": null,
      "justify_items": null,
      "left": null,
      "margin": null,
      "max_height": null,
      "max_width": null,
      "min_height": null,
      "min_width": null,
      "object_fit": null,
      "object_position": null,
      "order": null,
      "overflow": null,
      "overflow_x": null,
      "overflow_y": null,
      "padding": null,
      "right": null,
      "top": null,
      "visibility": null,
      "width": null
     }
    },
    "969cab77d09c4c79918b6444f0b58f27": {
     "model_module": "@jupyter-widgets/controls",
     "model_module_version": "1.5.0",
     "model_name": "HTMLModel",
     "state": {
      "_dom_classes": [],
      "_model_module": "@jupyter-widgets/controls",
      "_model_module_version": "1.5.0",
      "_model_name": "HTMLModel",
      "_view_count": null,
      "_view_module": "@jupyter-widgets/controls",
      "_view_module_version": "1.5.0",
      "_view_name": "HTMLView",
      "description": "",
      "description_tooltip": null,
      "layout": "IPY_MODEL_e2a673e38f894a78ab6f2a568b9566b4",
      "placeholder": "​",
      "style": "IPY_MODEL_03c0643d4b4448578c0e4ea8fb5b8836",
      "value": " 232k/232k [00:00&lt;00:00, 4.25MB/s]"
     }
    },
    "971940c9d5ab40ee86fd6067788d5d47": {
     "model_module": "@jupyter-widgets/controls",
     "model_module_version": "1.5.0",
     "model_name": "DescriptionStyleModel",
     "state": {
      "_model_module": "@jupyter-widgets/controls",
      "_model_module_version": "1.5.0",
      "_model_name": "DescriptionStyleModel",
      "_view_count": null,
      "_view_module": "@jupyter-widgets/base",
      "_view_module_version": "1.2.0",
      "_view_name": "StyleView",
      "description_width": ""
     }
    },
    "97256560f68342dbb3b3068cea28aa07": {
     "model_module": "@jupyter-widgets/controls",
     "model_module_version": "1.5.0",
     "model_name": "DescriptionStyleModel",
     "state": {
      "_model_module": "@jupyter-widgets/controls",
      "_model_module_version": "1.5.0",
      "_model_name": "DescriptionStyleModel",
      "_view_count": null,
      "_view_module": "@jupyter-widgets/base",
      "_view_module_version": "1.2.0",
      "_view_name": "StyleView",
      "description_width": ""
     }
    },
    "9809bb20cb4e45e08c199195260a1422": {
     "model_module": "@jupyter-widgets/base",
     "model_module_version": "1.2.0",
     "model_name": "LayoutModel",
     "state": {
      "_model_module": "@jupyter-widgets/base",
      "_model_module_version": "1.2.0",
      "_model_name": "LayoutModel",
      "_view_count": null,
      "_view_module": "@jupyter-widgets/base",
      "_view_module_version": "1.2.0",
      "_view_name": "LayoutView",
      "align_content": null,
      "align_items": null,
      "align_self": null,
      "border": null,
      "bottom": null,
      "display": null,
      "flex": null,
      "flex_flow": null,
      "grid_area": null,
      "grid_auto_columns": null,
      "grid_auto_flow": null,
      "grid_auto_rows": null,
      "grid_column": null,
      "grid_gap": null,
      "grid_row": null,
      "grid_template_areas": null,
      "grid_template_columns": null,
      "grid_template_rows": null,
      "height": null,
      "justify_content": null,
      "justify_items": null,
      "left": null,
      "margin": null,
      "max_height": null,
      "max_width": null,
      "min_height": null,
      "min_width": null,
      "object_fit": null,
      "object_position": null,
      "order": null,
      "overflow": null,
      "overflow_x": null,
      "overflow_y": null,
      "padding": null,
      "right": null,
      "top": null,
      "visibility": null,
      "width": null
     }
    },
    "982a00343efb4847846a30522a729215": {
     "model_module": "@jupyter-widgets/controls",
     "model_module_version": "1.5.0",
     "model_name": "HTMLModel",
     "state": {
      "_dom_classes": [],
      "_model_module": "@jupyter-widgets/controls",
      "_model_module_version": "1.5.0",
      "_model_name": "HTMLModel",
      "_view_count": null,
      "_view_module": "@jupyter-widgets/controls",
      "_view_module_version": "1.5.0",
      "_view_name": "HTMLView",
      "description": "",
      "description_tooltip": null,
      "layout": "IPY_MODEL_6a2a4ecd11624d5fb36f129a426cf1b2",
      "placeholder": "​",
      "style": "IPY_MODEL_74367e379ba6413c97350dfbdb97d5fa",
      "value": " 440M/440M [00:10&lt;00:00, 47.4MB/s]"
     }
    },
    "9889ed61dd6c474cb11441f1b21b584e": {
     "model_module": "@jupyter-widgets/base",
     "model_module_version": "1.2.0",
     "model_name": "LayoutModel",
     "state": {
      "_model_module": "@jupyter-widgets/base",
      "_model_module_version": "1.2.0",
      "_model_name": "LayoutModel",
      "_view_count": null,
      "_view_module": "@jupyter-widgets/base",
      "_view_module_version": "1.2.0",
      "_view_name": "LayoutView",
      "align_content": null,
      "align_items": null,
      "align_self": null,
      "border": null,
      "bottom": null,
      "display": null,
      "flex": null,
      "flex_flow": null,
      "grid_area": null,
      "grid_auto_columns": null,
      "grid_auto_flow": null,
      "grid_auto_rows": null,
      "grid_column": null,
      "grid_gap": null,
      "grid_row": null,
      "grid_template_areas": null,
      "grid_template_columns": null,
      "grid_template_rows": null,
      "height": null,
      "justify_content": null,
      "justify_items": null,
      "left": null,
      "margin": null,
      "max_height": null,
      "max_width": null,
      "min_height": null,
      "min_width": null,
      "object_fit": null,
      "object_position": null,
      "order": null,
      "overflow": null,
      "overflow_x": null,
      "overflow_y": null,
      "padding": null,
      "right": null,
      "top": null,
      "visibility": null,
      "width": null
     }
    },
    "9a3cf754c2824717b95153ef15d0f463": {
     "model_module": "@jupyter-widgets/controls",
     "model_module_version": "1.5.0",
     "model_name": "HTMLModel",
     "state": {
      "_dom_classes": [],
      "_model_module": "@jupyter-widgets/controls",
      "_model_module_version": "1.5.0",
      "_model_name": "HTMLModel",
      "_view_count": null,
      "_view_module": "@jupyter-widgets/controls",
      "_view_module_version": "1.5.0",
      "_view_name": "HTMLView",
      "description": "",
      "description_tooltip": null,
      "layout": "IPY_MODEL_1351a04e71454d9daca6d7a4822a5905",
      "placeholder": "​",
      "style": "IPY_MODEL_813b477e7d4a43139a491e59ca072440",
      "value": "Map: 100%"
     }
    },
    "9c0791d2a1764dac99aac07ff5c08378": {
     "model_module": "@jupyter-widgets/controls",
     "model_module_version": "1.5.0",
     "model_name": "FloatProgressModel",
     "state": {
      "_dom_classes": [],
      "_model_module": "@jupyter-widgets/controls",
      "_model_module_version": "1.5.0",
      "_model_name": "FloatProgressModel",
      "_view_count": null,
      "_view_module": "@jupyter-widgets/controls",
      "_view_module_version": "1.5.0",
      "_view_name": "ProgressView",
      "bar_style": "success",
      "description": "",
      "description_tooltip": null,
      "layout": "IPY_MODEL_fd4920d874d44949a6c94bbf97c5ea69",
      "max": 231508,
      "min": 0,
      "orientation": "horizontal",
      "style": "IPY_MODEL_6c26a185f0a6405487016a2afe390099",
      "value": 231508
     }
    },
    "9c45439ccb9d44fbab33b01a5354455f": {
     "model_module": "@jupyter-widgets/base",
     "model_module_version": "1.2.0",
     "model_name": "LayoutModel",
     "state": {
      "_model_module": "@jupyter-widgets/base",
      "_model_module_version": "1.2.0",
      "_model_name": "LayoutModel",
      "_view_count": null,
      "_view_module": "@jupyter-widgets/base",
      "_view_module_version": "1.2.0",
      "_view_name": "LayoutView",
      "align_content": null,
      "align_items": null,
      "align_self": null,
      "border": null,
      "bottom": null,
      "display": null,
      "flex": null,
      "flex_flow": null,
      "grid_area": null,
      "grid_auto_columns": null,
      "grid_auto_flow": null,
      "grid_auto_rows": null,
      "grid_column": null,
      "grid_gap": null,
      "grid_row": null,
      "grid_template_areas": null,
      "grid_template_columns": null,
      "grid_template_rows": null,
      "height": null,
      "justify_content": null,
      "justify_items": null,
      "left": null,
      "margin": null,
      "max_height": null,
      "max_width": null,
      "min_height": null,
      "min_width": null,
      "object_fit": null,
      "object_position": null,
      "order": null,
      "overflow": null,
      "overflow_x": null,
      "overflow_y": null,
      "padding": null,
      "right": null,
      "top": null,
      "visibility": null,
      "width": null
     }
    },
    "9f9291f255164fbb8c5257bf1510ebf9": {
     "model_module": "@jupyter-widgets/controls",
     "model_module_version": "1.5.0",
     "model_name": "HBoxModel",
     "state": {
      "_dom_classes": [],
      "_model_module": "@jupyter-widgets/controls",
      "_model_module_version": "1.5.0",
      "_model_name": "HBoxModel",
      "_view_count": null,
      "_view_module": "@jupyter-widgets/controls",
      "_view_module_version": "1.5.0",
      "_view_name": "HBoxView",
      "box_style": "",
      "children": [
       "IPY_MODEL_784abe1a3d894e43a81a1bd9093dcad7",
       "IPY_MODEL_ab7fa840d40b44a68aebf48eb61db33c",
       "IPY_MODEL_4b51aa3e4ae64bfaa566dcef1e8f5701"
      ],
      "layout": "IPY_MODEL_0665063f4f924477bf873bfa9a3bf766"
     }
    },
    "a075e3f2a4a2485a882b0555615531a9": {
     "model_module": "@jupyter-widgets/controls",
     "model_module_version": "1.5.0",
     "model_name": "HBoxModel",
     "state": {
      "_dom_classes": [],
      "_model_module": "@jupyter-widgets/controls",
      "_model_module_version": "1.5.0",
      "_model_name": "HBoxModel",
      "_view_count": null,
      "_view_module": "@jupyter-widgets/controls",
      "_view_module_version": "1.5.0",
      "_view_name": "HBoxView",
      "box_style": "",
      "children": [
       "IPY_MODEL_113f11fbeb5b482ab70ad50fc3046e9c",
       "IPY_MODEL_9c0791d2a1764dac99aac07ff5c08378",
       "IPY_MODEL_969cab77d09c4c79918b6444f0b58f27"
      ],
      "layout": "IPY_MODEL_46e7260132c440a090e304c59e3ecb5b"
     }
    },
    "a0a4225bd5c44789ae93c6fec632e2e7": {
     "model_module": "@jupyter-widgets/controls",
     "model_module_version": "1.5.0",
     "model_name": "DescriptionStyleModel",
     "state": {
      "_model_module": "@jupyter-widgets/controls",
      "_model_module_version": "1.5.0",
      "_model_name": "DescriptionStyleModel",
      "_view_count": null,
      "_view_module": "@jupyter-widgets/base",
      "_view_module_version": "1.2.0",
      "_view_name": "StyleView",
      "description_width": ""
     }
    },
    "a0e7c96dd00b41e798adf18f4c26a5fe": {
     "model_module": "@jupyter-widgets/controls",
     "model_module_version": "1.5.0",
     "model_name": "FloatProgressModel",
     "state": {
      "_dom_classes": [],
      "_model_module": "@jupyter-widgets/controls",
      "_model_module_version": "1.5.0",
      "_model_name": "FloatProgressModel",
      "_view_count": null,
      "_view_module": "@jupyter-widgets/controls",
      "_view_module_version": "1.5.0",
      "_view_name": "ProgressView",
      "bar_style": "success",
      "description": "",
      "description_tooltip": null,
      "layout": "IPY_MODEL_1d0610610cea423b8e9de082b9338e07",
      "max": 1,
      "min": 0,
      "orientation": "horizontal",
      "style": "IPY_MODEL_eec11aa2ee5440bf97dc9f02f227ecee",
      "value": 1
     }
    },
    "a17409f3eab241558bda205bce213149": {
     "model_module": "@jupyter-widgets/controls",
     "model_module_version": "1.5.0",
     "model_name": "HTMLModel",
     "state": {
      "_dom_classes": [],
      "_model_module": "@jupyter-widgets/controls",
      "_model_module_version": "1.5.0",
      "_model_name": "HTMLModel",
      "_view_count": null,
      "_view_module": "@jupyter-widgets/controls",
      "_view_module_version": "1.5.0",
      "_view_name": "HTMLView",
      "description": "",
      "description_tooltip": null,
      "layout": "IPY_MODEL_c15b5ada67d54e869830a0cb73641fea",
      "placeholder": "​",
      "style": "IPY_MODEL_90462ac9c0fe44cc82906e909fef2fb7",
      "value": "Downloading builder script: "
     }
    },
    "a272201606994d6b824e223e808fa243": {
     "model_module": "@jupyter-widgets/controls",
     "model_module_version": "1.5.0",
     "model_name": "FloatProgressModel",
     "state": {
      "_dom_classes": [],
      "_model_module": "@jupyter-widgets/controls",
      "_model_module_version": "1.5.0",
      "_model_name": "FloatProgressModel",
      "_view_count": null,
      "_view_module": "@jupyter-widgets/controls",
      "_view_module_version": "1.5.0",
      "_view_name": "ProgressView",
      "bar_style": "success",
      "description": "",
      "description_tooltip": null,
      "layout": "IPY_MODEL_d8c89cec866f48c481d7ac29dbda7f82",
      "max": 1,
      "min": 0,
      "orientation": "horizontal",
      "style": "IPY_MODEL_d3cae076bad14bcda4f6a6831c60750e",
      "value": 1
     }
    },
    "a294deee72fe43828cf93d975d9a9946": {
     "model_module": "@jupyter-widgets/controls",
     "model_module_version": "1.5.0",
     "model_name": "FloatProgressModel",
     "state": {
      "_dom_classes": [],
      "_model_module": "@jupyter-widgets/controls",
      "_model_module_version": "1.5.0",
      "_model_name": "FloatProgressModel",
      "_view_count": null,
      "_view_module": "@jupyter-widgets/controls",
      "_view_module_version": "1.5.0",
      "_view_name": "ProgressView",
      "bar_style": "success",
      "description": "",
      "description_tooltip": null,
      "layout": "IPY_MODEL_4e7b9d56d69c4e628de2c8a84caf83b5",
      "max": 1554,
      "min": 0,
      "orientation": "horizontal",
      "style": "IPY_MODEL_a355998763084e8b80e973a87e64e327",
      "value": 1554
     }
    },
    "a355998763084e8b80e973a87e64e327": {
     "model_module": "@jupyter-widgets/controls",
     "model_module_version": "1.5.0",
     "model_name": "ProgressStyleModel",
     "state": {
      "_model_module": "@jupyter-widgets/controls",
      "_model_module_version": "1.5.0",
      "_model_name": "ProgressStyleModel",
      "_view_count": null,
      "_view_module": "@jupyter-widgets/base",
      "_view_module_version": "1.2.0",
      "_view_name": "StyleView",
      "bar_color": null,
      "description_width": ""
     }
    },
    "a449ec327b6b4ffda84cd3dc55bc7d7c": {
     "model_module": "@jupyter-widgets/base",
     "model_module_version": "1.2.0",
     "model_name": "LayoutModel",
     "state": {
      "_model_module": "@jupyter-widgets/base",
      "_model_module_version": "1.2.0",
      "_model_name": "LayoutModel",
      "_view_count": null,
      "_view_module": "@jupyter-widgets/base",
      "_view_module_version": "1.2.0",
      "_view_name": "LayoutView",
      "align_content": null,
      "align_items": null,
      "align_self": null,
      "border": null,
      "bottom": null,
      "display": null,
      "flex": null,
      "flex_flow": null,
      "grid_area": null,
      "grid_auto_columns": null,
      "grid_auto_flow": null,
      "grid_auto_rows": null,
      "grid_column": null,
      "grid_gap": null,
      "grid_row": null,
      "grid_template_areas": null,
      "grid_template_columns": null,
      "grid_template_rows": null,
      "height": null,
      "justify_content": null,
      "justify_items": null,
      "left": null,
      "margin": null,
      "max_height": null,
      "max_width": null,
      "min_height": null,
      "min_width": null,
      "object_fit": null,
      "object_position": null,
      "order": null,
      "overflow": null,
      "overflow_x": null,
      "overflow_y": null,
      "padding": null,
      "right": null,
      "top": null,
      "visibility": null,
      "width": null
     }
    },
    "a5295974b5044d9caf1e084792beeab3": {
     "model_module": "@jupyter-widgets/base",
     "model_module_version": "1.2.0",
     "model_name": "LayoutModel",
     "state": {
      "_model_module": "@jupyter-widgets/base",
      "_model_module_version": "1.2.0",
      "_model_name": "LayoutModel",
      "_view_count": null,
      "_view_module": "@jupyter-widgets/base",
      "_view_module_version": "1.2.0",
      "_view_name": "LayoutView",
      "align_content": null,
      "align_items": null,
      "align_self": null,
      "border": null,
      "bottom": null,
      "display": null,
      "flex": null,
      "flex_flow": null,
      "grid_area": null,
      "grid_auto_columns": null,
      "grid_auto_flow": null,
      "grid_auto_rows": null,
      "grid_column": null,
      "grid_gap": null,
      "grid_row": null,
      "grid_template_areas": null,
      "grid_template_columns": null,
      "grid_template_rows": null,
      "height": null,
      "justify_content": null,
      "justify_items": null,
      "left": null,
      "margin": null,
      "max_height": null,
      "max_width": null,
      "min_height": null,
      "min_width": null,
      "object_fit": null,
      "object_position": null,
      "order": null,
      "overflow": null,
      "overflow_x": null,
      "overflow_y": null,
      "padding": null,
      "right": null,
      "top": null,
      "visibility": null,
      "width": null
     }
    },
    "a52a714a55814658adfbca60084eee57": {
     "model_module": "@jupyter-widgets/controls",
     "model_module_version": "1.5.0",
     "model_name": "HBoxModel",
     "state": {
      "_dom_classes": [],
      "_model_module": "@jupyter-widgets/controls",
      "_model_module_version": "1.5.0",
      "_model_name": "HBoxModel",
      "_view_count": null,
      "_view_module": "@jupyter-widgets/controls",
      "_view_module_version": "1.5.0",
      "_view_name": "HBoxView",
      "box_style": "",
      "children": [
       "IPY_MODEL_51a3c7806e4c4a089f335049f2d397a6",
       "IPY_MODEL_1c021b4fc423431ea7eb82bb6b88f181",
       "IPY_MODEL_8d220f27ed1c4b799fccf4d01e78d936"
      ],
      "layout": "IPY_MODEL_d8528d6644a44f37a208b210542fdcf2"
     }
    },
    "a68abd57a0df47bd914e9d40a0f88a06": {
     "model_module": "@jupyter-widgets/controls",
     "model_module_version": "1.5.0",
     "model_name": "FloatProgressModel",
     "state": {
      "_dom_classes": [],
      "_model_module": "@jupyter-widgets/controls",
      "_model_module_version": "1.5.0",
      "_model_name": "FloatProgressModel",
      "_view_count": null,
      "_view_module": "@jupyter-widgets/controls",
      "_view_module_version": "1.5.0",
      "_view_name": "ProgressView",
      "bar_style": "success",
      "description": "",
      "description_tooltip": null,
      "layout": "IPY_MODEL_4452287bd1f54a7dbfc2d7fa34a6c519",
      "max": 6250,
      "min": 0,
      "orientation": "horizontal",
      "style": "IPY_MODEL_18e24e1f9de644e3b6d26e6c15662709",
      "value": 6250
     }
    },
    "a701d3941f1e485cb10b424f32bc6b65": {
     "model_module": "@jupyter-widgets/controls",
     "model_module_version": "1.5.0",
     "model_name": "ProgressStyleModel",
     "state": {
      "_model_module": "@jupyter-widgets/controls",
      "_model_module_version": "1.5.0",
      "_model_name": "ProgressStyleModel",
      "_view_count": null,
      "_view_module": "@jupyter-widgets/base",
      "_view_module_version": "1.2.0",
      "_view_name": "StyleView",
      "bar_color": null,
      "description_width": ""
     }
    },
    "a78d8f67a77148c1af7de9fff78523be": {
     "model_module": "@jupyter-widgets/controls",
     "model_module_version": "1.5.0",
     "model_name": "ProgressStyleModel",
     "state": {
      "_model_module": "@jupyter-widgets/controls",
      "_model_module_version": "1.5.0",
      "_model_name": "ProgressStyleModel",
      "_view_count": null,
      "_view_module": "@jupyter-widgets/base",
      "_view_module_version": "1.2.0",
      "_view_name": "StyleView",
      "bar_color": null,
      "description_width": ""
     }
    },
    "a86e01f6782046858bdc8f8f96993d0a": {
     "model_module": "@jupyter-widgets/controls",
     "model_module_version": "1.5.0",
     "model_name": "DescriptionStyleModel",
     "state": {
      "_model_module": "@jupyter-widgets/controls",
      "_model_module_version": "1.5.0",
      "_model_name": "DescriptionStyleModel",
      "_view_count": null,
      "_view_module": "@jupyter-widgets/base",
      "_view_module_version": "1.2.0",
      "_view_name": "StyleView",
      "description_width": ""
     }
    },
    "a973a29d92c7459aab6f012f3666721e": {
     "model_module": "@jupyter-widgets/controls",
     "model_module_version": "1.5.0",
     "model_name": "HTMLModel",
     "state": {
      "_dom_classes": [],
      "_model_module": "@jupyter-widgets/controls",
      "_model_module_version": "1.5.0",
      "_model_name": "HTMLModel",
      "_view_count": null,
      "_view_module": "@jupyter-widgets/controls",
      "_view_module_version": "1.5.0",
      "_view_name": "HTMLView",
      "description": "",
      "description_tooltip": null,
      "layout": "IPY_MODEL_724ecd90b9ed448f9e0bd59673456b1e",
      "placeholder": "​",
      "style": "IPY_MODEL_b0ef113bf2cd4f519d2a0873ffb4eecf",
      "value": "tokenizer_config.json: 100%"
     }
    },
    "aabc11c9b720471cb0f2a0d18d1e8487": {
     "model_module": "@jupyter-widgets/controls",
     "model_module_version": "1.5.0",
     "model_name": "HBoxModel",
     "state": {
      "_dom_classes": [],
      "_model_module": "@jupyter-widgets/controls",
      "_model_module_version": "1.5.0",
      "_model_name": "HBoxModel",
      "_view_count": null,
      "_view_module": "@jupyter-widgets/controls",
      "_view_module_version": "1.5.0",
      "_view_name": "HBoxView",
      "box_style": "",
      "children": [
       "IPY_MODEL_a973a29d92c7459aab6f012f3666721e",
       "IPY_MODEL_43e6338af6744162a645335f48bdbc08",
       "IPY_MODEL_fad535105f4441b6b48ccd5d0016ba9a"
      ],
      "layout": "IPY_MODEL_f29e10ec0a6540f28619380851812f75"
     }
    },
    "ab7fa840d40b44a68aebf48eb61db33c": {
     "model_module": "@jupyter-widgets/controls",
     "model_module_version": "1.5.0",
     "model_name": "FloatProgressModel",
     "state": {
      "_dom_classes": [],
      "_model_module": "@jupyter-widgets/controls",
      "_model_module_version": "1.5.0",
      "_model_name": "FloatProgressModel",
      "_view_count": null,
      "_view_module": "@jupyter-widgets/controls",
      "_view_module_version": "1.5.0",
      "_view_name": "ProgressView",
      "bar_style": "success",
      "description": "",
      "description_tooltip": null,
      "layout": "IPY_MODEL_749c63840d6d4159ae9c679a6c4af47c",
      "max": 7,
      "min": 0,
      "orientation": "horizontal",
      "style": "IPY_MODEL_d3c85136d33245eb9161da29813ebb3a",
      "value": 7
     }
    },
    "abc7cd8bb8ce4fbbaec6d5670c6bda5d": {
     "model_module": "@jupyter-widgets/controls",
     "model_module_version": "1.5.0",
     "model_name": "DescriptionStyleModel",
     "state": {
      "_model_module": "@jupyter-widgets/controls",
      "_model_module_version": "1.5.0",
      "_model_name": "DescriptionStyleModel",
      "_view_count": null,
      "_view_module": "@jupyter-widgets/base",
      "_view_module_version": "1.2.0",
      "_view_name": "StyleView",
      "description_width": ""
     }
    },
    "ac704584fcc144afa20c20faed378798": {
     "model_module": "@jupyter-widgets/controls",
     "model_module_version": "1.5.0",
     "model_name": "HTMLModel",
     "state": {
      "_dom_classes": [],
      "_model_module": "@jupyter-widgets/controls",
      "_model_module_version": "1.5.0",
      "_model_name": "HTMLModel",
      "_view_count": null,
      "_view_module": "@jupyter-widgets/controls",
      "_view_module_version": "1.5.0",
      "_view_name": "HTMLView",
      "description": "",
      "description_tooltip": null,
      "layout": "IPY_MODEL_56df4c90e3e448e991e95436d81dd737",
      "placeholder": "​",
      "style": "IPY_MODEL_5f78634391c842fe9b07e0f8a540bc4c",
      "value": " 3.34k/? [00:00&lt;00:00, 232kB/s]"
     }
    },
    "adc6c8dff81144e7b63d74930bab153c": {
     "model_module": "@jupyter-widgets/controls",
     "model_module_version": "1.5.0",
     "model_name": "DescriptionStyleModel",
     "state": {
      "_model_module": "@jupyter-widgets/controls",
      "_model_module_version": "1.5.0",
      "_model_name": "DescriptionStyleModel",
      "_view_count": null,
      "_view_module": "@jupyter-widgets/base",
      "_view_module_version": "1.2.0",
      "_view_name": "StyleView",
      "description_width": ""
     }
    },
    "af948d81db644fe29710d43f8a41fe12": {
     "model_module": "@jupyter-widgets/base",
     "model_module_version": "1.2.0",
     "model_name": "LayoutModel",
     "state": {
      "_model_module": "@jupyter-widgets/base",
      "_model_module_version": "1.2.0",
      "_model_name": "LayoutModel",
      "_view_count": null,
      "_view_module": "@jupyter-widgets/base",
      "_view_module_version": "1.2.0",
      "_view_name": "LayoutView",
      "align_content": null,
      "align_items": null,
      "align_self": null,
      "border": null,
      "bottom": null,
      "display": null,
      "flex": null,
      "flex_flow": null,
      "grid_area": null,
      "grid_auto_columns": null,
      "grid_auto_flow": null,
      "grid_auto_rows": null,
      "grid_column": null,
      "grid_gap": null,
      "grid_row": null,
      "grid_template_areas": null,
      "grid_template_columns": null,
      "grid_template_rows": null,
      "height": null,
      "justify_content": null,
      "justify_items": null,
      "left": null,
      "margin": null,
      "max_height": null,
      "max_width": null,
      "min_height": null,
      "min_width": null,
      "object_fit": null,
      "object_position": null,
      "order": null,
      "overflow": null,
      "overflow_x": null,
      "overflow_y": null,
      "padding": null,
      "right": null,
      "top": null,
      "visibility": null,
      "width": null
     }
    },
    "b0489dcf47854b19b561040d8323ff02": {
     "model_module": "@jupyter-widgets/base",
     "model_module_version": "1.2.0",
     "model_name": "LayoutModel",
     "state": {
      "_model_module": "@jupyter-widgets/base",
      "_model_module_version": "1.2.0",
      "_model_name": "LayoutModel",
      "_view_count": null,
      "_view_module": "@jupyter-widgets/base",
      "_view_module_version": "1.2.0",
      "_view_name": "LayoutView",
      "align_content": null,
      "align_items": null,
      "align_self": null,
      "border": null,
      "bottom": null,
      "display": null,
      "flex": null,
      "flex_flow": null,
      "grid_area": null,
      "grid_auto_columns": null,
      "grid_auto_flow": null,
      "grid_auto_rows": null,
      "grid_column": null,
      "grid_gap": null,
      "grid_row": null,
      "grid_template_areas": null,
      "grid_template_columns": null,
      "grid_template_rows": null,
      "height": null,
      "justify_content": null,
      "justify_items": null,
      "left": null,
      "margin": null,
      "max_height": null,
      "max_width": null,
      "min_height": null,
      "min_width": null,
      "object_fit": null,
      "object_position": null,
      "order": null,
      "overflow": null,
      "overflow_x": null,
      "overflow_y": null,
      "padding": null,
      "right": null,
      "top": null,
      "visibility": null,
      "width": null
     }
    },
    "b0a248b9ee774c1c91a5bd86836a80e4": {
     "model_module": "@jupyter-widgets/controls",
     "model_module_version": "1.5.0",
     "model_name": "ProgressStyleModel",
     "state": {
      "_model_module": "@jupyter-widgets/controls",
      "_model_module_version": "1.5.0",
      "_model_name": "ProgressStyleModel",
      "_view_count": null,
      "_view_module": "@jupyter-widgets/base",
      "_view_module_version": "1.2.0",
      "_view_name": "StyleView",
      "bar_color": null,
      "description_width": ""
     }
    },
    "b0d7503b4f3a466b864af8b4bf6b6abc": {
     "model_module": "@jupyter-widgets/controls",
     "model_module_version": "1.5.0",
     "model_name": "HBoxModel",
     "state": {
      "_dom_classes": [],
      "_model_module": "@jupyter-widgets/controls",
      "_model_module_version": "1.5.0",
      "_model_name": "HBoxModel",
      "_view_count": null,
      "_view_module": "@jupyter-widgets/controls",
      "_view_module_version": "1.5.0",
      "_view_name": "HBoxView",
      "box_style": "",
      "children": [
       "IPY_MODEL_3c40f168ef7348919b0b87daf18ff997",
       "IPY_MODEL_c1e1d4fbde26457f81c38c79d637a503",
       "IPY_MODEL_b6864a2abf1945749195654e1f7ae620"
      ],
      "layout": "IPY_MODEL_e6fbc3a5d17d4602a5c55ac58b901c44"
     }
    },
    "b0ef113bf2cd4f519d2a0873ffb4eecf": {
     "model_module": "@jupyter-widgets/controls",
     "model_module_version": "1.5.0",
     "model_name": "DescriptionStyleModel",
     "state": {
      "_model_module": "@jupyter-widgets/controls",
      "_model_module_version": "1.5.0",
      "_model_name": "DescriptionStyleModel",
      "_view_count": null,
      "_view_module": "@jupyter-widgets/base",
      "_view_module_version": "1.2.0",
      "_view_name": "StyleView",
      "description_width": ""
     }
    },
    "b3637603943248edac78b66f7c3bba81": {
     "model_module": "@jupyter-widgets/base",
     "model_module_version": "1.2.0",
     "model_name": "LayoutModel",
     "state": {
      "_model_module": "@jupyter-widgets/base",
      "_model_module_version": "1.2.0",
      "_model_name": "LayoutModel",
      "_view_count": null,
      "_view_module": "@jupyter-widgets/base",
      "_view_module_version": "1.2.0",
      "_view_name": "LayoutView",
      "align_content": null,
      "align_items": null,
      "align_self": null,
      "border": null,
      "bottom": null,
      "display": null,
      "flex": null,
      "flex_flow": null,
      "grid_area": null,
      "grid_auto_columns": null,
      "grid_auto_flow": null,
      "grid_auto_rows": null,
      "grid_column": null,
      "grid_gap": null,
      "grid_row": null,
      "grid_template_areas": null,
      "grid_template_columns": null,
      "grid_template_rows": null,
      "height": null,
      "justify_content": null,
      "justify_items": null,
      "left": null,
      "margin": null,
      "max_height": null,
      "max_width": null,
      "min_height": null,
      "min_width": null,
      "object_fit": null,
      "object_position": null,
      "order": null,
      "overflow": null,
      "overflow_x": null,
      "overflow_y": null,
      "padding": null,
      "right": null,
      "top": null,
      "visibility": null,
      "width": "20px"
     }
    },
    "b55e704faaf74c0e8ca0ff8e0fa8d4ca": {
     "model_module": "@jupyter-widgets/controls",
     "model_module_version": "1.5.0",
     "model_name": "HBoxModel",
     "state": {
      "_dom_classes": [],
      "_model_module": "@jupyter-widgets/controls",
      "_model_module_version": "1.5.0",
      "_model_name": "HBoxModel",
      "_view_count": null,
      "_view_module": "@jupyter-widgets/controls",
      "_view_module_version": "1.5.0",
      "_view_name": "HBoxView",
      "box_style": "",
      "children": [
       "IPY_MODEL_94f8b7867b264e03b18618537e708754",
       "IPY_MODEL_d13968afe1f64b218b6fc4c8a0d7a6a6",
       "IPY_MODEL_08c7296765914ec1b806b45711b1e036"
      ],
      "layout": "IPY_MODEL_25d5614a70cd49c7a508ed1e87d0c8ec"
     }
    },
    "b57a1354b8474c32bd8bf349ace05a43": {
     "model_module": "@jupyter-widgets/base",
     "model_module_version": "1.2.0",
     "model_name": "LayoutModel",
     "state": {
      "_model_module": "@jupyter-widgets/base",
      "_model_module_version": "1.2.0",
      "_model_name": "LayoutModel",
      "_view_count": null,
      "_view_module": "@jupyter-widgets/base",
      "_view_module_version": "1.2.0",
      "_view_name": "LayoutView",
      "align_content": null,
      "align_items": null,
      "align_self": null,
      "border": null,
      "bottom": null,
      "display": null,
      "flex": null,
      "flex_flow": null,
      "grid_area": null,
      "grid_auto_columns": null,
      "grid_auto_flow": null,
      "grid_auto_rows": null,
      "grid_column": null,
      "grid_gap": null,
      "grid_row": null,
      "grid_template_areas": null,
      "grid_template_columns": null,
      "grid_template_rows": null,
      "height": null,
      "justify_content": null,
      "justify_items": null,
      "left": null,
      "margin": null,
      "max_height": null,
      "max_width": null,
      "min_height": null,
      "min_width": null,
      "object_fit": null,
      "object_position": null,
      "order": null,
      "overflow": null,
      "overflow_x": null,
      "overflow_y": null,
      "padding": null,
      "right": null,
      "top": null,
      "visibility": null,
      "width": null
     }
    },
    "b59ee03aa8d34144be3910d73c568efa": {
     "model_module": "@jupyter-widgets/base",
     "model_module_version": "1.2.0",
     "model_name": "LayoutModel",
     "state": {
      "_model_module": "@jupyter-widgets/base",
      "_model_module_version": "1.2.0",
      "_model_name": "LayoutModel",
      "_view_count": null,
      "_view_module": "@jupyter-widgets/base",
      "_view_module_version": "1.2.0",
      "_view_name": "LayoutView",
      "align_content": null,
      "align_items": null,
      "align_self": null,
      "border": null,
      "bottom": null,
      "display": null,
      "flex": null,
      "flex_flow": null,
      "grid_area": null,
      "grid_auto_columns": null,
      "grid_auto_flow": null,
      "grid_auto_rows": null,
      "grid_column": null,
      "grid_gap": null,
      "grid_row": null,
      "grid_template_areas": null,
      "grid_template_columns": null,
      "grid_template_rows": null,
      "height": null,
      "justify_content": null,
      "justify_items": null,
      "left": null,
      "margin": null,
      "max_height": null,
      "max_width": null,
      "min_height": null,
      "min_width": null,
      "object_fit": null,
      "object_position": null,
      "order": null,
      "overflow": null,
      "overflow_x": null,
      "overflow_y": null,
      "padding": null,
      "right": null,
      "top": null,
      "visibility": null,
      "width": null
     }
    },
    "b6864a2abf1945749195654e1f7ae620": {
     "model_module": "@jupyter-widgets/controls",
     "model_module_version": "1.5.0",
     "model_name": "HTMLModel",
     "state": {
      "_dom_classes": [],
      "_model_module": "@jupyter-widgets/controls",
      "_model_module_version": "1.5.0",
      "_model_name": "HTMLModel",
      "_view_count": null,
      "_view_module": "@jupyter-widgets/controls",
      "_view_module_version": "1.5.0",
      "_view_name": "HTMLView",
      "description": "",
      "description_tooltip": null,
      "layout": "IPY_MODEL_bec6353e0e6546a2aca2cf33ccfc4911",
      "placeholder": "​",
      "style": "IPY_MODEL_7c7a148088a14c3ba3db393ae77f8c4b",
      "value": " 112/112 [00:00&lt;00:00, 6.67kB/s]"
     }
    },
    "b99a62f41f60459aa7bae2ce12d9a798": {
     "model_module": "@jupyter-widgets/controls",
     "model_module_version": "1.5.0",
     "model_name": "FloatProgressModel",
     "state": {
      "_dom_classes": [],
      "_model_module": "@jupyter-widgets/controls",
      "_model_module_version": "1.5.0",
      "_model_name": "FloatProgressModel",
      "_view_count": null,
      "_view_module": "@jupyter-widgets/controls",
      "_view_module_version": "1.5.0",
      "_view_name": "ProgressView",
      "bar_style": "success",
      "description": "",
      "description_tooltip": null,
      "layout": "IPY_MODEL_77cd45d8f6a9454bb19fa72d670e1aed",
      "max": 466062,
      "min": 0,
      "orientation": "horizontal",
      "style": "IPY_MODEL_fb7e058f95dc4989b4c3f78a3ebd6409",
      "value": 466062
     }
    },
    "ba6e52d8bbe048ed949afc351159a6ba": {
     "model_module": "@jupyter-widgets/base",
     "model_module_version": "1.2.0",
     "model_name": "LayoutModel",
     "state": {
      "_model_module": "@jupyter-widgets/base",
      "_model_module_version": "1.2.0",
      "_model_name": "LayoutModel",
      "_view_count": null,
      "_view_module": "@jupyter-widgets/base",
      "_view_module_version": "1.2.0",
      "_view_name": "LayoutView",
      "align_content": null,
      "align_items": null,
      "align_self": null,
      "border": null,
      "bottom": null,
      "display": null,
      "flex": null,
      "flex_flow": null,
      "grid_area": null,
      "grid_auto_columns": null,
      "grid_auto_flow": null,
      "grid_auto_rows": null,
      "grid_column": null,
      "grid_gap": null,
      "grid_row": null,
      "grid_template_areas": null,
      "grid_template_columns": null,
      "grid_template_rows": null,
      "height": null,
      "justify_content": null,
      "justify_items": null,
      "left": null,
      "margin": null,
      "max_height": null,
      "max_width": null,
      "min_height": null,
      "min_width": null,
      "object_fit": null,
      "object_position": null,
      "order": null,
      "overflow": null,
      "overflow_x": null,
      "overflow_y": null,
      "padding": null,
      "right": null,
      "top": null,
      "visibility": null,
      "width": null
     }
    },
    "bcdf506d924947a485fd740cf04235ff": {
     "model_module": "@jupyter-widgets/base",
     "model_module_version": "1.2.0",
     "model_name": "LayoutModel",
     "state": {
      "_model_module": "@jupyter-widgets/base",
      "_model_module_version": "1.2.0",
      "_model_name": "LayoutModel",
      "_view_count": null,
      "_view_module": "@jupyter-widgets/base",
      "_view_module_version": "1.2.0",
      "_view_name": "LayoutView",
      "align_content": null,
      "align_items": null,
      "align_self": null,
      "border": null,
      "bottom": null,
      "display": null,
      "flex": null,
      "flex_flow": null,
      "grid_area": null,
      "grid_auto_columns": null,
      "grid_auto_flow": null,
      "grid_auto_rows": null,
      "grid_column": null,
      "grid_gap": null,
      "grid_row": null,
      "grid_template_areas": null,
      "grid_template_columns": null,
      "grid_template_rows": null,
      "height": null,
      "justify_content": null,
      "justify_items": null,
      "left": null,
      "margin": null,
      "max_height": null,
      "max_width": null,
      "min_height": null,
      "min_width": null,
      "object_fit": null,
      "object_position": null,
      "order": null,
      "overflow": null,
      "overflow_x": null,
      "overflow_y": null,
      "padding": null,
      "right": null,
      "top": null,
      "visibility": null,
      "width": null
     }
    },
    "bcfbfe98a83b4837b914351fbba4fa30": {
     "model_module": "@jupyter-widgets/controls",
     "model_module_version": "1.5.0",
     "model_name": "HTMLModel",
     "state": {
      "_dom_classes": [],
      "_model_module": "@jupyter-widgets/controls",
      "_model_module_version": "1.5.0",
      "_model_name": "HTMLModel",
      "_view_count": null,
      "_view_module": "@jupyter-widgets/controls",
      "_view_module_version": "1.5.0",
      "_view_name": "HTMLView",
      "description": "",
      "description_tooltip": null,
      "layout": "IPY_MODEL_25b4d107a0814c409c96e071f3a7dd65",
      "placeholder": "​",
      "style": "IPY_MODEL_ec08b20a8dc74d23a6731e92eea491fd",
      "value": " 5.30k/? [00:00&lt;00:00, 78.6kB/s]"
     }
    },
    "be7e8aae68f54bd1afc5038faac4cdea": {
     "model_module": "@jupyter-widgets/controls",
     "model_module_version": "1.5.0",
     "model_name": "FloatProgressModel",
     "state": {
      "_dom_classes": [],
      "_model_module": "@jupyter-widgets/controls",
      "_model_module_version": "1.5.0",
      "_model_name": "FloatProgressModel",
      "_view_count": null,
      "_view_module": "@jupyter-widgets/controls",
      "_view_module_version": "1.5.0",
      "_view_name": "ProgressView",
      "bar_style": "success",
      "description": "",
      "description_tooltip": null,
      "layout": "IPY_MODEL_1186935b37c24e9694718f84455eabb8",
      "max": 437991539,
      "min": 0,
      "orientation": "horizontal",
      "style": "IPY_MODEL_7b5552a3cd2149c4a56c01c5dfc91e07",
      "value": 437991539
     }
    },
    "beb188d609bc4c51a3f62170d5e32499": {
     "model_module": "@jupyter-widgets/base",
     "model_module_version": "1.2.0",
     "model_name": "LayoutModel",
     "state": {
      "_model_module": "@jupyter-widgets/base",
      "_model_module_version": "1.2.0",
      "_model_name": "LayoutModel",
      "_view_count": null,
      "_view_module": "@jupyter-widgets/base",
      "_view_module_version": "1.2.0",
      "_view_name": "LayoutView",
      "align_content": null,
      "align_items": null,
      "align_self": null,
      "border": null,
      "bottom": null,
      "display": null,
      "flex": null,
      "flex_flow": null,
      "grid_area": null,
      "grid_auto_columns": null,
      "grid_auto_flow": null,
      "grid_auto_rows": null,
      "grid_column": null,
      "grid_gap": null,
      "grid_row": null,
      "grid_template_areas": null,
      "grid_template_columns": null,
      "grid_template_rows": null,
      "height": null,
      "justify_content": null,
      "justify_items": null,
      "left": null,
      "margin": null,
      "max_height": null,
      "max_width": null,
      "min_height": null,
      "min_width": null,
      "object_fit": null,
      "object_position": null,
      "order": null,
      "overflow": null,
      "overflow_x": null,
      "overflow_y": null,
      "padding": null,
      "right": null,
      "top": null,
      "visibility": null,
      "width": null
     }
    },
    "bec6353e0e6546a2aca2cf33ccfc4911": {
     "model_module": "@jupyter-widgets/base",
     "model_module_version": "1.2.0",
     "model_name": "LayoutModel",
     "state": {
      "_model_module": "@jupyter-widgets/base",
      "_model_module_version": "1.2.0",
      "_model_name": "LayoutModel",
      "_view_count": null,
      "_view_module": "@jupyter-widgets/base",
      "_view_module_version": "1.2.0",
      "_view_name": "LayoutView",
      "align_content": null,
      "align_items": null,
      "align_self": null,
      "border": null,
      "bottom": null,
      "display": null,
      "flex": null,
      "flex_flow": null,
      "grid_area": null,
      "grid_auto_columns": null,
      "grid_auto_flow": null,
      "grid_auto_rows": null,
      "grid_column": null,
      "grid_gap": null,
      "grid_row": null,
      "grid_template_areas": null,
      "grid_template_columns": null,
      "grid_template_rows": null,
      "height": null,
      "justify_content": null,
      "justify_items": null,
      "left": null,
      "margin": null,
      "max_height": null,
      "max_width": null,
      "min_height": null,
      "min_width": null,
      "object_fit": null,
      "object_position": null,
      "order": null,
      "overflow": null,
      "overflow_x": null,
      "overflow_y": null,
      "padding": null,
      "right": null,
      "top": null,
      "visibility": null,
      "width": null
     }
    },
    "c15b5ada67d54e869830a0cb73641fea": {
     "model_module": "@jupyter-widgets/base",
     "model_module_version": "1.2.0",
     "model_name": "LayoutModel",
     "state": {
      "_model_module": "@jupyter-widgets/base",
      "_model_module_version": "1.2.0",
      "_model_name": "LayoutModel",
      "_view_count": null,
      "_view_module": "@jupyter-widgets/base",
      "_view_module_version": "1.2.0",
      "_view_name": "LayoutView",
      "align_content": null,
      "align_items": null,
      "align_self": null,
      "border": null,
      "bottom": null,
      "display": null,
      "flex": null,
      "flex_flow": null,
      "grid_area": null,
      "grid_auto_columns": null,
      "grid_auto_flow": null,
      "grid_auto_rows": null,
      "grid_column": null,
      "grid_gap": null,
      "grid_row": null,
      "grid_template_areas": null,
      "grid_template_columns": null,
      "grid_template_rows": null,
      "height": null,
      "justify_content": null,
      "justify_items": null,
      "left": null,
      "margin": null,
      "max_height": null,
      "max_width": null,
      "min_height": null,
      "min_width": null,
      "object_fit": null,
      "object_position": null,
      "order": null,
      "overflow": null,
      "overflow_x": null,
      "overflow_y": null,
      "padding": null,
      "right": null,
      "top": null,
      "visibility": null,
      "width": null
     }
    },
    "c1e1d4fbde26457f81c38c79d637a503": {
     "model_module": "@jupyter-widgets/controls",
     "model_module_version": "1.5.0",
     "model_name": "FloatProgressModel",
     "state": {
      "_dom_classes": [],
      "_model_module": "@jupyter-widgets/controls",
      "_model_module_version": "1.5.0",
      "_model_name": "FloatProgressModel",
      "_view_count": null,
      "_view_module": "@jupyter-widgets/controls",
      "_view_module_version": "1.5.0",
      "_view_name": "ProgressView",
      "bar_style": "success",
      "description": "",
      "description_tooltip": null,
      "layout": "IPY_MODEL_948c10138d694c77b85dbdd7e687bc67",
      "max": 112,
      "min": 0,
      "orientation": "horizontal",
      "style": "IPY_MODEL_a701d3941f1e485cb10b424f32bc6b65",
      "value": 112
     }
    },
    "c25f67b0b1f143379eba40e47015a003": {
     "model_module": "@jupyter-widgets/controls",
     "model_module_version": "1.5.0",
     "model_name": "ProgressStyleModel",
     "state": {
      "_model_module": "@jupyter-widgets/controls",
      "_model_module_version": "1.5.0",
      "_model_name": "ProgressStyleModel",
      "_view_count": null,
      "_view_module": "@jupyter-widgets/base",
      "_view_module_version": "1.2.0",
      "_view_name": "StyleView",
      "bar_color": null,
      "description_width": ""
     }
    },
    "c272a560d032417087d65cc4649af4fb": {
     "model_module": "@jupyter-widgets/controls",
     "model_module_version": "1.5.0",
     "model_name": "FloatProgressModel",
     "state": {
      "_dom_classes": [],
      "_model_module": "@jupyter-widgets/controls",
      "_model_module_version": "1.5.0",
      "_model_name": "FloatProgressModel",
      "_view_count": null,
      "_view_module": "@jupyter-widgets/controls",
      "_view_module_version": "1.5.0",
      "_view_name": "ProgressView",
      "bar_style": "success",
      "description": "",
      "description_tooltip": null,
      "layout": "IPY_MODEL_5713f5ff610c4533850e9c4430211d8c",
      "max": 437964796,
      "min": 0,
      "orientation": "horizontal",
      "style": "IPY_MODEL_1f5eccd9550446f1be6ccf68faef3803",
      "value": 437964796
     }
    },
    "c38820a8d75340a19d0365bc7072b8e2": {
     "model_module": "@jupyter-widgets/controls",
     "model_module_version": "1.5.0",
     "model_name": "ProgressStyleModel",
     "state": {
      "_model_module": "@jupyter-widgets/controls",
      "_model_module_version": "1.5.0",
      "_model_name": "ProgressStyleModel",
      "_view_count": null,
      "_view_module": "@jupyter-widgets/base",
      "_view_module_version": "1.2.0",
      "_view_name": "StyleView",
      "bar_color": null,
      "description_width": ""
     }
    },
    "c406ced3ef5c45cb95e4423a01e4ba4f": {
     "model_module": "@jupyter-widgets/controls",
     "model_module_version": "1.5.0",
     "model_name": "ProgressStyleModel",
     "state": {
      "_model_module": "@jupyter-widgets/controls",
      "_model_module_version": "1.5.0",
      "_model_name": "ProgressStyleModel",
      "_view_count": null,
      "_view_module": "@jupyter-widgets/base",
      "_view_module_version": "1.2.0",
      "_view_name": "StyleView",
      "bar_color": null,
      "description_width": ""
     }
    },
    "c5582afa6d7946d28299b0d75b6cd943": {
     "model_module": "@jupyter-widgets/base",
     "model_module_version": "1.2.0",
     "model_name": "LayoutModel",
     "state": {
      "_model_module": "@jupyter-widgets/base",
      "_model_module_version": "1.2.0",
      "_model_name": "LayoutModel",
      "_view_count": null,
      "_view_module": "@jupyter-widgets/base",
      "_view_module_version": "1.2.0",
      "_view_name": "LayoutView",
      "align_content": null,
      "align_items": null,
      "align_self": null,
      "border": null,
      "bottom": null,
      "display": null,
      "flex": null,
      "flex_flow": null,
      "grid_area": null,
      "grid_auto_columns": null,
      "grid_auto_flow": null,
      "grid_auto_rows": null,
      "grid_column": null,
      "grid_gap": null,
      "grid_row": null,
      "grid_template_areas": null,
      "grid_template_columns": null,
      "grid_template_rows": null,
      "height": null,
      "justify_content": null,
      "justify_items": null,
      "left": null,
      "margin": null,
      "max_height": null,
      "max_width": null,
      "min_height": null,
      "min_width": null,
      "object_fit": null,
      "object_position": null,
      "order": null,
      "overflow": null,
      "overflow_x": null,
      "overflow_y": null,
      "padding": null,
      "right": null,
      "top": null,
      "visibility": null,
      "width": null
     }
    },
    "c58b6870528849d8bab4bb09e0683e0c": {
     "model_module": "@jupyter-widgets/base",
     "model_module_version": "1.2.0",
     "model_name": "LayoutModel",
     "state": {
      "_model_module": "@jupyter-widgets/base",
      "_model_module_version": "1.2.0",
      "_model_name": "LayoutModel",
      "_view_count": null,
      "_view_module": "@jupyter-widgets/base",
      "_view_module_version": "1.2.0",
      "_view_name": "LayoutView",
      "align_content": null,
      "align_items": null,
      "align_self": null,
      "border": null,
      "bottom": null,
      "display": null,
      "flex": null,
      "flex_flow": null,
      "grid_area": null,
      "grid_auto_columns": null,
      "grid_auto_flow": null,
      "grid_auto_rows": null,
      "grid_column": null,
      "grid_gap": null,
      "grid_row": null,
      "grid_template_areas": null,
      "grid_template_columns": null,
      "grid_template_rows": null,
      "height": null,
      "justify_content": null,
      "justify_items": null,
      "left": null,
      "margin": null,
      "max_height": null,
      "max_width": null,
      "min_height": null,
      "min_width": null,
      "object_fit": null,
      "object_position": null,
      "order": null,
      "overflow": null,
      "overflow_x": null,
      "overflow_y": null,
      "padding": null,
      "right": null,
      "top": null,
      "visibility": null,
      "width": null
     }
    },
    "c5f1e5affb4143059a8d289774c2d7ee": {
     "model_module": "@jupyter-widgets/base",
     "model_module_version": "1.2.0",
     "model_name": "LayoutModel",
     "state": {
      "_model_module": "@jupyter-widgets/base",
      "_model_module_version": "1.2.0",
      "_model_name": "LayoutModel",
      "_view_count": null,
      "_view_module": "@jupyter-widgets/base",
      "_view_module_version": "1.2.0",
      "_view_name": "LayoutView",
      "align_content": null,
      "align_items": null,
      "align_self": null,
      "border": null,
      "bottom": null,
      "display": null,
      "flex": null,
      "flex_flow": null,
      "grid_area": null,
      "grid_auto_columns": null,
      "grid_auto_flow": null,
      "grid_auto_rows": null,
      "grid_column": null,
      "grid_gap": null,
      "grid_row": null,
      "grid_template_areas": null,
      "grid_template_columns": null,
      "grid_template_rows": null,
      "height": null,
      "justify_content": null,
      "justify_items": null,
      "left": null,
      "margin": null,
      "max_height": null,
      "max_width": null,
      "min_height": null,
      "min_width": null,
      "object_fit": null,
      "object_position": null,
      "order": null,
      "overflow": null,
      "overflow_x": null,
      "overflow_y": null,
      "padding": null,
      "right": null,
      "top": null,
      "visibility": null,
      "width": null
     }
    },
    "c89d470b32534bebbe2f57d54746cdd8": {
     "model_module": "@jupyter-widgets/base",
     "model_module_version": "1.2.0",
     "model_name": "LayoutModel",
     "state": {
      "_model_module": "@jupyter-widgets/base",
      "_model_module_version": "1.2.0",
      "_model_name": "LayoutModel",
      "_view_count": null,
      "_view_module": "@jupyter-widgets/base",
      "_view_module_version": "1.2.0",
      "_view_name": "LayoutView",
      "align_content": null,
      "align_items": null,
      "align_self": null,
      "border": null,
      "bottom": null,
      "display": null,
      "flex": null,
      "flex_flow": null,
      "grid_area": null,
      "grid_auto_columns": null,
      "grid_auto_flow": null,
      "grid_auto_rows": null,
      "grid_column": null,
      "grid_gap": null,
      "grid_row": null,
      "grid_template_areas": null,
      "grid_template_columns": null,
      "grid_template_rows": null,
      "height": null,
      "justify_content": null,
      "justify_items": null,
      "left": null,
      "margin": null,
      "max_height": null,
      "max_width": null,
      "min_height": null,
      "min_width": null,
      "object_fit": null,
      "object_position": null,
      "order": null,
      "overflow": null,
      "overflow_x": null,
      "overflow_y": null,
      "padding": null,
      "right": null,
      "top": null,
      "visibility": null,
      "width": null
     }
    },
    "c9a33609e4ab4aca92a8ce09cffa7d22": {
     "model_module": "@jupyter-widgets/controls",
     "model_module_version": "1.5.0",
     "model_name": "DescriptionStyleModel",
     "state": {
      "_model_module": "@jupyter-widgets/controls",
      "_model_module_version": "1.5.0",
      "_model_name": "DescriptionStyleModel",
      "_view_count": null,
      "_view_module": "@jupyter-widgets/base",
      "_view_module_version": "1.2.0",
      "_view_name": "StyleView",
      "description_width": ""
     }
    },
    "ca476be15dad4a9892ae9b2245fc3744": {
     "model_module": "@jupyter-widgets/base",
     "model_module_version": "1.2.0",
     "model_name": "LayoutModel",
     "state": {
      "_model_module": "@jupyter-widgets/base",
      "_model_module_version": "1.2.0",
      "_model_name": "LayoutModel",
      "_view_count": null,
      "_view_module": "@jupyter-widgets/base",
      "_view_module_version": "1.2.0",
      "_view_name": "LayoutView",
      "align_content": null,
      "align_items": null,
      "align_self": null,
      "border": null,
      "bottom": null,
      "display": null,
      "flex": null,
      "flex_flow": null,
      "grid_area": null,
      "grid_auto_columns": null,
      "grid_auto_flow": null,
      "grid_auto_rows": null,
      "grid_column": null,
      "grid_gap": null,
      "grid_row": null,
      "grid_template_areas": null,
      "grid_template_columns": null,
      "grid_template_rows": null,
      "height": null,
      "justify_content": null,
      "justify_items": null,
      "left": null,
      "margin": null,
      "max_height": null,
      "max_width": null,
      "min_height": null,
      "min_width": null,
      "object_fit": null,
      "object_position": null,
      "order": null,
      "overflow": null,
      "overflow_x": null,
      "overflow_y": null,
      "padding": null,
      "right": null,
      "top": null,
      "visibility": null,
      "width": null
     }
    },
    "ca8864e22e374866b0214414ada508b0": {
     "model_module": "@jupyter-widgets/controls",
     "model_module_version": "1.5.0",
     "model_name": "DescriptionStyleModel",
     "state": {
      "_model_module": "@jupyter-widgets/controls",
      "_model_module_version": "1.5.0",
      "_model_name": "DescriptionStyleModel",
      "_view_count": null,
      "_view_module": "@jupyter-widgets/base",
      "_view_module_version": "1.2.0",
      "_view_name": "StyleView",
      "description_width": ""
     }
    },
    "cd890c698c3f432086003f84e0abfa03": {
     "model_module": "@jupyter-widgets/base",
     "model_module_version": "1.2.0",
     "model_name": "LayoutModel",
     "state": {
      "_model_module": "@jupyter-widgets/base",
      "_model_module_version": "1.2.0",
      "_model_name": "LayoutModel",
      "_view_count": null,
      "_view_module": "@jupyter-widgets/base",
      "_view_module_version": "1.2.0",
      "_view_name": "LayoutView",
      "align_content": null,
      "align_items": null,
      "align_self": null,
      "border": null,
      "bottom": null,
      "display": null,
      "flex": null,
      "flex_flow": null,
      "grid_area": null,
      "grid_auto_columns": null,
      "grid_auto_flow": null,
      "grid_auto_rows": null,
      "grid_column": null,
      "grid_gap": null,
      "grid_row": null,
      "grid_template_areas": null,
      "grid_template_columns": null,
      "grid_template_rows": null,
      "height": null,
      "justify_content": null,
      "justify_items": null,
      "left": null,
      "margin": null,
      "max_height": null,
      "max_width": null,
      "min_height": null,
      "min_width": null,
      "object_fit": null,
      "object_position": null,
      "order": null,
      "overflow": null,
      "overflow_x": null,
      "overflow_y": null,
      "padding": null,
      "right": null,
      "top": null,
      "visibility": null,
      "width": null
     }
    },
    "cfa63243721a42cdad542bfd8611bdad": {
     "model_module": "@jupyter-widgets/controls",
     "model_module_version": "1.5.0",
     "model_name": "HTMLModel",
     "state": {
      "_dom_classes": [],
      "_model_module": "@jupyter-widgets/controls",
      "_model_module_version": "1.5.0",
      "_model_name": "HTMLModel",
      "_view_count": null,
      "_view_module": "@jupyter-widgets/controls",
      "_view_module_version": "1.5.0",
      "_view_name": "HTMLView",
      "description": "",
      "description_tooltip": null,
      "layout": "IPY_MODEL_4fc2ed140ce94f5095274df48e0ae23f",
      "placeholder": "​",
      "style": "IPY_MODEL_e335fed33d604e84b2ed81a5d26f67cc",
      "value": " 5.94k/? [00:00&lt;00:00, 355kB/s]"
     }
    },
    "d13968afe1f64b218b6fc4c8a0d7a6a6": {
     "model_module": "@jupyter-widgets/controls",
     "model_module_version": "1.5.0",
     "model_name": "FloatProgressModel",
     "state": {
      "_dom_classes": [],
      "_model_module": "@jupyter-widgets/controls",
      "_model_module_version": "1.5.0",
      "_model_name": "FloatProgressModel",
      "_view_count": null,
      "_view_module": "@jupyter-widgets/controls",
      "_view_module_version": "1.5.0",
      "_view_name": "ProgressView",
      "bar_style": "success",
      "description": "",
      "description_tooltip": null,
      "layout": "IPY_MODEL_7f2691f161a149ab97cd1554765a8b6f",
      "max": 1,
      "min": 0,
      "orientation": "horizontal",
      "style": "IPY_MODEL_feb9200dafa84c0c8c1dcee6a9923905",
      "value": 1
     }
    },
    "d1cc078a756b41f28ba55733f6400a9b": {
     "model_module": "@jupyter-widgets/controls",
     "model_module_version": "1.5.0",
     "model_name": "HTMLModel",
     "state": {
      "_dom_classes": [],
      "_model_module": "@jupyter-widgets/controls",
      "_model_module_version": "1.5.0",
      "_model_name": "HTMLModel",
      "_view_count": null,
      "_view_module": "@jupyter-widgets/controls",
      "_view_module_version": "1.5.0",
      "_view_name": "HTMLView",
      "description": "",
      "description_tooltip": null,
      "layout": "IPY_MODEL_bcdf506d924947a485fd740cf04235ff",
      "placeholder": "​",
      "style": "IPY_MODEL_0029d661b6a241698bebe0cec4d09d10",
      "value": "Downloading builder script: "
     }
    },
    "d2f180c174a04324a1e1c18380f3dbda": {
     "model_module": "@jupyter-widgets/controls",
     "model_module_version": "1.5.0",
     "model_name": "ProgressStyleModel",
     "state": {
      "_model_module": "@jupyter-widgets/controls",
      "_model_module_version": "1.5.0",
      "_model_name": "ProgressStyleModel",
      "_view_count": null,
      "_view_module": "@jupyter-widgets/base",
      "_view_module_version": "1.2.0",
      "_view_name": "StyleView",
      "bar_color": null,
      "description_width": ""
     }
    },
    "d3c85136d33245eb9161da29813ebb3a": {
     "model_module": "@jupyter-widgets/controls",
     "model_module_version": "1.5.0",
     "model_name": "ProgressStyleModel",
     "state": {
      "_model_module": "@jupyter-widgets/controls",
      "_model_module_version": "1.5.0",
      "_model_name": "ProgressStyleModel",
      "_view_count": null,
      "_view_module": "@jupyter-widgets/base",
      "_view_module_version": "1.2.0",
      "_view_name": "StyleView",
      "bar_color": null,
      "description_width": ""
     }
    },
    "d3cae076bad14bcda4f6a6831c60750e": {
     "model_module": "@jupyter-widgets/controls",
     "model_module_version": "1.5.0",
     "model_name": "ProgressStyleModel",
     "state": {
      "_model_module": "@jupyter-widgets/controls",
      "_model_module_version": "1.5.0",
      "_model_name": "ProgressStyleModel",
      "_view_count": null,
      "_view_module": "@jupyter-widgets/base",
      "_view_module_version": "1.2.0",
      "_view_name": "StyleView",
      "bar_color": null,
      "description_width": ""
     }
    },
    "d3d4529aabc345b8aa90d30a6a560beb": {
     "model_module": "@jupyter-widgets/controls",
     "model_module_version": "1.5.0",
     "model_name": "HBoxModel",
     "state": {
      "_dom_classes": [],
      "_model_module": "@jupyter-widgets/controls",
      "_model_module_version": "1.5.0",
      "_model_name": "HBoxModel",
      "_view_count": null,
      "_view_module": "@jupyter-widgets/controls",
      "_view_module_version": "1.5.0",
      "_view_name": "HBoxView",
      "box_style": "",
      "children": [
       "IPY_MODEL_9a3cf754c2824717b95153ef15d0f463",
       "IPY_MODEL_001812f25ce54915b7d2b267a8bff891",
       "IPY_MODEL_37449b9029a04cbba246199d6382755e"
      ],
      "layout": "IPY_MODEL_ba6e52d8bbe048ed949afc351159a6ba"
     }
    },
    "d4970c426cc34d6ab51905efb168670b": {
     "model_module": "@jupyter-widgets/controls",
     "model_module_version": "1.5.0",
     "model_name": "DescriptionStyleModel",
     "state": {
      "_model_module": "@jupyter-widgets/controls",
      "_model_module_version": "1.5.0",
      "_model_name": "DescriptionStyleModel",
      "_view_count": null,
      "_view_module": "@jupyter-widgets/base",
      "_view_module_version": "1.2.0",
      "_view_name": "StyleView",
      "description_width": ""
     }
    },
    "d578ff67cb794a2caaad8d8d0dc380ac": {
     "model_module": "@jupyter-widgets/controls",
     "model_module_version": "1.5.0",
     "model_name": "DescriptionStyleModel",
     "state": {
      "_model_module": "@jupyter-widgets/controls",
      "_model_module_version": "1.5.0",
      "_model_name": "DescriptionStyleModel",
      "_view_count": null,
      "_view_module": "@jupyter-widgets/base",
      "_view_module_version": "1.2.0",
      "_view_name": "StyleView",
      "description_width": ""
     }
    },
    "d5f2b5f93b394976bb0bae24f32cdaa2": {
     "model_module": "@jupyter-widgets/controls",
     "model_module_version": "1.5.0",
     "model_name": "FloatProgressModel",
     "state": {
      "_dom_classes": [],
      "_model_module": "@jupyter-widgets/controls",
      "_model_module_version": "1.5.0",
      "_model_name": "FloatProgressModel",
      "_view_count": null,
      "_view_module": "@jupyter-widgets/controls",
      "_view_module_version": "1.5.0",
      "_view_name": "ProgressView",
      "bar_style": "success",
      "description": "",
      "description_tooltip": null,
      "layout": "IPY_MODEL_0ec2c0cc91c74721b7daa3921be62857",
      "max": 681,
      "min": 0,
      "orientation": "horizontal",
      "style": "IPY_MODEL_ffb2309c939d439996d31b422730a74b",
      "value": 681
     }
    },
    "d781576f276e4d4fbb3117296995c725": {
     "model_module": "@jupyter-widgets/controls",
     "model_module_version": "1.5.0",
     "model_name": "DescriptionStyleModel",
     "state": {
      "_model_module": "@jupyter-widgets/controls",
      "_model_module_version": "1.5.0",
      "_model_name": "DescriptionStyleModel",
      "_view_count": null,
      "_view_module": "@jupyter-widgets/base",
      "_view_module_version": "1.2.0",
      "_view_name": "StyleView",
      "description_width": ""
     }
    },
    "d795493cc99047369efbc0435c8a456c": {
     "model_module": "@jupyter-widgets/controls",
     "model_module_version": "1.5.0",
     "model_name": "DescriptionStyleModel",
     "state": {
      "_model_module": "@jupyter-widgets/controls",
      "_model_module_version": "1.5.0",
      "_model_name": "DescriptionStyleModel",
      "_view_count": null,
      "_view_module": "@jupyter-widgets/base",
      "_view_module_version": "1.2.0",
      "_view_name": "StyleView",
      "description_width": ""
     }
    },
    "d8528d6644a44f37a208b210542fdcf2": {
     "model_module": "@jupyter-widgets/base",
     "model_module_version": "1.2.0",
     "model_name": "LayoutModel",
     "state": {
      "_model_module": "@jupyter-widgets/base",
      "_model_module_version": "1.2.0",
      "_model_name": "LayoutModel",
      "_view_count": null,
      "_view_module": "@jupyter-widgets/base",
      "_view_module_version": "1.2.0",
      "_view_name": "LayoutView",
      "align_content": null,
      "align_items": null,
      "align_self": null,
      "border": null,
      "bottom": null,
      "display": null,
      "flex": null,
      "flex_flow": null,
      "grid_area": null,
      "grid_auto_columns": null,
      "grid_auto_flow": null,
      "grid_auto_rows": null,
      "grid_column": null,
      "grid_gap": null,
      "grid_row": null,
      "grid_template_areas": null,
      "grid_template_columns": null,
      "grid_template_rows": null,
      "height": null,
      "justify_content": null,
      "justify_items": null,
      "left": null,
      "margin": null,
      "max_height": null,
      "max_width": null,
      "min_height": null,
      "min_width": null,
      "object_fit": null,
      "object_position": null,
      "order": null,
      "overflow": null,
      "overflow_x": null,
      "overflow_y": null,
      "padding": null,
      "right": null,
      "top": null,
      "visibility": null,
      "width": null
     }
    },
    "d8c89cec866f48c481d7ac29dbda7f82": {
     "model_module": "@jupyter-widgets/base",
     "model_module_version": "1.2.0",
     "model_name": "LayoutModel",
     "state": {
      "_model_module": "@jupyter-widgets/base",
      "_model_module_version": "1.2.0",
      "_model_name": "LayoutModel",
      "_view_count": null,
      "_view_module": "@jupyter-widgets/base",
      "_view_module_version": "1.2.0",
      "_view_name": "LayoutView",
      "align_content": null,
      "align_items": null,
      "align_self": null,
      "border": null,
      "bottom": null,
      "display": null,
      "flex": null,
      "flex_flow": null,
      "grid_area": null,
      "grid_auto_columns": null,
      "grid_auto_flow": null,
      "grid_auto_rows": null,
      "grid_column": null,
      "grid_gap": null,
      "grid_row": null,
      "grid_template_areas": null,
      "grid_template_columns": null,
      "grid_template_rows": null,
      "height": null,
      "justify_content": null,
      "justify_items": null,
      "left": null,
      "margin": null,
      "max_height": null,
      "max_width": null,
      "min_height": null,
      "min_width": null,
      "object_fit": null,
      "object_position": null,
      "order": null,
      "overflow": null,
      "overflow_x": null,
      "overflow_y": null,
      "padding": null,
      "right": null,
      "top": null,
      "visibility": null,
      "width": "20px"
     }
    },
    "dcbc52277b8943e18572f8e3fdc265a4": {
     "model_module": "@jupyter-widgets/controls",
     "model_module_version": "1.5.0",
     "model_name": "DescriptionStyleModel",
     "state": {
      "_model_module": "@jupyter-widgets/controls",
      "_model_module_version": "1.5.0",
      "_model_name": "DescriptionStyleModel",
      "_view_count": null,
      "_view_module": "@jupyter-widgets/base",
      "_view_module_version": "1.2.0",
      "_view_name": "StyleView",
      "description_width": ""
     }
    },
    "dde8df0c4d7e49478d847ba984323bbb": {
     "model_module": "@jupyter-widgets/controls",
     "model_module_version": "1.5.0",
     "model_name": "ProgressStyleModel",
     "state": {
      "_model_module": "@jupyter-widgets/controls",
      "_model_module_version": "1.5.0",
      "_model_name": "ProgressStyleModel",
      "_view_count": null,
      "_view_module": "@jupyter-widgets/base",
      "_view_module_version": "1.2.0",
      "_view_name": "StyleView",
      "bar_color": null,
      "description_width": ""
     }
    },
    "de5245f6342c407791c045f7f8ede773": {
     "model_module": "@jupyter-widgets/controls",
     "model_module_version": "1.5.0",
     "model_name": "DescriptionStyleModel",
     "state": {
      "_model_module": "@jupyter-widgets/controls",
      "_model_module_version": "1.5.0",
      "_model_name": "DescriptionStyleModel",
      "_view_count": null,
      "_view_module": "@jupyter-widgets/base",
      "_view_module_version": "1.2.0",
      "_view_name": "StyleView",
      "description_width": ""
     }
    },
    "df66e04598e342ce9c8ddb93ad0a40e8": {
     "model_module": "@jupyter-widgets/controls",
     "model_module_version": "1.5.0",
     "model_name": "DescriptionStyleModel",
     "state": {
      "_model_module": "@jupyter-widgets/controls",
      "_model_module_version": "1.5.0",
      "_model_name": "DescriptionStyleModel",
      "_view_count": null,
      "_view_module": "@jupyter-widgets/base",
      "_view_module_version": "1.2.0",
      "_view_name": "StyleView",
      "description_width": ""
     }
    },
    "dfef9e5ab710426dab09aae105d572f8": {
     "model_module": "@jupyter-widgets/base",
     "model_module_version": "1.2.0",
     "model_name": "LayoutModel",
     "state": {
      "_model_module": "@jupyter-widgets/base",
      "_model_module_version": "1.2.0",
      "_model_name": "LayoutModel",
      "_view_count": null,
      "_view_module": "@jupyter-widgets/base",
      "_view_module_version": "1.2.0",
      "_view_name": "LayoutView",
      "align_content": null,
      "align_items": null,
      "align_self": null,
      "border": null,
      "bottom": null,
      "display": null,
      "flex": null,
      "flex_flow": null,
      "grid_area": null,
      "grid_auto_columns": null,
      "grid_auto_flow": null,
      "grid_auto_rows": null,
      "grid_column": null,
      "grid_gap": null,
      "grid_row": null,
      "grid_template_areas": null,
      "grid_template_columns": null,
      "grid_template_rows": null,
      "height": null,
      "justify_content": null,
      "justify_items": null,
      "left": null,
      "margin": null,
      "max_height": null,
      "max_width": null,
      "min_height": null,
      "min_width": null,
      "object_fit": null,
      "object_position": null,
      "order": null,
      "overflow": null,
      "overflow_x": null,
      "overflow_y": null,
      "padding": null,
      "right": null,
      "top": null,
      "visibility": null,
      "width": null
     }
    },
    "e2a673e38f894a78ab6f2a568b9566b4": {
     "model_module": "@jupyter-widgets/base",
     "model_module_version": "1.2.0",
     "model_name": "LayoutModel",
     "state": {
      "_model_module": "@jupyter-widgets/base",
      "_model_module_version": "1.2.0",
      "_model_name": "LayoutModel",
      "_view_count": null,
      "_view_module": "@jupyter-widgets/base",
      "_view_module_version": "1.2.0",
      "_view_name": "LayoutView",
      "align_content": null,
      "align_items": null,
      "align_self": null,
      "border": null,
      "bottom": null,
      "display": null,
      "flex": null,
      "flex_flow": null,
      "grid_area": null,
      "grid_auto_columns": null,
      "grid_auto_flow": null,
      "grid_auto_rows": null,
      "grid_column": null,
      "grid_gap": null,
      "grid_row": null,
      "grid_template_areas": null,
      "grid_template_columns": null,
      "grid_template_rows": null,
      "height": null,
      "justify_content": null,
      "justify_items": null,
      "left": null,
      "margin": null,
      "max_height": null,
      "max_width": null,
      "min_height": null,
      "min_width": null,
      "object_fit": null,
      "object_position": null,
      "order": null,
      "overflow": null,
      "overflow_x": null,
      "overflow_y": null,
      "padding": null,
      "right": null,
      "top": null,
      "visibility": null,
      "width": null
     }
    },
    "e335fed33d604e84b2ed81a5d26f67cc": {
     "model_module": "@jupyter-widgets/controls",
     "model_module_version": "1.5.0",
     "model_name": "DescriptionStyleModel",
     "state": {
      "_model_module": "@jupyter-widgets/controls",
      "_model_module_version": "1.5.0",
      "_model_name": "DescriptionStyleModel",
      "_view_count": null,
      "_view_module": "@jupyter-widgets/base",
      "_view_module_version": "1.2.0",
      "_view_name": "StyleView",
      "description_width": ""
     }
    },
    "e3983d416d13496aada184cdba109f41": {
     "model_module": "@jupyter-widgets/controls",
     "model_module_version": "1.5.0",
     "model_name": "FloatProgressModel",
     "state": {
      "_dom_classes": [],
      "_model_module": "@jupyter-widgets/controls",
      "_model_module_version": "1.5.0",
      "_model_name": "FloatProgressModel",
      "_view_count": null,
      "_view_module": "@jupyter-widgets/controls",
      "_view_module_version": "1.5.0",
      "_view_name": "ProgressView",
      "bar_style": "success",
      "description": "",
      "description_tooltip": null,
      "layout": "IPY_MODEL_f6a306bab1154195a4349adce0e3f804",
      "max": 1,
      "min": 0,
      "orientation": "horizontal",
      "style": "IPY_MODEL_a78d8f67a77148c1af7de9fff78523be",
      "value": 1
     }
    },
    "e6fbc3a5d17d4602a5c55ac58b901c44": {
     "model_module": "@jupyter-widgets/base",
     "model_module_version": "1.2.0",
     "model_name": "LayoutModel",
     "state": {
      "_model_module": "@jupyter-widgets/base",
      "_model_module_version": "1.2.0",
      "_model_name": "LayoutModel",
      "_view_count": null,
      "_view_module": "@jupyter-widgets/base",
      "_view_module_version": "1.2.0",
      "_view_name": "LayoutView",
      "align_content": null,
      "align_items": null,
      "align_self": null,
      "border": null,
      "bottom": null,
      "display": null,
      "flex": null,
      "flex_flow": null,
      "grid_area": null,
      "grid_auto_columns": null,
      "grid_auto_flow": null,
      "grid_auto_rows": null,
      "grid_column": null,
      "grid_gap": null,
      "grid_row": null,
      "grid_template_areas": null,
      "grid_template_columns": null,
      "grid_template_rows": null,
      "height": null,
      "justify_content": null,
      "justify_items": null,
      "left": null,
      "margin": null,
      "max_height": null,
      "max_width": null,
      "min_height": null,
      "min_width": null,
      "object_fit": null,
      "object_position": null,
      "order": null,
      "overflow": null,
      "overflow_x": null,
      "overflow_y": null,
      "padding": null,
      "right": null,
      "top": null,
      "visibility": null,
      "width": null
     }
    },
    "e84fcb7c93364e83b02df3daaad6526b": {
     "model_module": "@jupyter-widgets/controls",
     "model_module_version": "1.5.0",
     "model_name": "DescriptionStyleModel",
     "state": {
      "_model_module": "@jupyter-widgets/controls",
      "_model_module_version": "1.5.0",
      "_model_name": "DescriptionStyleModel",
      "_view_count": null,
      "_view_module": "@jupyter-widgets/base",
      "_view_module_version": "1.2.0",
      "_view_name": "StyleView",
      "description_width": ""
     }
    },
    "e97032b9a31e4eb6a87596033be1c623": {
     "model_module": "@jupyter-widgets/base",
     "model_module_version": "1.2.0",
     "model_name": "LayoutModel",
     "state": {
      "_model_module": "@jupyter-widgets/base",
      "_model_module_version": "1.2.0",
      "_model_name": "LayoutModel",
      "_view_count": null,
      "_view_module": "@jupyter-widgets/base",
      "_view_module_version": "1.2.0",
      "_view_name": "LayoutView",
      "align_content": null,
      "align_items": null,
      "align_self": null,
      "border": null,
      "bottom": null,
      "display": null,
      "flex": null,
      "flex_flow": null,
      "grid_area": null,
      "grid_auto_columns": null,
      "grid_auto_flow": null,
      "grid_auto_rows": null,
      "grid_column": null,
      "grid_gap": null,
      "grid_row": null,
      "grid_template_areas": null,
      "grid_template_columns": null,
      "grid_template_rows": null,
      "height": null,
      "justify_content": null,
      "justify_items": null,
      "left": null,
      "margin": null,
      "max_height": null,
      "max_width": null,
      "min_height": null,
      "min_width": null,
      "object_fit": null,
      "object_position": null,
      "order": null,
      "overflow": null,
      "overflow_x": null,
      "overflow_y": null,
      "padding": null,
      "right": null,
      "top": null,
      "visibility": null,
      "width": null
     }
    },
    "e9d334821fea4e3ca2bd44de1ef70d86": {
     "model_module": "@jupyter-widgets/controls",
     "model_module_version": "1.5.0",
     "model_name": "DescriptionStyleModel",
     "state": {
      "_model_module": "@jupyter-widgets/controls",
      "_model_module_version": "1.5.0",
      "_model_name": "DescriptionStyleModel",
      "_view_count": null,
      "_view_module": "@jupyter-widgets/base",
      "_view_module_version": "1.2.0",
      "_view_name": "StyleView",
      "description_width": ""
     }
    },
    "eac6032f3380453494e8984a14bb3d36": {
     "model_module": "@jupyter-widgets/controls",
     "model_module_version": "1.5.0",
     "model_name": "FloatProgressModel",
     "state": {
      "_dom_classes": [],
      "_model_module": "@jupyter-widgets/controls",
      "_model_module_version": "1.5.0",
      "_model_name": "FloatProgressModel",
      "_view_count": null,
      "_view_module": "@jupyter-widgets/controls",
      "_view_module_version": "1.5.0",
      "_view_name": "ProgressView",
      "bar_style": "success",
      "description": "",
      "description_tooltip": null,
      "layout": "IPY_MODEL_b3637603943248edac78b66f7c3bba81",
      "max": 1,
      "min": 0,
      "orientation": "horizontal",
      "style": "IPY_MODEL_c38820a8d75340a19d0365bc7072b8e2",
      "value": 1
     }
    },
    "ead656e0caef4fa7993916462eb4eb86": {
     "model_module": "@jupyter-widgets/base",
     "model_module_version": "1.2.0",
     "model_name": "LayoutModel",
     "state": {
      "_model_module": "@jupyter-widgets/base",
      "_model_module_version": "1.2.0",
      "_model_name": "LayoutModel",
      "_view_count": null,
      "_view_module": "@jupyter-widgets/base",
      "_view_module_version": "1.2.0",
      "_view_name": "LayoutView",
      "align_content": null,
      "align_items": null,
      "align_self": null,
      "border": null,
      "bottom": null,
      "display": null,
      "flex": null,
      "flex_flow": null,
      "grid_area": null,
      "grid_auto_columns": null,
      "grid_auto_flow": null,
      "grid_auto_rows": null,
      "grid_column": null,
      "grid_gap": null,
      "grid_row": null,
      "grid_template_areas": null,
      "grid_template_columns": null,
      "grid_template_rows": null,
      "height": null,
      "justify_content": null,
      "justify_items": null,
      "left": null,
      "margin": null,
      "max_height": null,
      "max_width": null,
      "min_height": null,
      "min_width": null,
      "object_fit": null,
      "object_position": null,
      "order": null,
      "overflow": null,
      "overflow_x": null,
      "overflow_y": null,
      "padding": null,
      "right": null,
      "top": null,
      "visibility": null,
      "width": null
     }
    },
    "ec08b20a8dc74d23a6731e92eea491fd": {
     "model_module": "@jupyter-widgets/controls",
     "model_module_version": "1.5.0",
     "model_name": "DescriptionStyleModel",
     "state": {
      "_model_module": "@jupyter-widgets/controls",
      "_model_module_version": "1.5.0",
      "_model_name": "DescriptionStyleModel",
      "_view_count": null,
      "_view_module": "@jupyter-widgets/base",
      "_view_module_version": "1.2.0",
      "_view_name": "StyleView",
      "description_width": ""
     }
    },
    "ed369f307f114cefbf77b9a0d1371841": {
     "model_module": "@jupyter-widgets/base",
     "model_module_version": "1.2.0",
     "model_name": "LayoutModel",
     "state": {
      "_model_module": "@jupyter-widgets/base",
      "_model_module_version": "1.2.0",
      "_model_name": "LayoutModel",
      "_view_count": null,
      "_view_module": "@jupyter-widgets/base",
      "_view_module_version": "1.2.0",
      "_view_name": "LayoutView",
      "align_content": null,
      "align_items": null,
      "align_self": null,
      "border": null,
      "bottom": null,
      "display": null,
      "flex": null,
      "flex_flow": null,
      "grid_area": null,
      "grid_auto_columns": null,
      "grid_auto_flow": null,
      "grid_auto_rows": null,
      "grid_column": null,
      "grid_gap": null,
      "grid_row": null,
      "grid_template_areas": null,
      "grid_template_columns": null,
      "grid_template_rows": null,
      "height": null,
      "justify_content": null,
      "justify_items": null,
      "left": null,
      "margin": null,
      "max_height": null,
      "max_width": null,
      "min_height": null,
      "min_width": null,
      "object_fit": null,
      "object_position": null,
      "order": null,
      "overflow": null,
      "overflow_x": null,
      "overflow_y": null,
      "padding": null,
      "right": null,
      "top": null,
      "visibility": null,
      "width": null
     }
    },
    "edf44de5bc8b456ab2145bcf2b46b33f": {
     "model_module": "@jupyter-widgets/base",
     "model_module_version": "1.2.0",
     "model_name": "LayoutModel",
     "state": {
      "_model_module": "@jupyter-widgets/base",
      "_model_module_version": "1.2.0",
      "_model_name": "LayoutModel",
      "_view_count": null,
      "_view_module": "@jupyter-widgets/base",
      "_view_module_version": "1.2.0",
      "_view_name": "LayoutView",
      "align_content": null,
      "align_items": null,
      "align_self": null,
      "border": null,
      "bottom": null,
      "display": null,
      "flex": null,
      "flex_flow": null,
      "grid_area": null,
      "grid_auto_columns": null,
      "grid_auto_flow": null,
      "grid_auto_rows": null,
      "grid_column": null,
      "grid_gap": null,
      "grid_row": null,
      "grid_template_areas": null,
      "grid_template_columns": null,
      "grid_template_rows": null,
      "height": null,
      "justify_content": null,
      "justify_items": null,
      "left": null,
      "margin": null,
      "max_height": null,
      "max_width": null,
      "min_height": null,
      "min_width": null,
      "object_fit": null,
      "object_position": null,
      "order": null,
      "overflow": null,
      "overflow_x": null,
      "overflow_y": null,
      "padding": null,
      "right": null,
      "top": null,
      "visibility": null,
      "width": null
     }
    },
    "eec11aa2ee5440bf97dc9f02f227ecee": {
     "model_module": "@jupyter-widgets/controls",
     "model_module_version": "1.5.0",
     "model_name": "ProgressStyleModel",
     "state": {
      "_model_module": "@jupyter-widgets/controls",
      "_model_module_version": "1.5.0",
      "_model_name": "ProgressStyleModel",
      "_view_count": null,
      "_view_module": "@jupyter-widgets/base",
      "_view_module_version": "1.2.0",
      "_view_name": "StyleView",
      "bar_color": null,
      "description_width": ""
     }
    },
    "efb01d7fab6344e39d53454c436a850e": {
     "model_module": "@jupyter-widgets/controls",
     "model_module_version": "1.5.0",
     "model_name": "DescriptionStyleModel",
     "state": {
      "_model_module": "@jupyter-widgets/controls",
      "_model_module_version": "1.5.0",
      "_model_name": "DescriptionStyleModel",
      "_view_count": null,
      "_view_module": "@jupyter-widgets/base",
      "_view_module_version": "1.2.0",
      "_view_name": "StyleView",
      "description_width": ""
     }
    },
    "efc148aafc2d41d9aa820e7241f51e4d": {
     "model_module": "@jupyter-widgets/controls",
     "model_module_version": "1.5.0",
     "model_name": "HTMLModel",
     "state": {
      "_dom_classes": [],
      "_model_module": "@jupyter-widgets/controls",
      "_model_module_version": "1.5.0",
      "_model_name": "HTMLModel",
      "_view_count": null,
      "_view_module": "@jupyter-widgets/controls",
      "_view_module_version": "1.5.0",
      "_view_name": "HTMLView",
      "description": "",
      "description_tooltip": null,
      "layout": "IPY_MODEL_39ce7519742246ce867c98bbc0045583",
      "placeholder": "​",
      "style": "IPY_MODEL_d4970c426cc34d6ab51905efb168670b",
      "value": "Downloading extra modules: "
     }
    },
    "f074dff27f774fab9ebd00db60aa6eb8": {
     "model_module": "@jupyter-widgets/base",
     "model_module_version": "1.2.0",
     "model_name": "LayoutModel",
     "state": {
      "_model_module": "@jupyter-widgets/base",
      "_model_module_version": "1.2.0",
      "_model_name": "LayoutModel",
      "_view_count": null,
      "_view_module": "@jupyter-widgets/base",
      "_view_module_version": "1.2.0",
      "_view_name": "LayoutView",
      "align_content": null,
      "align_items": null,
      "align_self": null,
      "border": null,
      "bottom": null,
      "display": null,
      "flex": null,
      "flex_flow": null,
      "grid_area": null,
      "grid_auto_columns": null,
      "grid_auto_flow": null,
      "grid_auto_rows": null,
      "grid_column": null,
      "grid_gap": null,
      "grid_row": null,
      "grid_template_areas": null,
      "grid_template_columns": null,
      "grid_template_rows": null,
      "height": null,
      "justify_content": null,
      "justify_items": null,
      "left": null,
      "margin": null,
      "max_height": null,
      "max_width": null,
      "min_height": null,
      "min_width": null,
      "object_fit": null,
      "object_position": null,
      "order": null,
      "overflow": null,
      "overflow_x": null,
      "overflow_y": null,
      "padding": null,
      "right": null,
      "top": null,
      "visibility": null,
      "width": null
     }
    },
    "f1131426fd804828b2b1ec91313f8234": {
     "model_module": "@jupyter-widgets/controls",
     "model_module_version": "1.5.0",
     "model_name": "DescriptionStyleModel",
     "state": {
      "_model_module": "@jupyter-widgets/controls",
      "_model_module_version": "1.5.0",
      "_model_name": "DescriptionStyleModel",
      "_view_count": null,
      "_view_module": "@jupyter-widgets/base",
      "_view_module_version": "1.2.0",
      "_view_name": "StyleView",
      "description_width": ""
     }
    },
    "f29e10ec0a6540f28619380851812f75": {
     "model_module": "@jupyter-widgets/base",
     "model_module_version": "1.2.0",
     "model_name": "LayoutModel",
     "state": {
      "_model_module": "@jupyter-widgets/base",
      "_model_module_version": "1.2.0",
      "_model_name": "LayoutModel",
      "_view_count": null,
      "_view_module": "@jupyter-widgets/base",
      "_view_module_version": "1.2.0",
      "_view_name": "LayoutView",
      "align_content": null,
      "align_items": null,
      "align_self": null,
      "border": null,
      "bottom": null,
      "display": null,
      "flex": null,
      "flex_flow": null,
      "grid_area": null,
      "grid_auto_columns": null,
      "grid_auto_flow": null,
      "grid_auto_rows": null,
      "grid_column": null,
      "grid_gap": null,
      "grid_row": null,
      "grid_template_areas": null,
      "grid_template_columns": null,
      "grid_template_rows": null,
      "height": null,
      "justify_content": null,
      "justify_items": null,
      "left": null,
      "margin": null,
      "max_height": null,
      "max_width": null,
      "min_height": null,
      "min_width": null,
      "object_fit": null,
      "object_position": null,
      "order": null,
      "overflow": null,
      "overflow_x": null,
      "overflow_y": null,
      "padding": null,
      "right": null,
      "top": null,
      "visibility": null,
      "width": null
     }
    },
    "f35280009f7949c0bd5538715c993a55": {
     "model_module": "@jupyter-widgets/controls",
     "model_module_version": "1.5.0",
     "model_name": "ProgressStyleModel",
     "state": {
      "_model_module": "@jupyter-widgets/controls",
      "_model_module_version": "1.5.0",
      "_model_name": "ProgressStyleModel",
      "_view_count": null,
      "_view_module": "@jupyter-widgets/base",
      "_view_module_version": "1.2.0",
      "_view_name": "StyleView",
      "bar_color": null,
      "description_width": ""
     }
    },
    "f3a1fb548a4a4105848979da00e70aa4": {
     "model_module": "@jupyter-widgets/base",
     "model_module_version": "1.2.0",
     "model_name": "LayoutModel",
     "state": {
      "_model_module": "@jupyter-widgets/base",
      "_model_module_version": "1.2.0",
      "_model_name": "LayoutModel",
      "_view_count": null,
      "_view_module": "@jupyter-widgets/base",
      "_view_module_version": "1.2.0",
      "_view_name": "LayoutView",
      "align_content": null,
      "align_items": null,
      "align_self": null,
      "border": null,
      "bottom": null,
      "display": null,
      "flex": null,
      "flex_flow": null,
      "grid_area": null,
      "grid_auto_columns": null,
      "grid_auto_flow": null,
      "grid_auto_rows": null,
      "grid_column": null,
      "grid_gap": null,
      "grid_row": null,
      "grid_template_areas": null,
      "grid_template_columns": null,
      "grid_template_rows": null,
      "height": null,
      "justify_content": null,
      "justify_items": null,
      "left": null,
      "margin": null,
      "max_height": null,
      "max_width": null,
      "min_height": null,
      "min_width": null,
      "object_fit": null,
      "object_position": null,
      "order": null,
      "overflow": null,
      "overflow_x": null,
      "overflow_y": null,
      "padding": null,
      "right": null,
      "top": null,
      "visibility": null,
      "width": null
     }
    },
    "f3f203b78b47495d9419d7d79d790bc8": {
     "model_module": "@jupyter-widgets/controls",
     "model_module_version": "1.5.0",
     "model_name": "HTMLModel",
     "state": {
      "_dom_classes": [],
      "_model_module": "@jupyter-widgets/controls",
      "_model_module_version": "1.5.0",
      "_model_name": "HTMLModel",
      "_view_count": null,
      "_view_module": "@jupyter-widgets/controls",
      "_view_module_version": "1.5.0",
      "_view_name": "HTMLView",
      "description": "",
      "description_tooltip": null,
      "layout": "IPY_MODEL_49541f93ccbe4c019ccab3ce0559d96e",
      "placeholder": "​",
      "style": "IPY_MODEL_abc7cd8bb8ce4fbbaec6d5670c6bda5d",
      "value": "model.safetensors: 100%"
     }
    },
    "f49162f351154d77bd05848b08b85380": {
     "model_module": "@jupyter-widgets/controls",
     "model_module_version": "1.5.0",
     "model_name": "DescriptionStyleModel",
     "state": {
      "_model_module": "@jupyter-widgets/controls",
      "_model_module_version": "1.5.0",
      "_model_name": "DescriptionStyleModel",
      "_view_count": null,
      "_view_module": "@jupyter-widgets/base",
      "_view_module_version": "1.2.0",
      "_view_name": "StyleView",
      "description_width": ""
     }
    },
    "f4c2d3ded7b543bfa7c096e66863a6ab": {
     "model_module": "@jupyter-widgets/controls",
     "model_module_version": "1.5.0",
     "model_name": "HTMLModel",
     "state": {
      "_dom_classes": [],
      "_model_module": "@jupyter-widgets/controls",
      "_model_module_version": "1.5.0",
      "_model_name": "HTMLModel",
      "_view_count": null,
      "_view_module": "@jupyter-widgets/controls",
      "_view_module_version": "1.5.0",
      "_view_name": "HTMLView",
      "description": "",
      "description_tooltip": null,
      "layout": "IPY_MODEL_34331959fa254fc0b3b637b78140f8ee",
      "placeholder": "​",
      "style": "IPY_MODEL_971940c9d5ab40ee86fd6067788d5d47",
      "value": " 681/681 [00:00&lt;00:00, 49.8kB/s]"
     }
    },
    "f6a306bab1154195a4349adce0e3f804": {
     "model_module": "@jupyter-widgets/base",
     "model_module_version": "1.2.0",
     "model_name": "LayoutModel",
     "state": {
      "_model_module": "@jupyter-widgets/base",
      "_model_module_version": "1.2.0",
      "_model_name": "LayoutModel",
      "_view_count": null,
      "_view_module": "@jupyter-widgets/base",
      "_view_module_version": "1.2.0",
      "_view_name": "LayoutView",
      "align_content": null,
      "align_items": null,
      "align_self": null,
      "border": null,
      "bottom": null,
      "display": null,
      "flex": null,
      "flex_flow": null,
      "grid_area": null,
      "grid_auto_columns": null,
      "grid_auto_flow": null,
      "grid_auto_rows": null,
      "grid_column": null,
      "grid_gap": null,
      "grid_row": null,
      "grid_template_areas": null,
      "grid_template_columns": null,
      "grid_template_rows": null,
      "height": null,
      "justify_content": null,
      "justify_items": null,
      "left": null,
      "margin": null,
      "max_height": null,
      "max_width": null,
      "min_height": null,
      "min_width": null,
      "object_fit": null,
      "object_position": null,
      "order": null,
      "overflow": null,
      "overflow_x": null,
      "overflow_y": null,
      "padding": null,
      "right": null,
      "top": null,
      "visibility": null,
      "width": "20px"
     }
    },
    "f6f08745a3fc470a96abafced1d08f18": {
     "model_module": "@jupyter-widgets/controls",
     "model_module_version": "1.5.0",
     "model_name": "HBoxModel",
     "state": {
      "_dom_classes": [],
      "_model_module": "@jupyter-widgets/controls",
      "_model_module_version": "1.5.0",
      "_model_name": "HBoxModel",
      "_view_count": null,
      "_view_module": "@jupyter-widgets/controls",
      "_view_module_version": "1.5.0",
      "_view_name": "HBoxView",
      "box_style": "",
      "children": [
       "IPY_MODEL_2099d0be6d904aaf87198e8508bf69c5",
       "IPY_MODEL_eac6032f3380453494e8984a14bb3d36",
       "IPY_MODEL_2c51bcfeb6ae4b4ea2b372bbddc50d57"
      ],
      "layout": "IPY_MODEL_521b8d60ca6d41e78872091567df8863"
     }
    },
    "f97fe654dac249d3b4cc87e1df4fb23e": {
     "model_module": "@jupyter-widgets/controls",
     "model_module_version": "1.5.0",
     "model_name": "DescriptionStyleModel",
     "state": {
      "_model_module": "@jupyter-widgets/controls",
      "_model_module_version": "1.5.0",
      "_model_name": "DescriptionStyleModel",
      "_view_count": null,
      "_view_module": "@jupyter-widgets/base",
      "_view_module_version": "1.2.0",
      "_view_name": "StyleView",
      "description_width": ""
     }
    },
    "fad535105f4441b6b48ccd5d0016ba9a": {
     "model_module": "@jupyter-widgets/controls",
     "model_module_version": "1.5.0",
     "model_name": "HTMLModel",
     "state": {
      "_dom_classes": [],
      "_model_module": "@jupyter-widgets/controls",
      "_model_module_version": "1.5.0",
      "_model_name": "HTMLModel",
      "_view_count": null,
      "_view_module": "@jupyter-widgets/controls",
      "_view_module_version": "1.5.0",
      "_view_name": "HTMLView",
      "description": "",
      "description_tooltip": null,
      "layout": "IPY_MODEL_2622af8e0ff049aeb9107fa637df3224",
      "placeholder": "​",
      "style": "IPY_MODEL_dcbc52277b8943e18572f8e3fdc265a4",
      "value": " 48.0/48.0 [00:00&lt;00:00, 2.57kB/s]"
     }
    },
    "fb60f2804648420c9567367cc8af80f2": {
     "model_module": "@jupyter-widgets/controls",
     "model_module_version": "1.5.0",
     "model_name": "HTMLModel",
     "state": {
      "_dom_classes": [],
      "_model_module": "@jupyter-widgets/controls",
      "_model_module_version": "1.5.0",
      "_model_name": "HTMLModel",
      "_view_count": null,
      "_view_module": "@jupyter-widgets/controls",
      "_view_module_version": "1.5.0",
      "_view_name": "HTMLView",
      "description": "",
      "description_tooltip": null,
      "layout": "IPY_MODEL_f074dff27f774fab9ebd00db60aa6eb8",
      "placeholder": "​",
      "style": "IPY_MODEL_5c895ce5d02447f694356c0dfd1f7813",
      "value": " 4.20k/? [00:00&lt;00:00, 79.5kB/s]"
     }
    },
    "fb7e058f95dc4989b4c3f78a3ebd6409": {
     "model_module": "@jupyter-widgets/controls",
     "model_module_version": "1.5.0",
     "model_name": "ProgressStyleModel",
     "state": {
      "_model_module": "@jupyter-widgets/controls",
      "_model_module_version": "1.5.0",
      "_model_name": "ProgressStyleModel",
      "_view_count": null,
      "_view_module": "@jupyter-widgets/base",
      "_view_module_version": "1.2.0",
      "_view_name": "StyleView",
      "bar_color": null,
      "description_width": ""
     }
    },
    "fb7e05f55e7a48409eb802267751bd36": {
     "model_module": "@jupyter-widgets/base",
     "model_module_version": "1.2.0",
     "model_name": "LayoutModel",
     "state": {
      "_model_module": "@jupyter-widgets/base",
      "_model_module_version": "1.2.0",
      "_model_name": "LayoutModel",
      "_view_count": null,
      "_view_module": "@jupyter-widgets/base",
      "_view_module_version": "1.2.0",
      "_view_name": "LayoutView",
      "align_content": null,
      "align_items": null,
      "align_self": null,
      "border": null,
      "bottom": null,
      "display": null,
      "flex": null,
      "flex_flow": null,
      "grid_area": null,
      "grid_auto_columns": null,
      "grid_auto_flow": null,
      "grid_auto_rows": null,
      "grid_column": null,
      "grid_gap": null,
      "grid_row": null,
      "grid_template_areas": null,
      "grid_template_columns": null,
      "grid_template_rows": null,
      "height": null,
      "justify_content": null,
      "justify_items": null,
      "left": null,
      "margin": null,
      "max_height": null,
      "max_width": null,
      "min_height": null,
      "min_width": null,
      "object_fit": null,
      "object_position": null,
      "order": null,
      "overflow": null,
      "overflow_x": null,
      "overflow_y": null,
      "padding": null,
      "right": null,
      "top": null,
      "visibility": null,
      "width": "20px"
     }
    },
    "fd4920d874d44949a6c94bbf97c5ea69": {
     "model_module": "@jupyter-widgets/base",
     "model_module_version": "1.2.0",
     "model_name": "LayoutModel",
     "state": {
      "_model_module": "@jupyter-widgets/base",
      "_model_module_version": "1.2.0",
      "_model_name": "LayoutModel",
      "_view_count": null,
      "_view_module": "@jupyter-widgets/base",
      "_view_module_version": "1.2.0",
      "_view_name": "LayoutView",
      "align_content": null,
      "align_items": null,
      "align_self": null,
      "border": null,
      "bottom": null,
      "display": null,
      "flex": null,
      "flex_flow": null,
      "grid_area": null,
      "grid_auto_columns": null,
      "grid_auto_flow": null,
      "grid_auto_rows": null,
      "grid_column": null,
      "grid_gap": null,
      "grid_row": null,
      "grid_template_areas": null,
      "grid_template_columns": null,
      "grid_template_rows": null,
      "height": null,
      "justify_content": null,
      "justify_items": null,
      "left": null,
      "margin": null,
      "max_height": null,
      "max_width": null,
      "min_height": null,
      "min_width": null,
      "object_fit": null,
      "object_position": null,
      "order": null,
      "overflow": null,
      "overflow_x": null,
      "overflow_y": null,
      "padding": null,
      "right": null,
      "top": null,
      "visibility": null,
      "width": null
     }
    },
    "fd762fbf8dbb4a1da4a881d6895ee6b0": {
     "model_module": "@jupyter-widgets/base",
     "model_module_version": "1.2.0",
     "model_name": "LayoutModel",
     "state": {
      "_model_module": "@jupyter-widgets/base",
      "_model_module_version": "1.2.0",
      "_model_name": "LayoutModel",
      "_view_count": null,
      "_view_module": "@jupyter-widgets/base",
      "_view_module_version": "1.2.0",
      "_view_name": "LayoutView",
      "align_content": null,
      "align_items": null,
      "align_self": null,
      "border": null,
      "bottom": null,
      "display": null,
      "flex": null,
      "flex_flow": null,
      "grid_area": null,
      "grid_auto_columns": null,
      "grid_auto_flow": null,
      "grid_auto_rows": null,
      "grid_column": null,
      "grid_gap": null,
      "grid_row": null,
      "grid_template_areas": null,
      "grid_template_columns": null,
      "grid_template_rows": null,
      "height": null,
      "justify_content": null,
      "justify_items": null,
      "left": null,
      "margin": null,
      "max_height": null,
      "max_width": null,
      "min_height": null,
      "min_width": null,
      "object_fit": null,
      "object_position": null,
      "order": null,
      "overflow": null,
      "overflow_x": null,
      "overflow_y": null,
      "padding": null,
      "right": null,
      "top": null,
      "visibility": null,
      "width": null
     }
    },
    "fdf24205f28d411783d435e594cc8b21": {
     "model_module": "@jupyter-widgets/base",
     "model_module_version": "1.2.0",
     "model_name": "LayoutModel",
     "state": {
      "_model_module": "@jupyter-widgets/base",
      "_model_module_version": "1.2.0",
      "_model_name": "LayoutModel",
      "_view_count": null,
      "_view_module": "@jupyter-widgets/base",
      "_view_module_version": "1.2.0",
      "_view_name": "LayoutView",
      "align_content": null,
      "align_items": null,
      "align_self": null,
      "border": null,
      "bottom": null,
      "display": null,
      "flex": null,
      "flex_flow": null,
      "grid_area": null,
      "grid_auto_columns": null,
      "grid_auto_flow": null,
      "grid_auto_rows": null,
      "grid_column": null,
      "grid_gap": null,
      "grid_row": null,
      "grid_template_areas": null,
      "grid_template_columns": null,
      "grid_template_rows": null,
      "height": null,
      "justify_content": null,
      "justify_items": null,
      "left": null,
      "margin": null,
      "max_height": null,
      "max_width": null,
      "min_height": null,
      "min_width": null,
      "object_fit": null,
      "object_position": null,
      "order": null,
      "overflow": null,
      "overflow_x": null,
      "overflow_y": null,
      "padding": null,
      "right": null,
      "top": null,
      "visibility": null,
      "width": null
     }
    },
    "feb9200dafa84c0c8c1dcee6a9923905": {
     "model_module": "@jupyter-widgets/controls",
     "model_module_version": "1.5.0",
     "model_name": "ProgressStyleModel",
     "state": {
      "_model_module": "@jupyter-widgets/controls",
      "_model_module_version": "1.5.0",
      "_model_name": "ProgressStyleModel",
      "_view_count": null,
      "_view_module": "@jupyter-widgets/base",
      "_view_module_version": "1.2.0",
      "_view_name": "StyleView",
      "bar_color": null,
      "description_width": ""
     }
    },
    "ffb2309c939d439996d31b422730a74b": {
     "model_module": "@jupyter-widgets/controls",
     "model_module_version": "1.5.0",
     "model_name": "ProgressStyleModel",
     "state": {
      "_model_module": "@jupyter-widgets/controls",
      "_model_module_version": "1.5.0",
      "_model_name": "ProgressStyleModel",
      "_view_count": null,
      "_view_module": "@jupyter-widgets/base",
      "_view_module_version": "1.2.0",
      "_view_name": "StyleView",
      "bar_color": null,
      "description_width": ""
     }
    }
   }
  }
 },
 "nbformat": 4,
 "nbformat_minor": 5
}
